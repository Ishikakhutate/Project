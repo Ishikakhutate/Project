{
 "cells": [
  {
   "cell_type": "markdown",
   "id": "7e7949f5",
   "metadata": {},
   "source": [
    "# Problem Statement - Predicting Lead Categories to Improve Sales Effectiveness"
   ]
  },
  {
   "cell_type": "markdown",
   "id": "03a25be7",
   "metadata": {},
   "source": [
    "FicZon Inc is experiencing declining sales due to increased competition in the market.\n",
    "\n",
    "To boost sales effectiveness, they need a faster and more accurate way to identify high-quality leads.\n",
    "\n",
    "The current manual lead categorization process is causing delays in engaging potential customers, leading to missed opportunities.\n",
    "\n",
    "FicZon aims to explore Machine Learning to pre-categorize leads and expects this approach to result in significant sales improvement.\n",
    "\n",
    "The objective of this project is to implement a Machine Learning-based lead classification system that pre-categorizes leads based on their quality.\n",
    "\n",
    "The goal is to enhance sales effectiveness by enabling the sales team to prioritize high-quality leads and allocate resources efficiently."
   ]
  },
  {
   "cell_type": "code",
   "execution_count": 1,
   "id": "b46a44c5",
   "metadata": {},
   "outputs": [
    {
     "name": "stderr",
     "output_type": "stream",
     "text": [
      "C:\\Users\\HP\\anaconda3\\lib\\site-packages\\scipy\\__init__.py:146: UserWarning: A NumPy version >=1.16.5 and <1.23.0 is required for this version of SciPy (detected version 1.26.4\n",
      "  warnings.warn(f\"A NumPy version >={np_minversion} and <{np_maxversion}\"\n"
     ]
    }
   ],
   "source": [
    "import numpy as np\n",
    "import pandas as pd\n",
    "import matplotlib.pyplot as plt\n",
    "import seaborn as sns \n",
    "import warnings\n",
    "warnings.filterwarnings('ignore')\n",
    "%matplotlib inline \n"
   ]
  },
  {
   "cell_type": "code",
   "execution_count": 2,
   "id": "978228a9",
   "metadata": {},
   "outputs": [],
   "source": [
    "#To connect to a MySQL database from a Jupyter Notebook, you can use the pymysql library which allows Python\n",
    "#to interact with MySQL databases\n",
    "from sqlalchemy import create_engine , inspect\n",
    "from urllib.parse import quote_plus\n"
   ]
  },
  {
   "cell_type": "code",
   "execution_count": 3,
   "id": "dc4a4b3c",
   "metadata": {
    "scrolled": true
   },
   "outputs": [
    {
     "name": "stdout",
     "output_type": "stream",
     "text": [
      "Requirement already satisfied: pymysql in c:\\users\\hp\\anaconda3\\lib\\site-packages (1.1.0)\n",
      "Note: you may need to restart the kernel to use updated packages.\n"
     ]
    }
   ],
   "source": [
    "pip install pymysql\n"
   ]
  },
  {
   "cell_type": "markdown",
   "id": "02d3162c",
   "metadata": {},
   "source": [
    "# Importing Raw Data "
   ]
  },
  {
   "cell_type": "code",
   "execution_count": 4,
   "id": "c7c514f6",
   "metadata": {},
   "outputs": [],
   "source": [
    "DB_Name: 'project_sales'\n",
    "Host: '18.136.157.135'\n",
    "UserName: 'dm_team2'\n",
    "Password: 'DM!$Team&27@9!20!'"
   ]
  },
  {
   "cell_type": "code",
   "execution_count": 5,
   "id": "b46149c4",
   "metadata": {},
   "outputs": [],
   "source": [
    "db_host = '18.136.157.135'\n",
    "username = 'dm_team2'\n",
    "user_pass = 'DM!$Team&27@9!20!'\n",
    "db_name = 'project_sales'\n",
    "\n",
    "# Encode the password to handle special characters\n",
    "encoded_pass = quote_plus(user_pass)\n",
    "\n",
    "# Create connection string\n",
    "connection_string = f'mysql+pymysql://{username}:{encoded_pass}@{db_host}/{db_name}'\n"
   ]
  },
  {
   "cell_type": "code",
   "execution_count": 6,
   "id": "6ec44b8e",
   "metadata": {},
   "outputs": [
    {
     "name": "stdout",
     "output_type": "stream",
     "text": [
      "Table Names:\n",
      "data\n"
     ]
    }
   ],
   "source": [
    "engine = create_engine(connection_string)\n",
    "\n",
    "# Fetch table names\n",
    "table_names = engine.table_names()\n",
    "\n",
    "# Display table names\n",
    "print(\"Table Names:\")\n",
    "for table_name in table_names:\n",
    "    print(table_name)"
   ]
  },
  {
   "cell_type": "code",
   "execution_count": 7,
   "id": "7aaa9593",
   "metadata": {},
   "outputs": [],
   "source": [
    "query = 'select * from data'"
   ]
  },
  {
   "cell_type": "code",
   "execution_count": 8,
   "id": "15fd45bf",
   "metadata": {},
   "outputs": [],
   "source": [
    "# Importing raw data through SQL Server\n",
    "data = pd.read_sql(query,connection_string)"
   ]
  },
  {
   "cell_type": "markdown",
   "id": "06d1b6b8",
   "metadata": {},
   "source": [
    "# Basic Checks"
   ]
  },
  {
   "cell_type": "code",
   "execution_count": 9,
   "id": "58aa9593",
   "metadata": {
    "scrolled": true
   },
   "outputs": [
    {
     "data": {
      "text/html": [
       "<div>\n",
       "<style scoped>\n",
       "    .dataframe tbody tr th:only-of-type {\n",
       "        vertical-align: middle;\n",
       "    }\n",
       "\n",
       "    .dataframe tbody tr th {\n",
       "        vertical-align: top;\n",
       "    }\n",
       "\n",
       "    .dataframe thead th {\n",
       "        text-align: right;\n",
       "    }\n",
       "</style>\n",
       "<table border=\"1\" class=\"dataframe\">\n",
       "  <thead>\n",
       "    <tr style=\"text-align: right;\">\n",
       "      <th></th>\n",
       "      <th>Created</th>\n",
       "      <th>Product_ID</th>\n",
       "      <th>Source</th>\n",
       "      <th>Mobile</th>\n",
       "      <th>EMAIL</th>\n",
       "      <th>Sales_Agent</th>\n",
       "      <th>Location</th>\n",
       "      <th>Delivery_Mode</th>\n",
       "      <th>Status</th>\n",
       "    </tr>\n",
       "  </thead>\n",
       "  <tbody>\n",
       "    <tr>\n",
       "      <th>0</th>\n",
       "      <td>14-11-2018 10:05</td>\n",
       "      <td></td>\n",
       "      <td>Website</td>\n",
       "      <td>984XXXXXXX</td>\n",
       "      <td>aXXXXXXX@gmail.com</td>\n",
       "      <td>Sales-Agent-11</td>\n",
       "      <td></td>\n",
       "      <td>Mode-5</td>\n",
       "      <td>Open</td>\n",
       "    </tr>\n",
       "    <tr>\n",
       "      <th>1</th>\n",
       "      <td>14-11-2018 09:22</td>\n",
       "      <td></td>\n",
       "      <td>Website</td>\n",
       "      <td>XXXXXXX</td>\n",
       "      <td>#VALUE!</td>\n",
       "      <td>Sales-Agent-10</td>\n",
       "      <td></td>\n",
       "      <td>Mode-5</td>\n",
       "      <td>Open</td>\n",
       "    </tr>\n",
       "    <tr>\n",
       "      <th>2</th>\n",
       "      <td>14-11-2018 09:21</td>\n",
       "      <td></td>\n",
       "      <td>Website</td>\n",
       "      <td>XXXXXXX</td>\n",
       "      <td>dXXXXXXX@yahoo.com</td>\n",
       "      <td>Sales-Agent-10</td>\n",
       "      <td></td>\n",
       "      <td>Mode-5</td>\n",
       "      <td>Open</td>\n",
       "    </tr>\n",
       "    <tr>\n",
       "      <th>3</th>\n",
       "      <td>14-11-2018 08:46</td>\n",
       "      <td></td>\n",
       "      <td>Website</td>\n",
       "      <td>XXXXXXX</td>\n",
       "      <td>wXXXXXXX@gmail.com</td>\n",
       "      <td>Sales-Agent-10</td>\n",
       "      <td></td>\n",
       "      <td>Mode-5</td>\n",
       "      <td>Open</td>\n",
       "    </tr>\n",
       "    <tr>\n",
       "      <th>4</th>\n",
       "      <td>14-11-2018 07:34</td>\n",
       "      <td></td>\n",
       "      <td>Website</td>\n",
       "      <td>XXXXXXX</td>\n",
       "      <td>cXXXXXXX@gmail.com</td>\n",
       "      <td>Sales-Agent-10</td>\n",
       "      <td></td>\n",
       "      <td>Mode-5</td>\n",
       "      <td>Open</td>\n",
       "    </tr>\n",
       "  </tbody>\n",
       "</table>\n",
       "</div>"
      ],
      "text/plain": [
       "            Created Product_ID   Source      Mobile               EMAIL  \\\n",
       "0  14-11-2018 10:05             Website  984XXXXXXX  aXXXXXXX@gmail.com   \n",
       "1  14-11-2018 09:22             Website     XXXXXXX             #VALUE!   \n",
       "2  14-11-2018 09:21             Website     XXXXXXX  dXXXXXXX@yahoo.com   \n",
       "3  14-11-2018 08:46             Website     XXXXXXX  wXXXXXXX@gmail.com   \n",
       "4  14-11-2018 07:34             Website     XXXXXXX  cXXXXXXX@gmail.com   \n",
       "\n",
       "      Sales_Agent Location Delivery_Mode Status  \n",
       "0  Sales-Agent-11                 Mode-5   Open  \n",
       "1  Sales-Agent-10                 Mode-5   Open  \n",
       "2  Sales-Agent-10                 Mode-5   Open  \n",
       "3  Sales-Agent-10                 Mode-5   Open  \n",
       "4  Sales-Agent-10                 Mode-5   Open  "
      ]
     },
     "execution_count": 9,
     "metadata": {},
     "output_type": "execute_result"
    }
   ],
   "source": [
    "data.head()"
   ]
  },
  {
   "cell_type": "code",
   "execution_count": 10,
   "id": "498db283",
   "metadata": {},
   "outputs": [
    {
     "data": {
      "text/html": [
       "<div>\n",
       "<style scoped>\n",
       "    .dataframe tbody tr th:only-of-type {\n",
       "        vertical-align: middle;\n",
       "    }\n",
       "\n",
       "    .dataframe tbody tr th {\n",
       "        vertical-align: top;\n",
       "    }\n",
       "\n",
       "    .dataframe thead th {\n",
       "        text-align: right;\n",
       "    }\n",
       "</style>\n",
       "<table border=\"1\" class=\"dataframe\">\n",
       "  <thead>\n",
       "    <tr style=\"text-align: right;\">\n",
       "      <th></th>\n",
       "      <th>Created</th>\n",
       "      <th>Product_ID</th>\n",
       "      <th>Source</th>\n",
       "      <th>Mobile</th>\n",
       "      <th>EMAIL</th>\n",
       "      <th>Sales_Agent</th>\n",
       "      <th>Location</th>\n",
       "      <th>Delivery_Mode</th>\n",
       "      <th>Status</th>\n",
       "    </tr>\n",
       "  </thead>\n",
       "  <tbody>\n",
       "    <tr>\n",
       "      <th>7417</th>\n",
       "      <td>28-04-2018 09:45</td>\n",
       "      <td>9</td>\n",
       "      <td>Call</td>\n",
       "      <td></td>\n",
       "      <td>aXXXXXXX@gmail.com</td>\n",
       "      <td>Sales-Agent-6</td>\n",
       "      <td>Mumbai</td>\n",
       "      <td>Mode-4</td>\n",
       "      <td>LOST</td>\n",
       "    </tr>\n",
       "    <tr>\n",
       "      <th>7418</th>\n",
       "      <td>28-04-2018 09:43</td>\n",
       "      <td>15</td>\n",
       "      <td>Call</td>\n",
       "      <td></td>\n",
       "      <td>#VALUE!</td>\n",
       "      <td>Sales-Agent-12</td>\n",
       "      <td>Other Locations</td>\n",
       "      <td>Mode-5</td>\n",
       "      <td>LOST</td>\n",
       "    </tr>\n",
       "    <tr>\n",
       "      <th>7419</th>\n",
       "      <td>28-04-2018 09:20</td>\n",
       "      <td>5</td>\n",
       "      <td>Live Chat-Direct</td>\n",
       "      <td></td>\n",
       "      <td>sXXXXXXX@gmail.com</td>\n",
       "      <td>Sales-Agent-11</td>\n",
       "      <td>Bangalore</td>\n",
       "      <td>Mode-1</td>\n",
       "      <td>Not Responding</td>\n",
       "    </tr>\n",
       "    <tr>\n",
       "      <th>7420</th>\n",
       "      <td>28-04-2018 08:04</td>\n",
       "      <td>21</td>\n",
       "      <td>CRM form</td>\n",
       "      <td></td>\n",
       "      <td>YXXXXXXX@gmail.com</td>\n",
       "      <td>Sales-Agent-4</td>\n",
       "      <td>Other Locations</td>\n",
       "      <td>Mode-1</td>\n",
       "      <td>Just Enquiry</td>\n",
       "    </tr>\n",
       "    <tr>\n",
       "      <th>7421</th>\n",
       "      <td>28-04-2018 07:54</td>\n",
       "      <td>25</td>\n",
       "      <td>Website</td>\n",
       "      <td></td>\n",
       "      <td>cXXXXXXX@gmail.com</td>\n",
       "      <td>Sales-Agent-3</td>\n",
       "      <td>Chennai</td>\n",
       "      <td>Mode-1</td>\n",
       "      <td>CONVERTED</td>\n",
       "    </tr>\n",
       "  </tbody>\n",
       "</table>\n",
       "</div>"
      ],
      "text/plain": [
       "               Created Product_ID            Source Mobile  \\\n",
       "7417  28-04-2018 09:45          9              Call          \n",
       "7418  28-04-2018 09:43         15              Call          \n",
       "7419  28-04-2018 09:20          5  Live Chat-Direct          \n",
       "7420  28-04-2018 08:04         21          CRM form          \n",
       "7421  28-04-2018 07:54         25           Website          \n",
       "\n",
       "                   EMAIL     Sales_Agent         Location Delivery_Mode  \\\n",
       "7417  aXXXXXXX@gmail.com   Sales-Agent-6           Mumbai        Mode-4   \n",
       "7418             #VALUE!  Sales-Agent-12  Other Locations        Mode-5   \n",
       "7419  sXXXXXXX@gmail.com  Sales-Agent-11        Bangalore        Mode-1   \n",
       "7420  YXXXXXXX@gmail.com   Sales-Agent-4  Other Locations        Mode-1   \n",
       "7421  cXXXXXXX@gmail.com   Sales-Agent-3          Chennai        Mode-1   \n",
       "\n",
       "              Status  \n",
       "7417            LOST  \n",
       "7418            LOST  \n",
       "7419  Not Responding  \n",
       "7420    Just Enquiry  \n",
       "7421       CONVERTED  "
      ]
     },
     "execution_count": 10,
     "metadata": {},
     "output_type": "execute_result"
    }
   ],
   "source": [
    "data.tail()"
   ]
  },
  {
   "cell_type": "code",
   "execution_count": 11,
   "id": "a8d2ed21",
   "metadata": {},
   "outputs": [
    {
     "data": {
      "text/plain": [
       "(7422, 9)"
      ]
     },
     "execution_count": 11,
     "metadata": {},
     "output_type": "execute_result"
    }
   ],
   "source": [
    "#shape of data \n",
    "data.shape"
   ]
  },
  {
   "cell_type": "code",
   "execution_count": 12,
   "id": "f61f4907",
   "metadata": {
    "scrolled": true
   },
   "outputs": [
    {
     "data": {
      "text/plain": [
       "Created          object\n",
       "Product_ID       object\n",
       "Source           object\n",
       "Mobile           object\n",
       "EMAIL            object\n",
       "Sales_Agent      object\n",
       "Location         object\n",
       "Delivery_Mode    object\n",
       "Status           object\n",
       "dtype: object"
      ]
     },
     "execution_count": 12,
     "metadata": {},
     "output_type": "execute_result"
    }
   ],
   "source": [
    "#datatypes of all the features \n",
    "data.dtypes"
   ]
  },
  {
   "cell_type": "code",
   "execution_count": 13,
   "id": "2f674151",
   "metadata": {},
   "outputs": [
    {
     "data": {
      "text/plain": [
       "Index(['Created', 'Product_ID', 'Source', 'Mobile', 'EMAIL', 'Sales_Agent',\n",
       "       'Location', 'Delivery_Mode', 'Status'],\n",
       "      dtype='object')"
      ]
     },
     "execution_count": 13,
     "metadata": {},
     "output_type": "execute_result"
    }
   ],
   "source": [
    "data.columns"
   ]
  },
  {
   "cell_type": "code",
   "execution_count": 14,
   "id": "f696f625",
   "metadata": {},
   "outputs": [
    {
     "name": "stdout",
     "output_type": "stream",
     "text": [
      "<class 'pandas.core.frame.DataFrame'>\n",
      "RangeIndex: 7422 entries, 0 to 7421\n",
      "Data columns (total 9 columns):\n",
      " #   Column         Non-Null Count  Dtype \n",
      "---  ------         --------------  ----- \n",
      " 0   Created        7422 non-null   object\n",
      " 1   Product_ID     7422 non-null   object\n",
      " 2   Source         7422 non-null   object\n",
      " 3   Mobile         7422 non-null   object\n",
      " 4   EMAIL          7422 non-null   object\n",
      " 5   Sales_Agent    7422 non-null   object\n",
      " 6   Location       7422 non-null   object\n",
      " 7   Delivery_Mode  7422 non-null   object\n",
      " 8   Status         7422 non-null   object\n",
      "dtypes: object(9)\n",
      "memory usage: 522.0+ KB\n"
     ]
    }
   ],
   "source": [
    "#information of all the features \n",
    "data.info()"
   ]
  },
  {
   "cell_type": "code",
   "execution_count": 15,
   "id": "974481c4",
   "metadata": {
    "scrolled": true
   },
   "outputs": [
    {
     "data": {
      "text/html": [
       "<div>\n",
       "<style scoped>\n",
       "    .dataframe tbody tr th:only-of-type {\n",
       "        vertical-align: middle;\n",
       "    }\n",
       "\n",
       "    .dataframe tbody tr th {\n",
       "        vertical-align: top;\n",
       "    }\n",
       "\n",
       "    .dataframe thead th {\n",
       "        text-align: right;\n",
       "    }\n",
       "</style>\n",
       "<table border=\"1\" class=\"dataframe\">\n",
       "  <thead>\n",
       "    <tr style=\"text-align: right;\">\n",
       "      <th></th>\n",
       "      <th>Created</th>\n",
       "      <th>Product_ID</th>\n",
       "      <th>Source</th>\n",
       "      <th>Mobile</th>\n",
       "      <th>EMAIL</th>\n",
       "      <th>Sales_Agent</th>\n",
       "      <th>Location</th>\n",
       "      <th>Delivery_Mode</th>\n",
       "      <th>Status</th>\n",
       "    </tr>\n",
       "  </thead>\n",
       "  <tbody>\n",
       "    <tr>\n",
       "      <th>count</th>\n",
       "      <td>7422</td>\n",
       "      <td>7422</td>\n",
       "      <td>7422</td>\n",
       "      <td>7422</td>\n",
       "      <td>7422</td>\n",
       "      <td>7422</td>\n",
       "      <td>7422</td>\n",
       "      <td>7422</td>\n",
       "      <td>7422</td>\n",
       "    </tr>\n",
       "    <tr>\n",
       "      <th>unique</th>\n",
       "      <td>6752</td>\n",
       "      <td>30</td>\n",
       "      <td>26</td>\n",
       "      <td>487</td>\n",
       "      <td>883</td>\n",
       "      <td>13</td>\n",
       "      <td>18</td>\n",
       "      <td>5</td>\n",
       "      <td>11</td>\n",
       "    </tr>\n",
       "    <tr>\n",
       "      <th>top</th>\n",
       "      <td>26-09-2018 11:30</td>\n",
       "      <td>18</td>\n",
       "      <td>Call</td>\n",
       "      <td></td>\n",
       "      <td>#VALUE!</td>\n",
       "      <td>Sales-Agent-4</td>\n",
       "      <td>Other Locations</td>\n",
       "      <td>Mode-5</td>\n",
       "      <td>Junk Lead</td>\n",
       "    </tr>\n",
       "    <tr>\n",
       "      <th>freq</th>\n",
       "      <td>4</td>\n",
       "      <td>1711</td>\n",
       "      <td>2547</td>\n",
       "      <td>1810</td>\n",
       "      <td>1701</td>\n",
       "      <td>1500</td>\n",
       "      <td>2500</td>\n",
       "      <td>2975</td>\n",
       "      <td>1536</td>\n",
       "    </tr>\n",
       "  </tbody>\n",
       "</table>\n",
       "</div>"
      ],
      "text/plain": [
       "                 Created Product_ID Source Mobile    EMAIL    Sales_Agent  \\\n",
       "count               7422       7422   7422   7422     7422           7422   \n",
       "unique              6752         30     26    487      883             13   \n",
       "top     26-09-2018 11:30         18   Call         #VALUE!  Sales-Agent-4   \n",
       "freq                   4       1711   2547   1810     1701           1500   \n",
       "\n",
       "               Location Delivery_Mode     Status  \n",
       "count              7422          7422       7422  \n",
       "unique               18             5         11  \n",
       "top     Other Locations        Mode-5  Junk Lead  \n",
       "freq               2500          2975       1536  "
      ]
     },
     "execution_count": 15,
     "metadata": {},
     "output_type": "execute_result"
    }
   ],
   "source": [
    "#statistical analysis of the data \n",
    "data.describe()"
   ]
  },
  {
   "cell_type": "markdown",
   "id": "b6a19f3f",
   "metadata": {},
   "source": [
    "# Exploratory Data Analysis / Feature Engineering "
   ]
  },
  {
   "cell_type": "markdown",
   "id": "a9b33cb2",
   "metadata": {},
   "source": [
    "# Univariant Analysis "
   ]
  },
  {
   "cell_type": "markdown",
   "id": "b643945f",
   "metadata": {},
   "source": [
    "1.Source"
   ]
  },
  {
   "cell_type": "code",
   "execution_count": 16,
   "id": "cdc6ab72",
   "metadata": {
    "scrolled": false
   },
   "outputs": [
    {
     "data": {
      "image/png": "[encoded data removed]",
      "text/plain": [
       "<Figure size 864x576 with 1 Axes>"
      ]
     },
     "metadata": {
      "needs_background": "light"
     },
     "output_type": "display_data"
    }
   ],
   "source": [
    "plt.figure(figsize=(12,8))\n",
    "sns.countplot(data.Source)\n",
    "plt.xticks(rotation=90)\n",
    "plt.xlabel('SOURCE',fontsize=20)\n",
    "plt.show()"
   ]
  },
  {
   "cell_type": "markdown",
   "id": "f8e7c802",
   "metadata": {},
   "source": [
    "Insights:\n",
    "\n",
    "34 % Leads were generarted from Call Source .\n",
    "\n",
    "25 % Leads were Generated from live direct chat .\n",
    "\n",
    "21 % Leads were generated from their Website .\n",
    "\n",
    "11 % Leads were generated from Live chat in Google , PPC , Blog and US Website.\n",
    "\n",
    "remaining 10 % leads were generated from other sources ."
   ]
  },
  {
   "cell_type": "markdown",
   "id": "809d8ced",
   "metadata": {},
   "source": [
    "2.Sales_Agent"
   ]
  },
  {
   "cell_type": "code",
   "execution_count": 17,
   "id": "497e0fbb",
   "metadata": {
    "scrolled": true
   },
   "outputs": [
    {
     "data": {
      "image/png": "[encoded data removed]",
      "text/plain": [
       "<Figure size 936x576 with 1 Axes>"
      ]
     },
     "metadata": {
      "needs_background": "light"
     },
     "output_type": "display_data"
    }
   ],
   "source": [
    "plt.figure(figsize=(13,8))\n",
    "sns.countplot(data.Sales_Agent)\n",
    "plt.xticks(rotation=90)\n",
    "plt.xlabel('Sales_Agent', fontsize=15)\n",
    "plt.show()"
   ]
  },
  {
   "cell_type": "markdown",
   "id": "6fc4b9ca",
   "metadata": {},
   "source": [
    "Insights:\n",
    "\n",
    "Agent-3 , Agent-4 , Agent-5 , Agent-7 , Agent-9 and Agent-11 togatherly Generated More than 87 % Leads.\n",
    "\n",
    "Agent-1 , Agent-2 , Agent-6 , Agent-8 , Agent-10 and Agent-12 are togatherly Generated less than 13 % Leads."
   ]
  },
  {
   "cell_type": "markdown",
   "id": "d0459ea6",
   "metadata": {},
   "source": [
    "3.Location"
   ]
  },
  {
   "cell_type": "code",
   "execution_count": 18,
   "id": "64d1b44e",
   "metadata": {
    "scrolled": true
   },
   "outputs": [
    {
     "data": {
      "image/png": "[encoded data removed]",
      "text/plain": [
       "<Figure size 936x576 with 1 Axes>"
      ]
     },
     "metadata": {
      "needs_background": "light"
     },
     "output_type": "display_data"
    }
   ],
   "source": [
    "plt.figure(figsize=(13,8))\n",
    "sns.countplot(data.Location)\n",
    "plt.xticks(rotation=90)\n",
    "plt.xlabel('Location', fontsize=15)\n",
    "plt.show()"
   ]
  },
  {
   "cell_type": "markdown",
   "id": "b3a7d3be",
   "metadata": {},
   "source": [
    "Insights:\n",
    "\n",
    "33 % Leads were generated from Other Locations.\n",
    "\n",
    "from Bangalore 28% and Chennai 12% Leads were Generated.\n",
    "\n",
    "From Hyderabad 7% , Delhi 6% and Mumbai 5% Leads were Generated.\n"
   ]
  },
  {
   "cell_type": "markdown",
   "id": "33aa3769",
   "metadata": {},
   "source": [
    "4.Delivery_Mode"
   ]
  },
  {
   "cell_type": "code",
   "execution_count": 19,
   "id": "caf2469a",
   "metadata": {
    "scrolled": true
   },
   "outputs": [
    {
     "data": {
      "image/png": "[encoded data removed]",
      "text/plain": [
       "<Figure size 936x576 with 1 Axes>"
      ]
     },
     "metadata": {
      "needs_background": "light"
     },
     "output_type": "display_data"
    }
   ],
   "source": [
    "plt.figure(figsize=(13,8))\n",
    "sns.countplot(data.Delivery_Mode)\n",
    "plt.xticks(rotation=90)\n",
    "plt.xlabel('Delivery_Mode', fontsize=15)\n",
    "plt.show()"
   ]
  },
  {
   "cell_type": "markdown",
   "id": "35d64211",
   "metadata": {},
   "source": [
    "Insights:\n",
    "\n",
    "Most of Leads prefered Mode-5 , Mode-1 ,Mode-3"
   ]
  },
  {
   "cell_type": "markdown",
   "id": "ac7c9832",
   "metadata": {},
   "source": [
    "5.Status"
   ]
  },
  {
   "cell_type": "code",
   "execution_count": 20,
   "id": "e1fb6bfb",
   "metadata": {
    "scrolled": false
   },
   "outputs": [
    {
     "data": {
      "image/png": "[encoded data removed]",
      "text/plain": [
       "<Figure size 936x576 with 1 Axes>"
      ]
     },
     "metadata": {
      "needs_background": "light"
     },
     "output_type": "display_data"
    }
   ],
   "source": [
    "plt.figure(figsize=(13,8))\n",
    "sns.countplot(data.Status)\n",
    "plt.xticks(rotation=90)\n",
    "plt.xlabel('Status', fontsize=15)\n",
    "plt.show()"
   ]
  },
  {
   "cell_type": "markdown",
   "id": "64ae8f0f",
   "metadata": {},
   "source": [
    "Insights:\n",
    "\n",
    "20 % Leads which are generated , they are Junk Leads.\n",
    "\n",
    "15 % Leads were Not Responding.\n",
    "\n",
    "11 % Leads got Convorted .(Successed)\n",
    "\n",
    "10 % Leads are just Enquired."
   ]
  },
  {
   "cell_type": "markdown",
   "id": "9750cef4",
   "metadata": {},
   "source": [
    "We cannot Perform Bivariant analysis , no numeric columns is present in our data "
   ]
  },
  {
   "cell_type": "markdown",
   "id": "48cfa329",
   "metadata": {},
   "source": [
    "# Data Preprocessing and Feature Engineering "
   ]
  },
  {
   "cell_type": "code",
   "execution_count": 21,
   "id": "f5c83293",
   "metadata": {},
   "outputs": [
    {
     "data": {
      "text/html": [
       "<div>\n",
       "<style scoped>\n",
       "    .dataframe tbody tr th:only-of-type {\n",
       "        vertical-align: middle;\n",
       "    }\n",
       "\n",
       "    .dataframe tbody tr th {\n",
       "        vertical-align: top;\n",
       "    }\n",
       "\n",
       "    .dataframe thead th {\n",
       "        text-align: right;\n",
       "    }\n",
       "</style>\n",
       "<table border=\"1\" class=\"dataframe\">\n",
       "  <thead>\n",
       "    <tr style=\"text-align: right;\">\n",
       "      <th></th>\n",
       "      <th>Product_ID</th>\n",
       "      <th>Source</th>\n",
       "      <th>Sales_Agent</th>\n",
       "      <th>Location</th>\n",
       "      <th>Delivery_Mode</th>\n",
       "      <th>Status</th>\n",
       "    </tr>\n",
       "  </thead>\n",
       "  <tbody>\n",
       "    <tr>\n",
       "      <th>0</th>\n",
       "      <td></td>\n",
       "      <td>Website</td>\n",
       "      <td>Sales-Agent-11</td>\n",
       "      <td></td>\n",
       "      <td>Mode-5</td>\n",
       "      <td>Open</td>\n",
       "    </tr>\n",
       "    <tr>\n",
       "      <th>1</th>\n",
       "      <td></td>\n",
       "      <td>Website</td>\n",
       "      <td>Sales-Agent-10</td>\n",
       "      <td></td>\n",
       "      <td>Mode-5</td>\n",
       "      <td>Open</td>\n",
       "    </tr>\n",
       "    <tr>\n",
       "      <th>2</th>\n",
       "      <td></td>\n",
       "      <td>Website</td>\n",
       "      <td>Sales-Agent-10</td>\n",
       "      <td></td>\n",
       "      <td>Mode-5</td>\n",
       "      <td>Open</td>\n",
       "    </tr>\n",
       "    <tr>\n",
       "      <th>3</th>\n",
       "      <td></td>\n",
       "      <td>Website</td>\n",
       "      <td>Sales-Agent-10</td>\n",
       "      <td></td>\n",
       "      <td>Mode-5</td>\n",
       "      <td>Open</td>\n",
       "    </tr>\n",
       "    <tr>\n",
       "      <th>4</th>\n",
       "      <td></td>\n",
       "      <td>Website</td>\n",
       "      <td>Sales-Agent-10</td>\n",
       "      <td></td>\n",
       "      <td>Mode-5</td>\n",
       "      <td>Open</td>\n",
       "    </tr>\n",
       "    <tr>\n",
       "      <th>...</th>\n",
       "      <td>...</td>\n",
       "      <td>...</td>\n",
       "      <td>...</td>\n",
       "      <td>...</td>\n",
       "      <td>...</td>\n",
       "      <td>...</td>\n",
       "    </tr>\n",
       "    <tr>\n",
       "      <th>7417</th>\n",
       "      <td>9</td>\n",
       "      <td>Call</td>\n",
       "      <td>Sales-Agent-6</td>\n",
       "      <td>Mumbai</td>\n",
       "      <td>Mode-4</td>\n",
       "      <td>LOST</td>\n",
       "    </tr>\n",
       "    <tr>\n",
       "      <th>7418</th>\n",
       "      <td>15</td>\n",
       "      <td>Call</td>\n",
       "      <td>Sales-Agent-12</td>\n",
       "      <td>Other Locations</td>\n",
       "      <td>Mode-5</td>\n",
       "      <td>LOST</td>\n",
       "    </tr>\n",
       "    <tr>\n",
       "      <th>7419</th>\n",
       "      <td>5</td>\n",
       "      <td>Live Chat-Direct</td>\n",
       "      <td>Sales-Agent-11</td>\n",
       "      <td>Bangalore</td>\n",
       "      <td>Mode-1</td>\n",
       "      <td>Not Responding</td>\n",
       "    </tr>\n",
       "    <tr>\n",
       "      <th>7420</th>\n",
       "      <td>21</td>\n",
       "      <td>CRM form</td>\n",
       "      <td>Sales-Agent-4</td>\n",
       "      <td>Other Locations</td>\n",
       "      <td>Mode-1</td>\n",
       "      <td>Just Enquiry</td>\n",
       "    </tr>\n",
       "    <tr>\n",
       "      <th>7421</th>\n",
       "      <td>25</td>\n",
       "      <td>Website</td>\n",
       "      <td>Sales-Agent-3</td>\n",
       "      <td>Chennai</td>\n",
       "      <td>Mode-1</td>\n",
       "      <td>CONVERTED</td>\n",
       "    </tr>\n",
       "  </tbody>\n",
       "</table>\n",
       "<p>7422 rows × 6 columns</p>\n",
       "</div>"
      ],
      "text/plain": [
       "     Product_ID            Source     Sales_Agent         Location  \\\n",
       "0                         Website  Sales-Agent-11                    \n",
       "1                         Website  Sales-Agent-10                    \n",
       "2                         Website  Sales-Agent-10                    \n",
       "3                         Website  Sales-Agent-10                    \n",
       "4                         Website  Sales-Agent-10                    \n",
       "...         ...               ...             ...              ...   \n",
       "7417          9              Call   Sales-Agent-6           Mumbai   \n",
       "7418         15              Call  Sales-Agent-12  Other Locations   \n",
       "7419          5  Live Chat-Direct  Sales-Agent-11        Bangalore   \n",
       "7420         21          CRM form   Sales-Agent-4  Other Locations   \n",
       "7421         25           Website   Sales-Agent-3          Chennai   \n",
       "\n",
       "     Delivery_Mode          Status  \n",
       "0           Mode-5            Open  \n",
       "1           Mode-5            Open  \n",
       "2           Mode-5            Open  \n",
       "3           Mode-5            Open  \n",
       "4           Mode-5            Open  \n",
       "...            ...             ...  \n",
       "7417        Mode-4            LOST  \n",
       "7418        Mode-5            LOST  \n",
       "7419        Mode-1  Not Responding  \n",
       "7420        Mode-1    Just Enquiry  \n",
       "7421        Mode-1       CONVERTED  \n",
       "\n",
       "[7422 rows x 6 columns]"
      ]
     },
     "execution_count": 21,
     "metadata": {},
     "output_type": "execute_result"
    }
   ],
   "source": [
    "#dropping irrelevant colulmns \n",
    "data.drop(columns=['Created','Mobile','EMAIL'], inplace= True )\n",
    "data"
   ]
  },
  {
   "cell_type": "code",
   "execution_count": 22,
   "id": "5254f51d",
   "metadata": {},
   "outputs": [
    {
     "data": {
      "text/plain": [
       "Product_ID       0\n",
       "Source           0\n",
       "Sales_Agent      0\n",
       "Location         0\n",
       "Delivery_Mode    0\n",
       "Status           0\n",
       "dtype: int64"
      ]
     },
     "execution_count": 22,
     "metadata": {},
     "output_type": "execute_result"
    }
   ],
   "source": [
    "#checking null values\n",
    "\n",
    "data.isnull().sum()"
   ]
  },
  {
   "cell_type": "code",
   "execution_count": 23,
   "id": "46f4c028",
   "metadata": {},
   "outputs": [
    {
     "data": {
      "text/html": [
       "<div>\n",
       "<style scoped>\n",
       "    .dataframe tbody tr th:only-of-type {\n",
       "        vertical-align: middle;\n",
       "    }\n",
       "\n",
       "    .dataframe tbody tr th {\n",
       "        vertical-align: top;\n",
       "    }\n",
       "\n",
       "    .dataframe thead th {\n",
       "        text-align: right;\n",
       "    }\n",
       "</style>\n",
       "<table border=\"1\" class=\"dataframe\">\n",
       "  <thead>\n",
       "    <tr style=\"text-align: right;\">\n",
       "      <th></th>\n",
       "      <th>Product_ID</th>\n",
       "      <th>Source</th>\n",
       "      <th>Sales_Agent</th>\n",
       "      <th>Location</th>\n",
       "      <th>Delivery_Mode</th>\n",
       "      <th>Status</th>\n",
       "    </tr>\n",
       "  </thead>\n",
       "  <tbody>\n",
       "    <tr>\n",
       "      <th>0</th>\n",
       "      <td></td>\n",
       "      <td>Website</td>\n",
       "      <td>Sales-Agent-11</td>\n",
       "      <td></td>\n",
       "      <td>Mode-5</td>\n",
       "      <td>Open</td>\n",
       "    </tr>\n",
       "    <tr>\n",
       "      <th>1</th>\n",
       "      <td></td>\n",
       "      <td>Website</td>\n",
       "      <td>Sales-Agent-10</td>\n",
       "      <td></td>\n",
       "      <td>Mode-5</td>\n",
       "      <td>Open</td>\n",
       "    </tr>\n",
       "    <tr>\n",
       "      <th>2</th>\n",
       "      <td></td>\n",
       "      <td>Website</td>\n",
       "      <td>Sales-Agent-10</td>\n",
       "      <td></td>\n",
       "      <td>Mode-5</td>\n",
       "      <td>Open</td>\n",
       "    </tr>\n",
       "    <tr>\n",
       "      <th>3</th>\n",
       "      <td></td>\n",
       "      <td>Website</td>\n",
       "      <td>Sales-Agent-10</td>\n",
       "      <td></td>\n",
       "      <td>Mode-5</td>\n",
       "      <td>Open</td>\n",
       "    </tr>\n",
       "    <tr>\n",
       "      <th>4</th>\n",
       "      <td></td>\n",
       "      <td>Website</td>\n",
       "      <td>Sales-Agent-10</td>\n",
       "      <td></td>\n",
       "      <td>Mode-5</td>\n",
       "      <td>Open</td>\n",
       "    </tr>\n",
       "    <tr>\n",
       "      <th>...</th>\n",
       "      <td>...</td>\n",
       "      <td>...</td>\n",
       "      <td>...</td>\n",
       "      <td>...</td>\n",
       "      <td>...</td>\n",
       "      <td>...</td>\n",
       "    </tr>\n",
       "    <tr>\n",
       "      <th>7417</th>\n",
       "      <td>9</td>\n",
       "      <td>Call</td>\n",
       "      <td>Sales-Agent-6</td>\n",
       "      <td>Mumbai</td>\n",
       "      <td>Mode-4</td>\n",
       "      <td>LOST</td>\n",
       "    </tr>\n",
       "    <tr>\n",
       "      <th>7418</th>\n",
       "      <td>15</td>\n",
       "      <td>Call</td>\n",
       "      <td>Sales-Agent-12</td>\n",
       "      <td>Other Locations</td>\n",
       "      <td>Mode-5</td>\n",
       "      <td>LOST</td>\n",
       "    </tr>\n",
       "    <tr>\n",
       "      <th>7419</th>\n",
       "      <td>5</td>\n",
       "      <td>Live Chat-Direct</td>\n",
       "      <td>Sales-Agent-11</td>\n",
       "      <td>Bangalore</td>\n",
       "      <td>Mode-1</td>\n",
       "      <td>Not Responding</td>\n",
       "    </tr>\n",
       "    <tr>\n",
       "      <th>7420</th>\n",
       "      <td>21</td>\n",
       "      <td>CRM form</td>\n",
       "      <td>Sales-Agent-4</td>\n",
       "      <td>Other Locations</td>\n",
       "      <td>Mode-1</td>\n",
       "      <td>Just Enquiry</td>\n",
       "    </tr>\n",
       "    <tr>\n",
       "      <th>7421</th>\n",
       "      <td>25</td>\n",
       "      <td>Website</td>\n",
       "      <td>Sales-Agent-3</td>\n",
       "      <td>Chennai</td>\n",
       "      <td>Mode-1</td>\n",
       "      <td>CONVERTED</td>\n",
       "    </tr>\n",
       "  </tbody>\n",
       "</table>\n",
       "<p>7422 rows × 6 columns</p>\n",
       "</div>"
      ],
      "text/plain": [
       "     Product_ID            Source     Sales_Agent         Location  \\\n",
       "0                         Website  Sales-Agent-11                    \n",
       "1                         Website  Sales-Agent-10                    \n",
       "2                         Website  Sales-Agent-10                    \n",
       "3                         Website  Sales-Agent-10                    \n",
       "4                         Website  Sales-Agent-10                    \n",
       "...         ...               ...             ...              ...   \n",
       "7417          9              Call   Sales-Agent-6           Mumbai   \n",
       "7418         15              Call  Sales-Agent-12  Other Locations   \n",
       "7419          5  Live Chat-Direct  Sales-Agent-11        Bangalore   \n",
       "7420         21          CRM form   Sales-Agent-4  Other Locations   \n",
       "7421         25           Website   Sales-Agent-3          Chennai   \n",
       "\n",
       "     Delivery_Mode          Status  \n",
       "0           Mode-5            Open  \n",
       "1           Mode-5            Open  \n",
       "2           Mode-5            Open  \n",
       "3           Mode-5            Open  \n",
       "4           Mode-5            Open  \n",
       "...            ...             ...  \n",
       "7417        Mode-4            LOST  \n",
       "7418        Mode-5            LOST  \n",
       "7419        Mode-1  Not Responding  \n",
       "7420        Mode-1    Just Enquiry  \n",
       "7421        Mode-1       CONVERTED  \n",
       "\n",
       "[7422 rows x 6 columns]"
      ]
     },
     "execution_count": 23,
     "metadata": {},
     "output_type": "execute_result"
    }
   ],
   "source": [
    "data"
   ]
  },
  {
   "cell_type": "markdown",
   "id": "1a81be7f",
   "metadata": {},
   "source": [
    "Missing values are present in data "
   ]
  },
  {
   "cell_type": "code",
   "execution_count": 24,
   "id": "94eca8d7",
   "metadata": {},
   "outputs": [
    {
     "data": {
      "text/plain": [
       "array(['', '9', '19', '18', '15', '27', '5', '2', '3', '25', '10', '20',\n",
       "       '11', '21', '1', '12', '13', '17', '24', '26', '16', '23', '22',\n",
       "       '8', '14', '6', '0', '28', '7', '4'], dtype=object)"
      ]
     },
     "execution_count": 24,
     "metadata": {},
     "output_type": "execute_result"
    }
   ],
   "source": [
    "data.Product_ID.unique()"
   ]
  },
  {
   "cell_type": "code",
   "execution_count": 25,
   "id": "f4f159e1",
   "metadata": {},
   "outputs": [
    {
     "data": {
      "text/plain": [
       "array(['', 'Bangalore', 'Other Locations', 'UAE', 'Trivandrum',\n",
       "       'Hyderabad', 'Chennai', 'UK', 'USA', 'Delhi', 'Mumbai', 'Kolkata',\n",
       "       'Singapore', 'Pune', 'AUSTRALIA', 'EUROPE', 'Malaysia', 'Howrah'],\n",
       "      dtype=object)"
      ]
     },
     "execution_count": 25,
     "metadata": {},
     "output_type": "execute_result"
    }
   ],
   "source": [
    "data.Location.unique()"
   ]
  },
  {
   "cell_type": "markdown",
   "id": "b14c0edc",
   "metadata": {},
   "source": [
    "Product_ID and Location features contains missing value "
   ]
  },
  {
   "cell_type": "markdown",
   "id": "32c98eec",
   "metadata": {},
   "source": [
    "# Replacing empty strings with NaN value "
   ]
  },
  {
   "cell_type": "code",
   "execution_count": 26,
   "id": "c72ff9c2",
   "metadata": {},
   "outputs": [],
   "source": [
    "data.replace('',pd.NA,inplace=True)"
   ]
  },
  {
   "cell_type": "code",
   "execution_count": 27,
   "id": "958fe2b3",
   "metadata": {},
   "outputs": [
    {
     "data": {
      "text/html": [
       "<div>\n",
       "<style scoped>\n",
       "    .dataframe tbody tr th:only-of-type {\n",
       "        vertical-align: middle;\n",
       "    }\n",
       "\n",
       "    .dataframe tbody tr th {\n",
       "        vertical-align: top;\n",
       "    }\n",
       "\n",
       "    .dataframe thead th {\n",
       "        text-align: right;\n",
       "    }\n",
       "</style>\n",
       "<table border=\"1\" class=\"dataframe\">\n",
       "  <thead>\n",
       "    <tr style=\"text-align: right;\">\n",
       "      <th></th>\n",
       "      <th>Product_ID</th>\n",
       "      <th>Source</th>\n",
       "      <th>Sales_Agent</th>\n",
       "      <th>Location</th>\n",
       "      <th>Delivery_Mode</th>\n",
       "      <th>Status</th>\n",
       "    </tr>\n",
       "  </thead>\n",
       "  <tbody>\n",
       "    <tr>\n",
       "      <th>0</th>\n",
       "      <td>&lt;NA&gt;</td>\n",
       "      <td>Website</td>\n",
       "      <td>Sales-Agent-11</td>\n",
       "      <td>&lt;NA&gt;</td>\n",
       "      <td>Mode-5</td>\n",
       "      <td>Open</td>\n",
       "    </tr>\n",
       "    <tr>\n",
       "      <th>1</th>\n",
       "      <td>&lt;NA&gt;</td>\n",
       "      <td>Website</td>\n",
       "      <td>Sales-Agent-10</td>\n",
       "      <td>&lt;NA&gt;</td>\n",
       "      <td>Mode-5</td>\n",
       "      <td>Open</td>\n",
       "    </tr>\n",
       "    <tr>\n",
       "      <th>2</th>\n",
       "      <td>&lt;NA&gt;</td>\n",
       "      <td>Website</td>\n",
       "      <td>Sales-Agent-10</td>\n",
       "      <td>&lt;NA&gt;</td>\n",
       "      <td>Mode-5</td>\n",
       "      <td>Open</td>\n",
       "    </tr>\n",
       "    <tr>\n",
       "      <th>3</th>\n",
       "      <td>&lt;NA&gt;</td>\n",
       "      <td>Website</td>\n",
       "      <td>Sales-Agent-10</td>\n",
       "      <td>&lt;NA&gt;</td>\n",
       "      <td>Mode-5</td>\n",
       "      <td>Open</td>\n",
       "    </tr>\n",
       "    <tr>\n",
       "      <th>4</th>\n",
       "      <td>&lt;NA&gt;</td>\n",
       "      <td>Website</td>\n",
       "      <td>Sales-Agent-10</td>\n",
       "      <td>&lt;NA&gt;</td>\n",
       "      <td>Mode-5</td>\n",
       "      <td>Open</td>\n",
       "    </tr>\n",
       "    <tr>\n",
       "      <th>...</th>\n",
       "      <td>...</td>\n",
       "      <td>...</td>\n",
       "      <td>...</td>\n",
       "      <td>...</td>\n",
       "      <td>...</td>\n",
       "      <td>...</td>\n",
       "    </tr>\n",
       "    <tr>\n",
       "      <th>7417</th>\n",
       "      <td>9</td>\n",
       "      <td>Call</td>\n",
       "      <td>Sales-Agent-6</td>\n",
       "      <td>Mumbai</td>\n",
       "      <td>Mode-4</td>\n",
       "      <td>LOST</td>\n",
       "    </tr>\n",
       "    <tr>\n",
       "      <th>7418</th>\n",
       "      <td>15</td>\n",
       "      <td>Call</td>\n",
       "      <td>Sales-Agent-12</td>\n",
       "      <td>Other Locations</td>\n",
       "      <td>Mode-5</td>\n",
       "      <td>LOST</td>\n",
       "    </tr>\n",
       "    <tr>\n",
       "      <th>7419</th>\n",
       "      <td>5</td>\n",
       "      <td>Live Chat-Direct</td>\n",
       "      <td>Sales-Agent-11</td>\n",
       "      <td>Bangalore</td>\n",
       "      <td>Mode-1</td>\n",
       "      <td>Not Responding</td>\n",
       "    </tr>\n",
       "    <tr>\n",
       "      <th>7420</th>\n",
       "      <td>21</td>\n",
       "      <td>CRM form</td>\n",
       "      <td>Sales-Agent-4</td>\n",
       "      <td>Other Locations</td>\n",
       "      <td>Mode-1</td>\n",
       "      <td>Just Enquiry</td>\n",
       "    </tr>\n",
       "    <tr>\n",
       "      <th>7421</th>\n",
       "      <td>25</td>\n",
       "      <td>Website</td>\n",
       "      <td>Sales-Agent-3</td>\n",
       "      <td>Chennai</td>\n",
       "      <td>Mode-1</td>\n",
       "      <td>CONVERTED</td>\n",
       "    </tr>\n",
       "  </tbody>\n",
       "</table>\n",
       "<p>7422 rows × 6 columns</p>\n",
       "</div>"
      ],
      "text/plain": [
       "     Product_ID            Source     Sales_Agent         Location  \\\n",
       "0          <NA>           Website  Sales-Agent-11             <NA>   \n",
       "1          <NA>           Website  Sales-Agent-10             <NA>   \n",
       "2          <NA>           Website  Sales-Agent-10             <NA>   \n",
       "3          <NA>           Website  Sales-Agent-10             <NA>   \n",
       "4          <NA>           Website  Sales-Agent-10             <NA>   \n",
       "...         ...               ...             ...              ...   \n",
       "7417          9              Call   Sales-Agent-6           Mumbai   \n",
       "7418         15              Call  Sales-Agent-12  Other Locations   \n",
       "7419          5  Live Chat-Direct  Sales-Agent-11        Bangalore   \n",
       "7420         21          CRM form   Sales-Agent-4  Other Locations   \n",
       "7421         25           Website   Sales-Agent-3          Chennai   \n",
       "\n",
       "     Delivery_Mode          Status  \n",
       "0           Mode-5            Open  \n",
       "1           Mode-5            Open  \n",
       "2           Mode-5            Open  \n",
       "3           Mode-5            Open  \n",
       "4           Mode-5            Open  \n",
       "...            ...             ...  \n",
       "7417        Mode-4            LOST  \n",
       "7418        Mode-5            LOST  \n",
       "7419        Mode-1  Not Responding  \n",
       "7420        Mode-1    Just Enquiry  \n",
       "7421        Mode-1       CONVERTED  \n",
       "\n",
       "[7422 rows x 6 columns]"
      ]
     },
     "execution_count": 27,
     "metadata": {},
     "output_type": "execute_result"
    }
   ],
   "source": [
    "data"
   ]
  },
  {
   "cell_type": "code",
   "execution_count": 28,
   "id": "30078ea1",
   "metadata": {},
   "outputs": [
    {
     "data": {
      "text/plain": [
       "Product_ID       58\n",
       "Source           17\n",
       "Sales_Agent      23\n",
       "Location         58\n",
       "Delivery_Mode     0\n",
       "Status            0\n",
       "dtype: int64"
      ]
     },
     "execution_count": 28,
     "metadata": {},
     "output_type": "execute_result"
    }
   ],
   "source": [
    "data.isnull().sum()"
   ]
  },
  {
   "cell_type": "markdown",
   "id": "dbc19755",
   "metadata": {},
   "source": [
    "Removing Missing rows"
   ]
  },
  {
   "cell_type": "code",
   "execution_count": 29,
   "id": "c71d4330",
   "metadata": {},
   "outputs": [],
   "source": [
    "data.dropna(subset=['Product_ID','Source','Sales_Agent','Location'],inplace = True)"
   ]
  },
  {
   "cell_type": "code",
   "execution_count": 30,
   "id": "1d79ca00",
   "metadata": {},
   "outputs": [
    {
     "data": {
      "text/html": [
       "<div>\n",
       "<style scoped>\n",
       "    .dataframe tbody tr th:only-of-type {\n",
       "        vertical-align: middle;\n",
       "    }\n",
       "\n",
       "    .dataframe tbody tr th {\n",
       "        vertical-align: top;\n",
       "    }\n",
       "\n",
       "    .dataframe thead th {\n",
       "        text-align: right;\n",
       "    }\n",
       "</style>\n",
       "<table border=\"1\" class=\"dataframe\">\n",
       "  <thead>\n",
       "    <tr style=\"text-align: right;\">\n",
       "      <th></th>\n",
       "      <th>Product_ID</th>\n",
       "      <th>Source</th>\n",
       "      <th>Sales_Agent</th>\n",
       "      <th>Location</th>\n",
       "      <th>Delivery_Mode</th>\n",
       "      <th>Status</th>\n",
       "    </tr>\n",
       "  </thead>\n",
       "  <tbody>\n",
       "    <tr>\n",
       "      <th>18</th>\n",
       "      <td>9</td>\n",
       "      <td>Live Chat-Google Organic</td>\n",
       "      <td>Sales-Agent-3</td>\n",
       "      <td>Bangalore</td>\n",
       "      <td>Mode-1</td>\n",
       "      <td>Potential</td>\n",
       "    </tr>\n",
       "    <tr>\n",
       "      <th>19</th>\n",
       "      <td>19</td>\n",
       "      <td>Call</td>\n",
       "      <td>Sales-Agent-4</td>\n",
       "      <td>Other Locations</td>\n",
       "      <td>Mode-5</td>\n",
       "      <td>Potential</td>\n",
       "    </tr>\n",
       "    <tr>\n",
       "      <th>24</th>\n",
       "      <td>18</td>\n",
       "      <td>Website</td>\n",
       "      <td>Sales-Agent-11</td>\n",
       "      <td>Trivandrum</td>\n",
       "      <td>Mode-1</td>\n",
       "      <td>Potential</td>\n",
       "    </tr>\n",
       "    <tr>\n",
       "      <th>25</th>\n",
       "      <td>15</td>\n",
       "      <td>Website</td>\n",
       "      <td>Sales-Agent-7</td>\n",
       "      <td>Hyderabad</td>\n",
       "      <td>Mode-1</td>\n",
       "      <td>Not Responding</td>\n",
       "    </tr>\n",
       "    <tr>\n",
       "      <th>26</th>\n",
       "      <td>18</td>\n",
       "      <td>Call</td>\n",
       "      <td>Sales-Agent-7</td>\n",
       "      <td>Bangalore</td>\n",
       "      <td>Mode-1</td>\n",
       "      <td>In Progress Positive</td>\n",
       "    </tr>\n",
       "    <tr>\n",
       "      <th>...</th>\n",
       "      <td>...</td>\n",
       "      <td>...</td>\n",
       "      <td>...</td>\n",
       "      <td>...</td>\n",
       "      <td>...</td>\n",
       "      <td>...</td>\n",
       "    </tr>\n",
       "    <tr>\n",
       "      <th>7417</th>\n",
       "      <td>9</td>\n",
       "      <td>Call</td>\n",
       "      <td>Sales-Agent-6</td>\n",
       "      <td>Mumbai</td>\n",
       "      <td>Mode-4</td>\n",
       "      <td>LOST</td>\n",
       "    </tr>\n",
       "    <tr>\n",
       "      <th>7418</th>\n",
       "      <td>15</td>\n",
       "      <td>Call</td>\n",
       "      <td>Sales-Agent-12</td>\n",
       "      <td>Other Locations</td>\n",
       "      <td>Mode-5</td>\n",
       "      <td>LOST</td>\n",
       "    </tr>\n",
       "    <tr>\n",
       "      <th>7419</th>\n",
       "      <td>5</td>\n",
       "      <td>Live Chat-Direct</td>\n",
       "      <td>Sales-Agent-11</td>\n",
       "      <td>Bangalore</td>\n",
       "      <td>Mode-1</td>\n",
       "      <td>Not Responding</td>\n",
       "    </tr>\n",
       "    <tr>\n",
       "      <th>7420</th>\n",
       "      <td>21</td>\n",
       "      <td>CRM form</td>\n",
       "      <td>Sales-Agent-4</td>\n",
       "      <td>Other Locations</td>\n",
       "      <td>Mode-1</td>\n",
       "      <td>Just Enquiry</td>\n",
       "    </tr>\n",
       "    <tr>\n",
       "      <th>7421</th>\n",
       "      <td>25</td>\n",
       "      <td>Website</td>\n",
       "      <td>Sales-Agent-3</td>\n",
       "      <td>Chennai</td>\n",
       "      <td>Mode-1</td>\n",
       "      <td>CONVERTED</td>\n",
       "    </tr>\n",
       "  </tbody>\n",
       "</table>\n",
       "<p>7328 rows × 6 columns</p>\n",
       "</div>"
      ],
      "text/plain": [
       "     Product_ID                    Source     Sales_Agent         Location  \\\n",
       "18            9  Live Chat-Google Organic   Sales-Agent-3        Bangalore   \n",
       "19           19                      Call   Sales-Agent-4  Other Locations   \n",
       "24           18                   Website  Sales-Agent-11       Trivandrum   \n",
       "25           15                   Website   Sales-Agent-7        Hyderabad   \n",
       "26           18                      Call   Sales-Agent-7        Bangalore   \n",
       "...         ...                       ...             ...              ...   \n",
       "7417          9                      Call   Sales-Agent-6           Mumbai   \n",
       "7418         15                      Call  Sales-Agent-12  Other Locations   \n",
       "7419          5          Live Chat-Direct  Sales-Agent-11        Bangalore   \n",
       "7420         21                  CRM form   Sales-Agent-4  Other Locations   \n",
       "7421         25                   Website   Sales-Agent-3          Chennai   \n",
       "\n",
       "     Delivery_Mode                Status  \n",
       "18          Mode-1             Potential  \n",
       "19          Mode-5             Potential  \n",
       "24          Mode-1             Potential  \n",
       "25          Mode-1        Not Responding  \n",
       "26          Mode-1  In Progress Positive  \n",
       "...            ...                   ...  \n",
       "7417        Mode-4                  LOST  \n",
       "7418        Mode-5                  LOST  \n",
       "7419        Mode-1        Not Responding  \n",
       "7420        Mode-1          Just Enquiry  \n",
       "7421        Mode-1             CONVERTED  \n",
       "\n",
       "[7328 rows x 6 columns]"
      ]
     },
     "execution_count": 30,
     "metadata": {},
     "output_type": "execute_result"
    }
   ],
   "source": [
    "data"
   ]
  },
  {
   "cell_type": "code",
   "execution_count": 31,
   "id": "bea38689",
   "metadata": {},
   "outputs": [
    {
     "data": {
      "text/plain": [
       "Product_ID       0\n",
       "Source           0\n",
       "Sales_Agent      0\n",
       "Location         0\n",
       "Delivery_Mode    0\n",
       "Status           0\n",
       "dtype: int64"
      ]
     },
     "execution_count": 31,
     "metadata": {},
     "output_type": "execute_result"
    }
   ],
   "source": [
    "#checking \n",
    "data.isnull().sum()"
   ]
  },
  {
   "cell_type": "markdown",
   "id": "4d23a2b9",
   "metadata": {},
   "source": [
    "# Defining Sources"
   ]
  },
  {
   "cell_type": "code",
   "execution_count": 32,
   "id": "25236762",
   "metadata": {},
   "outputs": [
    {
     "data": {
      "text/plain": [
       "array(['Live Chat-Google Organic', 'Call', 'Website', 'Live Chat-Direct',\n",
       "       'By Recommendation', 'Customer Referral', 'Live Chat-Blog',\n",
       "       'Live Chat -PPC', 'Live Chat-Google Ads',\n",
       "       'Live Chat-Adwords Remarketing', 'E-Mail Message',\n",
       "       'Existing Client', 'Live Chat-CPC', 'Existing Customer',\n",
       "       'Live Chat-Quora', 'US Website', 'Just Dial', 'Campaign', 'Other',\n",
       "       'E-mail Campaign', 'CRM form', 'SMS Campaign', 'Personal Contact',\n",
       "       'Live Chat-Youtube', 'Live Chat-Justdial'], dtype=object)"
      ]
     },
     "execution_count": 32,
     "metadata": {},
     "output_type": "execute_result"
    }
   ],
   "source": [
    "data['Source'].unique()"
   ]
  },
  {
   "cell_type": "code",
   "execution_count": 33,
   "id": "8cdda31f",
   "metadata": {},
   "outputs": [],
   "source": [
    "data.Source.replace(['Live Chat-Google Organic','Live Chat-Direct','Live Chat-Blog', 'Live Chat -PPC', 'Live Chat-Google Ads',\n",
    "       'Live Chat-Adwords Remarketing','Live Chat-CPC','Live Chat-Quora','Live Chat-Youtube', 'Live Chat-Justdial'], 'Live Chat',inplace=True)"
   ]
  },
  {
   "cell_type": "code",
   "execution_count": 34,
   "id": "00c88874",
   "metadata": {},
   "outputs": [],
   "source": [
    "data.Source.replace(['Existing Client','CRM form','Personal Contact'],'Existing Customer',inplace=True)\n",
    "data.Source.replace('By Recommendation','Customer Referral',inplace=True)\n",
    "data.Source.replace(['US Website','Just Dial'],'Website',inplace=True)\n",
    "data.Source.replace(['E-mail Campaign','SMS Campaign','E-Mail Message','Other'],'Campaign',inplace=True)"
   ]
  },
  {
   "cell_type": "code",
   "execution_count": 35,
   "id": "53f97ae8",
   "metadata": {},
   "outputs": [
    {
     "data": {
      "text/plain": [
       "array(['Live Chat', 'Call', 'Website', 'Customer Referral', 'Campaign',\n",
       "       'Existing Customer'], dtype=object)"
      ]
     },
     "execution_count": 35,
     "metadata": {},
     "output_type": "execute_result"
    }
   ],
   "source": [
    "data['Source'].unique()"
   ]
  },
  {
   "cell_type": "markdown",
   "id": "b22ecedc",
   "metadata": {},
   "source": [
    "# Defining Location"
   ]
  },
  {
   "cell_type": "code",
   "execution_count": 36,
   "id": "59662392",
   "metadata": {},
   "outputs": [
    {
     "data": {
      "text/plain": [
       "array(['Bangalore', 'Other Locations', 'Trivandrum', 'Hyderabad',\n",
       "       'Chennai', 'UK', 'USA', 'Delhi', 'UAE', 'Mumbai', 'Kolkata',\n",
       "       'Singapore', 'Pune', 'AUSTRALIA', 'EUROPE', 'Malaysia', 'Howrah'],\n",
       "      dtype=object)"
      ]
     },
     "execution_count": 36,
     "metadata": {},
     "output_type": "execute_result"
    }
   ],
   "source": [
    "data['Location'].unique()"
   ]
  },
  {
   "cell_type": "code",
   "execution_count": 37,
   "id": "995133bb",
   "metadata": {},
   "outputs": [],
   "source": [
    "data.Location.replace(['Bangalore','Trivandrum','Hyderabad',\n",
    "       'Chennai', 'Delhi', 'Mumbai','Pune','Kolkata', 'Howrah'], 'India', inplace= True)"
   ]
  },
  {
   "cell_type": "code",
   "execution_count": 38,
   "id": "37ee6781",
   "metadata": {},
   "outputs": [],
   "source": [
    "data.Location.replace(['UK','USA','UAE','Singapore','AUSTRALIA','EUROPE','Malaysia'],'Foreign',inplace = True)"
   ]
  },
  {
   "cell_type": "code",
   "execution_count": 39,
   "id": "6652910e",
   "metadata": {},
   "outputs": [
    {
     "data": {
      "text/plain": [
       "array(['India', 'Other Locations', 'Foreign'], dtype=object)"
      ]
     },
     "execution_count": 39,
     "metadata": {},
     "output_type": "execute_result"
    }
   ],
   "source": [
    "data['Location'].unique()"
   ]
  },
  {
   "cell_type": "markdown",
   "id": "bac970be",
   "metadata": {},
   "source": [
    "# Defining status as low potential and high potential"
   ]
  },
  {
   "cell_type": "code",
   "execution_count": 40,
   "id": "27a6c8aa",
   "metadata": {},
   "outputs": [
    {
     "data": {
      "text/plain": [
       "array(['Potential', 'Not Responding', 'In Progress Positive',\n",
       "       'Just Enquiry', 'Junk Lead', 'CONVERTED', 'In Progress Negative',\n",
       "       'Open', 'LOST', 'Long Term', 'converted'], dtype=object)"
      ]
     },
     "execution_count": 40,
     "metadata": {},
     "output_type": "execute_result"
    }
   ],
   "source": [
    "data['Status'].unique()"
   ]
  },
  {
   "cell_type": "code",
   "execution_count": 41,
   "id": "f08e0391",
   "metadata": {},
   "outputs": [],
   "source": [
    "data.Status.replace(['Potential','In Progress Positive','Long Term','Open','CONVERTED','converted'], 'Good',inplace=True)"
   ]
  },
  {
   "cell_type": "code",
   "execution_count": 42,
   "id": "716b7dac",
   "metadata": {},
   "outputs": [],
   "source": [
    "data.Status.replace(['Not Responding','Just Enquiry', 'Junk Lead','In Progress Negative','LOST'], 'Bad',inplace = True)"
   ]
  },
  {
   "cell_type": "code",
   "execution_count": 43,
   "id": "6b0a8edd",
   "metadata": {},
   "outputs": [
    {
     "data": {
      "text/plain": [
       "array(['Good', 'Bad'], dtype=object)"
      ]
     },
     "execution_count": 43,
     "metadata": {},
     "output_type": "execute_result"
    }
   ],
   "source": [
    "data['Status'].unique()"
   ]
  },
  {
   "cell_type": "code",
   "execution_count": 44,
   "id": "88696013",
   "metadata": {},
   "outputs": [
    {
     "data": {
      "text/html": [
       "<div>\n",
       "<style scoped>\n",
       "    .dataframe tbody tr th:only-of-type {\n",
       "        vertical-align: middle;\n",
       "    }\n",
       "\n",
       "    .dataframe tbody tr th {\n",
       "        vertical-align: top;\n",
       "    }\n",
       "\n",
       "    .dataframe thead th {\n",
       "        text-align: right;\n",
       "    }\n",
       "</style>\n",
       "<table border=\"1\" class=\"dataframe\">\n",
       "  <thead>\n",
       "    <tr style=\"text-align: right;\">\n",
       "      <th></th>\n",
       "      <th>Product_ID</th>\n",
       "      <th>Source</th>\n",
       "      <th>Sales_Agent</th>\n",
       "      <th>Location</th>\n",
       "      <th>Delivery_Mode</th>\n",
       "      <th>Status</th>\n",
       "    </tr>\n",
       "  </thead>\n",
       "  <tbody>\n",
       "    <tr>\n",
       "      <th>18</th>\n",
       "      <td>9</td>\n",
       "      <td>Live Chat</td>\n",
       "      <td>Sales-Agent-3</td>\n",
       "      <td>India</td>\n",
       "      <td>Mode-1</td>\n",
       "      <td>Good</td>\n",
       "    </tr>\n",
       "    <tr>\n",
       "      <th>19</th>\n",
       "      <td>19</td>\n",
       "      <td>Call</td>\n",
       "      <td>Sales-Agent-4</td>\n",
       "      <td>Other Locations</td>\n",
       "      <td>Mode-5</td>\n",
       "      <td>Good</td>\n",
       "    </tr>\n",
       "    <tr>\n",
       "      <th>24</th>\n",
       "      <td>18</td>\n",
       "      <td>Website</td>\n",
       "      <td>Sales-Agent-11</td>\n",
       "      <td>India</td>\n",
       "      <td>Mode-1</td>\n",
       "      <td>Good</td>\n",
       "    </tr>\n",
       "    <tr>\n",
       "      <th>25</th>\n",
       "      <td>15</td>\n",
       "      <td>Website</td>\n",
       "      <td>Sales-Agent-7</td>\n",
       "      <td>India</td>\n",
       "      <td>Mode-1</td>\n",
       "      <td>Bad</td>\n",
       "    </tr>\n",
       "    <tr>\n",
       "      <th>26</th>\n",
       "      <td>18</td>\n",
       "      <td>Call</td>\n",
       "      <td>Sales-Agent-7</td>\n",
       "      <td>India</td>\n",
       "      <td>Mode-1</td>\n",
       "      <td>Good</td>\n",
       "    </tr>\n",
       "  </tbody>\n",
       "</table>\n",
       "</div>"
      ],
      "text/plain": [
       "   Product_ID     Source     Sales_Agent         Location Delivery_Mode Status\n",
       "18          9  Live Chat   Sales-Agent-3            India        Mode-1   Good\n",
       "19         19       Call   Sales-Agent-4  Other Locations        Mode-5   Good\n",
       "24         18    Website  Sales-Agent-11            India        Mode-1   Good\n",
       "25         15    Website   Sales-Agent-7            India        Mode-1    Bad\n",
       "26         18       Call   Sales-Agent-7            India        Mode-1   Good"
      ]
     },
     "execution_count": 44,
     "metadata": {},
     "output_type": "execute_result"
    }
   ],
   "source": [
    "data.head()"
   ]
  },
  {
   "cell_type": "markdown",
   "id": "cff87326",
   "metadata": {},
   "source": [
    "# Bivariant Analysis"
   ]
  },
  {
   "cell_type": "code",
   "execution_count": 45,
   "id": "1344cf01",
   "metadata": {},
   "outputs": [
    {
     "data": {
      "image/png": "[encoded data removed]",
      "text/plain": [
       "<Figure size 1440x1080 with 6 Axes>"
      ]
     },
     "metadata": {
      "needs_background": "light"
     },
     "output_type": "display_data"
    }
   ],
   "source": [
    "plt.figure(figsize=(20,15))\n",
    "plt.subplot(2,3,1)\n",
    "sns.countplot(y='Product_ID',data=data)\n",
    "plt.subplot(2,3,2)\n",
    "sns.countplot(y='Source',data=data)\n",
    "plt.subplot(2,3,3)\n",
    "sns.countplot(y='Sales_Agent',data=data)\n",
    "plt.subplot(2,3,4)\n",
    "sns.countplot(x='Location',data=data)\n",
    "plt.subplot(2,3,5)\n",
    "sns.countplot(x='Delivery_Mode',data=data)\n",
    "plt.subplot(2,3,6)\n",
    "sns.countplot(x='Status',data=data)\n",
    "plt.show()"
   ]
  },
  {
   "cell_type": "markdown",
   "id": "e68bb1bc",
   "metadata": {},
   "source": [
    "Data Visualize "
   ]
  },
  {
   "cell_type": "code",
   "execution_count": 46,
   "id": "a269ed9f",
   "metadata": {},
   "outputs": [
    {
     "data": {
      "image/png": "[encoded data removed]",
      "text/plain": [
       "<Figure size 720x432 with 1 Axes>"
      ]
     },
     "metadata": {
      "needs_background": "light"
     },
     "output_type": "display_data"
    }
   ],
   "source": [
    "plt.figure(figsize=(10,6))\n",
    "sns.countplot(x='Source',hue='Status',data=data)\n",
    "plt.xlabel(\"Source\")\n",
    "plt.ylabel(\"Status\")\n",
    "plt.title(\"Relationship Between Source & Status\")\n",
    "plt.show()"
   ]
  },
  {
   "cell_type": "markdown",
   "id": "7cd8850c",
   "metadata": {},
   "source": [
    "Insights from the above plot :\n",
    "Among the different lead sources, Customer Referral, Campaign, and Existing Customer have less than 200 leads each. This indicates that the lead generation from these sources might require improvement or additional strategies.\n",
    "\n",
    "Live Chat and Call, on the other hand, have a nearly balanced proportion of high potential and low potential leads. They both have a total of 1000 high potential leads and 1600 low potential leads, suggesting effective lead engagement through these channels.\n",
    "\n",
    "For Website as a lead source, there are 590 high potential leads and 1150 low potential leads. This indicates that while the website is generating a substantial number of leads, there is a higher proportion of low potential leads compared to high potential leads."
   ]
  },
  {
   "cell_type": "code",
   "execution_count": 47,
   "id": "8ceb857e",
   "metadata": {},
   "outputs": [
    {
     "data": {
      "image/png": "[encoded data removed]",
      "text/plain": [
       "<Figure size 432x288 with 1 Axes>"
      ]
     },
     "metadata": {
      "needs_background": "light"
     },
     "output_type": "display_data"
    }
   ],
   "source": [
    "sns.countplot(x='Delivery_Mode',hue='Status',data=data,palette={'Bad': 'red', 'Good': 'blue'})\n",
    "plt.xlabel(\"Delivery Mode\")\n",
    "plt.ylabel(\"Status\")\n",
    "plt.title(\"Relationship Between Delivery Mode & Status\")\n",
    "plt.show()"
   ]
  },
  {
   "cell_type": "markdown",
   "id": "ff56bedc",
   "metadata": {},
   "source": [
    "Insights from the above plot :\n",
    "In the context of Delivery Mode, Mode-1 yields 1400 high potential leads and 1300 low potential leads, suggesting a balanced performance in lead generation. However, Mode-5 delivers 700 high potential leads but has a significantly higher count of over 2000 low potential leads, indicating a potential inefficiency in lead targeting.\n",
    "\n",
    "On the other hand, Mode-2 and Mode-4 have near-zero leads, implying minimal or ineffective lead generation through these modes.\n",
    "\n",
    "Meanwhile, Mode-3 represents a medium-level performance in lead generation, without any significant skew towards either high or low potential leads.\n",
    "\n",
    "To optimize lead generation and sales effectiveness, it is essential to evaluate and refine the lead acquisition strategies for Modes 1, 5, and 3. Additionally, efforts should be made to improve the lead generation methods for Modes 2 and 4, to ensure a balanced and successful lead pipeline across all delivery modes."
   ]
  },
  {
   "cell_type": "code",
   "execution_count": 48,
   "id": "0a13e1ce",
   "metadata": {},
   "outputs": [
    {
     "data": {
      "image/png": "[encoded data removed]",
      "text/plain": [
       "<Figure size 432x288 with 1 Axes>"
      ]
     },
     "metadata": {
      "needs_background": "light"
     },
     "output_type": "display_data"
    }
   ],
   "source": [
    "sns.countplot(y='Sales_Agent',hue='Status',data=data)\n",
    "plt.xlabel(\"Sales Agent\")\n",
    "plt.ylabel(\"Status\")\n",
    "plt.title(\"Relationship Between Sales Agent & Status\")\n",
    "plt.show()"
   ]
  },
  {
   "cell_type": "markdown",
   "id": "6a1b21c7",
   "metadata": {},
   "source": [
    "Insights from the above plot :\n",
    "Among the sales agents, Sales Agent 4, 11, and 9 have the highest count of Low Potential leads, but interestingly, they also have the highest count of High Potential leads compared to all other sales agents.\n",
    "\n",
    "This indicates that these agents are effective in engaging with both Low and High Potential leads.\n",
    "\n",
    "On the other hand, Sales Agent 8, 2, 10, and 6 have less than 200 leads in their respective counts."
   ]
  },
  {
   "cell_type": "code",
   "execution_count": 49,
   "id": "2f0d14a6",
   "metadata": {},
   "outputs": [
    {
     "data": {
      "image/png": "[encoded data removed]",
      "text/plain": [
       "<Figure size 432x288 with 1 Axes>"
      ]
     },
     "metadata": {
      "needs_background": "light"
     },
     "output_type": "display_data"
    }
   ],
   "source": [
    "sns.countplot(x='Location',hue='Status',data=data)\n",
    "plt.xlabel(\"Location\")\n",
    "plt.ylabel(\"Status\")\n",
    "plt.title(\"Relationship Between Location & Status\")\n",
    "plt.show()"
   ]
  },
  {
   "cell_type": "markdown",
   "id": "1c1ea40c",
   "metadata": {},
   "source": [
    "Insights from the above plot :\n",
    "In India, the proportion of High Potential and Low Potential locations is balanced. However, in other regions, Low Potential locations have a higher count compared to High Potential locations. Additionally, foreign locations have a very low count for both High and Low Potential regions."
   ]
  },
  {
   "cell_type": "code",
   "execution_count": 50,
   "id": "ebb3cc5b",
   "metadata": {},
   "outputs": [
    {
     "data": {
      "text/html": [
       "<div>\n",
       "<style scoped>\n",
       "    .dataframe tbody tr th:only-of-type {\n",
       "        vertical-align: middle;\n",
       "    }\n",
       "\n",
       "    .dataframe tbody tr th {\n",
       "        vertical-align: top;\n",
       "    }\n",
       "\n",
       "    .dataframe thead th {\n",
       "        text-align: right;\n",
       "    }\n",
       "</style>\n",
       "<table border=\"1\" class=\"dataframe\">\n",
       "  <thead>\n",
       "    <tr style=\"text-align: right;\">\n",
       "      <th></th>\n",
       "      <th>Product_ID</th>\n",
       "      <th>Source</th>\n",
       "      <th>Sales_Agent</th>\n",
       "      <th>Location</th>\n",
       "      <th>Delivery_Mode</th>\n",
       "      <th>Status</th>\n",
       "    </tr>\n",
       "  </thead>\n",
       "  <tbody>\n",
       "    <tr>\n",
       "      <th>18</th>\n",
       "      <td>9</td>\n",
       "      <td>Live Chat</td>\n",
       "      <td>Sales-Agent-3</td>\n",
       "      <td>India</td>\n",
       "      <td>Mode-1</td>\n",
       "      <td>Good</td>\n",
       "    </tr>\n",
       "    <tr>\n",
       "      <th>19</th>\n",
       "      <td>19</td>\n",
       "      <td>Call</td>\n",
       "      <td>Sales-Agent-4</td>\n",
       "      <td>Other Locations</td>\n",
       "      <td>Mode-5</td>\n",
       "      <td>Good</td>\n",
       "    </tr>\n",
       "    <tr>\n",
       "      <th>24</th>\n",
       "      <td>18</td>\n",
       "      <td>Website</td>\n",
       "      <td>Sales-Agent-11</td>\n",
       "      <td>India</td>\n",
       "      <td>Mode-1</td>\n",
       "      <td>Good</td>\n",
       "    </tr>\n",
       "    <tr>\n",
       "      <th>25</th>\n",
       "      <td>15</td>\n",
       "      <td>Website</td>\n",
       "      <td>Sales-Agent-7</td>\n",
       "      <td>India</td>\n",
       "      <td>Mode-1</td>\n",
       "      <td>Bad</td>\n",
       "    </tr>\n",
       "    <tr>\n",
       "      <th>26</th>\n",
       "      <td>18</td>\n",
       "      <td>Call</td>\n",
       "      <td>Sales-Agent-7</td>\n",
       "      <td>India</td>\n",
       "      <td>Mode-1</td>\n",
       "      <td>Good</td>\n",
       "    </tr>\n",
       "  </tbody>\n",
       "</table>\n",
       "</div>"
      ],
      "text/plain": [
       "   Product_ID     Source     Sales_Agent         Location Delivery_Mode Status\n",
       "18          9  Live Chat   Sales-Agent-3            India        Mode-1   Good\n",
       "19         19       Call   Sales-Agent-4  Other Locations        Mode-5   Good\n",
       "24         18    Website  Sales-Agent-11            India        Mode-1   Good\n",
       "25         15    Website   Sales-Agent-7            India        Mode-1    Bad\n",
       "26         18       Call   Sales-Agent-7            India        Mode-1   Good"
      ]
     },
     "execution_count": 50,
     "metadata": {},
     "output_type": "execute_result"
    }
   ],
   "source": [
    "data.head()"
   ]
  },
  {
   "cell_type": "markdown",
   "id": "bbfa7fed",
   "metadata": {},
   "source": [
    "# Label Encoding "
   ]
  },
  {
   "cell_type": "markdown",
   "id": "b829892b",
   "metadata": {},
   "source": [
    "1. Source"
   ]
  },
  {
   "cell_type": "code",
   "execution_count": 51,
   "id": "225fd1ad",
   "metadata": {},
   "outputs": [
    {
     "data": {
      "text/plain": [
       "LabelEncoder()"
      ]
     },
     "execution_count": 51,
     "metadata": {},
     "output_type": "execute_result"
    }
   ],
   "source": [
    "from sklearn.preprocessing import LabelEncoder\n",
    "lb = LabelEncoder()\n",
    "lb"
   ]
  },
  {
   "cell_type": "code",
   "execution_count": 52,
   "id": "134deffc",
   "metadata": {},
   "outputs": [],
   "source": [
    "data['Source']=lb.fit_transform(data['Source'])\n"
   ]
  },
  {
   "cell_type": "code",
   "execution_count": 53,
   "id": "e0c1ab2c",
   "metadata": {
    "scrolled": true
   },
   "outputs": [
    {
     "data": {
      "text/plain": [
       "18      4\n",
       "19      0\n",
       "24      5\n",
       "25      5\n",
       "26      0\n",
       "       ..\n",
       "7417    0\n",
       "7418    0\n",
       "7419    4\n",
       "7420    3\n",
       "7421    5\n",
       "Name: Source, Length: 7328, dtype: int32"
      ]
     },
     "execution_count": 53,
     "metadata": {},
     "output_type": "execute_result"
    }
   ],
   "source": [
    "#Checking \n",
    "\n",
    "data['Source']"
   ]
  },
  {
   "cell_type": "markdown",
   "id": "7ca751e2",
   "metadata": {},
   "source": [
    "2. Sales_Agent"
   ]
  },
  {
   "cell_type": "code",
   "execution_count": 54,
   "id": "90d191d7",
   "metadata": {},
   "outputs": [
    {
     "data": {
      "text/plain": [
       "Index(['Product_ID', 'Source', 'Sales_Agent', 'Location', 'Delivery_Mode',\n",
       "       'Status'],\n",
       "      dtype='object')"
      ]
     },
     "execution_count": 54,
     "metadata": {},
     "output_type": "execute_result"
    }
   ],
   "source": [
    "columns = data.columns\n",
    "columns"
   ]
  },
  {
   "cell_type": "code",
   "execution_count": 55,
   "id": "20bd9bad",
   "metadata": {},
   "outputs": [],
   "source": [
    "for col in columns:\n",
    "        data[col] = lb.fit_transform(data[col])"
   ]
  },
  {
   "cell_type": "code",
   "execution_count": 56,
   "id": "d2b65a61",
   "metadata": {},
   "outputs": [
    {
     "data": {
      "text/html": [
       "<div>\n",
       "<style scoped>\n",
       "    .dataframe tbody tr th:only-of-type {\n",
       "        vertical-align: middle;\n",
       "    }\n",
       "\n",
       "    .dataframe tbody tr th {\n",
       "        vertical-align: top;\n",
       "    }\n",
       "\n",
       "    .dataframe thead th {\n",
       "        text-align: right;\n",
       "    }\n",
       "</style>\n",
       "<table border=\"1\" class=\"dataframe\">\n",
       "  <thead>\n",
       "    <tr style=\"text-align: right;\">\n",
       "      <th></th>\n",
       "      <th>Product_ID</th>\n",
       "      <th>Source</th>\n",
       "      <th>Sales_Agent</th>\n",
       "      <th>Location</th>\n",
       "      <th>Delivery_Mode</th>\n",
       "      <th>Status</th>\n",
       "    </tr>\n",
       "  </thead>\n",
       "  <tbody>\n",
       "    <tr>\n",
       "      <th>18</th>\n",
       "      <td>28</td>\n",
       "      <td>4</td>\n",
       "      <td>4</td>\n",
       "      <td>1</td>\n",
       "      <td>0</td>\n",
       "      <td>1</td>\n",
       "    </tr>\n",
       "    <tr>\n",
       "      <th>19</th>\n",
       "      <td>11</td>\n",
       "      <td>0</td>\n",
       "      <td>5</td>\n",
       "      <td>2</td>\n",
       "      <td>4</td>\n",
       "      <td>1</td>\n",
       "    </tr>\n",
       "    <tr>\n",
       "      <th>24</th>\n",
       "      <td>10</td>\n",
       "      <td>5</td>\n",
       "      <td>1</td>\n",
       "      <td>1</td>\n",
       "      <td>0</td>\n",
       "      <td>1</td>\n",
       "    </tr>\n",
       "    <tr>\n",
       "      <th>25</th>\n",
       "      <td>7</td>\n",
       "      <td>5</td>\n",
       "      <td>8</td>\n",
       "      <td>1</td>\n",
       "      <td>0</td>\n",
       "      <td>0</td>\n",
       "    </tr>\n",
       "    <tr>\n",
       "      <th>26</th>\n",
       "      <td>10</td>\n",
       "      <td>0</td>\n",
       "      <td>8</td>\n",
       "      <td>1</td>\n",
       "      <td>0</td>\n",
       "      <td>1</td>\n",
       "    </tr>\n",
       "  </tbody>\n",
       "</table>\n",
       "</div>"
      ],
      "text/plain": [
       "    Product_ID  Source  Sales_Agent  Location  Delivery_Mode  Status\n",
       "18          28       4            4         1              0       1\n",
       "19          11       0            5         2              4       1\n",
       "24          10       5            1         1              0       1\n",
       "25           7       5            8         1              0       0\n",
       "26          10       0            8         1              0       1"
      ]
     },
     "execution_count": 56,
     "metadata": {},
     "output_type": "execute_result"
    }
   ],
   "source": [
    "data.head()"
   ]
  },
  {
   "cell_type": "code",
   "execution_count": 57,
   "id": "39fabb75",
   "metadata": {},
   "outputs": [
    {
     "data": {
      "text/plain": [
       "Product_ID       int32\n",
       "Source           int64\n",
       "Sales_Agent      int32\n",
       "Location         int32\n",
       "Delivery_Mode    int32\n",
       "Status           int32\n",
       "dtype: object"
      ]
     },
     "execution_count": 57,
     "metadata": {},
     "output_type": "execute_result"
    }
   ],
   "source": [
    "data.dtypes"
   ]
  },
  {
   "cell_type": "code",
   "execution_count": 58,
   "id": "7330802f",
   "metadata": {},
   "outputs": [
    {
     "data": {
      "text/plain": [
       "0    4466\n",
       "1    2862\n",
       "Name: Status, dtype: int64"
      ]
     },
     "execution_count": 58,
     "metadata": {},
     "output_type": "execute_result"
    }
   ],
   "source": [
    "data.Status.value_counts()\n"
   ]
  },
  {
   "cell_type": "markdown",
   "id": "82740e03",
   "metadata": {},
   "source": [
    "Status feature contains imbalanced class distribution with 4466 instance in 0 class and 2862 instance with class 1.To address this, we employ the SMOTE technique to balance the dataset and enhance the accuracy of predictive models."
   ]
  },
  {
   "cell_type": "markdown",
   "id": "af6c38df",
   "metadata": {},
   "source": [
    "# Checking Outlier "
   ]
  },
  {
   "cell_type": "code",
   "execution_count": 59,
   "id": "aa0793b3",
   "metadata": {
    "scrolled": true
   },
   "outputs": [
    {
     "data": {
      "image/png": "[encoded data removed]",
      "text/plain": [
       "<Figure size 720x720 with 6 Axes>"
      ]
     },
     "metadata": {
      "needs_background": "light"
     },
     "output_type": "display_data"
    }
   ],
   "source": [
    "plt.figure(figsize=(10,10))\n",
    "plotnumber = 1\n",
    "for i in data.columns:\n",
    "    plt.subplot(4,3,plotnumber)\n",
    "    sns.boxplot(x = data[i])\n",
    "    plotnumber = plotnumber + 1\n",
    "plt.tight_layout()"
   ]
  },
  {
   "cell_type": "markdown",
   "id": "0747e515",
   "metadata": {},
   "source": [
    "No outlier is present."
   ]
  },
  {
   "cell_type": "markdown",
   "id": "e1ddc6c6",
   "metadata": {},
   "source": [
    "# Balancing data using SMOTE oversampling Technique "
   ]
  },
  {
   "cell_type": "code",
   "execution_count": 60,
   "id": "0c3c4d54",
   "metadata": {},
   "outputs": [
    {
     "data": {
      "text/plain": [
       "SMOTE()"
      ]
     },
     "execution_count": 60,
     "metadata": {},
     "output_type": "execute_result"
    }
   ],
   "source": [
    "from imblearn.over_sampling import SMOTE \n",
    "sm = SMOTE()\n",
    "sm"
   ]
  },
  {
   "cell_type": "code",
   "execution_count": 61,
   "id": "4d3ce11b",
   "metadata": {},
   "outputs": [],
   "source": [
    "X = data.drop(['Status'], axis =1 )\n",
    "y = data.Status"
   ]
  },
  {
   "cell_type": "code",
   "execution_count": 62,
   "id": "7eaf784f",
   "metadata": {
    "scrolled": true
   },
   "outputs": [
    {
     "data": {
      "text/html": [
       "<div>\n",
       "<style scoped>\n",
       "    .dataframe tbody tr th:only-of-type {\n",
       "        vertical-align: middle;\n",
       "    }\n",
       "\n",
       "    .dataframe tbody tr th {\n",
       "        vertical-align: top;\n",
       "    }\n",
       "\n",
       "    .dataframe thead th {\n",
       "        text-align: right;\n",
       "    }\n",
       "</style>\n",
       "<table border=\"1\" class=\"dataframe\">\n",
       "  <thead>\n",
       "    <tr style=\"text-align: right;\">\n",
       "      <th></th>\n",
       "      <th>Product_ID</th>\n",
       "      <th>Source</th>\n",
       "      <th>Sales_Agent</th>\n",
       "      <th>Location</th>\n",
       "      <th>Delivery_Mode</th>\n",
       "    </tr>\n",
       "  </thead>\n",
       "  <tbody>\n",
       "    <tr>\n",
       "      <th>18</th>\n",
       "      <td>28</td>\n",
       "      <td>4</td>\n",
       "      <td>4</td>\n",
       "      <td>1</td>\n",
       "      <td>0</td>\n",
       "    </tr>\n",
       "    <tr>\n",
       "      <th>19</th>\n",
       "      <td>11</td>\n",
       "      <td>0</td>\n",
       "      <td>5</td>\n",
       "      <td>2</td>\n",
       "      <td>4</td>\n",
       "    </tr>\n",
       "    <tr>\n",
       "      <th>24</th>\n",
       "      <td>10</td>\n",
       "      <td>5</td>\n",
       "      <td>1</td>\n",
       "      <td>1</td>\n",
       "      <td>0</td>\n",
       "    </tr>\n",
       "    <tr>\n",
       "      <th>25</th>\n",
       "      <td>7</td>\n",
       "      <td>5</td>\n",
       "      <td>8</td>\n",
       "      <td>1</td>\n",
       "      <td>0</td>\n",
       "    </tr>\n",
       "    <tr>\n",
       "      <th>26</th>\n",
       "      <td>10</td>\n",
       "      <td>0</td>\n",
       "      <td>8</td>\n",
       "      <td>1</td>\n",
       "      <td>0</td>\n",
       "    </tr>\n",
       "    <tr>\n",
       "      <th>...</th>\n",
       "      <td>...</td>\n",
       "      <td>...</td>\n",
       "      <td>...</td>\n",
       "      <td>...</td>\n",
       "      <td>...</td>\n",
       "    </tr>\n",
       "    <tr>\n",
       "      <th>7417</th>\n",
       "      <td>28</td>\n",
       "      <td>0</td>\n",
       "      <td>7</td>\n",
       "      <td>1</td>\n",
       "      <td>3</td>\n",
       "    </tr>\n",
       "    <tr>\n",
       "      <th>7418</th>\n",
       "      <td>7</td>\n",
       "      <td>0</td>\n",
       "      <td>2</td>\n",
       "      <td>2</td>\n",
       "      <td>4</td>\n",
       "    </tr>\n",
       "    <tr>\n",
       "      <th>7419</th>\n",
       "      <td>24</td>\n",
       "      <td>4</td>\n",
       "      <td>1</td>\n",
       "      <td>1</td>\n",
       "      <td>0</td>\n",
       "    </tr>\n",
       "    <tr>\n",
       "      <th>7420</th>\n",
       "      <td>14</td>\n",
       "      <td>3</td>\n",
       "      <td>5</td>\n",
       "      <td>2</td>\n",
       "      <td>0</td>\n",
       "    </tr>\n",
       "    <tr>\n",
       "      <th>7421</th>\n",
       "      <td>18</td>\n",
       "      <td>5</td>\n",
       "      <td>4</td>\n",
       "      <td>1</td>\n",
       "      <td>0</td>\n",
       "    </tr>\n",
       "  </tbody>\n",
       "</table>\n",
       "<p>7328 rows × 5 columns</p>\n",
       "</div>"
      ],
      "text/plain": [
       "      Product_ID  Source  Sales_Agent  Location  Delivery_Mode\n",
       "18            28       4            4         1              0\n",
       "19            11       0            5         2              4\n",
       "24            10       5            1         1              0\n",
       "25             7       5            8         1              0\n",
       "26            10       0            8         1              0\n",
       "...          ...     ...          ...       ...            ...\n",
       "7417          28       0            7         1              3\n",
       "7418           7       0            2         2              4\n",
       "7419          24       4            1         1              0\n",
       "7420          14       3            5         2              0\n",
       "7421          18       5            4         1              0\n",
       "\n",
       "[7328 rows x 5 columns]"
      ]
     },
     "execution_count": 62,
     "metadata": {},
     "output_type": "execute_result"
    }
   ],
   "source": [
    "X"
   ]
  },
  {
   "cell_type": "code",
   "execution_count": 63,
   "id": "23b1acf7",
   "metadata": {},
   "outputs": [
    {
     "data": {
      "text/plain": [
       "18      1\n",
       "19      1\n",
       "24      1\n",
       "25      0\n",
       "26      1\n",
       "       ..\n",
       "7417    0\n",
       "7418    0\n",
       "7419    0\n",
       "7420    0\n",
       "7421    1\n",
       "Name: Status, Length: 7328, dtype: int32"
      ]
     },
     "execution_count": 63,
     "metadata": {},
     "output_type": "execute_result"
    }
   ],
   "source": [
    "y"
   ]
  },
  {
   "cell_type": "code",
   "execution_count": 64,
   "id": "88782813",
   "metadata": {},
   "outputs": [],
   "source": [
    "X_resampled , y_resampled = sm.fit_resample(X,y)"
   ]
  },
  {
   "cell_type": "code",
   "execution_count": 65,
   "id": "490771ac",
   "metadata": {},
   "outputs": [
    {
     "name": "stdout",
     "output_type": "stream",
     "text": [
      "7328\n",
      "7328\n"
     ]
    }
   ],
   "source": [
    "print(len(X))\n",
    "print(len(y))"
   ]
  },
  {
   "cell_type": "code",
   "execution_count": 66,
   "id": "c9715b9f",
   "metadata": {},
   "outputs": [
    {
     "name": "stdout",
     "output_type": "stream",
     "text": [
      "7328\n",
      "8932\n"
     ]
    }
   ],
   "source": [
    "print(len(X))\n",
    "print(len(X_resampled))"
   ]
  },
  {
   "cell_type": "code",
   "execution_count": 67,
   "id": "f3525baf",
   "metadata": {},
   "outputs": [
    {
     "name": "stdout",
     "output_type": "stream",
     "text": [
      "1    4466\n",
      "0    4466\n",
      "Name: Status, dtype: int64\n"
     ]
    }
   ],
   "source": [
    "print(y_resampled.value_counts())"
   ]
  },
  {
   "cell_type": "markdown",
   "id": "23117837",
   "metadata": {},
   "source": [
    "# Feature Selection "
   ]
  },
  {
   "cell_type": "code",
   "execution_count": 68,
   "id": "f35dc9a6",
   "metadata": {},
   "outputs": [
    {
     "data": {
      "text/html": [
       "<div>\n",
       "<style scoped>\n",
       "    .dataframe tbody tr th:only-of-type {\n",
       "        vertical-align: middle;\n",
       "    }\n",
       "\n",
       "    .dataframe tbody tr th {\n",
       "        vertical-align: top;\n",
       "    }\n",
       "\n",
       "    .dataframe thead th {\n",
       "        text-align: right;\n",
       "    }\n",
       "</style>\n",
       "<table border=\"1\" class=\"dataframe\">\n",
       "  <thead>\n",
       "    <tr style=\"text-align: right;\">\n",
       "      <th></th>\n",
       "      <th>Product_ID</th>\n",
       "      <th>Source</th>\n",
       "      <th>Sales_Agent</th>\n",
       "      <th>Location</th>\n",
       "      <th>Delivery_Mode</th>\n",
       "      <th>Status</th>\n",
       "    </tr>\n",
       "  </thead>\n",
       "  <tbody>\n",
       "    <tr>\n",
       "      <th>Product_ID</th>\n",
       "      <td>1.000000</td>\n",
       "      <td>0.067209</td>\n",
       "      <td>0.062694</td>\n",
       "      <td>-0.268012</td>\n",
       "      <td>-0.179129</td>\n",
       "      <td>0.133166</td>\n",
       "    </tr>\n",
       "    <tr>\n",
       "      <th>Source</th>\n",
       "      <td>0.067209</td>\n",
       "      <td>1.000000</td>\n",
       "      <td>-0.023186</td>\n",
       "      <td>-0.113249</td>\n",
       "      <td>-0.216516</td>\n",
       "      <td>-0.015411</td>\n",
       "    </tr>\n",
       "    <tr>\n",
       "      <th>Sales_Agent</th>\n",
       "      <td>0.062694</td>\n",
       "      <td>-0.023186</td>\n",
       "      <td>1.000000</td>\n",
       "      <td>-0.067451</td>\n",
       "      <td>-0.224688</td>\n",
       "      <td>0.137074</td>\n",
       "    </tr>\n",
       "    <tr>\n",
       "      <th>Location</th>\n",
       "      <td>-0.268012</td>\n",
       "      <td>-0.113249</td>\n",
       "      <td>-0.067451</td>\n",
       "      <td>1.000000</td>\n",
       "      <td>0.297702</td>\n",
       "      <td>-0.293663</td>\n",
       "    </tr>\n",
       "    <tr>\n",
       "      <th>Delivery_Mode</th>\n",
       "      <td>-0.179129</td>\n",
       "      <td>-0.216516</td>\n",
       "      <td>-0.224688</td>\n",
       "      <td>0.297702</td>\n",
       "      <td>1.000000</td>\n",
       "      <td>-0.220445</td>\n",
       "    </tr>\n",
       "    <tr>\n",
       "      <th>Status</th>\n",
       "      <td>0.133166</td>\n",
       "      <td>-0.015411</td>\n",
       "      <td>0.137074</td>\n",
       "      <td>-0.293663</td>\n",
       "      <td>-0.220445</td>\n",
       "      <td>1.000000</td>\n",
       "    </tr>\n",
       "  </tbody>\n",
       "</table>\n",
       "</div>"
      ],
      "text/plain": [
       "               Product_ID    Source  Sales_Agent  Location  Delivery_Mode  \\\n",
       "Product_ID       1.000000  0.067209     0.062694 -0.268012      -0.179129   \n",
       "Source           0.067209  1.000000    -0.023186 -0.113249      -0.216516   \n",
       "Sales_Agent      0.062694 -0.023186     1.000000 -0.067451      -0.224688   \n",
       "Location        -0.268012 -0.113249    -0.067451  1.000000       0.297702   \n",
       "Delivery_Mode   -0.179129 -0.216516    -0.224688  0.297702       1.000000   \n",
       "Status           0.133166 -0.015411     0.137074 -0.293663      -0.220445   \n",
       "\n",
       "                 Status  \n",
       "Product_ID     0.133166  \n",
       "Source        -0.015411  \n",
       "Sales_Agent    0.137074  \n",
       "Location      -0.293663  \n",
       "Delivery_Mode -0.220445  \n",
       "Status         1.000000  "
      ]
     },
     "execution_count": 68,
     "metadata": {},
     "output_type": "execute_result"
    }
   ],
   "source": [
    "data.corr()"
   ]
  },
  {
   "cell_type": "code",
   "execution_count": 69,
   "id": "470d71e6",
   "metadata": {},
   "outputs": [
    {
     "data": {
      "image/png": "[encoded data removed]",
      "text/plain": [
       "<Figure size 432x288 with 2 Axes>"
      ]
     },
     "metadata": {
      "needs_background": "light"
     },
     "output_type": "display_data"
    }
   ],
   "source": [
    "sns.heatmap(data.corr(), annot = True)\n",
    "plt.show()"
   ]
  },
  {
   "cell_type": "markdown",
   "id": "6a0bb6ca",
   "metadata": {},
   "source": [
    "There are no significant correlations found among the features in the dataset."
   ]
  },
  {
   "cell_type": "markdown",
   "id": "ea4113e1",
   "metadata": {},
   "source": [
    "# Model Creation "
   ]
  },
  {
   "cell_type": "markdown",
   "id": "567f4ebc",
   "metadata": {},
   "source": [
    "Train Test Split"
   ]
  },
  {
   "cell_type": "code",
   "execution_count": 70,
   "id": "9d02e401",
   "metadata": {},
   "outputs": [],
   "source": [
    "from sklearn.model_selection import train_test_split\n",
    "X_train,X_test,y_train,y_test = train_test_split(X_resampled,y_resampled,test_size=0.2,random_state=42)"
   ]
  },
  {
   "cell_type": "code",
   "execution_count": 71,
   "id": "92907dee",
   "metadata": {},
   "outputs": [
    {
     "data": {
      "text/plain": [
       "(7145, 5)"
      ]
     },
     "execution_count": 71,
     "metadata": {},
     "output_type": "execute_result"
    }
   ],
   "source": [
    "X_train.shape"
   ]
  },
  {
   "cell_type": "code",
   "execution_count": 72,
   "id": "45997dd6",
   "metadata": {},
   "outputs": [
    {
     "data": {
      "text/plain": [
       "(1787, 5)"
      ]
     },
     "execution_count": 72,
     "metadata": {},
     "output_type": "execute_result"
    }
   ],
   "source": [
    "X_test.shape"
   ]
  },
  {
   "cell_type": "code",
   "execution_count": 73,
   "id": "61e6f673",
   "metadata": {},
   "outputs": [
    {
     "data": {
      "text/html": [
       "<div>\n",
       "<style scoped>\n",
       "    .dataframe tbody tr th:only-of-type {\n",
       "        vertical-align: middle;\n",
       "    }\n",
       "\n",
       "    .dataframe tbody tr th {\n",
       "        vertical-align: top;\n",
       "    }\n",
       "\n",
       "    .dataframe thead th {\n",
       "        text-align: right;\n",
       "    }\n",
       "</style>\n",
       "<table border=\"1\" class=\"dataframe\">\n",
       "  <thead>\n",
       "    <tr style=\"text-align: right;\">\n",
       "      <th></th>\n",
       "      <th>Product_ID</th>\n",
       "      <th>Source</th>\n",
       "      <th>Sales_Agent</th>\n",
       "      <th>Location</th>\n",
       "      <th>Delivery_Mode</th>\n",
       "    </tr>\n",
       "  </thead>\n",
       "  <tbody>\n",
       "    <tr>\n",
       "      <th>1470</th>\n",
       "      <td>11</td>\n",
       "      <td>0</td>\n",
       "      <td>5</td>\n",
       "      <td>1</td>\n",
       "      <td>0</td>\n",
       "    </tr>\n",
       "    <tr>\n",
       "      <th>5980</th>\n",
       "      <td>24</td>\n",
       "      <td>2</td>\n",
       "      <td>5</td>\n",
       "      <td>1</td>\n",
       "      <td>0</td>\n",
       "    </tr>\n",
       "    <tr>\n",
       "      <th>6955</th>\n",
       "      <td>24</td>\n",
       "      <td>3</td>\n",
       "      <td>1</td>\n",
       "      <td>1</td>\n",
       "      <td>4</td>\n",
       "    </tr>\n",
       "    <tr>\n",
       "      <th>3994</th>\n",
       "      <td>7</td>\n",
       "      <td>0</td>\n",
       "      <td>6</td>\n",
       "      <td>2</td>\n",
       "      <td>4</td>\n",
       "    </tr>\n",
       "    <tr>\n",
       "      <th>8474</th>\n",
       "      <td>11</td>\n",
       "      <td>0</td>\n",
       "      <td>10</td>\n",
       "      <td>1</td>\n",
       "      <td>0</td>\n",
       "    </tr>\n",
       "    <tr>\n",
       "      <th>...</th>\n",
       "      <td>...</td>\n",
       "      <td>...</td>\n",
       "      <td>...</td>\n",
       "      <td>...</td>\n",
       "      <td>...</td>\n",
       "    </tr>\n",
       "    <tr>\n",
       "      <th>5734</th>\n",
       "      <td>10</td>\n",
       "      <td>5</td>\n",
       "      <td>1</td>\n",
       "      <td>1</td>\n",
       "      <td>0</td>\n",
       "    </tr>\n",
       "    <tr>\n",
       "      <th>5191</th>\n",
       "      <td>11</td>\n",
       "      <td>5</td>\n",
       "      <td>10</td>\n",
       "      <td>1</td>\n",
       "      <td>2</td>\n",
       "    </tr>\n",
       "    <tr>\n",
       "      <th>5390</th>\n",
       "      <td>28</td>\n",
       "      <td>0</td>\n",
       "      <td>5</td>\n",
       "      <td>1</td>\n",
       "      <td>2</td>\n",
       "    </tr>\n",
       "    <tr>\n",
       "      <th>860</th>\n",
       "      <td>20</td>\n",
       "      <td>4</td>\n",
       "      <td>1</td>\n",
       "      <td>1</td>\n",
       "      <td>0</td>\n",
       "    </tr>\n",
       "    <tr>\n",
       "      <th>7270</th>\n",
       "      <td>14</td>\n",
       "      <td>1</td>\n",
       "      <td>1</td>\n",
       "      <td>1</td>\n",
       "      <td>0</td>\n",
       "    </tr>\n",
       "  </tbody>\n",
       "</table>\n",
       "<p>7145 rows × 5 columns</p>\n",
       "</div>"
      ],
      "text/plain": [
       "      Product_ID  Source  Sales_Agent  Location  Delivery_Mode\n",
       "1470          11       0            5         1              0\n",
       "5980          24       2            5         1              0\n",
       "6955          24       3            1         1              4\n",
       "3994           7       0            6         2              4\n",
       "8474          11       0           10         1              0\n",
       "...          ...     ...          ...       ...            ...\n",
       "5734          10       5            1         1              0\n",
       "5191          11       5           10         1              2\n",
       "5390          28       0            5         1              2\n",
       "860           20       4            1         1              0\n",
       "7270          14       1            1         1              0\n",
       "\n",
       "[7145 rows x 5 columns]"
      ]
     },
     "execution_count": 73,
     "metadata": {},
     "output_type": "execute_result"
    }
   ],
   "source": [
    "X_train"
   ]
  },
  {
   "cell_type": "code",
   "execution_count": 74,
   "id": "69d6048d",
   "metadata": {},
   "outputs": [
    {
     "data": {
      "text/plain": [
       "(7145,)"
      ]
     },
     "execution_count": 74,
     "metadata": {},
     "output_type": "execute_result"
    }
   ],
   "source": [
    "y_train.shape"
   ]
  },
  {
   "cell_type": "code",
   "execution_count": 75,
   "id": "5178bbca",
   "metadata": {},
   "outputs": [
    {
     "data": {
      "text/plain": [
       "(1787,)"
      ]
     },
     "execution_count": 75,
     "metadata": {},
     "output_type": "execute_result"
    }
   ],
   "source": [
    "y_test.shape"
   ]
  },
  {
   "cell_type": "markdown",
   "id": "f1e43f5e",
   "metadata": {},
   "source": [
    "# 1. Logistic Regression "
   ]
  },
  {
   "cell_type": "code",
   "execution_count": 76,
   "id": "e1df99ce",
   "metadata": {},
   "outputs": [
    {
     "data": {
      "text/plain": [
       "LogisticRegression()"
      ]
     },
     "execution_count": 76,
     "metadata": {},
     "output_type": "execute_result"
    }
   ],
   "source": [
    "from sklearn.linear_model import LogisticRegression \n",
    "LR = LogisticRegression()\n",
    "LR"
   ]
  },
  {
   "cell_type": "code",
   "execution_count": 77,
   "id": "c512c25a",
   "metadata": {},
   "outputs": [
    {
     "data": {
      "text/plain": [
       "LogisticRegression()"
      ]
     },
     "execution_count": 77,
     "metadata": {},
     "output_type": "execute_result"
    }
   ],
   "source": [
    "LR.fit(X_train,y_train)"
   ]
  },
  {
   "cell_type": "code",
   "execution_count": 78,
   "id": "acf13113",
   "metadata": {},
   "outputs": [
    {
     "data": {
      "text/plain": [
       "array([1, 1, 0, ..., 1, 1, 1])"
      ]
     },
     "execution_count": 78,
     "metadata": {},
     "output_type": "execute_result"
    }
   ],
   "source": [
    "y_pred_train = LR.predict(X_train)\n",
    "y_pred_train"
   ]
  },
  {
   "cell_type": "code",
   "execution_count": 79,
   "id": "ff99d392",
   "metadata": {},
   "outputs": [
    {
     "data": {
      "text/plain": [
       "array([1, 1, 1, ..., 1, 1, 1])"
      ]
     },
     "execution_count": 79,
     "metadata": {},
     "output_type": "execute_result"
    }
   ],
   "source": [
    "y_pred_test = LR.predict(X_test)\n",
    "y_pred_test"
   ]
  },
  {
   "cell_type": "markdown",
   "id": "dbcfdf81",
   "metadata": {},
   "source": [
    "# Model Accuracy"
   ]
  },
  {
   "cell_type": "code",
   "execution_count": 80,
   "id": "3e76850c",
   "metadata": {},
   "outputs": [
    {
     "name": "stdout",
     "output_type": "stream",
     "text": [
      "              precision    recall  f1-score   support\n",
      "\n",
      "           0       0.68      0.58      0.63      3603\n",
      "           1       0.63      0.72      0.67      3542\n",
      "\n",
      "    accuracy                           0.65      7145\n",
      "   macro avg       0.66      0.65      0.65      7145\n",
      "weighted avg       0.66      0.65      0.65      7145\n",
      "\n"
     ]
    }
   ],
   "source": [
    "from sklearn.metrics import accuracy_score,classification_report,f1_score\n",
    "#training score \n",
    "print(classification_report(y_train, y_pred_train))"
   ]
  },
  {
   "cell_type": "code",
   "execution_count": 81,
   "id": "36d8701f",
   "metadata": {
    "scrolled": true
   },
   "outputs": [
    {
     "name": "stdout",
     "output_type": "stream",
     "text": [
      "              precision    recall  f1-score   support\n",
      "\n",
      "           0       0.65      0.60      0.62       863\n",
      "           1       0.65      0.70      0.68       924\n",
      "\n",
      "    accuracy                           0.65      1787\n",
      "   macro avg       0.65      0.65      0.65      1787\n",
      "weighted avg       0.65      0.65      0.65      1787\n",
      "\n"
     ]
    }
   ],
   "source": [
    "from sklearn.metrics import accuracy_score,classification_report,f1_score\n",
    "# Testing Score\n",
    "print(classification_report(y_test,y_pred_test))"
   ]
  },
  {
   "cell_type": "markdown",
   "id": "cf8c6804",
   "metadata": {},
   "source": [
    "# 2. Support Vector Classifier "
   ]
  },
  {
   "cell_type": "code",
   "execution_count": 82,
   "id": "d91fddd3",
   "metadata": {},
   "outputs": [
    {
     "data": {
      "text/plain": [
       "SVC()"
      ]
     },
     "execution_count": 82,
     "metadata": {},
     "output_type": "execute_result"
    }
   ],
   "source": [
    "from sklearn.svm import SVC\n",
    "svc = SVC()\n",
    "svc"
   ]
  },
  {
   "cell_type": "code",
   "execution_count": 83,
   "id": "3367caf1",
   "metadata": {},
   "outputs": [
    {
     "data": {
      "text/plain": [
       "SVC()"
      ]
     },
     "execution_count": 83,
     "metadata": {},
     "output_type": "execute_result"
    }
   ],
   "source": [
    "svc.fit(X_train,y_train)"
   ]
  },
  {
   "cell_type": "code",
   "execution_count": 84,
   "id": "e7324b92",
   "metadata": {},
   "outputs": [
    {
     "data": {
      "text/plain": [
       "array([1, 1, 0, ..., 1, 1, 1])"
      ]
     },
     "execution_count": 84,
     "metadata": {},
     "output_type": "execute_result"
    }
   ],
   "source": [
    "ypred= svc.predict(X_train)\n",
    "ypred"
   ]
  },
  {
   "cell_type": "code",
   "execution_count": 85,
   "id": "1309fe2a",
   "metadata": {},
   "outputs": [
    {
     "data": {
      "text/plain": [
       "array([1, 1, 1, ..., 1, 1, 1])"
      ]
     },
     "execution_count": 85,
     "metadata": {},
     "output_type": "execute_result"
    }
   ],
   "source": [
    "y_pred_test = svc.predict(X_test)\n",
    "y_pred_test"
   ]
  },
  {
   "cell_type": "markdown",
   "id": "de6ce28c",
   "metadata": {},
   "source": [
    "# Model Accuracy"
   ]
  },
  {
   "cell_type": "code",
   "execution_count": 86,
   "id": "77222016",
   "metadata": {},
   "outputs": [
    {
     "name": "stdout",
     "output_type": "stream",
     "text": [
      "              precision    recall  f1-score   support\n",
      "\n",
      "           0       0.71      0.58      0.64      3603\n",
      "           1       0.64      0.76      0.70      3542\n",
      "\n",
      "    accuracy                           0.67      7145\n",
      "   macro avg       0.68      0.67      0.67      7145\n",
      "weighted avg       0.68      0.67      0.67      7145\n",
      "\n"
     ]
    }
   ],
   "source": [
    "from sklearn.metrics import accuracy_score,classification_report , f1_score\n",
    "#training accuracy \n",
    "print(classification_report(y_train, ypred))"
   ]
  },
  {
   "cell_type": "code",
   "execution_count": 87,
   "id": "56b0b75d",
   "metadata": {},
   "outputs": [
    {
     "name": "stdout",
     "output_type": "stream",
     "text": [
      "              precision    recall  f1-score   support\n",
      "\n",
      "           0       0.70      0.61      0.65       863\n",
      "           1       0.68      0.75      0.71       924\n",
      "\n",
      "    accuracy                           0.69      1787\n",
      "   macro avg       0.69      0.68      0.68      1787\n",
      "weighted avg       0.69      0.69      0.68      1787\n",
      "\n"
     ]
    }
   ],
   "source": [
    "#testing accuracy\n",
    "print(classification_report(y_test,y_pred_test))"
   ]
  },
  {
   "cell_type": "markdown",
   "id": "8de05a1d",
   "metadata": {},
   "source": [
    "# 3. Decision Tree classifier "
   ]
  },
  {
   "cell_type": "code",
   "execution_count": 88,
   "id": "0b1fc57c",
   "metadata": {},
   "outputs": [
    {
     "data": {
      "text/plain": [
       "DecisionTreeClassifier()"
      ]
     },
     "execution_count": 88,
     "metadata": {},
     "output_type": "execute_result"
    }
   ],
   "source": [
    "from sklearn.tree import DecisionTreeClassifier\n",
    "DTC = DecisionTreeClassifier()\n",
    "DTC\n"
   ]
  },
  {
   "cell_type": "code",
   "execution_count": 89,
   "id": "31210aaf",
   "metadata": {},
   "outputs": [
    {
     "data": {
      "text/plain": [
       "DecisionTreeClassifier()"
      ]
     },
     "execution_count": 89,
     "metadata": {},
     "output_type": "execute_result"
    }
   ],
   "source": [
    "DTC.fit(X_train,y_train)"
   ]
  },
  {
   "cell_type": "code",
   "execution_count": 90,
   "id": "0fac59f7",
   "metadata": {},
   "outputs": [
    {
     "data": {
      "text/plain": [
       "array([1, 1, 1, ..., 1, 1, 1])"
      ]
     },
     "execution_count": 90,
     "metadata": {},
     "output_type": "execute_result"
    }
   ],
   "source": [
    "y_pred_train = DTC.predict(X_train)\n",
    "y_pred_train"
   ]
  },
  {
   "cell_type": "code",
   "execution_count": 91,
   "id": "025c1814",
   "metadata": {},
   "outputs": [
    {
     "data": {
      "text/plain": [
       "array([0, 1, 0, ..., 1, 1, 1])"
      ]
     },
     "execution_count": 91,
     "metadata": {},
     "output_type": "execute_result"
    }
   ],
   "source": [
    "y_pred_test = DTC.predict(X_test)\n",
    "y_pred_test"
   ]
  },
  {
   "cell_type": "markdown",
   "id": "06063ea0",
   "metadata": {},
   "source": [
    "# Model Accuracy "
   ]
  },
  {
   "cell_type": "code",
   "execution_count": 92,
   "id": "20227d07",
   "metadata": {},
   "outputs": [
    {
     "name": "stdout",
     "output_type": "stream",
     "text": [
      "              precision    recall  f1-score   support\n",
      "\n",
      "           0       0.79      0.78      0.79      3603\n",
      "           1       0.78      0.79      0.79      3542\n",
      "\n",
      "    accuracy                           0.79      7145\n",
      "   macro avg       0.79      0.79      0.79      7145\n",
      "weighted avg       0.79      0.79      0.79      7145\n",
      "\n"
     ]
    }
   ],
   "source": [
    "#training accuracy \n",
    "print(classification_report(y_train,y_pred_train))"
   ]
  },
  {
   "cell_type": "code",
   "execution_count": 93,
   "id": "9c935976",
   "metadata": {},
   "outputs": [
    {
     "name": "stdout",
     "output_type": "stream",
     "text": [
      "              precision    recall  f1-score   support\n",
      "\n",
      "           0       0.70      0.71      0.70       863\n",
      "           1       0.72      0.72      0.72       924\n",
      "\n",
      "    accuracy                           0.71      1787\n",
      "   macro avg       0.71      0.71      0.71      1787\n",
      "weighted avg       0.71      0.71      0.71      1787\n",
      "\n"
     ]
    }
   ],
   "source": [
    "#testing accuracy \n",
    "print(classification_report(y_test,y_pred_test))"
   ]
  },
  {
   "cell_type": "markdown",
   "id": "3c973416",
   "metadata": {},
   "source": [
    "# 4.Random Forest Classifier "
   ]
  },
  {
   "cell_type": "code",
   "execution_count": 94,
   "id": "9df6e9d2",
   "metadata": {},
   "outputs": [
    {
     "data": {
      "text/plain": [
       "RandomForestClassifier()"
      ]
     },
     "execution_count": 94,
     "metadata": {},
     "output_type": "execute_result"
    }
   ],
   "source": [
    "from sklearn.ensemble import RandomForestClassifier\n",
    "rfc = RandomForestClassifier()\n",
    "rfc"
   ]
  },
  {
   "cell_type": "code",
   "execution_count": 95,
   "id": "b4c64a4a",
   "metadata": {},
   "outputs": [
    {
     "data": {
      "text/plain": [
       "RandomForestClassifier()"
      ]
     },
     "execution_count": 95,
     "metadata": {},
     "output_type": "execute_result"
    }
   ],
   "source": [
    "rfc.fit(X_train,y_train)"
   ]
  },
  {
   "cell_type": "code",
   "execution_count": 96,
   "id": "12482e22",
   "metadata": {},
   "outputs": [
    {
     "data": {
      "text/plain": [
       "array([1, 1, 1, ..., 1, 1, 1])"
      ]
     },
     "execution_count": 96,
     "metadata": {},
     "output_type": "execute_result"
    }
   ],
   "source": [
    "y_pred_train = rfc.predict(X_train)\n",
    "y_pred_train"
   ]
  },
  {
   "cell_type": "code",
   "execution_count": 97,
   "id": "5f940a82",
   "metadata": {},
   "outputs": [
    {
     "data": {
      "text/plain": [
       "array([0, 1, 0, ..., 1, 1, 1])"
      ]
     },
     "execution_count": 97,
     "metadata": {},
     "output_type": "execute_result"
    }
   ],
   "source": [
    "y_pred_test = rfc.predict(X_test)\n",
    "y_pred_test"
   ]
  },
  {
   "cell_type": "markdown",
   "id": "80331aa5",
   "metadata": {},
   "source": [
    "# Model Accuracy "
   ]
  },
  {
   "cell_type": "code",
   "execution_count": 98,
   "id": "36f5c492",
   "metadata": {},
   "outputs": [
    {
     "name": "stdout",
     "output_type": "stream",
     "text": [
      "              precision    recall  f1-score   support\n",
      "\n",
      "           0       0.81      0.76      0.78      3603\n",
      "           1       0.77      0.81      0.79      3542\n",
      "\n",
      "    accuracy                           0.79      7145\n",
      "   macro avg       0.79      0.79      0.79      7145\n",
      "weighted avg       0.79      0.79      0.79      7145\n",
      "\n"
     ]
    }
   ],
   "source": [
    "#training accuracy \n",
    "print(classification_report(y_train,y_pred_train))\n",
    "    "
   ]
  },
  {
   "cell_type": "code",
   "execution_count": 99,
   "id": "4bc7fa59",
   "metadata": {},
   "outputs": [
    {
     "name": "stdout",
     "output_type": "stream",
     "text": [
      "              precision    recall  f1-score   support\n",
      "\n",
      "           0       0.71      0.69      0.70       863\n",
      "           1       0.72      0.73      0.73       924\n",
      "\n",
      "    accuracy                           0.71      1787\n",
      "   macro avg       0.71      0.71      0.71      1787\n",
      "weighted avg       0.71      0.71      0.71      1787\n",
      "\n"
     ]
    }
   ],
   "source": [
    "#testing accuracy \n",
    "print(classification_report(y_test,y_pred_test))"
   ]
  },
  {
   "cell_type": "markdown",
   "id": "33670d3b",
   "metadata": {},
   "source": [
    "# Hyperparameter Tuning Using GridSearchCV (Decision Tree)"
   ]
  },
  {
   "cell_type": "code",
   "execution_count": 100,
   "id": "58b77c18",
   "metadata": {},
   "outputs": [
    {
     "name": "stdout",
     "output_type": "stream",
     "text": [
      "Fitting 5 folds for each of 27436 candidates, totalling 137180 fits\n",
      "best_parameters: {'criterion': 'entropy', 'max_depth': 16, 'min_samples_leaf': 1, 'min_samples_split': 3, 'splitter': 'best'}\n"
     ]
    }
   ],
   "source": [
    "from sklearn.model_selection import GridSearchCV\n",
    "# Hyper parameters for decision tree\n",
    "params = {\n",
    "    'criterion':('ginni','entropy'),\n",
    "    'splitter':('best','random'),\n",
    "    'max_depth':(list(range(1,20))),\n",
    "    'min_samples_split':(list(range(1,20))),\n",
    "    'min_samples_leaf':(list(range(1,20)))\n",
    "}\n",
    "\n",
    "dtc_tree = DecisionTreeClassifier(random_state=23)\n",
    "dtc_tree_cv = GridSearchCV(dtc_tree,params,verbose=2,n_jobs=-1,cv=5,scoring='accuracy')\n",
    "\n",
    "dtc_tree_cv.fit(X_train,y_train) # Training the data on GridSearchCV\n",
    "best_parameters = dtc_tree_cv.best_params_ # it will give us best parameters\n",
    "# Printing the best parameters for further predictions\n",
    "print('best_parameters:',best_parameters)"
   ]
  },
  {
   "cell_type": "code",
   "execution_count": 101,
   "id": "be84052d",
   "metadata": {},
   "outputs": [],
   "source": [
    "dtclassifier = DecisionTreeClassifier(criterion= 'entropy', max_depth= 17, min_samples_leaf= 1, min_samples_split= 12, splitter= 'best',random_state=42)"
   ]
  },
  {
   "cell_type": "code",
   "execution_count": 102,
   "id": "779ce17e",
   "metadata": {},
   "outputs": [],
   "source": [
    "dtclassifier.fit(X_train,y_train)\n",
    "y_pred_dt = dtclassifier.predict(X_test)\n",
    "y_pred_dttrain = dtclassifier.predict(X_train)"
   ]
  },
  {
   "cell_type": "code",
   "execution_count": 103,
   "id": "c3126439",
   "metadata": {},
   "outputs": [
    {
     "name": "stdout",
     "output_type": "stream",
     "text": [
      "              precision    recall  f1-score   support\n",
      "\n",
      "           0       0.69      0.71      0.70       863\n",
      "           1       0.73      0.71      0.72       924\n",
      "\n",
      "    accuracy                           0.71      1787\n",
      "   macro avg       0.71      0.71      0.71      1787\n",
      "weighted avg       0.71      0.71      0.71      1787\n",
      "\n"
     ]
    }
   ],
   "source": [
    "# Testing score\n",
    "print(classification_report(y_test,y_pred_dt))\n"
   ]
  },
  {
   "cell_type": "code",
   "execution_count": 104,
   "id": "e0d34346",
   "metadata": {},
   "outputs": [
    {
     "name": "stdout",
     "output_type": "stream",
     "text": [
      "              precision    recall  f1-score   support\n",
      "\n",
      "           0       0.78      0.76      0.77      3603\n",
      "           1       0.77      0.78      0.77      3542\n",
      "\n",
      "    accuracy                           0.77      7145\n",
      "   macro avg       0.77      0.77      0.77      7145\n",
      "weighted avg       0.77      0.77      0.77      7145\n",
      "\n"
     ]
    }
   ],
   "source": [
    "# training score\n",
    "print(classification_report(y_train,y_pred_dttrain))"
   ]
  },
  {
   "cell_type": "markdown",
   "id": "fb1c3f72",
   "metadata": {},
   "source": [
    "# Hyperparameter Tuning using Randomized Search (Random Forest)"
   ]
  },
  {
   "cell_type": "code",
   "execution_count": 105,
   "id": "e93c3ab6",
   "metadata": {},
   "outputs": [
    {
     "name": "stdout",
     "output_type": "stream",
     "text": [
      "Fitting 3 folds for each of 100 candidates, totalling 300 fits\n",
      "best parameters: {'n_estimators': 1400, 'min_samples_split': 4, 'min_samples_leaf': 2, 'max_features': 'auto', 'max_depth': 10, 'bootstrap': True}\n"
     ]
    }
   ],
   "source": [
    "from sklearn.model_selection import RandomizedSearchCV\n",
    "# Hyper parameters for Random Forest\n",
    "param_grid = {\n",
    "    'n_estimators':[400,600,800,1000,1200,1400,1600,1800,2000,2200],\n",
    "    'max_depth':(list(range(1,13))),\n",
    "    'min_samples_split':(list(range(1,9))),\n",
    "    'min_samples_leaf':(list(range(1,6))),\n",
    "    'max_features':['auto','sqrt'],\n",
    "    'bootstrap':[True,False]}\n",
    "\n",
    "rfclassifier = RandomForestClassifier(random_state=43)\n",
    "rf_tree_rcv = RandomizedSearchCV(rfclassifier,param_grid,verbose=2,n_jobs=-1,cv=3,n_iter=100,scoring='accuracy')\n",
    "\n",
    "rf_tree_rcv.fit(X_train,y_train) # Training the data on GridSearchCV\n",
    "\n",
    "best_parameters1 = rf_tree_rcv.best_params_\n",
    "# printing best parameters for further prediction\n",
    "print('best parameters:',best_parameters1)"
   ]
  },
  {
   "cell_type": "code",
   "execution_count": 106,
   "id": "a841f45c",
   "metadata": {},
   "outputs": [],
   "source": [
    "rfclassifier = RandomForestClassifier()"
   ]
  },
  {
   "cell_type": "code",
   "execution_count": 107,
   "id": "5c484e3a",
   "metadata": {},
   "outputs": [
    {
     "data": {
      "text/plain": [
       "RandomForestClassifier()"
      ]
     },
     "execution_count": 107,
     "metadata": {},
     "output_type": "execute_result"
    }
   ],
   "source": [
    "rfclassifier.fit(X_train,y_train)"
   ]
  },
  {
   "cell_type": "markdown",
   "id": "ea4dd2f6",
   "metadata": {},
   "source": [
    "# K- Nearest Neighbor Classifier "
   ]
  },
  {
   "cell_type": "code",
   "execution_count": 108,
   "id": "15e0176c",
   "metadata": {},
   "outputs": [
    {
     "data": {
      "text/plain": [
       "KNeighborsClassifier()"
      ]
     },
     "execution_count": 108,
     "metadata": {},
     "output_type": "execute_result"
    }
   ],
   "source": [
    "from sklearn.neighbors import KNeighborsClassifier \n",
    "KNN = KNeighborsClassifier()\n",
    "KNN.fit(X_train,y_train)"
   ]
  },
  {
   "cell_type": "code",
   "execution_count": 109,
   "id": "fe3ef805",
   "metadata": {},
   "outputs": [
    {
     "data": {
      "text/plain": [
       "array([1, 1, 1, ..., 1, 1, 1])"
      ]
     },
     "execution_count": 109,
     "metadata": {},
     "output_type": "execute_result"
    }
   ],
   "source": [
    "y_pred_train = KNN.predict(X_train)\n",
    "y_pred_train"
   ]
  },
  {
   "cell_type": "code",
   "execution_count": 110,
   "id": "ddd58206",
   "metadata": {},
   "outputs": [
    {
     "data": {
      "text/plain": [
       "array([0, 1, 0, ..., 1, 1, 1])"
      ]
     },
     "execution_count": 110,
     "metadata": {},
     "output_type": "execute_result"
    }
   ],
   "source": [
    "y_pred_test = KNN.predict(X_test)\n",
    "y_pred_test"
   ]
  },
  {
   "cell_type": "markdown",
   "id": "7a7b39c7",
   "metadata": {},
   "source": [
    "# Model Evalution"
   ]
  },
  {
   "cell_type": "code",
   "execution_count": 111,
   "id": "cfb0e4ad",
   "metadata": {
    "scrolled": true
   },
   "outputs": [
    {
     "name": "stdout",
     "output_type": "stream",
     "text": [
      "              precision    recall  f1-score   support\n",
      "\n",
      "           0       0.77      0.71      0.74      3603\n",
      "           1       0.73      0.79      0.75      3542\n",
      "\n",
      "    accuracy                           0.75      7145\n",
      "   macro avg       0.75      0.75      0.75      7145\n",
      "weighted avg       0.75      0.75      0.75      7145\n",
      "\n"
     ]
    }
   ],
   "source": [
    "#Training accuracy \n",
    "print(classification_report(y_train,y_pred_train))\n"
   ]
  },
  {
   "cell_type": "code",
   "execution_count": 112,
   "id": "9abb536f",
   "metadata": {},
   "outputs": [
    {
     "name": "stdout",
     "output_type": "stream",
     "text": [
      "              precision    recall  f1-score   support\n",
      "\n",
      "           0       0.69      0.68      0.68       863\n",
      "           1       0.70      0.71      0.71       924\n",
      "\n",
      "    accuracy                           0.69      1787\n",
      "   macro avg       0.69      0.69      0.69      1787\n",
      "weighted avg       0.69      0.69      0.69      1787\n",
      "\n"
     ]
    }
   ],
   "source": [
    "#Testing accuracy \n",
    "print(classification_report(y_test,y_pred_test))\n",
    "\n"
   ]
  },
  {
   "cell_type": "markdown",
   "id": "cedf7519",
   "metadata": {},
   "source": [
    "# XGboost Classifier "
   ]
  },
  {
   "cell_type": "code",
   "execution_count": 113,
   "id": "0d6d4072",
   "metadata": {},
   "outputs": [
    {
     "data": {
      "text/plain": [
       "XGBClassifier(base_score=None, booster=None, callbacks=None,\n",
       "              colsample_bylevel=None, colsample_bynode=None,\n",
       "              colsample_bytree=None, device=None, early_stopping_rounds=None,\n",
       "              enable_categorical=False, eval_metric=None, feature_types=None,\n",
       "              gamma=None, grow_policy=None, importance_type=None,\n",
       "              interaction_constraints=None, learning_rate=None, max_bin=None,\n",
       "              max_cat_threshold=None, max_cat_to_onehot=None,\n",
       "              max_delta_step=None, max_depth=None, max_leaves=None,\n",
       "              min_child_weight=None, missing=nan, monotone_constraints=None,\n",
       "              multi_strategy=None, n_estimators=None, n_jobs=None,\n",
       "              num_parallel_tree=None, random_state=None, ...)"
      ]
     },
     "execution_count": 113,
     "metadata": {},
     "output_type": "execute_result"
    }
   ],
   "source": [
    "from xgboost import XGBClassifier\n",
    "XGB_Model = XGBClassifier()\n",
    "XGB_Model\n"
   ]
  },
  {
   "cell_type": "code",
   "execution_count": 114,
   "id": "195baf51",
   "metadata": {},
   "outputs": [
    {
     "data": {
      "text/plain": [
       "XGBClassifier(base_score=None, booster=None, callbacks=None,\n",
       "              colsample_bylevel=None, colsample_bynode=None,\n",
       "              colsample_bytree=None, device=None, early_stopping_rounds=None,\n",
       "              enable_categorical=False, eval_metric=None, feature_types=None,\n",
       "              gamma=None, grow_policy=None, importance_type=None,\n",
       "              interaction_constraints=None, learning_rate=None, max_bin=None,\n",
       "              max_cat_threshold=None, max_cat_to_onehot=None,\n",
       "              max_delta_step=None, max_depth=None, max_leaves=None,\n",
       "              min_child_weight=None, missing=nan, monotone_constraints=None,\n",
       "              multi_strategy=None, n_estimators=None, n_jobs=None,\n",
       "              num_parallel_tree=None, random_state=None, ...)"
      ]
     },
     "execution_count": 114,
     "metadata": {},
     "output_type": "execute_result"
    }
   ],
   "source": [
    "XGB_Model.fit(X_train,y_train)"
   ]
  },
  {
   "cell_type": "code",
   "execution_count": 115,
   "id": "e08688fb",
   "metadata": {},
   "outputs": [
    {
     "data": {
      "text/plain": [
       "array([1, 1, 1, ..., 1, 1, 1])"
      ]
     },
     "execution_count": 115,
     "metadata": {},
     "output_type": "execute_result"
    }
   ],
   "source": [
    "y_pred = XGB_Model.predict(X_train)\n",
    "y_pred"
   ]
  },
  {
   "cell_type": "code",
   "execution_count": 116,
   "id": "4115a65c",
   "metadata": {},
   "outputs": [
    {
     "data": {
      "text/plain": [
       "array([0, 1, 1, ..., 1, 1, 1])"
      ]
     },
     "execution_count": 116,
     "metadata": {},
     "output_type": "execute_result"
    }
   ],
   "source": [
    "y_pred = XGB_Model.predict(X_test)\n",
    "y_pred"
   ]
  },
  {
   "cell_type": "markdown",
   "id": "db8771b0",
   "metadata": {},
   "source": [
    "# Model Evalution"
   ]
  },
  {
   "cell_type": "code",
   "execution_count": 117,
   "id": "ec147d78",
   "metadata": {
    "scrolled": false
   },
   "outputs": [
    {
     "name": "stdout",
     "output_type": "stream",
     "text": [
      "              precision    recall  f1-score   support\n",
      "\n",
      "           0       0.72      0.69      0.70       863\n",
      "           1       0.72      0.75      0.73       924\n",
      "\n",
      "    accuracy                           0.72      1787\n",
      "   macro avg       0.72      0.72      0.72      1787\n",
      "weighted avg       0.72      0.72      0.72      1787\n",
      "\n"
     ]
    }
   ],
   "source": [
    "print(classification_report(y_test,y_pred))"
   ]
  },
  {
   "cell_type": "markdown",
   "id": "d4754395",
   "metadata": {},
   "source": [
    "# Hyperparameter "
   ]
  },
  {
   "cell_type": "code",
   "execution_count": 118,
   "id": "9551d1d8",
   "metadata": {},
   "outputs": [],
   "source": [
    "param_dist = {'learning_rate':[0.0001,0.001,0.01,0.1],\n",
    "             'max_depth':[3,4,5,6,8],\n",
    "             'colsample_bytree':[0.5,0.6,0.7,0.8],\n",
    "             'gamma':[0.1,0.2,0.3,0.4]}\n"
   ]
  },
  {
   "cell_type": "code",
   "execution_count": 119,
   "id": "e1d1bbed",
   "metadata": {},
   "outputs": [],
   "source": [
    "grid = GridSearchCV(XGB_Model,param_grid=param_dist,cv=10)"
   ]
  },
  {
   "cell_type": "code",
   "execution_count": 120,
   "id": "4bfa8f0c",
   "metadata": {},
   "outputs": [
    {
     "data": {
      "text/plain": [
       "GridSearchCV(cv=10,\n",
       "             estimator=XGBClassifier(base_score=None, booster=None,\n",
       "                                     callbacks=None, colsample_bylevel=None,\n",
       "                                     colsample_bynode=None,\n",
       "                                     colsample_bytree=None, device=None,\n",
       "                                     early_stopping_rounds=None,\n",
       "                                     enable_categorical=False, eval_metric=None,\n",
       "                                     feature_types=None, gamma=None,\n",
       "                                     grow_policy=None, importance_type=None,\n",
       "                                     interaction_constraints=None,\n",
       "                                     learning_rate=None...\n",
       "                                     max_cat_to_onehot=None,\n",
       "                                     max_delta_step=None, max_depth=None,\n",
       "                                     max_leaves=None, min_child_weight=None,\n",
       "                                     missing=nan, monotone_constraints=None,\n",
       "                                     multi_strategy=None, n_estimators=None,\n",
       "                                     n_jobs=None, num_parallel_tree=None,\n",
       "                                     random_state=None, ...),\n",
       "             param_grid={'colsample_bytree': [0.5, 0.6, 0.7, 0.8],\n",
       "                         'gamma': [0.1, 0.2, 0.3, 0.4],\n",
       "                         'learning_rate': [0.0001, 0.001, 0.01, 0.1],\n",
       "                         'max_depth': [3, 4, 5, 6, 8]})"
      ]
     },
     "execution_count": 120,
     "metadata": {},
     "output_type": "execute_result"
    }
   ],
   "source": [
    "grid.fit(X_train,y_train)"
   ]
  },
  {
   "cell_type": "code",
   "execution_count": 121,
   "id": "2695c976",
   "metadata": {},
   "outputs": [
    {
     "data": {
      "text/plain": [
       "XGBClassifier(base_score=None, booster=None, callbacks=None,\n",
       "              colsample_bylevel=None, colsample_bynode=None,\n",
       "              colsample_bytree=0.8, device=None, early_stopping_rounds=None,\n",
       "              enable_categorical=False, eval_metric=None, feature_types=None,\n",
       "              gamma=0.1, grow_policy=None, importance_type=None,\n",
       "              interaction_constraints=None, learning_rate=0.1, max_bin=None,\n",
       "              max_cat_threshold=None, max_cat_to_onehot=None,\n",
       "              max_delta_step=None, max_depth=8, max_leaves=None,\n",
       "              min_child_weight=None, missing=nan, monotone_constraints=None,\n",
       "              multi_strategy=None, n_estimators=None, n_jobs=None,\n",
       "              num_parallel_tree=None, random_state=None, ...)"
      ]
     },
     "execution_count": 121,
     "metadata": {},
     "output_type": "execute_result"
    }
   ],
   "source": [
    "grid.best_estimator_"
   ]
  },
  {
   "cell_type": "code",
   "execution_count": 122,
   "id": "2ef90f17",
   "metadata": {},
   "outputs": [
    {
     "data": {
      "text/plain": [
       "0.7189624101388807"
      ]
     },
     "execution_count": 122,
     "metadata": {},
     "output_type": "execute_result"
    }
   ],
   "source": [
    "grid.best_score_"
   ]
  },
  {
   "cell_type": "code",
   "execution_count": 123,
   "id": "aecf9d1f",
   "metadata": {},
   "outputs": [
    {
     "data": {
      "text/plain": [
       "{'colsample_bytree': 0.8, 'gamma': 0.1, 'learning_rate': 0.1, 'max_depth': 8}"
      ]
     },
     "execution_count": 123,
     "metadata": {},
     "output_type": "execute_result"
    }
   ],
   "source": [
    "grid.best_params_"
   ]
  },
  {
   "cell_type": "markdown",
   "id": "e028861c",
   "metadata": {},
   "source": [
    "# Bernoulli Naive Bayes"
   ]
  },
  {
   "cell_type": "code",
   "execution_count": 124,
   "id": "bec4fd96",
   "metadata": {},
   "outputs": [
    {
     "data": {
      "text/plain": [
       "BernoulliNB()"
      ]
     },
     "execution_count": 124,
     "metadata": {},
     "output_type": "execute_result"
    }
   ],
   "source": [
    "from sklearn.naive_bayes import BernoulliNB\n",
    "BNB_Model = BernoulliNB()\n",
    "BNB_Model"
   ]
  },
  {
   "cell_type": "code",
   "execution_count": 125,
   "id": "a5c0010a",
   "metadata": {},
   "outputs": [
    {
     "data": {
      "text/plain": [
       "BernoulliNB()"
      ]
     },
     "execution_count": 125,
     "metadata": {},
     "output_type": "execute_result"
    }
   ],
   "source": [
    "BNB_Model.fit(X_train,y_train)"
   ]
  },
  {
   "cell_type": "code",
   "execution_count": 126,
   "id": "50968e58",
   "metadata": {},
   "outputs": [
    {
     "data": {
      "text/plain": [
       "array([0, 0, 1, ..., 1, 1, 1])"
      ]
     },
     "execution_count": 126,
     "metadata": {},
     "output_type": "execute_result"
    }
   ],
   "source": [
    "y_pred = BNB_Model.predict(X_test)\n",
    "y_pred"
   ]
  },
  {
   "cell_type": "code",
   "execution_count": 127,
   "id": "67f5ea01",
   "metadata": {},
   "outputs": [
    {
     "data": {
      "text/plain": [
       "0.5892557358701734"
      ]
     },
     "execution_count": 127,
     "metadata": {},
     "output_type": "execute_result"
    }
   ],
   "source": [
    "accuracy_score(y_test,y_pred)"
   ]
  },
  {
   "cell_type": "markdown",
   "id": "1ee648eb",
   "metadata": {},
   "source": [
    "# Model Evalution"
   ]
  },
  {
   "cell_type": "code",
   "execution_count": 128,
   "id": "2c321117",
   "metadata": {},
   "outputs": [
    {
     "name": "stdout",
     "output_type": "stream",
     "text": [
      "              precision    recall  f1-score   support\n",
      "\n",
      "           0       0.56      0.69      0.62       863\n",
      "           1       0.63      0.50      0.56       924\n",
      "\n",
      "    accuracy                           0.59      1787\n",
      "   macro avg       0.60      0.59      0.59      1787\n",
      "weighted avg       0.60      0.59      0.59      1787\n",
      "\n"
     ]
    }
   ],
   "source": [
    "print(classification_report(y_test,y_pred))"
   ]
  },
  {
   "cell_type": "markdown",
   "id": "76db3eb1",
   "metadata": {},
   "source": [
    "# Conclusion: "
   ]
  },
  {
   "cell_type": "markdown",
   "id": "d8d5db18",
   "metadata": {},
   "source": [
    "\n",
    "    \n",
    "    \n",
    "We tried 7 different models as our first step in modelling process, to evaluate & choose the best model as our baseline model.\n",
    "\n",
    "Earlier, the Decision Tree Classifier, Random Forest Classifier, and XGBoost Classifier outperformed Support Vector Machine and K-Nearest Neighbor in terms of performance. However, Logistic Regression and Naive Bayes showed lower accuracy.\n",
    "\n",
    "To further improve the accuracy of the top three algorithms, we applied hyperparameter tuning using GridSearch Cross Validation.\n",
    "\n",
    "Decision Tree Classifier: We tuned hyperparameters like max depth, minimum samples per leaf, and the splitting criterion (gini or entropy) to find the best configuration that maximizes accuracy.\n",
    "\n",
    "Random Forest Classifier: For Random Forest, we optimized hyperparameters such as the number of trees (n_estimators), maximum depth of trees, minimum samples per leaf, and the splitting criterion.\n",
    "\n",
    "XGBoost Classifier: In XGBoost, we tuned parameters like the learning rate, number of boosting rounds (n_estimators), maximum depth of trees, and the regularization parameters (gamma and lambda).\n",
    "\n",
    "After hyperparameter tuning, the XGBoost Classifier achieved the highest accuracy of 72%."
   ]
  }
 ],
 "metadata": {
  "kernelspec": {
   "display_name": "Python 3 (ipykernel)",
   "language": "python",
   "name": "python3"
  },
  "language_info": {
   "codemirror_mode": {
    "name": "ipython",
    "version": 3
   },
   "file_extension": ".py",
   "mimetype": "text/x-python",
   "name": "python",
   "nbconvert_exporter": "python",
   "pygments_lexer": "ipython3",
   "version": "3.9.12"
  }
 },
 "nbformat": 4,
 "nbformat_minor": 5
}
