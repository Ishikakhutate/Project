{
 "cells": [
  {
   "cell_type": "code",
   "execution_count": 1,
   "id": "d408e192",
   "metadata": {},
   "outputs": [
    {
     "name": "stderr",
     "output_type": "stream",
     "text": [
      "C:\\Users\\HP\\anaconda3\\lib\\site-packages\\scipy\\__init__.py:146: UserWarning: A NumPy version >=1.16.5 and <1.23.0 is required for this version of SciPy (detected version 1.26.4\n",
      "  warnings.warn(f\"A NumPy version >={np_minversion} and <{np_maxversion}\"\n"
     ]
    }
   ],
   "source": [
    "#IMPORT NECESSARY LIBRARY\n",
    "import pandas as pd\n",
    "import numpy as np\n",
    "import matplotlib.pyplot as plt\n",
    "%matplotlib inline\n",
    "import seaborn as sns\n",
    "from scipy import stats\n",
    "import pylab\n",
    "import warnings # Used to supressed the warnings\n",
    "warnings.filterwarnings('ignore')\n"
   ]
  },
  {
   "cell_type": "code",
   "execution_count": 2,
   "id": "f99e2bf2",
   "metadata": {},
   "outputs": [],
   "source": [
    "#LOAD DATA FOR EXPLOTARY DATA ANALYSIS\n",
    "data = pd.read_excel('INX_Future_Inc_Employee_Performance_CDS_Project2_Data_V1.8.xls')\n",
    "pd.set_option('display.max_columns',None) # Used to display the all features\n"
   ]
  },
  {
   "cell_type": "code",
   "execution_count": 3,
   "id": "73e98ccb",
   "metadata": {},
   "outputs": [
    {
     "data": {
      "text/html": [
       "<div>\n",
       "<style scoped>\n",
       "    .dataframe tbody tr th:only-of-type {\n",
       "        vertical-align: middle;\n",
       "    }\n",
       "\n",
       "    .dataframe tbody tr th {\n",
       "        vertical-align: top;\n",
       "    }\n",
       "\n",
       "    .dataframe thead th {\n",
       "        text-align: right;\n",
       "    }\n",
       "</style>\n",
       "<table border=\"1\" class=\"dataframe\">\n",
       "  <thead>\n",
       "    <tr style=\"text-align: right;\">\n",
       "      <th></th>\n",
       "      <th>EmpNumber</th>\n",
       "      <th>Age</th>\n",
       "      <th>Gender</th>\n",
       "      <th>EducationBackground</th>\n",
       "      <th>MaritalStatus</th>\n",
       "      <th>EmpDepartment</th>\n",
       "      <th>EmpJobRole</th>\n",
       "      <th>BusinessTravelFrequency</th>\n",
       "      <th>DistanceFromHome</th>\n",
       "      <th>EmpEducationLevel</th>\n",
       "      <th>EmpEnvironmentSatisfaction</th>\n",
       "      <th>EmpHourlyRate</th>\n",
       "      <th>EmpJobInvolvement</th>\n",
       "      <th>EmpJobLevel</th>\n",
       "      <th>EmpJobSatisfaction</th>\n",
       "      <th>NumCompaniesWorked</th>\n",
       "      <th>OverTime</th>\n",
       "      <th>EmpLastSalaryHikePercent</th>\n",
       "      <th>EmpRelationshipSatisfaction</th>\n",
       "      <th>TotalWorkExperienceInYears</th>\n",
       "      <th>TrainingTimesLastYear</th>\n",
       "      <th>EmpWorkLifeBalance</th>\n",
       "      <th>ExperienceYearsAtThisCompany</th>\n",
       "      <th>ExperienceYearsInCurrentRole</th>\n",
       "      <th>YearsSinceLastPromotion</th>\n",
       "      <th>YearsWithCurrManager</th>\n",
       "      <th>Attrition</th>\n",
       "      <th>PerformanceRating</th>\n",
       "    </tr>\n",
       "  </thead>\n",
       "  <tbody>\n",
       "    <tr>\n",
       "      <th>0</th>\n",
       "      <td>E1001000</td>\n",
       "      <td>32</td>\n",
       "      <td>Male</td>\n",
       "      <td>Marketing</td>\n",
       "      <td>Single</td>\n",
       "      <td>Sales</td>\n",
       "      <td>Sales Executive</td>\n",
       "      <td>Travel_Rarely</td>\n",
       "      <td>10</td>\n",
       "      <td>3</td>\n",
       "      <td>4</td>\n",
       "      <td>55</td>\n",
       "      <td>3</td>\n",
       "      <td>2</td>\n",
       "      <td>4</td>\n",
       "      <td>1</td>\n",
       "      <td>No</td>\n",
       "      <td>12</td>\n",
       "      <td>4</td>\n",
       "      <td>10</td>\n",
       "      <td>2</td>\n",
       "      <td>2</td>\n",
       "      <td>10</td>\n",
       "      <td>7</td>\n",
       "      <td>0</td>\n",
       "      <td>8</td>\n",
       "      <td>No</td>\n",
       "      <td>3</td>\n",
       "    </tr>\n",
       "    <tr>\n",
       "      <th>1</th>\n",
       "      <td>E1001006</td>\n",
       "      <td>47</td>\n",
       "      <td>Male</td>\n",
       "      <td>Marketing</td>\n",
       "      <td>Single</td>\n",
       "      <td>Sales</td>\n",
       "      <td>Sales Executive</td>\n",
       "      <td>Travel_Rarely</td>\n",
       "      <td>14</td>\n",
       "      <td>4</td>\n",
       "      <td>4</td>\n",
       "      <td>42</td>\n",
       "      <td>3</td>\n",
       "      <td>2</td>\n",
       "      <td>1</td>\n",
       "      <td>2</td>\n",
       "      <td>No</td>\n",
       "      <td>12</td>\n",
       "      <td>4</td>\n",
       "      <td>20</td>\n",
       "      <td>2</td>\n",
       "      <td>3</td>\n",
       "      <td>7</td>\n",
       "      <td>7</td>\n",
       "      <td>1</td>\n",
       "      <td>7</td>\n",
       "      <td>No</td>\n",
       "      <td>3</td>\n",
       "    </tr>\n",
       "    <tr>\n",
       "      <th>2</th>\n",
       "      <td>E1001007</td>\n",
       "      <td>40</td>\n",
       "      <td>Male</td>\n",
       "      <td>Life Sciences</td>\n",
       "      <td>Married</td>\n",
       "      <td>Sales</td>\n",
       "      <td>Sales Executive</td>\n",
       "      <td>Travel_Frequently</td>\n",
       "      <td>5</td>\n",
       "      <td>4</td>\n",
       "      <td>4</td>\n",
       "      <td>48</td>\n",
       "      <td>2</td>\n",
       "      <td>3</td>\n",
       "      <td>1</td>\n",
       "      <td>5</td>\n",
       "      <td>Yes</td>\n",
       "      <td>21</td>\n",
       "      <td>3</td>\n",
       "      <td>20</td>\n",
       "      <td>2</td>\n",
       "      <td>3</td>\n",
       "      <td>18</td>\n",
       "      <td>13</td>\n",
       "      <td>1</td>\n",
       "      <td>12</td>\n",
       "      <td>No</td>\n",
       "      <td>4</td>\n",
       "    </tr>\n",
       "    <tr>\n",
       "      <th>3</th>\n",
       "      <td>E1001009</td>\n",
       "      <td>41</td>\n",
       "      <td>Male</td>\n",
       "      <td>Human Resources</td>\n",
       "      <td>Divorced</td>\n",
       "      <td>Human Resources</td>\n",
       "      <td>Manager</td>\n",
       "      <td>Travel_Rarely</td>\n",
       "      <td>10</td>\n",
       "      <td>4</td>\n",
       "      <td>2</td>\n",
       "      <td>73</td>\n",
       "      <td>2</td>\n",
       "      <td>5</td>\n",
       "      <td>4</td>\n",
       "      <td>3</td>\n",
       "      <td>No</td>\n",
       "      <td>15</td>\n",
       "      <td>2</td>\n",
       "      <td>23</td>\n",
       "      <td>2</td>\n",
       "      <td>2</td>\n",
       "      <td>21</td>\n",
       "      <td>6</td>\n",
       "      <td>12</td>\n",
       "      <td>6</td>\n",
       "      <td>No</td>\n",
       "      <td>3</td>\n",
       "    </tr>\n",
       "    <tr>\n",
       "      <th>4</th>\n",
       "      <td>E1001010</td>\n",
       "      <td>60</td>\n",
       "      <td>Male</td>\n",
       "      <td>Marketing</td>\n",
       "      <td>Single</td>\n",
       "      <td>Sales</td>\n",
       "      <td>Sales Executive</td>\n",
       "      <td>Travel_Rarely</td>\n",
       "      <td>16</td>\n",
       "      <td>4</td>\n",
       "      <td>1</td>\n",
       "      <td>84</td>\n",
       "      <td>3</td>\n",
       "      <td>2</td>\n",
       "      <td>1</td>\n",
       "      <td>8</td>\n",
       "      <td>No</td>\n",
       "      <td>14</td>\n",
       "      <td>4</td>\n",
       "      <td>10</td>\n",
       "      <td>1</td>\n",
       "      <td>3</td>\n",
       "      <td>2</td>\n",
       "      <td>2</td>\n",
       "      <td>2</td>\n",
       "      <td>2</td>\n",
       "      <td>No</td>\n",
       "      <td>3</td>\n",
       "    </tr>\n",
       "  </tbody>\n",
       "</table>\n",
       "</div>"
      ],
      "text/plain": [
       "  EmpNumber  Age Gender EducationBackground MaritalStatus    EmpDepartment  \\\n",
       "0  E1001000   32   Male           Marketing        Single            Sales   \n",
       "1  E1001006   47   Male           Marketing        Single            Sales   \n",
       "2  E1001007   40   Male       Life Sciences       Married            Sales   \n",
       "3  E1001009   41   Male     Human Resources      Divorced  Human Resources   \n",
       "4  E1001010   60   Male           Marketing        Single            Sales   \n",
       "\n",
       "        EmpJobRole BusinessTravelFrequency  DistanceFromHome  \\\n",
       "0  Sales Executive           Travel_Rarely                10   \n",
       "1  Sales Executive           Travel_Rarely                14   \n",
       "2  Sales Executive       Travel_Frequently                 5   \n",
       "3          Manager           Travel_Rarely                10   \n",
       "4  Sales Executive           Travel_Rarely                16   \n",
       "\n",
       "   EmpEducationLevel  EmpEnvironmentSatisfaction  EmpHourlyRate  \\\n",
       "0                  3                           4             55   \n",
       "1                  4                           4             42   \n",
       "2                  4                           4             48   \n",
       "3                  4                           2             73   \n",
       "4                  4                           1             84   \n",
       "\n",
       "   EmpJobInvolvement  EmpJobLevel  EmpJobSatisfaction  NumCompaniesWorked  \\\n",
       "0                  3            2                   4                   1   \n",
       "1                  3            2                   1                   2   \n",
       "2                  2            3                   1                   5   \n",
       "3                  2            5                   4                   3   \n",
       "4                  3            2                   1                   8   \n",
       "\n",
       "  OverTime  EmpLastSalaryHikePercent  EmpRelationshipSatisfaction  \\\n",
       "0       No                        12                            4   \n",
       "1       No                        12                            4   \n",
       "2      Yes                        21                            3   \n",
       "3       No                        15                            2   \n",
       "4       No                        14                            4   \n",
       "\n",
       "   TotalWorkExperienceInYears  TrainingTimesLastYear  EmpWorkLifeBalance  \\\n",
       "0                          10                      2                   2   \n",
       "1                          20                      2                   3   \n",
       "2                          20                      2                   3   \n",
       "3                          23                      2                   2   \n",
       "4                          10                      1                   3   \n",
       "\n",
       "   ExperienceYearsAtThisCompany  ExperienceYearsInCurrentRole  \\\n",
       "0                            10                             7   \n",
       "1                             7                             7   \n",
       "2                            18                            13   \n",
       "3                            21                             6   \n",
       "4                             2                             2   \n",
       "\n",
       "   YearsSinceLastPromotion  YearsWithCurrManager Attrition  PerformanceRating  \n",
       "0                        0                     8        No                  3  \n",
       "1                        1                     7        No                  3  \n",
       "2                        1                    12        No                  4  \n",
       "3                       12                     6        No                  3  \n",
       "4                        2                     2        No                  3  "
      ]
     },
     "execution_count": 3,
     "metadata": {},
     "output_type": "execute_result"
    }
   ],
   "source": [
    "data.head()"
   ]
  },
  {
   "cell_type": "code",
   "execution_count": 4,
   "id": "44f0c56e",
   "metadata": {},
   "outputs": [
    {
     "data": {
      "text/html": [
       "<div>\n",
       "<style scoped>\n",
       "    .dataframe tbody tr th:only-of-type {\n",
       "        vertical-align: middle;\n",
       "    }\n",
       "\n",
       "    .dataframe tbody tr th {\n",
       "        vertical-align: top;\n",
       "    }\n",
       "\n",
       "    .dataframe thead th {\n",
       "        text-align: right;\n",
       "    }\n",
       "</style>\n",
       "<table border=\"1\" class=\"dataframe\">\n",
       "  <thead>\n",
       "    <tr style=\"text-align: right;\">\n",
       "      <th></th>\n",
       "      <th>EmpNumber</th>\n",
       "      <th>Age</th>\n",
       "      <th>Gender</th>\n",
       "      <th>EducationBackground</th>\n",
       "      <th>MaritalStatus</th>\n",
       "      <th>EmpDepartment</th>\n",
       "      <th>EmpJobRole</th>\n",
       "      <th>BusinessTravelFrequency</th>\n",
       "      <th>DistanceFromHome</th>\n",
       "      <th>EmpEducationLevel</th>\n",
       "      <th>EmpEnvironmentSatisfaction</th>\n",
       "      <th>EmpHourlyRate</th>\n",
       "      <th>EmpJobInvolvement</th>\n",
       "      <th>EmpJobLevel</th>\n",
       "      <th>EmpJobSatisfaction</th>\n",
       "      <th>NumCompaniesWorked</th>\n",
       "      <th>OverTime</th>\n",
       "      <th>EmpLastSalaryHikePercent</th>\n",
       "      <th>EmpRelationshipSatisfaction</th>\n",
       "      <th>TotalWorkExperienceInYears</th>\n",
       "      <th>TrainingTimesLastYear</th>\n",
       "      <th>EmpWorkLifeBalance</th>\n",
       "      <th>ExperienceYearsAtThisCompany</th>\n",
       "      <th>ExperienceYearsInCurrentRole</th>\n",
       "      <th>YearsSinceLastPromotion</th>\n",
       "      <th>YearsWithCurrManager</th>\n",
       "      <th>Attrition</th>\n",
       "      <th>PerformanceRating</th>\n",
       "    </tr>\n",
       "  </thead>\n",
       "  <tbody>\n",
       "    <tr>\n",
       "      <th>1195</th>\n",
       "      <td>E100992</td>\n",
       "      <td>27</td>\n",
       "      <td>Female</td>\n",
       "      <td>Medical</td>\n",
       "      <td>Divorced</td>\n",
       "      <td>Sales</td>\n",
       "      <td>Sales Executive</td>\n",
       "      <td>Travel_Frequently</td>\n",
       "      <td>3</td>\n",
       "      <td>1</td>\n",
       "      <td>4</td>\n",
       "      <td>71</td>\n",
       "      <td>4</td>\n",
       "      <td>2</td>\n",
       "      <td>4</td>\n",
       "      <td>1</td>\n",
       "      <td>Yes</td>\n",
       "      <td>20</td>\n",
       "      <td>2</td>\n",
       "      <td>6</td>\n",
       "      <td>3</td>\n",
       "      <td>3</td>\n",
       "      <td>6</td>\n",
       "      <td>5</td>\n",
       "      <td>0</td>\n",
       "      <td>4</td>\n",
       "      <td>No</td>\n",
       "      <td>4</td>\n",
       "    </tr>\n",
       "    <tr>\n",
       "      <th>1196</th>\n",
       "      <td>E100993</td>\n",
       "      <td>37</td>\n",
       "      <td>Male</td>\n",
       "      <td>Life Sciences</td>\n",
       "      <td>Single</td>\n",
       "      <td>Development</td>\n",
       "      <td>Senior Developer</td>\n",
       "      <td>Travel_Rarely</td>\n",
       "      <td>10</td>\n",
       "      <td>2</td>\n",
       "      <td>4</td>\n",
       "      <td>80</td>\n",
       "      <td>4</td>\n",
       "      <td>1</td>\n",
       "      <td>4</td>\n",
       "      <td>3</td>\n",
       "      <td>No</td>\n",
       "      <td>17</td>\n",
       "      <td>1</td>\n",
       "      <td>4</td>\n",
       "      <td>2</td>\n",
       "      <td>3</td>\n",
       "      <td>1</td>\n",
       "      <td>0</td>\n",
       "      <td>0</td>\n",
       "      <td>0</td>\n",
       "      <td>No</td>\n",
       "      <td>3</td>\n",
       "    </tr>\n",
       "    <tr>\n",
       "      <th>1197</th>\n",
       "      <td>E100994</td>\n",
       "      <td>50</td>\n",
       "      <td>Male</td>\n",
       "      <td>Medical</td>\n",
       "      <td>Married</td>\n",
       "      <td>Development</td>\n",
       "      <td>Senior Developer</td>\n",
       "      <td>Travel_Rarely</td>\n",
       "      <td>28</td>\n",
       "      <td>1</td>\n",
       "      <td>4</td>\n",
       "      <td>74</td>\n",
       "      <td>4</td>\n",
       "      <td>1</td>\n",
       "      <td>3</td>\n",
       "      <td>1</td>\n",
       "      <td>Yes</td>\n",
       "      <td>11</td>\n",
       "      <td>3</td>\n",
       "      <td>20</td>\n",
       "      <td>3</td>\n",
       "      <td>3</td>\n",
       "      <td>20</td>\n",
       "      <td>8</td>\n",
       "      <td>3</td>\n",
       "      <td>8</td>\n",
       "      <td>No</td>\n",
       "      <td>3</td>\n",
       "    </tr>\n",
       "    <tr>\n",
       "      <th>1198</th>\n",
       "      <td>E100995</td>\n",
       "      <td>34</td>\n",
       "      <td>Female</td>\n",
       "      <td>Medical</td>\n",
       "      <td>Single</td>\n",
       "      <td>Data Science</td>\n",
       "      <td>Data Scientist</td>\n",
       "      <td>Travel_Rarely</td>\n",
       "      <td>9</td>\n",
       "      <td>3</td>\n",
       "      <td>4</td>\n",
       "      <td>46</td>\n",
       "      <td>2</td>\n",
       "      <td>3</td>\n",
       "      <td>2</td>\n",
       "      <td>1</td>\n",
       "      <td>No</td>\n",
       "      <td>14</td>\n",
       "      <td>2</td>\n",
       "      <td>9</td>\n",
       "      <td>3</td>\n",
       "      <td>4</td>\n",
       "      <td>8</td>\n",
       "      <td>7</td>\n",
       "      <td>7</td>\n",
       "      <td>7</td>\n",
       "      <td>No</td>\n",
       "      <td>3</td>\n",
       "    </tr>\n",
       "    <tr>\n",
       "      <th>1199</th>\n",
       "      <td>E100998</td>\n",
       "      <td>24</td>\n",
       "      <td>Female</td>\n",
       "      <td>Life Sciences</td>\n",
       "      <td>Single</td>\n",
       "      <td>Sales</td>\n",
       "      <td>Sales Executive</td>\n",
       "      <td>Travel_Rarely</td>\n",
       "      <td>3</td>\n",
       "      <td>2</td>\n",
       "      <td>1</td>\n",
       "      <td>65</td>\n",
       "      <td>3</td>\n",
       "      <td>2</td>\n",
       "      <td>3</td>\n",
       "      <td>9</td>\n",
       "      <td>No</td>\n",
       "      <td>14</td>\n",
       "      <td>1</td>\n",
       "      <td>4</td>\n",
       "      <td>3</td>\n",
       "      <td>3</td>\n",
       "      <td>2</td>\n",
       "      <td>2</td>\n",
       "      <td>2</td>\n",
       "      <td>0</td>\n",
       "      <td>Yes</td>\n",
       "      <td>2</td>\n",
       "    </tr>\n",
       "  </tbody>\n",
       "</table>\n",
       "</div>"
      ],
      "text/plain": [
       "     EmpNumber  Age  Gender EducationBackground MaritalStatus EmpDepartment  \\\n",
       "1195   E100992   27  Female             Medical      Divorced         Sales   \n",
       "1196   E100993   37    Male       Life Sciences        Single   Development   \n",
       "1197   E100994   50    Male             Medical       Married   Development   \n",
       "1198   E100995   34  Female             Medical        Single  Data Science   \n",
       "1199   E100998   24  Female       Life Sciences        Single         Sales   \n",
       "\n",
       "            EmpJobRole BusinessTravelFrequency  DistanceFromHome  \\\n",
       "1195   Sales Executive       Travel_Frequently                 3   \n",
       "1196  Senior Developer           Travel_Rarely                10   \n",
       "1197  Senior Developer           Travel_Rarely                28   \n",
       "1198    Data Scientist           Travel_Rarely                 9   \n",
       "1199   Sales Executive           Travel_Rarely                 3   \n",
       "\n",
       "      EmpEducationLevel  EmpEnvironmentSatisfaction  EmpHourlyRate  \\\n",
       "1195                  1                           4             71   \n",
       "1196                  2                           4             80   \n",
       "1197                  1                           4             74   \n",
       "1198                  3                           4             46   \n",
       "1199                  2                           1             65   \n",
       "\n",
       "      EmpJobInvolvement  EmpJobLevel  EmpJobSatisfaction  NumCompaniesWorked  \\\n",
       "1195                  4            2                   4                   1   \n",
       "1196                  4            1                   4                   3   \n",
       "1197                  4            1                   3                   1   \n",
       "1198                  2            3                   2                   1   \n",
       "1199                  3            2                   3                   9   \n",
       "\n",
       "     OverTime  EmpLastSalaryHikePercent  EmpRelationshipSatisfaction  \\\n",
       "1195      Yes                        20                            2   \n",
       "1196       No                        17                            1   \n",
       "1197      Yes                        11                            3   \n",
       "1198       No                        14                            2   \n",
       "1199       No                        14                            1   \n",
       "\n",
       "      TotalWorkExperienceInYears  TrainingTimesLastYear  EmpWorkLifeBalance  \\\n",
       "1195                           6                      3                   3   \n",
       "1196                           4                      2                   3   \n",
       "1197                          20                      3                   3   \n",
       "1198                           9                      3                   4   \n",
       "1199                           4                      3                   3   \n",
       "\n",
       "      ExperienceYearsAtThisCompany  ExperienceYearsInCurrentRole  \\\n",
       "1195                             6                             5   \n",
       "1196                             1                             0   \n",
       "1197                            20                             8   \n",
       "1198                             8                             7   \n",
       "1199                             2                             2   \n",
       "\n",
       "      YearsSinceLastPromotion  YearsWithCurrManager Attrition  \\\n",
       "1195                        0                     4        No   \n",
       "1196                        0                     0        No   \n",
       "1197                        3                     8        No   \n",
       "1198                        7                     7        No   \n",
       "1199                        2                     0       Yes   \n",
       "\n",
       "      PerformanceRating  \n",
       "1195                  4  \n",
       "1196                  3  \n",
       "1197                  3  \n",
       "1198                  3  \n",
       "1199                  2  "
      ]
     },
     "execution_count": 4,
     "metadata": {},
     "output_type": "execute_result"
    }
   ],
   "source": [
    "data.tail()"
   ]
  },
  {
   "cell_type": "code",
   "execution_count": 5,
   "id": "0efc2431",
   "metadata": {},
   "outputs": [
    {
     "data": {
      "text/plain": [
       "EmpNumber                       0\n",
       "Age                             0\n",
       "Gender                          0\n",
       "EducationBackground             0\n",
       "MaritalStatus                   0\n",
       "EmpDepartment                   0\n",
       "EmpJobRole                      0\n",
       "BusinessTravelFrequency         0\n",
       "DistanceFromHome                0\n",
       "EmpEducationLevel               0\n",
       "EmpEnvironmentSatisfaction      0\n",
       "EmpHourlyRate                   0\n",
       "EmpJobInvolvement               0\n",
       "EmpJobLevel                     0\n",
       "EmpJobSatisfaction              0\n",
       "NumCompaniesWorked              0\n",
       "OverTime                        0\n",
       "EmpLastSalaryHikePercent        0\n",
       "EmpRelationshipSatisfaction     0\n",
       "TotalWorkExperienceInYears      0\n",
       "TrainingTimesLastYear           0\n",
       "EmpWorkLifeBalance              0\n",
       "ExperienceYearsAtThisCompany    0\n",
       "ExperienceYearsInCurrentRole    0\n",
       "YearsSinceLastPromotion         0\n",
       "YearsWithCurrManager            0\n",
       "Attrition                       0\n",
       "PerformanceRating               0\n",
       "dtype: int64"
      ]
     },
     "execution_count": 5,
     "metadata": {},
     "output_type": "execute_result"
    }
   ],
   "source": [
    "#check null values\n",
    "data.isnull().sum()"
   ]
  },
  {
   "cell_type": "markdown",
   "id": "f7770113",
   "metadata": {},
   "source": [
    "Observation: No null is present in data."
   ]
  },
  {
   "cell_type": "markdown",
   "id": "986fa942",
   "metadata": {},
   "source": [
    "CONVERT CATEGORICAL TO NUMERICAL"
   ]
  },
  {
   "cell_type": "code",
   "execution_count": 6,
   "id": "aa458337",
   "metadata": {},
   "outputs": [
    {
     "data": {
      "text/plain": [
       "['EmpNumber',\n",
       " 'Gender',\n",
       " 'EducationBackground',\n",
       " 'MaritalStatus',\n",
       " 'EmpDepartment',\n",
       " 'EmpJobRole',\n",
       " 'BusinessTravelFrequency',\n",
       " 'OverTime',\n",
       " 'Attrition']"
      ]
     },
     "execution_count": 6,
     "metadata": {},
     "output_type": "execute_result"
    }
   ],
   "source": [
    "# Get all categorical feature list\n",
    "list(data.select_dtypes('object'))"
   ]
  },
  {
   "cell_type": "markdown",
   "id": "52328d35",
   "metadata": {},
   "source": [
    "1.GENDER"
   ]
  },
  {
   "cell_type": "code",
   "execution_count": 7,
   "id": "7e8c6d64",
   "metadata": {
    "scrolled": true
   },
   "outputs": [
    {
     "data": {
      "text/plain": [
       "0         Male\n",
       "1         Male\n",
       "2         Male\n",
       "3         Male\n",
       "4         Male\n",
       "         ...  \n",
       "1195    Female\n",
       "1196      Male\n",
       "1197      Male\n",
       "1198    Female\n",
       "1199    Female\n",
       "Name: Gender, Length: 1200, dtype: object"
      ]
     },
     "execution_count": 7,
     "metadata": {},
     "output_type": "execute_result"
    }
   ],
   "source": [
    "data['Gender']"
   ]
  },
  {
   "cell_type": "code",
   "execution_count": 8,
   "id": "634d2332",
   "metadata": {},
   "outputs": [
    {
     "data": {
      "text/plain": [
       "array(['Male', 'Female'], dtype=object)"
      ]
     },
     "execution_count": 8,
     "metadata": {},
     "output_type": "execute_result"
    }
   ],
   "source": [
    "data['Gender'].unique()"
   ]
  },
  {
   "cell_type": "code",
   "execution_count": 9,
   "id": "af324a97",
   "metadata": {},
   "outputs": [
    {
     "data": {
      "text/plain": [
       "Male      725\n",
       "Female    475\n",
       "Name: Gender, dtype: int64"
      ]
     },
     "execution_count": 9,
     "metadata": {},
     "output_type": "execute_result"
    }
   ],
   "source": [
    "data.Gender.value_counts()"
   ]
  },
  {
   "cell_type": "code",
   "execution_count": 10,
   "id": "26d1024c",
   "metadata": {},
   "outputs": [],
   "source": [
    "## Use mannual encoding to map the labels\n",
    "data.Gender = data.Gender.map({ 'Male' : 1 , 'Female': 0})"
   ]
  },
  {
   "cell_type": "code",
   "execution_count": 11,
   "id": "69cc922c",
   "metadata": {},
   "outputs": [
    {
     "data": {
      "text/plain": [
       "0       1\n",
       "1       1\n",
       "2       1\n",
       "3       1\n",
       "4       1\n",
       "       ..\n",
       "1195    0\n",
       "1196    1\n",
       "1197    1\n",
       "1198    0\n",
       "1199    0\n",
       "Name: Gender, Length: 1200, dtype: int64"
      ]
     },
     "execution_count": 11,
     "metadata": {},
     "output_type": "execute_result"
    }
   ],
   "source": [
    "data['Gender']"
   ]
  },
  {
   "cell_type": "markdown",
   "id": "c0628250",
   "metadata": {},
   "source": [
    "2.EDUCATION BACKGROUND"
   ]
  },
  {
   "cell_type": "code",
   "execution_count": 12,
   "id": "101a97e4",
   "metadata": {
    "scrolled": true
   },
   "outputs": [
    {
     "data": {
      "text/plain": [
       "array(['Marketing', 'Life Sciences', 'Human Resources', 'Medical',\n",
       "       'Other', 'Technical Degree'], dtype=object)"
      ]
     },
     "execution_count": 12,
     "metadata": {},
     "output_type": "execute_result"
    }
   ],
   "source": [
    "data['EducationBackground'].unique()"
   ]
  },
  {
   "cell_type": "code",
   "execution_count": 13,
   "id": "b5640dab",
   "metadata": {},
   "outputs": [],
   "source": [
    "from sklearn.preprocessing import LabelEncoder\n",
    "\n",
    "# Create LabelEncoder object\n",
    "label_encoder = LabelEncoder()\n",
    "\n",
    "# Fit and transform the categorical variable\n",
    "data.EducationBackground = label_encoder.fit_transform(data.EducationBackground)"
   ]
  },
  {
   "cell_type": "code",
   "execution_count": 14,
   "id": "aefe13d1",
   "metadata": {},
   "outputs": [
    {
     "data": {
      "text/plain": [
       "0       2\n",
       "1       2\n",
       "2       1\n",
       "3       0\n",
       "4       2\n",
       "       ..\n",
       "1195    3\n",
       "1196    1\n",
       "1197    3\n",
       "1198    3\n",
       "1199    1\n",
       "Name: EducationBackground, Length: 1200, dtype: int32"
      ]
     },
     "execution_count": 14,
     "metadata": {},
     "output_type": "execute_result"
    }
   ],
   "source": [
    "data['EducationBackground']"
   ]
  },
  {
   "cell_type": "markdown",
   "id": "0a8a3406",
   "metadata": {},
   "source": [
    "3. MARITAL STATUS"
   ]
  },
  {
   "cell_type": "code",
   "execution_count": 15,
   "id": "c8f7a7b1",
   "metadata": {},
   "outputs": [
    {
     "data": {
      "text/plain": [
       "Married     548\n",
       "Single      384\n",
       "Divorced    268\n",
       "Name: MaritalStatus, dtype: int64"
      ]
     },
     "execution_count": 15,
     "metadata": {},
     "output_type": "execute_result"
    }
   ],
   "source": [
    "# Get the value counts of marital status\n",
    "data.MaritalStatus.value_counts()"
   ]
  },
  {
   "cell_type": "code",
   "execution_count": 16,
   "id": "c7b65df2",
   "metadata": {},
   "outputs": [],
   "source": [
    "data.MaritalStatus = data.MaritalStatus.map({'Married':2, 'Single':1, 'Divorced':0})"
   ]
  },
  {
   "cell_type": "code",
   "execution_count": 17,
   "id": "190df8ac",
   "metadata": {},
   "outputs": [
    {
     "data": {
      "text/plain": [
       "0       1\n",
       "1       1\n",
       "2       2\n",
       "3       0\n",
       "4       1\n",
       "       ..\n",
       "1195    0\n",
       "1196    1\n",
       "1197    2\n",
       "1198    1\n",
       "1199    1\n",
       "Name: MaritalStatus, Length: 1200, dtype: int64"
      ]
     },
     "execution_count": 17,
     "metadata": {},
     "output_type": "execute_result"
    }
   ],
   "source": [
    "data['MaritalStatus']"
   ]
  },
  {
   "cell_type": "markdown",
   "id": "c7f311fd",
   "metadata": {},
   "source": [
    "4.Employee Department"
   ]
  },
  {
   "cell_type": "code",
   "execution_count": 18,
   "id": "3437ea9f",
   "metadata": {},
   "outputs": [
    {
     "data": {
      "text/plain": [
       "Sales                     373\n",
       "Development               361\n",
       "Research & Development    343\n",
       "Human Resources            54\n",
       "Finance                    49\n",
       "Data Science               20\n",
       "Name: EmpDepartment, dtype: int64"
      ]
     },
     "execution_count": 18,
     "metadata": {},
     "output_type": "execute_result"
    }
   ],
   "source": [
    "# Get the value counts of employee department \n",
    "data.EmpDepartment.value_counts()"
   ]
  },
  {
   "cell_type": "code",
   "execution_count": 19,
   "id": "229197e7",
   "metadata": {},
   "outputs": [],
   "source": [
    "label_encoder = LabelEncoder()\n",
    "\n",
    "# Fit and transform the categorical variable\n",
    "data.EmpDepartment = label_encoder.fit_transform(data.EmpDepartment)"
   ]
  },
  {
   "cell_type": "code",
   "execution_count": 20,
   "id": "d55765f7",
   "metadata": {},
   "outputs": [
    {
     "data": {
      "text/plain": [
       "0       5\n",
       "1       5\n",
       "2       5\n",
       "3       3\n",
       "4       5\n",
       "       ..\n",
       "1195    5\n",
       "1196    1\n",
       "1197    1\n",
       "1198    0\n",
       "1199    5\n",
       "Name: EmpDepartment, Length: 1200, dtype: int32"
      ]
     },
     "execution_count": 20,
     "metadata": {},
     "output_type": "execute_result"
    }
   ],
   "source": [
    "data['EmpDepartment']"
   ]
  },
  {
   "cell_type": "markdown",
   "id": "c3e32459",
   "metadata": {},
   "source": [
    "5.Employee Job Role"
   ]
  },
  {
   "cell_type": "code",
   "execution_count": 21,
   "id": "6f975dd3",
   "metadata": {},
   "outputs": [
    {
     "data": {
      "text/plain": [
       "Sales Executive              270\n",
       "Developer                    236\n",
       "Manager R&D                   94\n",
       "Research Scientist            77\n",
       "Sales Representative          69\n",
       "Laboratory Technician         64\n",
       "Senior Developer              52\n",
       "Manager                       51\n",
       "Finance Manager               49\n",
       "Human Resources               45\n",
       "Technical Lead                38\n",
       "Manufacturing Director        33\n",
       "Healthcare Representative     33\n",
       "Data Scientist                20\n",
       "Research Director             19\n",
       "Business Analyst              16\n",
       "Senior Manager R&D            15\n",
       "Delivery Manager              12\n",
       "Technical Architect            7\n",
       "Name: EmpJobRole, dtype: int64"
      ]
     },
     "execution_count": 21,
     "metadata": {},
     "output_type": "execute_result"
    }
   ],
   "source": [
    "data.EmpJobRole.value_counts()"
   ]
  },
  {
   "cell_type": "code",
   "execution_count": 22,
   "id": "2c859485",
   "metadata": {},
   "outputs": [],
   "source": [
    "# Use frequency encoding because feature contain a lots of label\n",
    "data.loc[data['EmpJobRole']=='Sales Executive','EmpJobRole']=18\n",
    "data.loc[data['EmpJobRole']=='Developer','EmpJobRole']=17\n",
    "data.loc[data['EmpJobRole']=='Manager R&D','EmpJobRole']=16\n",
    "data.loc[data['EmpJobRole']=='Research Scientist','EmpJobRole']=15\n",
    "data.loc[data['EmpJobRole']=='Sales Representative','EmpJobRole']=14\n",
    "data.loc[data['EmpJobRole']=='Laboratory Technician','EmpJobRole']=13\n",
    "data.loc[data['EmpJobRole']=='Senior Developer','EmpJobRole']=12\n",
    "data.loc[data['EmpJobRole']=='Manager','EmpJobRole']=11\n",
    "data.loc[data['EmpJobRole']=='Finance Manager','EmpJobRole']=10\n",
    "data.loc[data['EmpJobRole']=='Human Resources','EmpJobRole']=9\n",
    "data.loc[data['EmpJobRole']=='Technical Lead','EmpJobRole']=8\n",
    "data.loc[data['EmpJobRole']=='Manufacturing Director','EmpJobRole']=7\n",
    "data.loc[data['EmpJobRole']=='Healthcare Representative','EmpJobRole']=6\n",
    "data.loc[data['EmpJobRole']=='Data Scientist','EmpJobRole']=5\n",
    "data.loc[data['EmpJobRole']=='Research Director','EmpJobRole']=4\n",
    "data.loc[data['EmpJobRole']=='Business Analyst','EmpJobRole']=3\n",
    "data.loc[data['EmpJobRole']=='Senior Manager R&D','EmpJobRole']=2\n",
    "data.loc[data['EmpJobRole']=='Delivery Manager','EmpJobRole']=1\n",
    "data.loc[data['EmpJobRole']=='Technical Architect','EmpJobRole']=0"
   ]
  },
  {
   "cell_type": "code",
   "execution_count": 23,
   "id": "bd86276b",
   "metadata": {},
   "outputs": [
    {
     "data": {
      "text/plain": [
       "0       18\n",
       "1       18\n",
       "2       18\n",
       "3       11\n",
       "4       18\n",
       "        ..\n",
       "1195    18\n",
       "1196    12\n",
       "1197    12\n",
       "1198     5\n",
       "1199    18\n",
       "Name: EmpJobRole, Length: 1200, dtype: object"
      ]
     },
     "execution_count": 23,
     "metadata": {},
     "output_type": "execute_result"
    }
   ],
   "source": [
    "data['EmpJobRole']"
   ]
  },
  {
   "cell_type": "markdown",
   "id": "489d8a49",
   "metadata": {},
   "source": [
    "6.Business Travel Frequency:"
   ]
  },
  {
   "cell_type": "code",
   "execution_count": 24,
   "id": "0ba16a0e",
   "metadata": {},
   "outputs": [
    {
     "data": {
      "text/plain": [
       "Travel_Rarely        846\n",
       "Travel_Frequently    222\n",
       "Non-Travel           132\n",
       "Name: BusinessTravelFrequency, dtype: int64"
      ]
     },
     "execution_count": 24,
     "metadata": {},
     "output_type": "execute_result"
    }
   ],
   "source": [
    "data.BusinessTravelFrequency.value_counts()"
   ]
  },
  {
   "cell_type": "code",
   "execution_count": 25,
   "id": "86b8ef97",
   "metadata": {},
   "outputs": [],
   "source": [
    "data.BusinessTravelFrequency = data.BusinessTravelFrequency.map({'Travel_Rarely':2,'Travel_Frequently':1,'Non-Travel':0})"
   ]
  },
  {
   "cell_type": "code",
   "execution_count": 26,
   "id": "5270a230",
   "metadata": {},
   "outputs": [
    {
     "data": {
      "text/plain": [
       "2    846\n",
       "1    222\n",
       "0    132\n",
       "Name: BusinessTravelFrequency, dtype: int64"
      ]
     },
     "execution_count": 26,
     "metadata": {},
     "output_type": "execute_result"
    }
   ],
   "source": [
    "#Checking conversion happen or not \n",
    "\n",
    "data.BusinessTravelFrequency.value_counts()"
   ]
  },
  {
   "cell_type": "markdown",
   "id": "5c29455e",
   "metadata": {},
   "source": [
    "7.Overtime"
   ]
  },
  {
   "cell_type": "code",
   "execution_count": 27,
   "id": "d192c139",
   "metadata": {},
   "outputs": [
    {
     "data": {
      "text/plain": [
       "No     847\n",
       "Yes    353\n",
       "Name: OverTime, dtype: int64"
      ]
     },
     "execution_count": 27,
     "metadata": {},
     "output_type": "execute_result"
    }
   ],
   "source": [
    "data.OverTime.value_counts()"
   ]
  },
  {
   "cell_type": "code",
   "execution_count": 28,
   "id": "4dbafb37",
   "metadata": {},
   "outputs": [],
   "source": [
    "data.OverTime = data.OverTime.map({'No':1,'Yes':0})"
   ]
  },
  {
   "cell_type": "code",
   "execution_count": 29,
   "id": "ae3ba8c9",
   "metadata": {},
   "outputs": [
    {
     "data": {
      "text/plain": [
       "1    847\n",
       "0    353\n",
       "Name: OverTime, dtype: int64"
      ]
     },
     "execution_count": 29,
     "metadata": {},
     "output_type": "execute_result"
    }
   ],
   "source": [
    "data.OverTime.value_counts()"
   ]
  },
  {
   "cell_type": "markdown",
   "id": "1fdef255",
   "metadata": {},
   "source": [
    "8.Attrition"
   ]
  },
  {
   "cell_type": "code",
   "execution_count": 30,
   "id": "29a7860a",
   "metadata": {},
   "outputs": [
    {
     "data": {
      "text/plain": [
       "No     1022\n",
       "Yes     178\n",
       "Name: Attrition, dtype: int64"
      ]
     },
     "execution_count": 30,
     "metadata": {},
     "output_type": "execute_result"
    }
   ],
   "source": [
    "# Get the value counts of Attrition\n",
    "data.Attrition.value_counts()"
   ]
  },
  {
   "cell_type": "code",
   "execution_count": 31,
   "id": "87899f05",
   "metadata": {},
   "outputs": [],
   "source": [
    "# Use Mannual encoding because feature contain less no of label\n",
    "data.Attrition = data.Attrition.map({'No':1,'Yes':0})"
   ]
  },
  {
   "cell_type": "code",
   "execution_count": 32,
   "id": "ac4f116d",
   "metadata": {},
   "outputs": [
    {
     "data": {
      "text/plain": [
       "1    1022\n",
       "0     178\n",
       "Name: Attrition, dtype: int64"
      ]
     },
     "execution_count": 32,
     "metadata": {},
     "output_type": "execute_result"
    }
   ],
   "source": [
    "data.Attrition.value_counts()"
   ]
  },
  {
   "cell_type": "code",
   "execution_count": 33,
   "id": "c6c2cf4e",
   "metadata": {},
   "outputs": [
    {
     "data": {
      "text/html": [
       "<div>\n",
       "<style scoped>\n",
       "    .dataframe tbody tr th:only-of-type {\n",
       "        vertical-align: middle;\n",
       "    }\n",
       "\n",
       "    .dataframe tbody tr th {\n",
       "        vertical-align: top;\n",
       "    }\n",
       "\n",
       "    .dataframe thead th {\n",
       "        text-align: right;\n",
       "    }\n",
       "</style>\n",
       "<table border=\"1\" class=\"dataframe\">\n",
       "  <thead>\n",
       "    <tr style=\"text-align: right;\">\n",
       "      <th></th>\n",
       "      <th>EmpNumber</th>\n",
       "      <th>Age</th>\n",
       "      <th>Gender</th>\n",
       "      <th>EducationBackground</th>\n",
       "      <th>MaritalStatus</th>\n",
       "      <th>EmpDepartment</th>\n",
       "      <th>EmpJobRole</th>\n",
       "      <th>BusinessTravelFrequency</th>\n",
       "      <th>DistanceFromHome</th>\n",
       "      <th>EmpEducationLevel</th>\n",
       "      <th>EmpEnvironmentSatisfaction</th>\n",
       "      <th>EmpHourlyRate</th>\n",
       "      <th>EmpJobInvolvement</th>\n",
       "      <th>EmpJobLevel</th>\n",
       "      <th>EmpJobSatisfaction</th>\n",
       "      <th>NumCompaniesWorked</th>\n",
       "      <th>OverTime</th>\n",
       "      <th>EmpLastSalaryHikePercent</th>\n",
       "      <th>EmpRelationshipSatisfaction</th>\n",
       "      <th>TotalWorkExperienceInYears</th>\n",
       "      <th>TrainingTimesLastYear</th>\n",
       "      <th>EmpWorkLifeBalance</th>\n",
       "      <th>ExperienceYearsAtThisCompany</th>\n",
       "      <th>ExperienceYearsInCurrentRole</th>\n",
       "      <th>YearsSinceLastPromotion</th>\n",
       "      <th>YearsWithCurrManager</th>\n",
       "      <th>Attrition</th>\n",
       "      <th>PerformanceRating</th>\n",
       "    </tr>\n",
       "  </thead>\n",
       "  <tbody>\n",
       "    <tr>\n",
       "      <th>0</th>\n",
       "      <td>E1001000</td>\n",
       "      <td>32</td>\n",
       "      <td>1</td>\n",
       "      <td>2</td>\n",
       "      <td>1</td>\n",
       "      <td>5</td>\n",
       "      <td>18</td>\n",
       "      <td>2</td>\n",
       "      <td>10</td>\n",
       "      <td>3</td>\n",
       "      <td>4</td>\n",
       "      <td>55</td>\n",
       "      <td>3</td>\n",
       "      <td>2</td>\n",
       "      <td>4</td>\n",
       "      <td>1</td>\n",
       "      <td>1</td>\n",
       "      <td>12</td>\n",
       "      <td>4</td>\n",
       "      <td>10</td>\n",
       "      <td>2</td>\n",
       "      <td>2</td>\n",
       "      <td>10</td>\n",
       "      <td>7</td>\n",
       "      <td>0</td>\n",
       "      <td>8</td>\n",
       "      <td>1</td>\n",
       "      <td>3</td>\n",
       "    </tr>\n",
       "    <tr>\n",
       "      <th>1</th>\n",
       "      <td>E1001006</td>\n",
       "      <td>47</td>\n",
       "      <td>1</td>\n",
       "      <td>2</td>\n",
       "      <td>1</td>\n",
       "      <td>5</td>\n",
       "      <td>18</td>\n",
       "      <td>2</td>\n",
       "      <td>14</td>\n",
       "      <td>4</td>\n",
       "      <td>4</td>\n",
       "      <td>42</td>\n",
       "      <td>3</td>\n",
       "      <td>2</td>\n",
       "      <td>1</td>\n",
       "      <td>2</td>\n",
       "      <td>1</td>\n",
       "      <td>12</td>\n",
       "      <td>4</td>\n",
       "      <td>20</td>\n",
       "      <td>2</td>\n",
       "      <td>3</td>\n",
       "      <td>7</td>\n",
       "      <td>7</td>\n",
       "      <td>1</td>\n",
       "      <td>7</td>\n",
       "      <td>1</td>\n",
       "      <td>3</td>\n",
       "    </tr>\n",
       "    <tr>\n",
       "      <th>2</th>\n",
       "      <td>E1001007</td>\n",
       "      <td>40</td>\n",
       "      <td>1</td>\n",
       "      <td>1</td>\n",
       "      <td>2</td>\n",
       "      <td>5</td>\n",
       "      <td>18</td>\n",
       "      <td>1</td>\n",
       "      <td>5</td>\n",
       "      <td>4</td>\n",
       "      <td>4</td>\n",
       "      <td>48</td>\n",
       "      <td>2</td>\n",
       "      <td>3</td>\n",
       "      <td>1</td>\n",
       "      <td>5</td>\n",
       "      <td>0</td>\n",
       "      <td>21</td>\n",
       "      <td>3</td>\n",
       "      <td>20</td>\n",
       "      <td>2</td>\n",
       "      <td>3</td>\n",
       "      <td>18</td>\n",
       "      <td>13</td>\n",
       "      <td>1</td>\n",
       "      <td>12</td>\n",
       "      <td>1</td>\n",
       "      <td>4</td>\n",
       "    </tr>\n",
       "    <tr>\n",
       "      <th>3</th>\n",
       "      <td>E1001009</td>\n",
       "      <td>41</td>\n",
       "      <td>1</td>\n",
       "      <td>0</td>\n",
       "      <td>0</td>\n",
       "      <td>3</td>\n",
       "      <td>11</td>\n",
       "      <td>2</td>\n",
       "      <td>10</td>\n",
       "      <td>4</td>\n",
       "      <td>2</td>\n",
       "      <td>73</td>\n",
       "      <td>2</td>\n",
       "      <td>5</td>\n",
       "      <td>4</td>\n",
       "      <td>3</td>\n",
       "      <td>1</td>\n",
       "      <td>15</td>\n",
       "      <td>2</td>\n",
       "      <td>23</td>\n",
       "      <td>2</td>\n",
       "      <td>2</td>\n",
       "      <td>21</td>\n",
       "      <td>6</td>\n",
       "      <td>12</td>\n",
       "      <td>6</td>\n",
       "      <td>1</td>\n",
       "      <td>3</td>\n",
       "    </tr>\n",
       "    <tr>\n",
       "      <th>4</th>\n",
       "      <td>E1001010</td>\n",
       "      <td>60</td>\n",
       "      <td>1</td>\n",
       "      <td>2</td>\n",
       "      <td>1</td>\n",
       "      <td>5</td>\n",
       "      <td>18</td>\n",
       "      <td>2</td>\n",
       "      <td>16</td>\n",
       "      <td>4</td>\n",
       "      <td>1</td>\n",
       "      <td>84</td>\n",
       "      <td>3</td>\n",
       "      <td>2</td>\n",
       "      <td>1</td>\n",
       "      <td>8</td>\n",
       "      <td>1</td>\n",
       "      <td>14</td>\n",
       "      <td>4</td>\n",
       "      <td>10</td>\n",
       "      <td>1</td>\n",
       "      <td>3</td>\n",
       "      <td>2</td>\n",
       "      <td>2</td>\n",
       "      <td>2</td>\n",
       "      <td>2</td>\n",
       "      <td>1</td>\n",
       "      <td>3</td>\n",
       "    </tr>\n",
       "  </tbody>\n",
       "</table>\n",
       "</div>"
      ],
      "text/plain": [
       "  EmpNumber  Age  Gender  EducationBackground  MaritalStatus  EmpDepartment  \\\n",
       "0  E1001000   32       1                    2              1              5   \n",
       "1  E1001006   47       1                    2              1              5   \n",
       "2  E1001007   40       1                    1              2              5   \n",
       "3  E1001009   41       1                    0              0              3   \n",
       "4  E1001010   60       1                    2              1              5   \n",
       "\n",
       "  EmpJobRole  BusinessTravelFrequency  DistanceFromHome  EmpEducationLevel  \\\n",
       "0         18                        2                10                  3   \n",
       "1         18                        2                14                  4   \n",
       "2         18                        1                 5                  4   \n",
       "3         11                        2                10                  4   \n",
       "4         18                        2                16                  4   \n",
       "\n",
       "   EmpEnvironmentSatisfaction  EmpHourlyRate  EmpJobInvolvement  EmpJobLevel  \\\n",
       "0                           4             55                  3            2   \n",
       "1                           4             42                  3            2   \n",
       "2                           4             48                  2            3   \n",
       "3                           2             73                  2            5   \n",
       "4                           1             84                  3            2   \n",
       "\n",
       "   EmpJobSatisfaction  NumCompaniesWorked  OverTime  EmpLastSalaryHikePercent  \\\n",
       "0                   4                   1         1                        12   \n",
       "1                   1                   2         1                        12   \n",
       "2                   1                   5         0                        21   \n",
       "3                   4                   3         1                        15   \n",
       "4                   1                   8         1                        14   \n",
       "\n",
       "   EmpRelationshipSatisfaction  TotalWorkExperienceInYears  \\\n",
       "0                            4                          10   \n",
       "1                            4                          20   \n",
       "2                            3                          20   \n",
       "3                            2                          23   \n",
       "4                            4                          10   \n",
       "\n",
       "   TrainingTimesLastYear  EmpWorkLifeBalance  ExperienceYearsAtThisCompany  \\\n",
       "0                      2                   2                            10   \n",
       "1                      2                   3                             7   \n",
       "2                      2                   3                            18   \n",
       "3                      2                   2                            21   \n",
       "4                      1                   3                             2   \n",
       "\n",
       "   ExperienceYearsInCurrentRole  YearsSinceLastPromotion  \\\n",
       "0                             7                        0   \n",
       "1                             7                        1   \n",
       "2                            13                        1   \n",
       "3                             6                       12   \n",
       "4                             2                        2   \n",
       "\n",
       "   YearsWithCurrManager  Attrition  PerformanceRating  \n",
       "0                     8          1                  3  \n",
       "1                     7          1                  3  \n",
       "2                    12          1                  4  \n",
       "3                     6          1                  3  \n",
       "4                     2          1                  3  "
      ]
     },
     "execution_count": 33,
     "metadata": {},
     "output_type": "execute_result"
    }
   ],
   "source": [
    "data.head()"
   ]
  },
  {
   "cell_type": "markdown",
   "id": "9008da32",
   "metadata": {},
   "source": [
    "# CHECK OUTLIERS AND IMPUTE OUTLIERS:"
   ]
  },
  {
   "cell_type": "code",
   "execution_count": 34,
   "id": "aa6f832f",
   "metadata": {},
   "outputs": [
    {
     "data": {
      "image/png": "[encoded data removed]",
      "text/plain": [
       "<Figure size 1440x1296 with 10 Axes>"
      ]
     },
     "metadata": {
      "needs_background": "light"
     },
     "output_type": "display_data"
    }
   ],
   "source": [
    "out = data[['Age','DistanceFromHome','EmpHourlyRate','EmpLastSalaryHikePercent',\n",
    "                   'TotalWorkExperienceInYears','TrainingTimesLastYear','ExperienceYearsAtThisCompany',\n",
    "                   'ExperienceYearsInCurrentRole','YearsSinceLastPromotion','YearsWithCurrManager']]\n",
    "\n",
    "plt.figure(figsize=(20,18)) # defining canvas size\n",
    "plotno = 1 # counter\n",
    "\n",
    "for column in out: # iteration of columns / acessing the columns from count \n",
    "    if plotno<=12:    # set the limit\n",
    "        plt.subplot(4,3,plotno) # # plotting 7 graphs (3-rows,3-columns) ,plotnumber is for count\n",
    "        sns.boxplot(out[column]) # Plotting box plots to detect the outlier\n",
    "        plt.xlabel(column,fontsize=20)  # assigning name to x-axis and font size is 20\n",
    "    plotno+=1 # counter increment\n",
    "plt.tight_layout()\n",
    "plt.show()"
   ]
  },
  {
   "cell_type": "markdown",
   "id": "4e9e56b1",
   "metadata": {},
   "source": [
    "Here we are use inter quatile range to impute the outlier, becuase data is not normally distributed."
   ]
  },
  {
   "cell_type": "markdown",
   "id": "1a47db2d",
   "metadata": {},
   "source": [
    "1.Total Work Experience in Years"
   ]
  },
  {
   "cell_type": "code",
   "execution_count": 35,
   "id": "5692eef6",
   "metadata": {},
   "outputs": [
    {
     "name": "stdout",
     "output_type": "stream",
     "text": [
      "IQR: 9.0\n",
      "Minimum limit: -7.5\n",
      "Maximum Limit: 28.5\n"
     ]
    }
   ],
   "source": [
    "iqr = stats.iqr(data['TotalWorkExperienceInYears'],interpolation='midpoint')\n",
    "print(\"IQR:\",iqr)\n",
    "\n",
    "# Getting first & third quantile\n",
    "Q1 = data['TotalWorkExperienceInYears'].quantile(0.25)\n",
    "Q3 = data['TotalWorkExperienceInYears'].quantile(0.75)\n",
    "\n",
    "# Get maximum and minimum limit\n",
    "min_limit = Q1 - 1.5*iqr\n",
    "print(\"Minimum limit:\",min_limit)\n",
    "\n",
    "max_limit = Q3 + 1.5*iqr\n",
    "print(\"Maximum Limit:\",max_limit)"
   ]
  },
  {
   "cell_type": "code",
   "execution_count": 36,
   "id": "c4fd2f97",
   "metadata": {},
   "outputs": [],
   "source": [
    "# Impute outlier\n",
    "data.loc[data['TotalWorkExperienceInYears'] > max_limit,'TotalWorkExperienceInYears']=data['TotalWorkExperienceInYears'].median()"
   ]
  },
  {
   "cell_type": "code",
   "execution_count": 37,
   "id": "c416937b",
   "metadata": {},
   "outputs": [
    {
     "data": {
      "text/html": [
       "<div>\n",
       "<style scoped>\n",
       "    .dataframe tbody tr th:only-of-type {\n",
       "        vertical-align: middle;\n",
       "    }\n",
       "\n",
       "    .dataframe tbody tr th {\n",
       "        vertical-align: top;\n",
       "    }\n",
       "\n",
       "    .dataframe thead th {\n",
       "        text-align: right;\n",
       "    }\n",
       "</style>\n",
       "<table border=\"1\" class=\"dataframe\">\n",
       "  <thead>\n",
       "    <tr style=\"text-align: right;\">\n",
       "      <th></th>\n",
       "      <th>EmpNumber</th>\n",
       "      <th>Age</th>\n",
       "      <th>Gender</th>\n",
       "      <th>EducationBackground</th>\n",
       "      <th>MaritalStatus</th>\n",
       "      <th>EmpDepartment</th>\n",
       "      <th>EmpJobRole</th>\n",
       "      <th>BusinessTravelFrequency</th>\n",
       "      <th>DistanceFromHome</th>\n",
       "      <th>EmpEducationLevel</th>\n",
       "      <th>EmpEnvironmentSatisfaction</th>\n",
       "      <th>EmpHourlyRate</th>\n",
       "      <th>EmpJobInvolvement</th>\n",
       "      <th>EmpJobLevel</th>\n",
       "      <th>EmpJobSatisfaction</th>\n",
       "      <th>NumCompaniesWorked</th>\n",
       "      <th>OverTime</th>\n",
       "      <th>EmpLastSalaryHikePercent</th>\n",
       "      <th>EmpRelationshipSatisfaction</th>\n",
       "      <th>TotalWorkExperienceInYears</th>\n",
       "      <th>TrainingTimesLastYear</th>\n",
       "      <th>EmpWorkLifeBalance</th>\n",
       "      <th>ExperienceYearsAtThisCompany</th>\n",
       "      <th>ExperienceYearsInCurrentRole</th>\n",
       "      <th>YearsSinceLastPromotion</th>\n",
       "      <th>YearsWithCurrManager</th>\n",
       "      <th>Attrition</th>\n",
       "      <th>PerformanceRating</th>\n",
       "    </tr>\n",
       "  </thead>\n",
       "  <tbody>\n",
       "  </tbody>\n",
       "</table>\n",
       "</div>"
      ],
      "text/plain": [
       "Empty DataFrame\n",
       "Columns: [EmpNumber, Age, Gender, EducationBackground, MaritalStatus, EmpDepartment, EmpJobRole, BusinessTravelFrequency, DistanceFromHome, EmpEducationLevel, EmpEnvironmentSatisfaction, EmpHourlyRate, EmpJobInvolvement, EmpJobLevel, EmpJobSatisfaction, NumCompaniesWorked, OverTime, EmpLastSalaryHikePercent, EmpRelationshipSatisfaction, TotalWorkExperienceInYears, TrainingTimesLastYear, EmpWorkLifeBalance, ExperienceYearsAtThisCompany, ExperienceYearsInCurrentRole, YearsSinceLastPromotion, YearsWithCurrManager, Attrition, PerformanceRating]\n",
       "Index: []"
      ]
     },
     "execution_count": 37,
     "metadata": {},
     "output_type": "execute_result"
    }
   ],
   "source": [
    " #filtering data after imputation\n",
    "data.loc[data['TotalWorkExperienceInYears'] > max_limit]"
   ]
  },
  {
   "cell_type": "markdown",
   "id": "d300d3c0",
   "metadata": {},
   "source": [
    "2.Training Times Last Year"
   ]
  },
  {
   "cell_type": "code",
   "execution_count": 38,
   "id": "ddb434e4",
   "metadata": {},
   "outputs": [
    {
     "name": "stdout",
     "output_type": "stream",
     "text": [
      "IQR: 1.0\n",
      "Minimum limit: 0.5\n",
      "Maximum Limit: 4.5\n"
     ]
    }
   ],
   "source": [
    "# Use iqr range because some skewed in data\n",
    "iqr = stats.iqr(data['TrainingTimesLastYear'],interpolation='midpoint')\n",
    "print(\"IQR:\",iqr)\n",
    "\n",
    "# Getting first & third quantile\n",
    "Q1 = data['TrainingTimesLastYear'].quantile(0.25)\n",
    "Q3 = data['TrainingTimesLastYear'].quantile(0.75)\n",
    "\n",
    "# Get maximum and minimum limit\n",
    "min_limit = Q1 - 1.5*iqr\n",
    "print(\"Minimum limit:\",min_limit)\n",
    "\n",
    "max_limit = Q3 + 1.5*iqr\n",
    "print(\"Maximum Limit:\",max_limit)"
   ]
  },
  {
   "cell_type": "code",
   "execution_count": 39,
   "id": "45cf027e",
   "metadata": {},
   "outputs": [],
   "source": [
    "# Impute outlier in max & minmum limit\n",
    "data.loc[data['TrainingTimesLastYear'] < min_limit,'TrainingTimesLastYear']=data['TrainingTimesLastYear'].median()\n",
    "data.loc[data['TrainingTimesLastYear'] > max_limit,'TrainingTimesLastYear']=data['TrainingTimesLastYear'].median()"
   ]
  },
  {
   "cell_type": "code",
   "execution_count": 40,
   "id": "bbfc183f",
   "metadata": {},
   "outputs": [
    {
     "data": {
      "text/html": [
       "<div>\n",
       "<style scoped>\n",
       "    .dataframe tbody tr th:only-of-type {\n",
       "        vertical-align: middle;\n",
       "    }\n",
       "\n",
       "    .dataframe tbody tr th {\n",
       "        vertical-align: top;\n",
       "    }\n",
       "\n",
       "    .dataframe thead th {\n",
       "        text-align: right;\n",
       "    }\n",
       "</style>\n",
       "<table border=\"1\" class=\"dataframe\">\n",
       "  <thead>\n",
       "    <tr style=\"text-align: right;\">\n",
       "      <th></th>\n",
       "      <th>EmpNumber</th>\n",
       "      <th>Age</th>\n",
       "      <th>Gender</th>\n",
       "      <th>EducationBackground</th>\n",
       "      <th>MaritalStatus</th>\n",
       "      <th>EmpDepartment</th>\n",
       "      <th>EmpJobRole</th>\n",
       "      <th>BusinessTravelFrequency</th>\n",
       "      <th>DistanceFromHome</th>\n",
       "      <th>EmpEducationLevel</th>\n",
       "      <th>EmpEnvironmentSatisfaction</th>\n",
       "      <th>EmpHourlyRate</th>\n",
       "      <th>EmpJobInvolvement</th>\n",
       "      <th>EmpJobLevel</th>\n",
       "      <th>EmpJobSatisfaction</th>\n",
       "      <th>NumCompaniesWorked</th>\n",
       "      <th>OverTime</th>\n",
       "      <th>EmpLastSalaryHikePercent</th>\n",
       "      <th>EmpRelationshipSatisfaction</th>\n",
       "      <th>TotalWorkExperienceInYears</th>\n",
       "      <th>TrainingTimesLastYear</th>\n",
       "      <th>EmpWorkLifeBalance</th>\n",
       "      <th>ExperienceYearsAtThisCompany</th>\n",
       "      <th>ExperienceYearsInCurrentRole</th>\n",
       "      <th>YearsSinceLastPromotion</th>\n",
       "      <th>YearsWithCurrManager</th>\n",
       "      <th>Attrition</th>\n",
       "      <th>PerformanceRating</th>\n",
       "    </tr>\n",
       "  </thead>\n",
       "  <tbody>\n",
       "  </tbody>\n",
       "</table>\n",
       "</div>"
      ],
      "text/plain": [
       "Empty DataFrame\n",
       "Columns: [EmpNumber, Age, Gender, EducationBackground, MaritalStatus, EmpDepartment, EmpJobRole, BusinessTravelFrequency, DistanceFromHome, EmpEducationLevel, EmpEnvironmentSatisfaction, EmpHourlyRate, EmpJobInvolvement, EmpJobLevel, EmpJobSatisfaction, NumCompaniesWorked, OverTime, EmpLastSalaryHikePercent, EmpRelationshipSatisfaction, TotalWorkExperienceInYears, TrainingTimesLastYear, EmpWorkLifeBalance, ExperienceYearsAtThisCompany, ExperienceYearsInCurrentRole, YearsSinceLastPromotion, YearsWithCurrManager, Attrition, PerformanceRating]\n",
       "Index: []"
      ]
     },
     "execution_count": 40,
     "metadata": {},
     "output_type": "execute_result"
    }
   ],
   "source": [
    "# Filtering the min limit\n",
    "data.loc[data['TrainingTimesLastYear'] < min_limit]"
   ]
  },
  {
   "cell_type": "code",
   "execution_count": 41,
   "id": "0146ba67",
   "metadata": {},
   "outputs": [
    {
     "data": {
      "text/html": [
       "<div>\n",
       "<style scoped>\n",
       "    .dataframe tbody tr th:only-of-type {\n",
       "        vertical-align: middle;\n",
       "    }\n",
       "\n",
       "    .dataframe tbody tr th {\n",
       "        vertical-align: top;\n",
       "    }\n",
       "\n",
       "    .dataframe thead th {\n",
       "        text-align: right;\n",
       "    }\n",
       "</style>\n",
       "<table border=\"1\" class=\"dataframe\">\n",
       "  <thead>\n",
       "    <tr style=\"text-align: right;\">\n",
       "      <th></th>\n",
       "      <th>EmpNumber</th>\n",
       "      <th>Age</th>\n",
       "      <th>Gender</th>\n",
       "      <th>EducationBackground</th>\n",
       "      <th>MaritalStatus</th>\n",
       "      <th>EmpDepartment</th>\n",
       "      <th>EmpJobRole</th>\n",
       "      <th>BusinessTravelFrequency</th>\n",
       "      <th>DistanceFromHome</th>\n",
       "      <th>EmpEducationLevel</th>\n",
       "      <th>EmpEnvironmentSatisfaction</th>\n",
       "      <th>EmpHourlyRate</th>\n",
       "      <th>EmpJobInvolvement</th>\n",
       "      <th>EmpJobLevel</th>\n",
       "      <th>EmpJobSatisfaction</th>\n",
       "      <th>NumCompaniesWorked</th>\n",
       "      <th>OverTime</th>\n",
       "      <th>EmpLastSalaryHikePercent</th>\n",
       "      <th>EmpRelationshipSatisfaction</th>\n",
       "      <th>TotalWorkExperienceInYears</th>\n",
       "      <th>TrainingTimesLastYear</th>\n",
       "      <th>EmpWorkLifeBalance</th>\n",
       "      <th>ExperienceYearsAtThisCompany</th>\n",
       "      <th>ExperienceYearsInCurrentRole</th>\n",
       "      <th>YearsSinceLastPromotion</th>\n",
       "      <th>YearsWithCurrManager</th>\n",
       "      <th>Attrition</th>\n",
       "      <th>PerformanceRating</th>\n",
       "    </tr>\n",
       "  </thead>\n",
       "  <tbody>\n",
       "  </tbody>\n",
       "</table>\n",
       "</div>"
      ],
      "text/plain": [
       "Empty DataFrame\n",
       "Columns: [EmpNumber, Age, Gender, EducationBackground, MaritalStatus, EmpDepartment, EmpJobRole, BusinessTravelFrequency, DistanceFromHome, EmpEducationLevel, EmpEnvironmentSatisfaction, EmpHourlyRate, EmpJobInvolvement, EmpJobLevel, EmpJobSatisfaction, NumCompaniesWorked, OverTime, EmpLastSalaryHikePercent, EmpRelationshipSatisfaction, TotalWorkExperienceInYears, TrainingTimesLastYear, EmpWorkLifeBalance, ExperienceYearsAtThisCompany, ExperienceYearsInCurrentRole, YearsSinceLastPromotion, YearsWithCurrManager, Attrition, PerformanceRating]\n",
       "Index: []"
      ]
     },
     "execution_count": 41,
     "metadata": {},
     "output_type": "execute_result"
    }
   ],
   "source": [
    "data.loc[data['TrainingTimesLastYear'] > max_limit]"
   ]
  },
  {
   "cell_type": "markdown",
   "id": "c936a4cd",
   "metadata": {},
   "source": [
    "3.Experience Years At This Company"
   ]
  },
  {
   "cell_type": "code",
   "execution_count": 42,
   "id": "6f4210c9",
   "metadata": {},
   "outputs": [
    {
     "name": "stdout",
     "output_type": "stream",
     "text": [
      "IQR: 7.0\n",
      "Minimum limit: -7.5\n",
      "Maximum Limit: 20.5\n"
     ]
    }
   ],
   "source": [
    "iqr = stats.iqr(data['ExperienceYearsAtThisCompany'],interpolation='midpoint')\n",
    "print(\"IQR:\",iqr)\n",
    "\n",
    "# Getting first & third quantile\n",
    "Q1 = data['ExperienceYearsAtThisCompany'].quantile(0.25)\n",
    "Q3 = data['ExperienceYearsAtThisCompany'].quantile(0.75)\n",
    "\n",
    "# Get maximum and minimum limit\n",
    "min_limit = Q1 - 1.5*iqr\n",
    "print(\"Minimum limit:\",min_limit)\n",
    "\n",
    "max_limit = Q3 + 1.5*iqr\n",
    "print(\"Maximum Limit:\",max_limit)"
   ]
  },
  {
   "cell_type": "code",
   "execution_count": 43,
   "id": "09ee10bd",
   "metadata": {},
   "outputs": [],
   "source": [
    "# Impute outlier\n",
    "data.loc[data['ExperienceYearsAtThisCompany'] > max_limit,'ExperienceYearsAtThisCompany']=data['ExperienceYearsAtThisCompany'].median()\n"
   ]
  },
  {
   "cell_type": "code",
   "execution_count": 44,
   "id": "f8b4a3cf",
   "metadata": {},
   "outputs": [
    {
     "data": {
      "text/html": [
       "<div>\n",
       "<style scoped>\n",
       "    .dataframe tbody tr th:only-of-type {\n",
       "        vertical-align: middle;\n",
       "    }\n",
       "\n",
       "    .dataframe tbody tr th {\n",
       "        vertical-align: top;\n",
       "    }\n",
       "\n",
       "    .dataframe thead th {\n",
       "        text-align: right;\n",
       "    }\n",
       "</style>\n",
       "<table border=\"1\" class=\"dataframe\">\n",
       "  <thead>\n",
       "    <tr style=\"text-align: right;\">\n",
       "      <th></th>\n",
       "      <th>EmpNumber</th>\n",
       "      <th>Age</th>\n",
       "      <th>Gender</th>\n",
       "      <th>EducationBackground</th>\n",
       "      <th>MaritalStatus</th>\n",
       "      <th>EmpDepartment</th>\n",
       "      <th>EmpJobRole</th>\n",
       "      <th>BusinessTravelFrequency</th>\n",
       "      <th>DistanceFromHome</th>\n",
       "      <th>EmpEducationLevel</th>\n",
       "      <th>EmpEnvironmentSatisfaction</th>\n",
       "      <th>EmpHourlyRate</th>\n",
       "      <th>EmpJobInvolvement</th>\n",
       "      <th>EmpJobLevel</th>\n",
       "      <th>EmpJobSatisfaction</th>\n",
       "      <th>NumCompaniesWorked</th>\n",
       "      <th>OverTime</th>\n",
       "      <th>EmpLastSalaryHikePercent</th>\n",
       "      <th>EmpRelationshipSatisfaction</th>\n",
       "      <th>TotalWorkExperienceInYears</th>\n",
       "      <th>TrainingTimesLastYear</th>\n",
       "      <th>EmpWorkLifeBalance</th>\n",
       "      <th>ExperienceYearsAtThisCompany</th>\n",
       "      <th>ExperienceYearsInCurrentRole</th>\n",
       "      <th>YearsSinceLastPromotion</th>\n",
       "      <th>YearsWithCurrManager</th>\n",
       "      <th>Attrition</th>\n",
       "      <th>PerformanceRating</th>\n",
       "    </tr>\n",
       "  </thead>\n",
       "  <tbody>\n",
       "  </tbody>\n",
       "</table>\n",
       "</div>"
      ],
      "text/plain": [
       "Empty DataFrame\n",
       "Columns: [EmpNumber, Age, Gender, EducationBackground, MaritalStatus, EmpDepartment, EmpJobRole, BusinessTravelFrequency, DistanceFromHome, EmpEducationLevel, EmpEnvironmentSatisfaction, EmpHourlyRate, EmpJobInvolvement, EmpJobLevel, EmpJobSatisfaction, NumCompaniesWorked, OverTime, EmpLastSalaryHikePercent, EmpRelationshipSatisfaction, TotalWorkExperienceInYears, TrainingTimesLastYear, EmpWorkLifeBalance, ExperienceYearsAtThisCompany, ExperienceYearsInCurrentRole, YearsSinceLastPromotion, YearsWithCurrManager, Attrition, PerformanceRating]\n",
       "Index: []"
      ]
     },
     "execution_count": 44,
     "metadata": {},
     "output_type": "execute_result"
    }
   ],
   "source": [
    "# Filtering the data\n",
    "data.loc[data['ExperienceYearsAtThisCompany'] > max_limit]"
   ]
  },
  {
   "cell_type": "markdown",
   "id": "3c122271",
   "metadata": {},
   "source": [
    "4.Experience Years In Current Role"
   ]
  },
  {
   "cell_type": "code",
   "execution_count": 45,
   "id": "b8758f9b",
   "metadata": {},
   "outputs": [
    {
     "name": "stdout",
     "output_type": "stream",
     "text": [
      "IQR: 5.0\n",
      "Minimum limit: -5.5\n",
      "Maximum Limit: 14.5\n"
     ]
    }
   ],
   "source": [
    "# Use iqr range because some skewed in data\n",
    "iqr = stats.iqr(data['ExperienceYearsInCurrentRole'],interpolation='midpoint')\n",
    "print(\"IQR:\",iqr)\n",
    "\n",
    "# Getting first & third quantile\n",
    "Q1 = data['ExperienceYearsInCurrentRole'].quantile(0.25)\n",
    "Q3 = data['ExperienceYearsInCurrentRole'].quantile(0.75)\n",
    "\n",
    "# Get maximum and minimum limit\n",
    "min_limit = Q1 - 1.5*iqr\n",
    "print(\"Minimum limit:\",min_limit)\n",
    "\n",
    "max_limit = Q3 + 1.5*iqr\n",
    "print(\"Maximum Limit:\",max_limit)"
   ]
  },
  {
   "cell_type": "code",
   "execution_count": 46,
   "id": "4e4e7582",
   "metadata": {},
   "outputs": [],
   "source": [
    "data.loc[data['ExperienceYearsInCurrentRole'] > max_limit,'ExperienceYearsInCurrentRole']=data['ExperienceYearsInCurrentRole'].median()"
   ]
  },
  {
   "cell_type": "code",
   "execution_count": 47,
   "id": "ab82ad4c",
   "metadata": {},
   "outputs": [
    {
     "data": {
      "text/html": [
       "<div>\n",
       "<style scoped>\n",
       "    .dataframe tbody tr th:only-of-type {\n",
       "        vertical-align: middle;\n",
       "    }\n",
       "\n",
       "    .dataframe tbody tr th {\n",
       "        vertical-align: top;\n",
       "    }\n",
       "\n",
       "    .dataframe thead th {\n",
       "        text-align: right;\n",
       "    }\n",
       "</style>\n",
       "<table border=\"1\" class=\"dataframe\">\n",
       "  <thead>\n",
       "    <tr style=\"text-align: right;\">\n",
       "      <th></th>\n",
       "      <th>EmpNumber</th>\n",
       "      <th>Age</th>\n",
       "      <th>Gender</th>\n",
       "      <th>EducationBackground</th>\n",
       "      <th>MaritalStatus</th>\n",
       "      <th>EmpDepartment</th>\n",
       "      <th>EmpJobRole</th>\n",
       "      <th>BusinessTravelFrequency</th>\n",
       "      <th>DistanceFromHome</th>\n",
       "      <th>EmpEducationLevel</th>\n",
       "      <th>EmpEnvironmentSatisfaction</th>\n",
       "      <th>EmpHourlyRate</th>\n",
       "      <th>EmpJobInvolvement</th>\n",
       "      <th>EmpJobLevel</th>\n",
       "      <th>EmpJobSatisfaction</th>\n",
       "      <th>NumCompaniesWorked</th>\n",
       "      <th>OverTime</th>\n",
       "      <th>EmpLastSalaryHikePercent</th>\n",
       "      <th>EmpRelationshipSatisfaction</th>\n",
       "      <th>TotalWorkExperienceInYears</th>\n",
       "      <th>TrainingTimesLastYear</th>\n",
       "      <th>EmpWorkLifeBalance</th>\n",
       "      <th>ExperienceYearsAtThisCompany</th>\n",
       "      <th>ExperienceYearsInCurrentRole</th>\n",
       "      <th>YearsSinceLastPromotion</th>\n",
       "      <th>YearsWithCurrManager</th>\n",
       "      <th>Attrition</th>\n",
       "      <th>PerformanceRating</th>\n",
       "    </tr>\n",
       "  </thead>\n",
       "  <tbody>\n",
       "  </tbody>\n",
       "</table>\n",
       "</div>"
      ],
      "text/plain": [
       "Empty DataFrame\n",
       "Columns: [EmpNumber, Age, Gender, EducationBackground, MaritalStatus, EmpDepartment, EmpJobRole, BusinessTravelFrequency, DistanceFromHome, EmpEducationLevel, EmpEnvironmentSatisfaction, EmpHourlyRate, EmpJobInvolvement, EmpJobLevel, EmpJobSatisfaction, NumCompaniesWorked, OverTime, EmpLastSalaryHikePercent, EmpRelationshipSatisfaction, TotalWorkExperienceInYears, TrainingTimesLastYear, EmpWorkLifeBalance, ExperienceYearsAtThisCompany, ExperienceYearsInCurrentRole, YearsSinceLastPromotion, YearsWithCurrManager, Attrition, PerformanceRating]\n",
       "Index: []"
      ]
     },
     "execution_count": 47,
     "metadata": {},
     "output_type": "execute_result"
    }
   ],
   "source": [
    "#filtering the data \n",
    "data.loc[data['ExperienceYearsInCurrentRole'] > max_limit]"
   ]
  },
  {
   "cell_type": "markdown",
   "id": "84a26d4e",
   "metadata": {},
   "source": [
    "5.Years Since Last Promotion"
   ]
  },
  {
   "cell_type": "code",
   "execution_count": 54,
   "id": "e7fc27c4",
   "metadata": {},
   "outputs": [
    {
     "name": "stdout",
     "output_type": "stream",
     "text": [
      "IQR: 5.0\n",
      "Minimum limit: -5.5\n",
      "Maximum Limit: 14.5\n"
     ]
    }
   ],
   "source": [
    "iqr = stats.iqr(data['ExperienceYearsInCurrentRole'],interpolation='midpoint')\n",
    "print(\"IQR:\",iqr)\n",
    "\n",
    "# Getting first & third quantile\n",
    "Q1 = data['ExperienceYearsInCurrentRole'].quantile(0.25)\n",
    "Q3 = data['ExperienceYearsInCurrentRole'].quantile(0.75)\n",
    "\n",
    "# Get maximum and minimum limit\n",
    "min_limit = Q1 - 1.5*iqr\n",
    "print(\"Minimum limit:\",min_limit)\n",
    "\n",
    "max_limit = Q3 + 1.5*iqr\n",
    "print(\"Maximum Limit:\",max_limit)"
   ]
  },
  {
   "cell_type": "code",
   "execution_count": 55,
   "id": "4d96b0cd",
   "metadata": {},
   "outputs": [],
   "source": [
    "# impute outlier\n",
    "data.loc[data['YearsSinceLastPromotion'] > max_limit,'YearsSinceLastPromotion']=data['YearsSinceLastPromotion'].median()"
   ]
  },
  {
   "cell_type": "code",
   "execution_count": 59,
   "id": "9ec2b1aa",
   "metadata": {},
   "outputs": [
    {
     "data": {
      "text/html": [
       "<div>\n",
       "<style scoped>\n",
       "    .dataframe tbody tr th:only-of-type {\n",
       "        vertical-align: middle;\n",
       "    }\n",
       "\n",
       "    .dataframe tbody tr th {\n",
       "        vertical-align: top;\n",
       "    }\n",
       "\n",
       "    .dataframe thead th {\n",
       "        text-align: right;\n",
       "    }\n",
       "</style>\n",
       "<table border=\"1\" class=\"dataframe\">\n",
       "  <thead>\n",
       "    <tr style=\"text-align: right;\">\n",
       "      <th></th>\n",
       "      <th>EmpNumber</th>\n",
       "      <th>Age</th>\n",
       "      <th>Gender</th>\n",
       "      <th>EducationBackground</th>\n",
       "      <th>MaritalStatus</th>\n",
       "      <th>EmpDepartment</th>\n",
       "      <th>EmpJobRole</th>\n",
       "      <th>BusinessTravelFrequency</th>\n",
       "      <th>DistanceFromHome</th>\n",
       "      <th>EmpEducationLevel</th>\n",
       "      <th>EmpEnvironmentSatisfaction</th>\n",
       "      <th>EmpHourlyRate</th>\n",
       "      <th>EmpJobInvolvement</th>\n",
       "      <th>EmpJobLevel</th>\n",
       "      <th>EmpJobSatisfaction</th>\n",
       "      <th>NumCompaniesWorked</th>\n",
       "      <th>OverTime</th>\n",
       "      <th>EmpLastSalaryHikePercent</th>\n",
       "      <th>EmpRelationshipSatisfaction</th>\n",
       "      <th>TotalWorkExperienceInYears</th>\n",
       "      <th>TrainingTimesLastYear</th>\n",
       "      <th>EmpWorkLifeBalance</th>\n",
       "      <th>ExperienceYearsAtThisCompany</th>\n",
       "      <th>ExperienceYearsInCurrentRole</th>\n",
       "      <th>YearsSinceLastPromotion</th>\n",
       "      <th>YearsWithCurrManager</th>\n",
       "      <th>Attrition</th>\n",
       "      <th>PerformanceRating</th>\n",
       "    </tr>\n",
       "  </thead>\n",
       "  <tbody>\n",
       "  </tbody>\n",
       "</table>\n",
       "</div>"
      ],
      "text/plain": [
       "Empty DataFrame\n",
       "Columns: [EmpNumber, Age, Gender, EducationBackground, MaritalStatus, EmpDepartment, EmpJobRole, BusinessTravelFrequency, DistanceFromHome, EmpEducationLevel, EmpEnvironmentSatisfaction, EmpHourlyRate, EmpJobInvolvement, EmpJobLevel, EmpJobSatisfaction, NumCompaniesWorked, OverTime, EmpLastSalaryHikePercent, EmpRelationshipSatisfaction, TotalWorkExperienceInYears, TrainingTimesLastYear, EmpWorkLifeBalance, ExperienceYearsAtThisCompany, ExperienceYearsInCurrentRole, YearsSinceLastPromotion, YearsWithCurrManager, Attrition, PerformanceRating]\n",
       "Index: []"
      ]
     },
     "execution_count": 59,
     "metadata": {},
     "output_type": "execute_result"
    }
   ],
   "source": [
    "# Filtering data\n",
    "data.loc[data['YearsSinceLastPromotion'] > max_limit]"
   ]
  },
  {
   "cell_type": "markdown",
   "id": "32bd8548",
   "metadata": {},
   "source": [
    "6.Years With Current Manager"
   ]
  },
  {
   "cell_type": "code",
   "execution_count": 51,
   "id": "03623ee3",
   "metadata": {},
   "outputs": [
    {
     "name": "stdout",
     "output_type": "stream",
     "text": [
      "IQR: 5.0\n",
      "Minimum limit: -5.5\n",
      "Maximum limit 14.5\n"
     ]
    }
   ],
   "source": [
    "# use iqr because some skewed in data\n",
    "iqr = stats.iqr(data['YearsWithCurrManager'],interpolation='midpoint')\n",
    "print(\"IQR:\",iqr)\n",
    "\n",
    "# Get first and third quantile\n",
    "Q1 = data['YearsWithCurrManager'].quantile(0.25)\n",
    "Q3 = data['YearsWithCurrManager'].quantile(0.75)\n",
    "\n",
    "# Get manimum and maximum limit\n",
    "min_limit = Q1 - 1.5*iqr\n",
    "print(\"Minimum limit:\",min_limit)\n",
    "\n",
    "max_limit = Q3 +1.5*iqr\n",
    "print(\"Maximum limit\",max_limit)"
   ]
  },
  {
   "cell_type": "code",
   "execution_count": 52,
   "id": "05b20f4b",
   "metadata": {},
   "outputs": [
    {
     "data": {
      "text/html": [
       "<div>\n",
       "<style scoped>\n",
       "    .dataframe tbody tr th:only-of-type {\n",
       "        vertical-align: middle;\n",
       "    }\n",
       "\n",
       "    .dataframe tbody tr th {\n",
       "        vertical-align: top;\n",
       "    }\n",
       "\n",
       "    .dataframe thead th {\n",
       "        text-align: right;\n",
       "    }\n",
       "</style>\n",
       "<table border=\"1\" class=\"dataframe\">\n",
       "  <thead>\n",
       "    <tr style=\"text-align: right;\">\n",
       "      <th></th>\n",
       "      <th>EmpNumber</th>\n",
       "      <th>Age</th>\n",
       "      <th>Gender</th>\n",
       "      <th>EducationBackground</th>\n",
       "      <th>MaritalStatus</th>\n",
       "      <th>EmpDepartment</th>\n",
       "      <th>EmpJobRole</th>\n",
       "      <th>BusinessTravelFrequency</th>\n",
       "      <th>DistanceFromHome</th>\n",
       "      <th>EmpEducationLevel</th>\n",
       "      <th>EmpEnvironmentSatisfaction</th>\n",
       "      <th>EmpHourlyRate</th>\n",
       "      <th>EmpJobInvolvement</th>\n",
       "      <th>EmpJobLevel</th>\n",
       "      <th>EmpJobSatisfaction</th>\n",
       "      <th>NumCompaniesWorked</th>\n",
       "      <th>OverTime</th>\n",
       "      <th>EmpLastSalaryHikePercent</th>\n",
       "      <th>EmpRelationshipSatisfaction</th>\n",
       "      <th>TotalWorkExperienceInYears</th>\n",
       "      <th>TrainingTimesLastYear</th>\n",
       "      <th>EmpWorkLifeBalance</th>\n",
       "      <th>ExperienceYearsAtThisCompany</th>\n",
       "      <th>ExperienceYearsInCurrentRole</th>\n",
       "      <th>YearsSinceLastPromotion</th>\n",
       "      <th>YearsWithCurrManager</th>\n",
       "      <th>Attrition</th>\n",
       "      <th>PerformanceRating</th>\n",
       "    </tr>\n",
       "  </thead>\n",
       "  <tbody>\n",
       "  </tbody>\n",
       "</table>\n",
       "</div>"
      ],
      "text/plain": [
       "Empty DataFrame\n",
       "Columns: [EmpNumber, Age, Gender, EducationBackground, MaritalStatus, EmpDepartment, EmpJobRole, BusinessTravelFrequency, DistanceFromHome, EmpEducationLevel, EmpEnvironmentSatisfaction, EmpHourlyRate, EmpJobInvolvement, EmpJobLevel, EmpJobSatisfaction, NumCompaniesWorked, OverTime, EmpLastSalaryHikePercent, EmpRelationshipSatisfaction, TotalWorkExperienceInYears, TrainingTimesLastYear, EmpWorkLifeBalance, ExperienceYearsAtThisCompany, ExperienceYearsInCurrentRole, YearsSinceLastPromotion, YearsWithCurrManager, Attrition, PerformanceRating]\n",
       "Index: []"
      ]
     },
     "execution_count": 52,
     "metadata": {},
     "output_type": "execute_result"
    }
   ],
   "source": [
    "# impute outlier\n",
    "data.loc[data['YearsWithCurrManager'] > max_limit,'YearsWithCurrManager']=data['YearsWithCurrManager'].median()\n",
    "# Filtering the data\n",
    "data.loc[data['YearsWithCurrManager'] >max_limit]"
   ]
  },
  {
   "cell_type": "markdown",
   "id": "022e4e87",
   "metadata": {},
   "source": [
    "CHECKING OUTLIER AFTER IMPUTATION"
   ]
  },
  {
   "cell_type": "code",
   "execution_count": 60,
   "id": "8b4db4f2",
   "metadata": {},
   "outputs": [
    {
     "data": {
      "image/png": "[encoded data removed]",
      "text/plain": [
       "<Figure size 1440x720 with 6 Axes>"
      ]
     },
     "metadata": {
      "needs_background": "light"
     },
     "output_type": "display_data"
    }
   ],
   "source": [
    "out = data[['TotalWorkExperienceInYears','TrainingTimesLastYear','ExperienceYearsAtThisCompany',\n",
    "            'ExperienceYearsInCurrentRole','YearsSinceLastPromotion','YearsWithCurrManager']]\n",
    "\n",
    "plt.figure(figsize=(20,10)) # defining canvas size\n",
    "plotno = 1 # counter\n",
    "\n",
    "for column in out: # iteration of columns / acessing the columns from count \n",
    "    if plotno<=7:    # set the limit\n",
    "        plt.subplot(2,3,plotno) # # plotting 7 graphs (3-rows,3-columns) ,plotnumber is for count\n",
    "        sns.boxplot(out[column]) # Plotting box plots to detect the outlier\n",
    "        plt.xlabel(column,fontsize=20)  # assigning name to x-axis and font size is 20\n",
    "    plotno+=1 # counter increment\n",
    "plt.tight_layout()\n",
    "plt.show()"
   ]
  },
  {
   "cell_type": "markdown",
   "id": "228e71bd",
   "metadata": {},
   "source": [
    "Observation: \n",
    "\n",
    "Outlier impute sucessfully, but some feature box plot showing outlier, so we can not impute this outlier."
   ]
  },
  {
   "cell_type": "markdown",
   "id": "298b8542",
   "metadata": {},
   "source": [
    "FEATURE TRANSFORMATION\n",
    "From the last EDA file we get the yearsince last promotion feature have some skewed in data, so we are going to use square root transformation."
   ]
  },
  {
   "cell_type": "code",
   "execution_count": 61,
   "id": "a494088f",
   "metadata": {},
   "outputs": [],
   "source": [
    "# define a function to plot a Q-Q plot\n",
    "def plot_data(data,feature):\n",
    "    plt.figure(figsize=(10,5))\n",
    "    plt.subplot(1,2,1)\n",
    "    data[feature].hist()\n",
    "    plt.subplot(1,2,2)\n",
    "    stats.probplot(data[feature],dist='norm',plot=pylab)\n",
    "    plt.show()"
   ]
  },
  {
   "cell_type": "code",
   "execution_count": 62,
   "id": "33bf3993",
   "metadata": {},
   "outputs": [
    {
     "data": {
      "image/png": "[encoded data removed]",
      "text/plain": [
       "<Figure size 720x360 with 2 Axes>"
      ]
     },
     "metadata": {
      "needs_background": "light"
     },
     "output_type": "display_data"
    }
   ],
   "source": [
    "plot_data(data,'YearsSinceLastPromotion')"
   ]
  },
  {
   "cell_type": "markdown",
   "id": "5aa6d120",
   "metadata": {},
   "source": [
    "Square root Transformation"
   ]
  },
  {
   "cell_type": "code",
   "execution_count": 63,
   "id": "990ad065",
   "metadata": {},
   "outputs": [
    {
     "data": {
      "image/png": "[encoded data removed]",
      "text/plain": [
       "<Figure size 720x360 with 2 Axes>"
      ]
     },
     "metadata": {
      "needs_background": "light"
     },
     "output_type": "display_data"
    }
   ],
   "source": [
    "data['square_YearsSinceLastPromotion'] = data.YearsSinceLastPromotion**(1/2)\n",
    "plot_data(data,'square_YearsSinceLastPromotion')"
   ]
  },
  {
   "cell_type": "markdown",
   "id": "ed7df8be",
   "metadata": {},
   "source": [
    "Now some points are close to the line."
   ]
  },
  {
   "cell_type": "markdown",
   "id": "41d5c890",
   "metadata": {},
   "source": [
    "# SCALING THE DATA"
   ]
  },
  {
   "cell_type": "code",
   "execution_count": 64,
   "id": "62e265aa",
   "metadata": {},
   "outputs": [],
   "source": [
    "from sklearn.preprocessing import StandardScaler\n",
    "\n",
    "scalar = StandardScaler()  #Create Object\n",
    "\n",
    "data[['Age','DistanceFromHome','EmpHourlyRate','EmpLastSalaryHikePercent','TotalWorkExperienceInYears',\n",
    "      'TrainingTimesLastYear','ExperienceYearsAtThisCompany','ExperienceYearsInCurrentRole','YearsWithCurrManager',\n",
    "      'square_YearsSinceLastPromotion']]=scalar.fit_transform(data[['Age','DistanceFromHome','EmpHourlyRate',\n",
    "      'EmpLastSalaryHikePercent','TotalWorkExperienceInYears','TrainingTimesLastYear','ExperienceYearsAtThisCompany',\n",
    "      'ExperienceYearsInCurrentRole','YearsWithCurrManager','square_YearsSinceLastPromotion']])"
   ]
  },
  {
   "cell_type": "code",
   "execution_count": 65,
   "id": "584cfcac",
   "metadata": {},
   "outputs": [
    {
     "data": {
      "text/html": [
       "<div>\n",
       "<style scoped>\n",
       "    .dataframe tbody tr th:only-of-type {\n",
       "        vertical-align: middle;\n",
       "    }\n",
       "\n",
       "    .dataframe tbody tr th {\n",
       "        vertical-align: top;\n",
       "    }\n",
       "\n",
       "    .dataframe thead th {\n",
       "        text-align: right;\n",
       "    }\n",
       "</style>\n",
       "<table border=\"1\" class=\"dataframe\">\n",
       "  <thead>\n",
       "    <tr style=\"text-align: right;\">\n",
       "      <th></th>\n",
       "      <th>EmpNumber</th>\n",
       "      <th>Age</th>\n",
       "      <th>Gender</th>\n",
       "      <th>EducationBackground</th>\n",
       "      <th>MaritalStatus</th>\n",
       "      <th>EmpDepartment</th>\n",
       "      <th>EmpJobRole</th>\n",
       "      <th>BusinessTravelFrequency</th>\n",
       "      <th>DistanceFromHome</th>\n",
       "      <th>EmpEducationLevel</th>\n",
       "      <th>EmpEnvironmentSatisfaction</th>\n",
       "      <th>EmpHourlyRate</th>\n",
       "      <th>EmpJobInvolvement</th>\n",
       "      <th>EmpJobLevel</th>\n",
       "      <th>EmpJobSatisfaction</th>\n",
       "      <th>NumCompaniesWorked</th>\n",
       "      <th>OverTime</th>\n",
       "      <th>EmpLastSalaryHikePercent</th>\n",
       "      <th>EmpRelationshipSatisfaction</th>\n",
       "      <th>TotalWorkExperienceInYears</th>\n",
       "      <th>TrainingTimesLastYear</th>\n",
       "      <th>EmpWorkLifeBalance</th>\n",
       "      <th>ExperienceYearsAtThisCompany</th>\n",
       "      <th>ExperienceYearsInCurrentRole</th>\n",
       "      <th>YearsSinceLastPromotion</th>\n",
       "      <th>YearsWithCurrManager</th>\n",
       "      <th>Attrition</th>\n",
       "      <th>PerformanceRating</th>\n",
       "      <th>square_YearsSinceLastPromotion</th>\n",
       "    </tr>\n",
       "  </thead>\n",
       "  <tbody>\n",
       "    <tr>\n",
       "      <th>0</th>\n",
       "      <td>E1001000</td>\n",
       "      <td>-0.541458</td>\n",
       "      <td>1</td>\n",
       "      <td>2</td>\n",
       "      <td>1</td>\n",
       "      <td>5</td>\n",
       "      <td>18</td>\n",
       "      <td>2</td>\n",
       "      <td>0.102061</td>\n",
       "      <td>3</td>\n",
       "      <td>4</td>\n",
       "      <td>-0.543569</td>\n",
       "      <td>3</td>\n",
       "      <td>2</td>\n",
       "      <td>4</td>\n",
       "      <td>1</td>\n",
       "      <td>1</td>\n",
       "      <td>-0.889111</td>\n",
       "      <td>4</td>\n",
       "      <td>-0.058535</td>\n",
       "      <td>-0.879579</td>\n",
       "      <td>2</td>\n",
       "      <td>0.868276</td>\n",
       "      <td>0.864098</td>\n",
       "      <td>0</td>\n",
       "      <td>1.202103</td>\n",
       "      <td>1</td>\n",
       "      <td>3</td>\n",
       "      <td>-1.004905</td>\n",
       "    </tr>\n",
       "    <tr>\n",
       "      <th>1</th>\n",
       "      <td>E1001006</td>\n",
       "      <td>1.109888</td>\n",
       "      <td>1</td>\n",
       "      <td>2</td>\n",
       "      <td>1</td>\n",
       "      <td>5</td>\n",
       "      <td>18</td>\n",
       "      <td>2</td>\n",
       "      <td>0.591464</td>\n",
       "      <td>4</td>\n",
       "      <td>4</td>\n",
       "      <td>-1.187042</td>\n",
       "      <td>3</td>\n",
       "      <td>2</td>\n",
       "      <td>1</td>\n",
       "      <td>2</td>\n",
       "      <td>1</td>\n",
       "      <td>-0.889111</td>\n",
       "      <td>4</td>\n",
       "      <td>1.512870</td>\n",
       "      <td>-0.879579</td>\n",
       "      <td>3</td>\n",
       "      <td>0.200371</td>\n",
       "      <td>0.864098</td>\n",
       "      <td>1</td>\n",
       "      <td>0.902825</td>\n",
       "      <td>1</td>\n",
       "      <td>3</td>\n",
       "      <td>-0.018552</td>\n",
       "    </tr>\n",
       "    <tr>\n",
       "      <th>2</th>\n",
       "      <td>E1001007</td>\n",
       "      <td>0.339260</td>\n",
       "      <td>1</td>\n",
       "      <td>1</td>\n",
       "      <td>2</td>\n",
       "      <td>5</td>\n",
       "      <td>18</td>\n",
       "      <td>1</td>\n",
       "      <td>-0.509693</td>\n",
       "      <td>4</td>\n",
       "      <td>4</td>\n",
       "      <td>-0.890055</td>\n",
       "      <td>2</td>\n",
       "      <td>3</td>\n",
       "      <td>1</td>\n",
       "      <td>5</td>\n",
       "      <td>0</td>\n",
       "      <td>1.594054</td>\n",
       "      <td>3</td>\n",
       "      <td>1.512870</td>\n",
       "      <td>-0.879579</td>\n",
       "      <td>3</td>\n",
       "      <td>2.649355</td>\n",
       "      <td>2.661702</td>\n",
       "      <td>1</td>\n",
       "      <td>2.399219</td>\n",
       "      <td>1</td>\n",
       "      <td>4</td>\n",
       "      <td>-0.018552</td>\n",
       "    </tr>\n",
       "    <tr>\n",
       "      <th>3</th>\n",
       "      <td>E1001009</td>\n",
       "      <td>0.449349</td>\n",
       "      <td>1</td>\n",
       "      <td>0</td>\n",
       "      <td>0</td>\n",
       "      <td>3</td>\n",
       "      <td>11</td>\n",
       "      <td>2</td>\n",
       "      <td>0.102061</td>\n",
       "      <td>4</td>\n",
       "      <td>2</td>\n",
       "      <td>0.347393</td>\n",
       "      <td>2</td>\n",
       "      <td>5</td>\n",
       "      <td>4</td>\n",
       "      <td>3</td>\n",
       "      <td>1</td>\n",
       "      <td>-0.061389</td>\n",
       "      <td>2</td>\n",
       "      <td>1.984292</td>\n",
       "      <td>-0.879579</td>\n",
       "      <td>2</td>\n",
       "      <td>-0.244898</td>\n",
       "      <td>0.564498</td>\n",
       "      <td>12</td>\n",
       "      <td>0.603546</td>\n",
       "      <td>1</td>\n",
       "      <td>3</td>\n",
       "      <td>2.411923</td>\n",
       "    </tr>\n",
       "    <tr>\n",
       "      <th>4</th>\n",
       "      <td>E1001010</td>\n",
       "      <td>2.541054</td>\n",
       "      <td>1</td>\n",
       "      <td>2</td>\n",
       "      <td>1</td>\n",
       "      <td>5</td>\n",
       "      <td>18</td>\n",
       "      <td>2</td>\n",
       "      <td>0.836165</td>\n",
       "      <td>4</td>\n",
       "      <td>1</td>\n",
       "      <td>0.891870</td>\n",
       "      <td>3</td>\n",
       "      <td>2</td>\n",
       "      <td>1</td>\n",
       "      <td>8</td>\n",
       "      <td>1</td>\n",
       "      <td>-0.337297</td>\n",
       "      <td>4</td>\n",
       "      <td>-0.058535</td>\n",
       "      <td>-2.303999</td>\n",
       "      <td>3</td>\n",
       "      <td>-0.912803</td>\n",
       "      <td>-0.633905</td>\n",
       "      <td>2</td>\n",
       "      <td>-0.593570</td>\n",
       "      <td>1</td>\n",
       "      <td>3</td>\n",
       "      <td>0.390009</td>\n",
       "    </tr>\n",
       "  </tbody>\n",
       "</table>\n",
       "</div>"
      ],
      "text/plain": [
       "  EmpNumber       Age  Gender  EducationBackground  MaritalStatus  \\\n",
       "0  E1001000 -0.541458       1                    2              1   \n",
       "1  E1001006  1.109888       1                    2              1   \n",
       "2  E1001007  0.339260       1                    1              2   \n",
       "3  E1001009  0.449349       1                    0              0   \n",
       "4  E1001010  2.541054       1                    2              1   \n",
       "\n",
       "   EmpDepartment EmpJobRole  BusinessTravelFrequency  DistanceFromHome  \\\n",
       "0              5         18                        2          0.102061   \n",
       "1              5         18                        2          0.591464   \n",
       "2              5         18                        1         -0.509693   \n",
       "3              3         11                        2          0.102061   \n",
       "4              5         18                        2          0.836165   \n",
       "\n",
       "   EmpEducationLevel  EmpEnvironmentSatisfaction  EmpHourlyRate  \\\n",
       "0                  3                           4      -0.543569   \n",
       "1                  4                           4      -1.187042   \n",
       "2                  4                           4      -0.890055   \n",
       "3                  4                           2       0.347393   \n",
       "4                  4                           1       0.891870   \n",
       "\n",
       "   EmpJobInvolvement  EmpJobLevel  EmpJobSatisfaction  NumCompaniesWorked  \\\n",
       "0                  3            2                   4                   1   \n",
       "1                  3            2                   1                   2   \n",
       "2                  2            3                   1                   5   \n",
       "3                  2            5                   4                   3   \n",
       "4                  3            2                   1                   8   \n",
       "\n",
       "   OverTime  EmpLastSalaryHikePercent  EmpRelationshipSatisfaction  \\\n",
       "0         1                 -0.889111                            4   \n",
       "1         1                 -0.889111                            4   \n",
       "2         0                  1.594054                            3   \n",
       "3         1                 -0.061389                            2   \n",
       "4         1                 -0.337297                            4   \n",
       "\n",
       "   TotalWorkExperienceInYears  TrainingTimesLastYear  EmpWorkLifeBalance  \\\n",
       "0                   -0.058535              -0.879579                   2   \n",
       "1                    1.512870              -0.879579                   3   \n",
       "2                    1.512870              -0.879579                   3   \n",
       "3                    1.984292              -0.879579                   2   \n",
       "4                   -0.058535              -2.303999                   3   \n",
       "\n",
       "   ExperienceYearsAtThisCompany  ExperienceYearsInCurrentRole  \\\n",
       "0                      0.868276                      0.864098   \n",
       "1                      0.200371                      0.864098   \n",
       "2                      2.649355                      2.661702   \n",
       "3                     -0.244898                      0.564498   \n",
       "4                     -0.912803                     -0.633905   \n",
       "\n",
       "   YearsSinceLastPromotion  YearsWithCurrManager  Attrition  \\\n",
       "0                        0              1.202103          1   \n",
       "1                        1              0.902825          1   \n",
       "2                        1              2.399219          1   \n",
       "3                       12              0.603546          1   \n",
       "4                        2             -0.593570          1   \n",
       "\n",
       "   PerformanceRating  square_YearsSinceLastPromotion  \n",
       "0                  3                       -1.004905  \n",
       "1                  3                       -0.018552  \n",
       "2                  4                       -0.018552  \n",
       "3                  3                        2.411923  \n",
       "4                  3                        0.390009  "
      ]
     },
     "execution_count": 65,
     "metadata": {},
     "output_type": "execute_result"
    }
   ],
   "source": [
    "data.head()"
   ]
  },
  {
   "cell_type": "markdown",
   "id": "d58a1732",
   "metadata": {},
   "source": [
    "# FEATURE SELECTION"
   ]
  },
  {
   "cell_type": "markdown",
   "id": "9cba90b2",
   "metadata": {},
   "source": [
    "\n",
    "DROP UNIQUE AND CONTANT FEATURES"
   ]
  },
  {
   "cell_type": "code",
   "execution_count": 66,
   "id": "bfda737f",
   "metadata": {},
   "outputs": [],
   "source": [
    "data.drop(['EmpNumber','YearsSinceLastPromotion'],axis=1,inplace=True)"
   ]
  },
  {
   "cell_type": "markdown",
   "id": "83712817",
   "metadata": {},
   "source": [
    "CHECKING CORELATION"
   ]
  },
  {
   "cell_type": "code",
   "execution_count": 67,
   "id": "6ec546ae",
   "metadata": {},
   "outputs": [
    {
     "data": {
      "image/png": "[encoded data removed]",
      "text/plain": [
       "<Figure size 1440x1440 with 2 Axes>"
      ]
     },
     "metadata": {
      "needs_background": "light"
     },
     "output_type": "display_data"
    }
   ],
   "source": [
    "plt.figure(figsize=(20,20))\n",
    "sns.heatmap(data.corr(),annot=True,cmap='BuPu')\n",
    "plt.show()"
   ]
  },
  {
   "cell_type": "markdown",
   "id": "77ea2cc6",
   "metadata": {},
   "source": [
    "From above heatmap scale we are clearly seen the their is no highly correlated feature in data"
   ]
  },
  {
   "cell_type": "code",
   "execution_count": 68,
   "id": "68ac8506",
   "metadata": {},
   "outputs": [
    {
     "data": {
      "text/html": [
       "<div>\n",
       "<style scoped>\n",
       "    .dataframe tbody tr th:only-of-type {\n",
       "        vertical-align: middle;\n",
       "    }\n",
       "\n",
       "    .dataframe tbody tr th {\n",
       "        vertical-align: top;\n",
       "    }\n",
       "\n",
       "    .dataframe thead th {\n",
       "        text-align: right;\n",
       "    }\n",
       "</style>\n",
       "<table border=\"1\" class=\"dataframe\">\n",
       "  <thead>\n",
       "    <tr style=\"text-align: right;\">\n",
       "      <th></th>\n",
       "      <th>feature1</th>\n",
       "      <th>feature2</th>\n",
       "      <th>corr</th>\n",
       "    </tr>\n",
       "  </thead>\n",
       "  <tbody>\n",
       "  </tbody>\n",
       "</table>\n",
       "</div>"
      ],
      "text/plain": [
       "Empty DataFrame\n",
       "Columns: [feature1, feature2, corr]\n",
       "Index: []"
      ]
     },
     "execution_count": 68,
     "metadata": {},
     "output_type": "execute_result"
    }
   ],
   "source": [
    "# To get highly corelated feature \n",
    "pd.set_option('display.max_rows',None)\n",
    "corrmat = data.corr()\n",
    "corrmat = corrmat.abs().unstack()\n",
    "corrmat = corrmat.sort_values(ascending=False)\n",
    "corrmat = corrmat [corrmat >= 0.9] # Set threshold 0.9\n",
    "corrmat = corrmat [corrmat < 1]\n",
    "corrmat = pd.DataFrame(corrmat).reset_index()\n",
    "corrmat.columns = ['feature1','feature2','corr']\n",
    "corrmat"
   ]
  },
  {
   "cell_type": "markdown",
   "id": "9570ed44",
   "metadata": {},
   "source": [
    "Now we confirm their is no highly correlated feature is present."
   ]
  },
  {
   "cell_type": "code",
   "execution_count": 70,
   "id": "ccd1b294",
   "metadata": {},
   "outputs": [
    {
     "data": {
      "text/plain": [
       "0"
      ]
     },
     "execution_count": 70,
     "metadata": {},
     "output_type": "execute_result"
    }
   ],
   "source": [
    "#checking dublicates\n",
    "data.duplicated().sum()"
   ]
  },
  {
   "cell_type": "markdown",
   "id": "8a565293",
   "metadata": {},
   "source": [
    "# PRINCIPLE COMPONENT ANALYSIS"
   ]
  },
  {
   "cell_type": "markdown",
   "id": "7a3abed7",
   "metadata": {},
   "source": [
    "Principal component analysis (PCA) is a popular technique for analyzing large datasets containing a high number of dimensions/features per observation, increasing the interpretability of data while preserving the maximum amount of information, and enabling the visualization of multidimensional data. Formally, PCA is a statistical technique for reducing the dimensionality of a dataset."
   ]
  },
  {
   "cell_type": "code",
   "execution_count": 71,
   "id": "0c6f65e1",
   "metadata": {},
   "outputs": [
    {
     "data": {
      "image/png": "[encoded data removed]",
      "text/plain": [
       "<Figure size 720x504 with 1 Axes>"
      ]
     },
     "metadata": {
      "needs_background": "light"
     },
     "output_type": "display_data"
    }
   ],
   "source": [
    "from sklearn.decomposition import PCA\n",
    "\n",
    "# Object creation\n",
    "pca = PCA()\n",
    "\n",
    "principlecomponent = pca.fit_transform(data)\n",
    "plt.figure(figsize=(10,7))\n",
    "sns.set_style('darkgrid')\n",
    "plt.plot(np.cumsum(pca.explained_variance_ratio_),color='k')\n",
    "plt.xlabel('Number of components',fontsize=20)\n",
    "plt.ylabel('Variance(%)',fontsize=20) # for each componant\n",
    "plt.title('Explained Variance',fontsize=20)\n",
    "plt.show()"
   ]
  },
  {
   "cell_type": "markdown",
   "id": "c8b088ce",
   "metadata": {},
   "source": [
    "Observation: Data is contain total 27 feature after dropping unique and constant column,from above PCA it shows the 25 feature has less varaince loss, so we are going to select 25 feature."
   ]
  },
  {
   "cell_type": "code",
   "execution_count": 72,
   "id": "cdff9110",
   "metadata": {},
   "outputs": [
    {
     "data": {
      "text/plain": [
       "array([[-4.50058077, -1.63859557,  1.23157642, ..., -0.5482276 ,\n",
       "         0.1196905 , -0.31941081],\n",
       "       [-4.38021783, -0.08270007,  2.16441122, ..., -0.85472473,\n",
       "        -0.41856719, -0.67743777],\n",
       "       [-4.27000361,  2.53340718,  4.43502155, ..., -0.37972352,\n",
       "        -0.39399604,  0.64039319],\n",
       "       ...,\n",
       "       [ 1.89575965, -1.73574147,  2.28728882, ..., -0.11958924,\n",
       "         0.32229763,  1.14902796],\n",
       "       [ 8.93840075, -2.05059969,  0.86724428, ...,  0.52697931,\n",
       "         0.14343962, -0.39457885],\n",
       "       [-4.38705746,  5.97937062, -1.59153889, ...,  0.63548995,\n",
       "         0.03194287, -0.06006777]])"
      ]
     },
     "execution_count": 72,
     "metadata": {},
     "output_type": "execute_result"
    }
   ],
   "source": [
    "# Selecting the components\n",
    "pca = PCA(n_components=25)\n",
    "new_data = pca.fit_transform(data)\n",
    "new_data"
   ]
  },
  {
   "cell_type": "code",
   "execution_count": 73,
   "id": "5b9c17aa",
   "metadata": {},
   "outputs": [
    {
     "data": {
      "text/html": [
       "<div>\n",
       "<style scoped>\n",
       "    .dataframe tbody tr th:only-of-type {\n",
       "        vertical-align: middle;\n",
       "    }\n",
       "\n",
       "    .dataframe tbody tr th {\n",
       "        vertical-align: top;\n",
       "    }\n",
       "\n",
       "    .dataframe thead th {\n",
       "        text-align: right;\n",
       "    }\n",
       "</style>\n",
       "<table border=\"1\" class=\"dataframe\">\n",
       "  <thead>\n",
       "    <tr style=\"text-align: right;\">\n",
       "      <th></th>\n",
       "      <th>pca1</th>\n",
       "      <th>pca2</th>\n",
       "      <th>pca3</th>\n",
       "      <th>pca4</th>\n",
       "      <th>pca5</th>\n",
       "      <th>pca6</th>\n",
       "      <th>pca7</th>\n",
       "      <th>pca8</th>\n",
       "      <th>pca9</th>\n",
       "      <th>pca10</th>\n",
       "      <th>pca11</th>\n",
       "      <th>pca12</th>\n",
       "      <th>pca13</th>\n",
       "      <th>pca14</th>\n",
       "      <th>pca15</th>\n",
       "      <th>pca16</th>\n",
       "      <th>pca17</th>\n",
       "      <th>pca18</th>\n",
       "      <th>pca19</th>\n",
       "      <th>pca20</th>\n",
       "      <th>pca21</th>\n",
       "      <th>pca22</th>\n",
       "      <th>pca23</th>\n",
       "      <th>pca24</th>\n",
       "      <th>pca25</th>\n",
       "      <th>PerformanceRating</th>\n",
       "    </tr>\n",
       "  </thead>\n",
       "  <tbody>\n",
       "    <tr>\n",
       "      <th>0</th>\n",
       "      <td>-4.500581</td>\n",
       "      <td>-1.638596</td>\n",
       "      <td>1.231576</td>\n",
       "      <td>-0.856374</td>\n",
       "      <td>-0.004595</td>\n",
       "      <td>-1.470302</td>\n",
       "      <td>0.190307</td>\n",
       "      <td>0.628849</td>\n",
       "      <td>-1.438901</td>\n",
       "      <td>0.985492</td>\n",
       "      <td>0.074907</td>\n",
       "      <td>-1.208351</td>\n",
       "      <td>-0.230692</td>\n",
       "      <td>0.642139</td>\n",
       "      <td>1.076937</td>\n",
       "      <td>-1.089882</td>\n",
       "      <td>0.764483</td>\n",
       "      <td>0.412585</td>\n",
       "      <td>-0.706154</td>\n",
       "      <td>0.134430</td>\n",
       "      <td>0.165226</td>\n",
       "      <td>-0.186988</td>\n",
       "      <td>-0.548228</td>\n",
       "      <td>0.119691</td>\n",
       "      <td>-0.319411</td>\n",
       "      <td>3</td>\n",
       "    </tr>\n",
       "    <tr>\n",
       "      <th>1</th>\n",
       "      <td>-4.380218</td>\n",
       "      <td>-0.082700</td>\n",
       "      <td>2.164411</td>\n",
       "      <td>-0.640767</td>\n",
       "      <td>0.094954</td>\n",
       "      <td>0.399433</td>\n",
       "      <td>1.791044</td>\n",
       "      <td>1.128307</td>\n",
       "      <td>0.083643</td>\n",
       "      <td>1.735789</td>\n",
       "      <td>-0.068395</td>\n",
       "      <td>-1.507724</td>\n",
       "      <td>1.132570</td>\n",
       "      <td>0.021936</td>\n",
       "      <td>0.296131</td>\n",
       "      <td>-0.538598</td>\n",
       "      <td>0.678117</td>\n",
       "      <td>-0.254594</td>\n",
       "      <td>0.383310</td>\n",
       "      <td>-0.812818</td>\n",
       "      <td>-0.525499</td>\n",
       "      <td>-0.300267</td>\n",
       "      <td>-0.854725</td>\n",
       "      <td>-0.418567</td>\n",
       "      <td>-0.677438</td>\n",
       "      <td>3</td>\n",
       "    </tr>\n",
       "    <tr>\n",
       "      <th>2</th>\n",
       "      <td>-4.270004</td>\n",
       "      <td>2.533407</td>\n",
       "      <td>4.435022</td>\n",
       "      <td>-0.166208</td>\n",
       "      <td>-0.445744</td>\n",
       "      <td>-1.761277</td>\n",
       "      <td>1.369751</td>\n",
       "      <td>-0.465178</td>\n",
       "      <td>1.352120</td>\n",
       "      <td>1.743309</td>\n",
       "      <td>-0.954453</td>\n",
       "      <td>0.625080</td>\n",
       "      <td>1.652067</td>\n",
       "      <td>1.407656</td>\n",
       "      <td>0.580486</td>\n",
       "      <td>-1.603531</td>\n",
       "      <td>-0.528326</td>\n",
       "      <td>0.630269</td>\n",
       "      <td>0.598570</td>\n",
       "      <td>0.341855</td>\n",
       "      <td>-0.196459</td>\n",
       "      <td>0.289592</td>\n",
       "      <td>-0.379724</td>\n",
       "      <td>-0.393996</td>\n",
       "      <td>0.640393</td>\n",
       "      <td>4</td>\n",
       "    </tr>\n",
       "    <tr>\n",
       "      <th>3</th>\n",
       "      <td>2.806240</td>\n",
       "      <td>0.811354</td>\n",
       "      <td>3.138651</td>\n",
       "      <td>0.559976</td>\n",
       "      <td>-2.610698</td>\n",
       "      <td>0.403601</td>\n",
       "      <td>-1.322515</td>\n",
       "      <td>0.595991</td>\n",
       "      <td>-0.060525</td>\n",
       "      <td>-0.493627</td>\n",
       "      <td>-0.158721</td>\n",
       "      <td>-0.719431</td>\n",
       "      <td>-0.097795</td>\n",
       "      <td>0.167915</td>\n",
       "      <td>-0.186324</td>\n",
       "      <td>2.610565</td>\n",
       "      <td>-0.765197</td>\n",
       "      <td>0.678156</td>\n",
       "      <td>-1.357896</td>\n",
       "      <td>0.189924</td>\n",
       "      <td>-0.210269</td>\n",
       "      <td>0.019028</td>\n",
       "      <td>-0.650091</td>\n",
       "      <td>-0.112875</td>\n",
       "      <td>-0.411029</td>\n",
       "      <td>3</td>\n",
       "    </tr>\n",
       "    <tr>\n",
       "      <th>4</th>\n",
       "      <td>-4.264058</td>\n",
       "      <td>5.961050</td>\n",
       "      <td>0.091788</td>\n",
       "      <td>-1.359089</td>\n",
       "      <td>-0.437688</td>\n",
       "      <td>2.528713</td>\n",
       "      <td>0.428719</td>\n",
       "      <td>-0.988657</td>\n",
       "      <td>-0.108352</td>\n",
       "      <td>1.651643</td>\n",
       "      <td>-0.458660</td>\n",
       "      <td>-1.425709</td>\n",
       "      <td>-0.142156</td>\n",
       "      <td>0.977313</td>\n",
       "      <td>-0.851160</td>\n",
       "      <td>0.681571</td>\n",
       "      <td>0.866167</td>\n",
       "      <td>-0.433007</td>\n",
       "      <td>0.940494</td>\n",
       "      <td>-1.220986</td>\n",
       "      <td>0.734871</td>\n",
       "      <td>0.097861</td>\n",
       "      <td>-0.253388</td>\n",
       "      <td>0.396006</td>\n",
       "      <td>-0.113749</td>\n",
       "      <td>3</td>\n",
       "    </tr>\n",
       "  </tbody>\n",
       "</table>\n",
       "</div>"
      ],
      "text/plain": [
       "       pca1      pca2      pca3      pca4      pca5      pca6      pca7  \\\n",
       "0 -4.500581 -1.638596  1.231576 -0.856374 -0.004595 -1.470302  0.190307   \n",
       "1 -4.380218 -0.082700  2.164411 -0.640767  0.094954  0.399433  1.791044   \n",
       "2 -4.270004  2.533407  4.435022 -0.166208 -0.445744 -1.761277  1.369751   \n",
       "3  2.806240  0.811354  3.138651  0.559976 -2.610698  0.403601 -1.322515   \n",
       "4 -4.264058  5.961050  0.091788 -1.359089 -0.437688  2.528713  0.428719   \n",
       "\n",
       "       pca8      pca9     pca10     pca11     pca12     pca13     pca14  \\\n",
       "0  0.628849 -1.438901  0.985492  0.074907 -1.208351 -0.230692  0.642139   \n",
       "1  1.128307  0.083643  1.735789 -0.068395 -1.507724  1.132570  0.021936   \n",
       "2 -0.465178  1.352120  1.743309 -0.954453  0.625080  1.652067  1.407656   \n",
       "3  0.595991 -0.060525 -0.493627 -0.158721 -0.719431 -0.097795  0.167915   \n",
       "4 -0.988657 -0.108352  1.651643 -0.458660 -1.425709 -0.142156  0.977313   \n",
       "\n",
       "      pca15     pca16     pca17     pca18     pca19     pca20     pca21  \\\n",
       "0  1.076937 -1.089882  0.764483  0.412585 -0.706154  0.134430  0.165226   \n",
       "1  0.296131 -0.538598  0.678117 -0.254594  0.383310 -0.812818 -0.525499   \n",
       "2  0.580486 -1.603531 -0.528326  0.630269  0.598570  0.341855 -0.196459   \n",
       "3 -0.186324  2.610565 -0.765197  0.678156 -1.357896  0.189924 -0.210269   \n",
       "4 -0.851160  0.681571  0.866167 -0.433007  0.940494 -1.220986  0.734871   \n",
       "\n",
       "      pca22     pca23     pca24     pca25  PerformanceRating  \n",
       "0 -0.186988 -0.548228  0.119691 -0.319411                  3  \n",
       "1 -0.300267 -0.854725 -0.418567 -0.677438                  3  \n",
       "2  0.289592 -0.379724 -0.393996  0.640393                  4  \n",
       "3  0.019028 -0.650091 -0.112875 -0.411029                  3  \n",
       "4  0.097861 -0.253388  0.396006 -0.113749                  3  "
      ]
     },
     "execution_count": 73,
     "metadata": {},
     "output_type": "execute_result"
    }
   ],
   "source": [
    "principle_df = pd.DataFrame(data=new_data,columns=['pca1','pca2','pca3','pca4','pca5','pca6','pca7','pca8','pca9','pca10',\n",
    "                            'pca11','pca12','pca13','pca14','pca15','pca16','pca17','pca18','pca19','pca20','pca21','pca22',\n",
    "                            'pca23','pca24','pca25'])\n",
    "\n",
    "# Add target veriable to preprocess dataframe for model building & evaluation\n",
    "principle_df['PerformanceRating']=data.PerformanceRating\n",
    "\n",
    "principle_df.head()"
   ]
  },
  {
   "cell_type": "markdown",
   "id": "6471ae98",
   "metadata": {},
   "source": [
    "SAVE PRE-PROCESS DATA"
   ]
  },
  {
   "cell_type": "code",
   "execution_count": 74,
   "id": "b1e997a0",
   "metadata": {},
   "outputs": [
    {
     "data": {
      "text/html": [
       "<div>\n",
       "<style scoped>\n",
       "    .dataframe tbody tr th:only-of-type {\n",
       "        vertical-align: middle;\n",
       "    }\n",
       "\n",
       "    .dataframe tbody tr th {\n",
       "        vertical-align: top;\n",
       "    }\n",
       "\n",
       "    .dataframe thead th {\n",
       "        text-align: right;\n",
       "    }\n",
       "</style>\n",
       "<table border=\"1\" class=\"dataframe\">\n",
       "  <thead>\n",
       "    <tr style=\"text-align: right;\">\n",
       "      <th></th>\n",
       "      <th>Unnamed: 0</th>\n",
       "      <th>pca1</th>\n",
       "      <th>pca2</th>\n",
       "      <th>pca3</th>\n",
       "      <th>pca4</th>\n",
       "      <th>pca5</th>\n",
       "      <th>pca6</th>\n",
       "      <th>pca7</th>\n",
       "      <th>pca8</th>\n",
       "      <th>pca9</th>\n",
       "      <th>pca10</th>\n",
       "      <th>pca11</th>\n",
       "      <th>pca12</th>\n",
       "      <th>pca13</th>\n",
       "      <th>pca14</th>\n",
       "      <th>pca15</th>\n",
       "      <th>pca16</th>\n",
       "      <th>pca17</th>\n",
       "      <th>pca18</th>\n",
       "      <th>pca19</th>\n",
       "      <th>pca20</th>\n",
       "      <th>pca21</th>\n",
       "      <th>pca22</th>\n",
       "      <th>pca23</th>\n",
       "      <th>pca24</th>\n",
       "      <th>pca25</th>\n",
       "      <th>PerformanceRating</th>\n",
       "    </tr>\n",
       "  </thead>\n",
       "  <tbody>\n",
       "    <tr>\n",
       "      <th>0</th>\n",
       "      <td>0</td>\n",
       "      <td>-4.500581</td>\n",
       "      <td>-1.638596</td>\n",
       "      <td>1.231576</td>\n",
       "      <td>-0.856374</td>\n",
       "      <td>-0.004595</td>\n",
       "      <td>-1.470302</td>\n",
       "      <td>0.190307</td>\n",
       "      <td>0.628849</td>\n",
       "      <td>-1.438901</td>\n",
       "      <td>0.985492</td>\n",
       "      <td>0.074907</td>\n",
       "      <td>-1.208351</td>\n",
       "      <td>-0.230692</td>\n",
       "      <td>0.642139</td>\n",
       "      <td>1.076937</td>\n",
       "      <td>-1.089882</td>\n",
       "      <td>0.764483</td>\n",
       "      <td>0.412585</td>\n",
       "      <td>-0.706154</td>\n",
       "      <td>0.134430</td>\n",
       "      <td>0.165226</td>\n",
       "      <td>-0.186988</td>\n",
       "      <td>-0.548228</td>\n",
       "      <td>0.119691</td>\n",
       "      <td>-0.319411</td>\n",
       "      <td>3</td>\n",
       "    </tr>\n",
       "    <tr>\n",
       "      <th>1</th>\n",
       "      <td>1</td>\n",
       "      <td>-4.380218</td>\n",
       "      <td>-0.082700</td>\n",
       "      <td>2.164411</td>\n",
       "      <td>-0.640767</td>\n",
       "      <td>0.094954</td>\n",
       "      <td>0.399433</td>\n",
       "      <td>1.791044</td>\n",
       "      <td>1.128307</td>\n",
       "      <td>0.083643</td>\n",
       "      <td>1.735789</td>\n",
       "      <td>-0.068395</td>\n",
       "      <td>-1.507724</td>\n",
       "      <td>1.132570</td>\n",
       "      <td>0.021936</td>\n",
       "      <td>0.296131</td>\n",
       "      <td>-0.538598</td>\n",
       "      <td>0.678117</td>\n",
       "      <td>-0.254594</td>\n",
       "      <td>0.383310</td>\n",
       "      <td>-0.812818</td>\n",
       "      <td>-0.525499</td>\n",
       "      <td>-0.300267</td>\n",
       "      <td>-0.854725</td>\n",
       "      <td>-0.418567</td>\n",
       "      <td>-0.677438</td>\n",
       "      <td>3</td>\n",
       "    </tr>\n",
       "    <tr>\n",
       "      <th>2</th>\n",
       "      <td>2</td>\n",
       "      <td>-4.270004</td>\n",
       "      <td>2.533407</td>\n",
       "      <td>4.435022</td>\n",
       "      <td>-0.166208</td>\n",
       "      <td>-0.445744</td>\n",
       "      <td>-1.761277</td>\n",
       "      <td>1.369751</td>\n",
       "      <td>-0.465178</td>\n",
       "      <td>1.352120</td>\n",
       "      <td>1.743309</td>\n",
       "      <td>-0.954453</td>\n",
       "      <td>0.625080</td>\n",
       "      <td>1.652067</td>\n",
       "      <td>1.407656</td>\n",
       "      <td>0.580486</td>\n",
       "      <td>-1.603531</td>\n",
       "      <td>-0.528326</td>\n",
       "      <td>0.630269</td>\n",
       "      <td>0.598570</td>\n",
       "      <td>0.341855</td>\n",
       "      <td>-0.196459</td>\n",
       "      <td>0.289592</td>\n",
       "      <td>-0.379724</td>\n",
       "      <td>-0.393996</td>\n",
       "      <td>0.640393</td>\n",
       "      <td>4</td>\n",
       "    </tr>\n",
       "    <tr>\n",
       "      <th>3</th>\n",
       "      <td>3</td>\n",
       "      <td>2.806240</td>\n",
       "      <td>0.811354</td>\n",
       "      <td>3.138651</td>\n",
       "      <td>0.559976</td>\n",
       "      <td>-2.610698</td>\n",
       "      <td>0.403601</td>\n",
       "      <td>-1.322515</td>\n",
       "      <td>0.595991</td>\n",
       "      <td>-0.060525</td>\n",
       "      <td>-0.493627</td>\n",
       "      <td>-0.158721</td>\n",
       "      <td>-0.719431</td>\n",
       "      <td>-0.097795</td>\n",
       "      <td>0.167915</td>\n",
       "      <td>-0.186324</td>\n",
       "      <td>2.610565</td>\n",
       "      <td>-0.765197</td>\n",
       "      <td>0.678156</td>\n",
       "      <td>-1.357896</td>\n",
       "      <td>0.189924</td>\n",
       "      <td>-0.210269</td>\n",
       "      <td>0.019028</td>\n",
       "      <td>-0.650091</td>\n",
       "      <td>-0.112875</td>\n",
       "      <td>-0.411029</td>\n",
       "      <td>3</td>\n",
       "    </tr>\n",
       "    <tr>\n",
       "      <th>4</th>\n",
       "      <td>4</td>\n",
       "      <td>-4.264058</td>\n",
       "      <td>5.961050</td>\n",
       "      <td>0.091788</td>\n",
       "      <td>-1.359089</td>\n",
       "      <td>-0.437688</td>\n",
       "      <td>2.528713</td>\n",
       "      <td>0.428719</td>\n",
       "      <td>-0.988657</td>\n",
       "      <td>-0.108352</td>\n",
       "      <td>1.651643</td>\n",
       "      <td>-0.458660</td>\n",
       "      <td>-1.425709</td>\n",
       "      <td>-0.142156</td>\n",
       "      <td>0.977313</td>\n",
       "      <td>-0.851160</td>\n",
       "      <td>0.681571</td>\n",
       "      <td>0.866167</td>\n",
       "      <td>-0.433007</td>\n",
       "      <td>0.940494</td>\n",
       "      <td>-1.220986</td>\n",
       "      <td>0.734871</td>\n",
       "      <td>0.097861</td>\n",
       "      <td>-0.253388</td>\n",
       "      <td>0.396006</td>\n",
       "      <td>-0.113749</td>\n",
       "      <td>3</td>\n",
       "    </tr>\n",
       "  </tbody>\n",
       "</table>\n",
       "</div>"
      ],
      "text/plain": [
       "   Unnamed: 0      pca1      pca2      pca3      pca4      pca5      pca6  \\\n",
       "0           0 -4.500581 -1.638596  1.231576 -0.856374 -0.004595 -1.470302   \n",
       "1           1 -4.380218 -0.082700  2.164411 -0.640767  0.094954  0.399433   \n",
       "2           2 -4.270004  2.533407  4.435022 -0.166208 -0.445744 -1.761277   \n",
       "3           3  2.806240  0.811354  3.138651  0.559976 -2.610698  0.403601   \n",
       "4           4 -4.264058  5.961050  0.091788 -1.359089 -0.437688  2.528713   \n",
       "\n",
       "       pca7      pca8      pca9     pca10     pca11     pca12     pca13  \\\n",
       "0  0.190307  0.628849 -1.438901  0.985492  0.074907 -1.208351 -0.230692   \n",
       "1  1.791044  1.128307  0.083643  1.735789 -0.068395 -1.507724  1.132570   \n",
       "2  1.369751 -0.465178  1.352120  1.743309 -0.954453  0.625080  1.652067   \n",
       "3 -1.322515  0.595991 -0.060525 -0.493627 -0.158721 -0.719431 -0.097795   \n",
       "4  0.428719 -0.988657 -0.108352  1.651643 -0.458660 -1.425709 -0.142156   \n",
       "\n",
       "      pca14     pca15     pca16     pca17     pca18     pca19     pca20  \\\n",
       "0  0.642139  1.076937 -1.089882  0.764483  0.412585 -0.706154  0.134430   \n",
       "1  0.021936  0.296131 -0.538598  0.678117 -0.254594  0.383310 -0.812818   \n",
       "2  1.407656  0.580486 -1.603531 -0.528326  0.630269  0.598570  0.341855   \n",
       "3  0.167915 -0.186324  2.610565 -0.765197  0.678156 -1.357896  0.189924   \n",
       "4  0.977313 -0.851160  0.681571  0.866167 -0.433007  0.940494 -1.220986   \n",
       "\n",
       "      pca21     pca22     pca23     pca24     pca25  PerformanceRating  \n",
       "0  0.165226 -0.186988 -0.548228  0.119691 -0.319411                  3  \n",
       "1 -0.525499 -0.300267 -0.854725 -0.418567 -0.677438                  3  \n",
       "2 -0.196459  0.289592 -0.379724 -0.393996  0.640393                  4  \n",
       "3 -0.210269  0.019028 -0.650091 -0.112875 -0.411029                  3  \n",
       "4  0.734871  0.097861 -0.253388  0.396006 -0.113749                  3  "
      ]
     },
     "execution_count": 74,
     "metadata": {},
     "output_type": "execute_result"
    }
   ],
   "source": [
    "\n",
    "principle_df.to_csv('employee_performance_analysis_preprocessed_data.csv')\n",
    "\n",
    "# Reading new preprocess csv file\n",
    "df = pd.read_csv('employee_performance_analysis_preprocessed_data.csv')\n",
    "\n",
    "# Get first five rows \n",
    "df.head()"
   ]
  },
  {
   "cell_type": "code",
   "execution_count": null,
   "id": "fe4eb587",
   "metadata": {},
   "outputs": [],
   "source": []
  }
 ],
 "metadata": {
  "kernelspec": {
   "display_name": "Python 3 (ipykernel)",
   "language": "python",
   "name": "python3"
  },
  "language_info": {
   "codemirror_mode": {
    "name": "ipython",
    "version": 3
   },
   "file_extension": ".py",
   "mimetype": "text/x-python",
   "name": "python",
   "nbconvert_exporter": "python",
   "pygments_lexer": "ipython3",
   "version": "3.9.12"
  }
 },
 "nbformat": 4,
 "nbformat_minor": 5
}
