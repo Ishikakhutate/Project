{
 "cells": [
  {
   "cell_type": "code",
   "execution_count": 1,
   "id": "b5e12204",
   "metadata": {},
   "outputs": [
    {
     "name": "stderr",
     "output_type": "stream",
     "text": [
      "C:\\Users\\HP\\anaconda3\\lib\\site-packages\\scipy\\__init__.py:146: UserWarning: A NumPy version >=1.16.5 and <1.23.0 is required for this version of SciPy (detected version 1.26.4\n",
      "  warnings.warn(f\"A NumPy version >={np_minversion} and <{np_maxversion}\"\n"
     ]
    }
   ],
   "source": [
    "import numpy as np\n",
    "import pandas as pd\n",
    "import seaborn as sns\n",
    "import matplotlib.pyplot as plt\n",
    "import warnings \n",
    "warnings.filterwarnings('ignore')"
   ]
  },
  {
   "cell_type": "markdown",
   "id": "8c8b1d38",
   "metadata": {},
   "source": [
    "# Importing Dataset "
   ]
  },
  {
   "cell_type": "code",
   "execution_count": 2,
   "id": "ce96a996",
   "metadata": {},
   "outputs": [],
   "source": [
    "data = pd.read_csv('salary.csv')"
   ]
  },
  {
   "cell_type": "markdown",
   "id": "e460c8b1",
   "metadata": {},
   "source": [
    "# Basic Checks"
   ]
  },
  {
   "cell_type": "code",
   "execution_count": 3,
   "id": "e66ab741",
   "metadata": {
    "scrolled": true
   },
   "outputs": [
    {
     "data": {
      "text/html": [
       "<div>\n",
       "<style scoped>\n",
       "    .dataframe tbody tr th:only-of-type {\n",
       "        vertical-align: middle;\n",
       "    }\n",
       "\n",
       "    .dataframe tbody tr th {\n",
       "        vertical-align: top;\n",
       "    }\n",
       "\n",
       "    .dataframe thead th {\n",
       "        text-align: right;\n",
       "    }\n",
       "</style>\n",
       "<table border=\"1\" class=\"dataframe\">\n",
       "  <thead>\n",
       "    <tr style=\"text-align: right;\">\n",
       "      <th></th>\n",
       "      <th>AGENCY</th>\n",
       "      <th>AGENCY NAME</th>\n",
       "      <th>LAST NAME</th>\n",
       "      <th>FIRST NAME</th>\n",
       "      <th>MI</th>\n",
       "      <th>CLASS CODE</th>\n",
       "      <th>CLASS TITLE</th>\n",
       "      <th>ETHNICITY</th>\n",
       "      <th>GENDER</th>\n",
       "      <th>STATUS</th>\n",
       "      <th>...</th>\n",
       "      <th>HRLY RATE</th>\n",
       "      <th>HRS PER WK</th>\n",
       "      <th>MONTHLY</th>\n",
       "      <th>ANNUAL</th>\n",
       "      <th>STATE NUMBER</th>\n",
       "      <th>duplicated</th>\n",
       "      <th>multiple_full_time_jobs</th>\n",
       "      <th>combined_multiple_jobs</th>\n",
       "      <th>summed_annual_salary</th>\n",
       "      <th>hide_from_search</th>\n",
       "    </tr>\n",
       "  </thead>\n",
       "  <tbody>\n",
       "    <tr>\n",
       "      <th>0</th>\n",
       "      <td>241</td>\n",
       "      <td>COMPTROLLER OF PUBLIC ACCOUNTS, JUDICIARY SECT...</td>\n",
       "      <td>RUCKER</td>\n",
       "      <td>MORTON</td>\n",
       "      <td>V</td>\n",
       "      <td>JD25</td>\n",
       "      <td>JUDGE, RETIRED                                ...</td>\n",
       "      <td>WHITE</td>\n",
       "      <td>MALE</td>\n",
       "      <td>URP - UNCLASSIFIED REGULAR PART-TIME</td>\n",
       "      <td>...</td>\n",
       "      <td>75.96150</td>\n",
       "      <td>29.0</td>\n",
       "      <td>9545.82</td>\n",
       "      <td>114549.84</td>\n",
       "      <td>127717</td>\n",
       "      <td>True</td>\n",
       "      <td>NaN</td>\n",
       "      <td>NaN</td>\n",
       "      <td>131407.08</td>\n",
       "      <td>NaN</td>\n",
       "    </tr>\n",
       "    <tr>\n",
       "      <th>1</th>\n",
       "      <td>212</td>\n",
       "      <td>OFFICE OF COURT ADMINISTRATION                ...</td>\n",
       "      <td>RUCKER</td>\n",
       "      <td>MORTON</td>\n",
       "      <td>V</td>\n",
       "      <td>3524</td>\n",
       "      <td>GENERAL COUNSEL IV                            ...</td>\n",
       "      <td>WHITE</td>\n",
       "      <td>MALE</td>\n",
       "      <td>CTP - CLASSIFIED TEMPORARY PART-TIME</td>\n",
       "      <td>...</td>\n",
       "      <td>81.04454</td>\n",
       "      <td>4.0</td>\n",
       "      <td>1404.77</td>\n",
       "      <td>16857.24</td>\n",
       "      <td>127717</td>\n",
       "      <td>True</td>\n",
       "      <td>NaN</td>\n",
       "      <td>NaN</td>\n",
       "      <td>NaN</td>\n",
       "      <td>True</td>\n",
       "    </tr>\n",
       "    <tr>\n",
       "      <th>2</th>\n",
       "      <td>241</td>\n",
       "      <td>COMPTROLLER OF PUBLIC ACCOUNTS, JUDICIARY SECT...</td>\n",
       "      <td>SPECIA JR</td>\n",
       "      <td>JOHN</td>\n",
       "      <td>J</td>\n",
       "      <td>JD25</td>\n",
       "      <td>JUDGE, RETIRED                                ...</td>\n",
       "      <td>WHITE</td>\n",
       "      <td>MALE</td>\n",
       "      <td>URP - UNCLASSIFIED REGULAR PART-TIME</td>\n",
       "      <td>...</td>\n",
       "      <td>75.96150</td>\n",
       "      <td>29.0</td>\n",
       "      <td>9545.82</td>\n",
       "      <td>114549.84</td>\n",
       "      <td>59115</td>\n",
       "      <td>True</td>\n",
       "      <td>NaN</td>\n",
       "      <td>NaN</td>\n",
       "      <td>131407.08</td>\n",
       "      <td>NaN</td>\n",
       "    </tr>\n",
       "    <tr>\n",
       "      <th>3</th>\n",
       "      <td>212</td>\n",
       "      <td>OFFICE OF COURT ADMINISTRATION                ...</td>\n",
       "      <td>SPECIA JR</td>\n",
       "      <td>JOHN</td>\n",
       "      <td>J</td>\n",
       "      <td>3524</td>\n",
       "      <td>GENERAL COUNSEL IV                            ...</td>\n",
       "      <td>WHITE</td>\n",
       "      <td>MALE</td>\n",
       "      <td>CTP - CLASSIFIED TEMPORARY PART-TIME</td>\n",
       "      <td>...</td>\n",
       "      <td>81.04453</td>\n",
       "      <td>4.0</td>\n",
       "      <td>1404.77</td>\n",
       "      <td>16857.24</td>\n",
       "      <td>59115</td>\n",
       "      <td>True</td>\n",
       "      <td>NaN</td>\n",
       "      <td>NaN</td>\n",
       "      <td>NaN</td>\n",
       "      <td>True</td>\n",
       "    </tr>\n",
       "    <tr>\n",
       "      <th>4</th>\n",
       "      <td>696</td>\n",
       "      <td>TEXAS DEPARTMENT OF CRIMINAL JUSTICE          ...</td>\n",
       "      <td>ONTIVEROS</td>\n",
       "      <td>ESTHER</td>\n",
       "      <td></td>\n",
       "      <td>4504</td>\n",
       "      <td>CORREC  OFFICER IV                            ...</td>\n",
       "      <td>HISPANIC</td>\n",
       "      <td>FEMALE</td>\n",
       "      <td>CRF - CLASSIFIED REGULAR FULL-TIME</td>\n",
       "      <td>...</td>\n",
       "      <td>0.00000</td>\n",
       "      <td>40.0</td>\n",
       "      <td>3284.27</td>\n",
       "      <td>39411.24</td>\n",
       "      <td>165030</td>\n",
       "      <td>True</td>\n",
       "      <td>1.0</td>\n",
       "      <td>NaN</td>\n",
       "      <td>NaN</td>\n",
       "      <td>NaN</td>\n",
       "    </tr>\n",
       "  </tbody>\n",
       "</table>\n",
       "<p>5 rows × 21 columns</p>\n",
       "</div>"
      ],
      "text/plain": [
       "   AGENCY                                        AGENCY NAME  \\\n",
       "0     241  COMPTROLLER OF PUBLIC ACCOUNTS, JUDICIARY SECT...   \n",
       "1     212  OFFICE OF COURT ADMINISTRATION                ...   \n",
       "2     241  COMPTROLLER OF PUBLIC ACCOUNTS, JUDICIARY SECT...   \n",
       "3     212  OFFICE OF COURT ADMINISTRATION                ...   \n",
       "4     696  TEXAS DEPARTMENT OF CRIMINAL JUSTICE          ...   \n",
       "\n",
       "                        LAST NAME                      FIRST NAME MI  \\\n",
       "0  RUCKER                          MORTON                          V   \n",
       "1  RUCKER                          MORTON                          V   \n",
       "2  SPECIA JR                       JOHN                            J   \n",
       "3  SPECIA JR                       JOHN                            J   \n",
       "4  ONTIVEROS                       ESTHER                              \n",
       "\n",
       "  CLASS CODE                                        CLASS TITLE  \\\n",
       "0   JD25      JUDGE, RETIRED                                ...   \n",
       "1   3524      GENERAL COUNSEL IV                            ...   \n",
       "2   JD25      JUDGE, RETIRED                                ...   \n",
       "3   3524      GENERAL COUNSEL IV                            ...   \n",
       "4   4504      CORREC  OFFICER IV                            ...   \n",
       "\n",
       "         ETHNICITY           GENDER                                    STATUS  \\\n",
       "0  WHITE            MALE             URP - UNCLASSIFIED REGULAR PART-TIME       \n",
       "1  WHITE            MALE             CTP - CLASSIFIED TEMPORARY PART-TIME       \n",
       "2  WHITE            MALE             URP - UNCLASSIFIED REGULAR PART-TIME       \n",
       "3  WHITE            MALE             CTP - CLASSIFIED TEMPORARY PART-TIME       \n",
       "4  HISPANIC         FEMALE           CRF - CLASSIFIED REGULAR FULL-TIME         \n",
       "\n",
       "   ... HRLY RATE  HRS PER WK  MONTHLY     ANNUAL  STATE NUMBER  duplicated  \\\n",
       "0  ...  75.96150        29.0  9545.82  114549.84        127717        True   \n",
       "1  ...  81.04454         4.0  1404.77   16857.24        127717        True   \n",
       "2  ...  75.96150        29.0  9545.82  114549.84         59115        True   \n",
       "3  ...  81.04453         4.0  1404.77   16857.24         59115        True   \n",
       "4  ...   0.00000        40.0  3284.27   39411.24        165030        True   \n",
       "\n",
       "  multiple_full_time_jobs  combined_multiple_jobs summed_annual_salary  \\\n",
       "0                     NaN                     NaN            131407.08   \n",
       "1                     NaN                     NaN                  NaN   \n",
       "2                     NaN                     NaN            131407.08   \n",
       "3                     NaN                     NaN                  NaN   \n",
       "4                     1.0                     NaN                  NaN   \n",
       "\n",
       "   hide_from_search  \n",
       "0               NaN  \n",
       "1              True  \n",
       "2               NaN  \n",
       "3              True  \n",
       "4               NaN  \n",
       "\n",
       "[5 rows x 21 columns]"
      ]
     },
     "execution_count": 3,
     "metadata": {},
     "output_type": "execute_result"
    }
   ],
   "source": [
    "data.head()"
   ]
  },
  {
   "cell_type": "code",
   "execution_count": 4,
   "id": "1f35e629",
   "metadata": {},
   "outputs": [
    {
     "data": {
      "text/html": [
       "<div>\n",
       "<style scoped>\n",
       "    .dataframe tbody tr th:only-of-type {\n",
       "        vertical-align: middle;\n",
       "    }\n",
       "\n",
       "    .dataframe tbody tr th {\n",
       "        vertical-align: top;\n",
       "    }\n",
       "\n",
       "    .dataframe thead th {\n",
       "        text-align: right;\n",
       "    }\n",
       "</style>\n",
       "<table border=\"1\" class=\"dataframe\">\n",
       "  <thead>\n",
       "    <tr style=\"text-align: right;\">\n",
       "      <th></th>\n",
       "      <th>AGENCY</th>\n",
       "      <th>AGENCY NAME</th>\n",
       "      <th>LAST NAME</th>\n",
       "      <th>FIRST NAME</th>\n",
       "      <th>MI</th>\n",
       "      <th>CLASS CODE</th>\n",
       "      <th>CLASS TITLE</th>\n",
       "      <th>ETHNICITY</th>\n",
       "      <th>GENDER</th>\n",
       "      <th>STATUS</th>\n",
       "      <th>...</th>\n",
       "      <th>HRLY RATE</th>\n",
       "      <th>HRS PER WK</th>\n",
       "      <th>MONTHLY</th>\n",
       "      <th>ANNUAL</th>\n",
       "      <th>STATE NUMBER</th>\n",
       "      <th>duplicated</th>\n",
       "      <th>multiple_full_time_jobs</th>\n",
       "      <th>combined_multiple_jobs</th>\n",
       "      <th>summed_annual_salary</th>\n",
       "      <th>hide_from_search</th>\n",
       "    </tr>\n",
       "  </thead>\n",
       "  <tbody>\n",
       "    <tr>\n",
       "      <th>149476</th>\n",
       "      <td>809</td>\n",
       "      <td>STATE PRESERVATION BOARD                      ...</td>\n",
       "      <td>WESSELS</td>\n",
       "      <td>JOHN</td>\n",
       "      <td>P</td>\n",
       "      <td>6232</td>\n",
       "      <td>SECURITY OFFICER III                          ...</td>\n",
       "      <td>WHITE</td>\n",
       "      <td>MALE</td>\n",
       "      <td>CRF - CLASSIFIED REGULAR FULL-TIME</td>\n",
       "      <td>...</td>\n",
       "      <td>0.00</td>\n",
       "      <td>40.0</td>\n",
       "      <td>2899.00</td>\n",
       "      <td>34788.00</td>\n",
       "      <td>770781</td>\n",
       "      <td>NaN</td>\n",
       "      <td>NaN</td>\n",
       "      <td>NaN</td>\n",
       "      <td>NaN</td>\n",
       "      <td>NaN</td>\n",
       "    </tr>\n",
       "    <tr>\n",
       "      <th>149477</th>\n",
       "      <td>809</td>\n",
       "      <td>STATE PRESERVATION BOARD                      ...</td>\n",
       "      <td>WINDHAM</td>\n",
       "      <td>EVAN</td>\n",
       "      <td>A</td>\n",
       "      <td>0302</td>\n",
       "      <td>WEB ADMINISTRATOR III                         ...</td>\n",
       "      <td>WHITE</td>\n",
       "      <td>FEMALE</td>\n",
       "      <td>CRF - CLASSIFIED REGULAR FULL-TIME</td>\n",
       "      <td>...</td>\n",
       "      <td>0.00</td>\n",
       "      <td>40.0</td>\n",
       "      <td>5500.00</td>\n",
       "      <td>66000.00</td>\n",
       "      <td>847431</td>\n",
       "      <td>NaN</td>\n",
       "      <td>NaN</td>\n",
       "      <td>NaN</td>\n",
       "      <td>NaN</td>\n",
       "      <td>NaN</td>\n",
       "    </tr>\n",
       "    <tr>\n",
       "      <th>149478</th>\n",
       "      <td>809</td>\n",
       "      <td>STATE PRESERVATION BOARD                      ...</td>\n",
       "      <td>WRIGHT</td>\n",
       "      <td>DERRICK</td>\n",
       "      <td>C</td>\n",
       "      <td>0130</td>\n",
       "      <td>CUSTOMER SERVICE REP I                        ...</td>\n",
       "      <td>WHITE</td>\n",
       "      <td>MALE</td>\n",
       "      <td>CRP - CLASSIFIED REGULAR PART-TIME</td>\n",
       "      <td>...</td>\n",
       "      <td>12.93</td>\n",
       "      <td>20.0</td>\n",
       "      <td>1120.60</td>\n",
       "      <td>13447.20</td>\n",
       "      <td>34266</td>\n",
       "      <td>NaN</td>\n",
       "      <td>NaN</td>\n",
       "      <td>NaN</td>\n",
       "      <td>NaN</td>\n",
       "      <td>NaN</td>\n",
       "    </tr>\n",
       "    <tr>\n",
       "      <th>149479</th>\n",
       "      <td>809</td>\n",
       "      <td>STATE PRESERVATION BOARD                      ...</td>\n",
       "      <td>YOUNG</td>\n",
       "      <td>DOUGLAS</td>\n",
       "      <td>R</td>\n",
       "      <td>1572</td>\n",
       "      <td>PROGRAM SPECIALIST III                        ...</td>\n",
       "      <td>WHITE</td>\n",
       "      <td>MALE</td>\n",
       "      <td>CRF - CLASSIFIED REGULAR FULL-TIME</td>\n",
       "      <td>...</td>\n",
       "      <td>0.00</td>\n",
       "      <td>40.0</td>\n",
       "      <td>5744.16</td>\n",
       "      <td>68929.92</td>\n",
       "      <td>123490</td>\n",
       "      <td>NaN</td>\n",
       "      <td>NaN</td>\n",
       "      <td>NaN</td>\n",
       "      <td>NaN</td>\n",
       "      <td>NaN</td>\n",
       "    </tr>\n",
       "    <tr>\n",
       "      <th>149480</th>\n",
       "      <td>809</td>\n",
       "      <td>STATE PRESERVATION BOARD                      ...</td>\n",
       "      <td>ZUNKER</td>\n",
       "      <td>GEORGIA</td>\n",
       "      <td>P</td>\n",
       "      <td>0130</td>\n",
       "      <td>CUSTOMER SERVICE REP I                        ...</td>\n",
       "      <td>WHITE</td>\n",
       "      <td>FEMALE</td>\n",
       "      <td>CRP - CLASSIFIED REGULAR PART-TIME</td>\n",
       "      <td>...</td>\n",
       "      <td>11.74</td>\n",
       "      <td>20.0</td>\n",
       "      <td>1017.46</td>\n",
       "      <td>12209.52</td>\n",
       "      <td>103583</td>\n",
       "      <td>NaN</td>\n",
       "      <td>NaN</td>\n",
       "      <td>NaN</td>\n",
       "      <td>NaN</td>\n",
       "      <td>NaN</td>\n",
       "    </tr>\n",
       "  </tbody>\n",
       "</table>\n",
       "<p>5 rows × 21 columns</p>\n",
       "</div>"
      ],
      "text/plain": [
       "        AGENCY                                        AGENCY NAME  \\\n",
       "149476     809  STATE PRESERVATION BOARD                      ...   \n",
       "149477     809  STATE PRESERVATION BOARD                      ...   \n",
       "149478     809  STATE PRESERVATION BOARD                      ...   \n",
       "149479     809  STATE PRESERVATION BOARD                      ...   \n",
       "149480     809  STATE PRESERVATION BOARD                      ...   \n",
       "\n",
       "                             LAST NAME                      FIRST NAME MI  \\\n",
       "149476  WESSELS                         JOHN                            P   \n",
       "149477  WINDHAM                         EVAN                            A   \n",
       "149478  WRIGHT                          DERRICK                         C   \n",
       "149479  YOUNG                           DOUGLAS                         R   \n",
       "149480  ZUNKER                          GEORGIA                         P   \n",
       "\n",
       "       CLASS CODE                                        CLASS TITLE  \\\n",
       "149476   6232      SECURITY OFFICER III                          ...   \n",
       "149477   0302      WEB ADMINISTRATOR III                         ...   \n",
       "149478   0130      CUSTOMER SERVICE REP I                        ...   \n",
       "149479   1572      PROGRAM SPECIALIST III                        ...   \n",
       "149480   0130      CUSTOMER SERVICE REP I                        ...   \n",
       "\n",
       "              ETHNICITY           GENDER  \\\n",
       "149476  WHITE            MALE              \n",
       "149477  WHITE            FEMALE            \n",
       "149478  WHITE            MALE              \n",
       "149479  WHITE            MALE              \n",
       "149480  WHITE            FEMALE            \n",
       "\n",
       "                                          STATUS  ... HRLY RATE  HRS PER WK  \\\n",
       "149476  CRF - CLASSIFIED REGULAR FULL-TIME        ...      0.00        40.0   \n",
       "149477  CRF - CLASSIFIED REGULAR FULL-TIME        ...      0.00        40.0   \n",
       "149478  CRP - CLASSIFIED REGULAR PART-TIME        ...     12.93        20.0   \n",
       "149479  CRF - CLASSIFIED REGULAR FULL-TIME        ...      0.00        40.0   \n",
       "149480  CRP - CLASSIFIED REGULAR PART-TIME        ...     11.74        20.0   \n",
       "\n",
       "        MONTHLY    ANNUAL  STATE NUMBER  duplicated multiple_full_time_jobs  \\\n",
       "149476  2899.00  34788.00        770781         NaN                     NaN   \n",
       "149477  5500.00  66000.00        847431         NaN                     NaN   \n",
       "149478  1120.60  13447.20         34266         NaN                     NaN   \n",
       "149479  5744.16  68929.92        123490         NaN                     NaN   \n",
       "149480  1017.46  12209.52        103583         NaN                     NaN   \n",
       "\n",
       "        combined_multiple_jobs summed_annual_salary  hide_from_search  \n",
       "149476                     NaN                  NaN               NaN  \n",
       "149477                     NaN                  NaN               NaN  \n",
       "149478                     NaN                  NaN               NaN  \n",
       "149479                     NaN                  NaN               NaN  \n",
       "149480                     NaN                  NaN               NaN  \n",
       "\n",
       "[5 rows x 21 columns]"
      ]
     },
     "execution_count": 4,
     "metadata": {},
     "output_type": "execute_result"
    }
   ],
   "source": [
    "data.tail()"
   ]
  },
  {
   "cell_type": "code",
   "execution_count": 5,
   "id": "02b88d50",
   "metadata": {
    "scrolled": true
   },
   "outputs": [
    {
     "data": {
      "text/plain": [
       "Index(['AGENCY', 'AGENCY NAME', 'LAST NAME', 'FIRST NAME', 'MI', 'CLASS CODE',\n",
       "       'CLASS TITLE', 'ETHNICITY', 'GENDER', 'STATUS', 'EMPLOY DATE',\n",
       "       'HRLY RATE', 'HRS PER WK', 'MONTHLY', 'ANNUAL', 'STATE NUMBER',\n",
       "       'duplicated', 'multiple_full_time_jobs', 'combined_multiple_jobs',\n",
       "       'summed_annual_salary', 'hide_from_search'],\n",
       "      dtype='object')"
      ]
     },
     "execution_count": 5,
     "metadata": {},
     "output_type": "execute_result"
    }
   ],
   "source": [
    "data.columns"
   ]
  },
  {
   "cell_type": "code",
   "execution_count": 6,
   "id": "b3591885",
   "metadata": {
    "scrolled": false
   },
   "outputs": [
    {
     "data": {
      "text/plain": [
       "AGENCY                       int64\n",
       "AGENCY NAME                 object\n",
       "LAST NAME                   object\n",
       "FIRST NAME                  object\n",
       "MI                          object\n",
       "CLASS CODE                  object\n",
       "CLASS TITLE                 object\n",
       "ETHNICITY                   object\n",
       "GENDER                      object\n",
       "STATUS                      object\n",
       "EMPLOY DATE                 object\n",
       "HRLY RATE                  float64\n",
       "HRS PER WK                 float64\n",
       "MONTHLY                    float64\n",
       "ANNUAL                     float64\n",
       "STATE NUMBER                 int64\n",
       "duplicated                  object\n",
       "multiple_full_time_jobs    float64\n",
       "combined_multiple_jobs      object\n",
       "summed_annual_salary       float64\n",
       "hide_from_search            object\n",
       "dtype: object"
      ]
     },
     "execution_count": 6,
     "metadata": {},
     "output_type": "execute_result"
    }
   ],
   "source": [
    "data.dtypes"
   ]
  },
  {
   "cell_type": "code",
   "execution_count": 7,
   "id": "e4185f9a",
   "metadata": {
    "scrolled": true
   },
   "outputs": [
    {
     "data": {
      "text/plain": [
       "(149481, 21)"
      ]
     },
     "execution_count": 7,
     "metadata": {},
     "output_type": "execute_result"
    }
   ],
   "source": [
    "data.shape"
   ]
  },
  {
   "cell_type": "code",
   "execution_count": 8,
   "id": "9e8e9cd4",
   "metadata": {},
   "outputs": [
    {
     "data": {
      "text/plain": [
       "0"
      ]
     },
     "execution_count": 8,
     "metadata": {},
     "output_type": "execute_result"
    }
   ],
   "source": [
    "data.duplicated().sum()"
   ]
  },
  {
   "cell_type": "markdown",
   "id": "afa87776",
   "metadata": {},
   "source": [
    "# Summary Statistics"
   ]
  },
  {
   "cell_type": "code",
   "execution_count": 9,
   "id": "c2f999d4",
   "metadata": {},
   "outputs": [
    {
     "name": "stdout",
     "output_type": "stream",
     "text": [
      "Number of rows: 149481\n",
      "Number of columns: 21\n"
     ]
    }
   ],
   "source": [
    "# Check the dimensions of the dataset\n",
    "print(\"Number of rows:\", data.shape[0])\n",
    "print(\"Number of columns:\", data.shape[1])"
   ]
  },
  {
   "cell_type": "code",
   "execution_count": 10,
   "id": "0287cfb4",
   "metadata": {},
   "outputs": [
    {
     "name": "stdout",
     "output_type": "stream",
     "text": [
      "<class 'pandas.core.frame.DataFrame'>\n",
      "RangeIndex: 149481 entries, 0 to 149480\n",
      "Data columns (total 21 columns):\n",
      " #   Column                   Non-Null Count   Dtype  \n",
      "---  ------                   --------------   -----  \n",
      " 0   AGENCY                   149481 non-null  int64  \n",
      " 1   AGENCY NAME              149481 non-null  object \n",
      " 2   LAST NAME                149481 non-null  object \n",
      " 3   FIRST NAME               149481 non-null  object \n",
      " 4   MI                       149481 non-null  object \n",
      " 5   CLASS CODE               149481 non-null  object \n",
      " 6   CLASS TITLE              149481 non-null  object \n",
      " 7   ETHNICITY                149481 non-null  object \n",
      " 8   GENDER                   149481 non-null  object \n",
      " 9   STATUS                   149481 non-null  object \n",
      " 10  EMPLOY DATE              149481 non-null  object \n",
      " 11  HRLY RATE                149481 non-null  float64\n",
      " 12  HRS PER WK               149481 non-null  float64\n",
      " 13  MONTHLY                  149481 non-null  float64\n",
      " 14  ANNUAL                   149481 non-null  float64\n",
      " 15  STATE NUMBER             149481 non-null  int64  \n",
      " 16  duplicated               143 non-null     object \n",
      " 17  multiple_full_time_jobs  14 non-null      float64\n",
      " 18  combined_multiple_jobs   97 non-null      object \n",
      " 19  summed_annual_salary     16 non-null      float64\n",
      " 20  hide_from_search         16 non-null      object \n",
      "dtypes: float64(6), int64(2), object(13)\n",
      "memory usage: 23.9+ MB\n"
     ]
    }
   ],
   "source": [
    "data.info()"
   ]
  },
  {
   "cell_type": "code",
   "execution_count": 11,
   "id": "9ac07380",
   "metadata": {},
   "outputs": [
    {
     "data": {
      "text/html": [
       "<div>\n",
       "<style scoped>\n",
       "    .dataframe tbody tr th:only-of-type {\n",
       "        vertical-align: middle;\n",
       "    }\n",
       "\n",
       "    .dataframe tbody tr th {\n",
       "        vertical-align: top;\n",
       "    }\n",
       "\n",
       "    .dataframe thead th {\n",
       "        text-align: right;\n",
       "    }\n",
       "</style>\n",
       "<table border=\"1\" class=\"dataframe\">\n",
       "  <thead>\n",
       "    <tr style=\"text-align: right;\">\n",
       "      <th></th>\n",
       "      <th>AGENCY</th>\n",
       "      <th>HRLY RATE</th>\n",
       "      <th>HRS PER WK</th>\n",
       "      <th>MONTHLY</th>\n",
       "      <th>ANNUAL</th>\n",
       "      <th>STATE NUMBER</th>\n",
       "      <th>multiple_full_time_jobs</th>\n",
       "      <th>summed_annual_salary</th>\n",
       "    </tr>\n",
       "  </thead>\n",
       "  <tbody>\n",
       "    <tr>\n",
       "      <th>count</th>\n",
       "      <td>149481.000000</td>\n",
       "      <td>149481.000000</td>\n",
       "      <td>149481.000000</td>\n",
       "      <td>149481.000000</td>\n",
       "      <td>149481.000000</td>\n",
       "      <td>1.494810e+05</td>\n",
       "      <td>14.0</td>\n",
       "      <td>16.000000</td>\n",
       "    </tr>\n",
       "    <tr>\n",
       "      <th>mean</th>\n",
       "      <td>545.736288</td>\n",
       "      <td>0.346488</td>\n",
       "      <td>39.714918</td>\n",
       "      <td>4226.184248</td>\n",
       "      <td>50714.210973</td>\n",
       "      <td>5.651930e+05</td>\n",
       "      <td>1.0</td>\n",
       "      <td>74303.955000</td>\n",
       "    </tr>\n",
       "    <tr>\n",
       "      <th>std</th>\n",
       "      <td>139.057691</td>\n",
       "      <td>4.211485</td>\n",
       "      <td>2.323855</td>\n",
       "      <td>2093.111691</td>\n",
       "      <td>25117.340292</td>\n",
       "      <td>4.786212e+05</td>\n",
       "      <td>0.0</td>\n",
       "      <td>51925.944282</td>\n",
       "    </tr>\n",
       "    <tr>\n",
       "      <th>min</th>\n",
       "      <td>101.000000</td>\n",
       "      <td>0.000000</td>\n",
       "      <td>1.000000</td>\n",
       "      <td>50.000000</td>\n",
       "      <td>600.000000</td>\n",
       "      <td>1.000000e+00</td>\n",
       "      <td>1.0</td>\n",
       "      <td>18000.000000</td>\n",
       "    </tr>\n",
       "    <tr>\n",
       "      <th>25%</th>\n",
       "      <td>529.000000</td>\n",
       "      <td>0.000000</td>\n",
       "      <td>40.000000</td>\n",
       "      <td>3019.840000</td>\n",
       "      <td>36238.080000</td>\n",
       "      <td>1.133340e+05</td>\n",
       "      <td>1.0</td>\n",
       "      <td>32962.500000</td>\n",
       "    </tr>\n",
       "    <tr>\n",
       "      <th>50%</th>\n",
       "      <td>530.000000</td>\n",
       "      <td>0.000000</td>\n",
       "      <td>40.000000</td>\n",
       "      <td>3720.170000</td>\n",
       "      <td>44642.040000</td>\n",
       "      <td>3.463730e+05</td>\n",
       "      <td>1.0</td>\n",
       "      <td>48063.300000</td>\n",
       "    </tr>\n",
       "    <tr>\n",
       "      <th>75%</th>\n",
       "      <td>696.000000</td>\n",
       "      <td>0.000000</td>\n",
       "      <td>40.000000</td>\n",
       "      <td>4865.810000</td>\n",
       "      <td>58389.720000</td>\n",
       "      <td>1.100500e+06</td>\n",
       "      <td>1.0</td>\n",
       "      <td>123751.770000</td>\n",
       "    </tr>\n",
       "    <tr>\n",
       "      <th>max</th>\n",
       "      <td>930.000000</td>\n",
       "      <td>117.788480</td>\n",
       "      <td>70.000000</td>\n",
       "      <td>46125.000000</td>\n",
       "      <td>553500.000000</td>\n",
       "      <td>1.271604e+06</td>\n",
       "      <td>1.0</td>\n",
       "      <td>171383.400000</td>\n",
       "    </tr>\n",
       "  </tbody>\n",
       "</table>\n",
       "</div>"
      ],
      "text/plain": [
       "              AGENCY      HRLY RATE     HRS PER WK        MONTHLY  \\\n",
       "count  149481.000000  149481.000000  149481.000000  149481.000000   \n",
       "mean      545.736288       0.346488      39.714918    4226.184248   \n",
       "std       139.057691       4.211485       2.323855    2093.111691   \n",
       "min       101.000000       0.000000       1.000000      50.000000   \n",
       "25%       529.000000       0.000000      40.000000    3019.840000   \n",
       "50%       530.000000       0.000000      40.000000    3720.170000   \n",
       "75%       696.000000       0.000000      40.000000    4865.810000   \n",
       "max       930.000000     117.788480      70.000000   46125.000000   \n",
       "\n",
       "              ANNUAL  STATE NUMBER  multiple_full_time_jobs  \\\n",
       "count  149481.000000  1.494810e+05                     14.0   \n",
       "mean    50714.210973  5.651930e+05                      1.0   \n",
       "std     25117.340292  4.786212e+05                      0.0   \n",
       "min       600.000000  1.000000e+00                      1.0   \n",
       "25%     36238.080000  1.133340e+05                      1.0   \n",
       "50%     44642.040000  3.463730e+05                      1.0   \n",
       "75%     58389.720000  1.100500e+06                      1.0   \n",
       "max    553500.000000  1.271604e+06                      1.0   \n",
       "\n",
       "       summed_annual_salary  \n",
       "count             16.000000  \n",
       "mean           74303.955000  \n",
       "std            51925.944282  \n",
       "min            18000.000000  \n",
       "25%            32962.500000  \n",
       "50%            48063.300000  \n",
       "75%           123751.770000  \n",
       "max           171383.400000  "
      ]
     },
     "execution_count": 11,
     "metadata": {},
     "output_type": "execute_result"
    }
   ],
   "source": [
    "data.describe()"
   ]
  },
  {
   "cell_type": "code",
   "execution_count": 12,
   "id": "0177efc1",
   "metadata": {
    "scrolled": true
   },
   "outputs": [
    {
     "data": {
      "text/html": [
       "<div>\n",
       "<style scoped>\n",
       "    .dataframe tbody tr th:only-of-type {\n",
       "        vertical-align: middle;\n",
       "    }\n",
       "\n",
       "    .dataframe tbody tr th {\n",
       "        vertical-align: top;\n",
       "    }\n",
       "\n",
       "    .dataframe thead th {\n",
       "        text-align: right;\n",
       "    }\n",
       "</style>\n",
       "<table border=\"1\" class=\"dataframe\">\n",
       "  <thead>\n",
       "    <tr style=\"text-align: right;\">\n",
       "      <th></th>\n",
       "      <th>AGENCY NAME</th>\n",
       "      <th>LAST NAME</th>\n",
       "      <th>FIRST NAME</th>\n",
       "      <th>MI</th>\n",
       "      <th>CLASS CODE</th>\n",
       "      <th>CLASS TITLE</th>\n",
       "      <th>ETHNICITY</th>\n",
       "      <th>GENDER</th>\n",
       "      <th>STATUS</th>\n",
       "      <th>EMPLOY DATE</th>\n",
       "      <th>duplicated</th>\n",
       "      <th>combined_multiple_jobs</th>\n",
       "      <th>hide_from_search</th>\n",
       "    </tr>\n",
       "  </thead>\n",
       "  <tbody>\n",
       "    <tr>\n",
       "      <th>count</th>\n",
       "      <td>149481</td>\n",
       "      <td>149481</td>\n",
       "      <td>149481</td>\n",
       "      <td>149481</td>\n",
       "      <td>149481</td>\n",
       "      <td>149481</td>\n",
       "      <td>149481</td>\n",
       "      <td>149481</td>\n",
       "      <td>149481</td>\n",
       "      <td>149481</td>\n",
       "      <td>143</td>\n",
       "      <td>97</td>\n",
       "      <td>16</td>\n",
       "    </tr>\n",
       "    <tr>\n",
       "      <th>unique</th>\n",
       "      <td>113</td>\n",
       "      <td>38675</td>\n",
       "      <td>23559</td>\n",
       "      <td>27</td>\n",
       "      <td>1481</td>\n",
       "      <td>1422</td>\n",
       "      <td>6</td>\n",
       "      <td>2</td>\n",
       "      <td>11</td>\n",
       "      <td>6295</td>\n",
       "      <td>1</td>\n",
       "      <td>1</td>\n",
       "      <td>1</td>\n",
       "    </tr>\n",
       "    <tr>\n",
       "      <th>top</th>\n",
       "      <td>HEALTH AND HUMAN SERVICES COMMISSION          ...</td>\n",
       "      <td>SMITH</td>\n",
       "      <td>MICHAEL</td>\n",
       "      <td></td>\n",
       "      <td>4504</td>\n",
       "      <td>CORREC  OFFICER IV                            ...</td>\n",
       "      <td>WHITE</td>\n",
       "      <td>FEMALE</td>\n",
       "      <td>CRF - CLASSIFIED REGULAR FULL-TIME</td>\n",
       "      <td>09/01/17</td>\n",
       "      <td>True</td>\n",
       "      <td>True</td>\n",
       "      <td>True</td>\n",
       "    </tr>\n",
       "    <tr>\n",
       "      <th>freq</th>\n",
       "      <td>36667</td>\n",
       "      <td>1243</td>\n",
       "      <td>1843</td>\n",
       "      <td>38408</td>\n",
       "      <td>9267</td>\n",
       "      <td>9267</td>\n",
       "      <td>67142</td>\n",
       "      <td>85328</td>\n",
       "      <td>142502</td>\n",
       "      <td>12359</td>\n",
       "      <td>143</td>\n",
       "      <td>97</td>\n",
       "      <td>16</td>\n",
       "    </tr>\n",
       "  </tbody>\n",
       "</table>\n",
       "</div>"
      ],
      "text/plain": [
       "                                              AGENCY NAME  \\\n",
       "count                                              149481   \n",
       "unique                                                113   \n",
       "top     HEALTH AND HUMAN SERVICES COMMISSION          ...   \n",
       "freq                                                36667   \n",
       "\n",
       "                             LAST NAME                      FIRST NAME  \\\n",
       "count                           149481                          149481   \n",
       "unique                           38675                           23559   \n",
       "top     SMITH                           MICHAEL                          \n",
       "freq                              1243                            1843   \n",
       "\n",
       "            MI CLASS CODE                                        CLASS TITLE  \\\n",
       "count   149481     149481                                             149481   \n",
       "unique      27       1481                                               1422   \n",
       "top              4504      CORREC  OFFICER IV                            ...   \n",
       "freq     38408       9267                                               9267   \n",
       "\n",
       "              ETHNICITY           GENDER  \\\n",
       "count            149481           149481   \n",
       "unique                6                2   \n",
       "top     WHITE            FEMALE            \n",
       "freq              67142            85328   \n",
       "\n",
       "                                          STATUS EMPLOY DATE duplicated  \\\n",
       "count                                     149481      149481        143   \n",
       "unique                                        11        6295          1   \n",
       "top     CRF - CLASSIFIED REGULAR FULL-TIME          09/01/17       True   \n",
       "freq                                      142502       12359        143   \n",
       "\n",
       "       combined_multiple_jobs hide_from_search  \n",
       "count                      97               16  \n",
       "unique                      1                1  \n",
       "top                      True             True  \n",
       "freq                       97               16  "
      ]
     },
     "execution_count": 12,
     "metadata": {},
     "output_type": "execute_result"
    }
   ],
   "source": [
    "data.describe( include = 'O')"
   ]
  },
  {
   "cell_type": "code",
   "execution_count": 13,
   "id": "dd0bc7cf",
   "metadata": {
    "scrolled": true
   },
   "outputs": [
    {
     "name": "stdout",
     "output_type": "stream",
     "text": [
      " \n",
      "Count total NaN at each column in a DataFrame : \n",
      "\n",
      " AGENCY                          0\n",
      "AGENCY NAME                     0\n",
      "LAST NAME                       0\n",
      "FIRST NAME                      0\n",
      "MI                              0\n",
      "CLASS CODE                      0\n",
      "CLASS TITLE                     0\n",
      "ETHNICITY                       0\n",
      "GENDER                          0\n",
      "STATUS                          0\n",
      "EMPLOY DATE                     0\n",
      "HRLY RATE                       0\n",
      "HRS PER WK                      0\n",
      "MONTHLY                         0\n",
      "ANNUAL                          0\n",
      "STATE NUMBER                    0\n",
      "duplicated                 149338\n",
      "multiple_full_time_jobs    149467\n",
      "combined_multiple_jobs     149384\n",
      "summed_annual_salary       149465\n",
      "hide_from_search           149465\n",
      "dtype: int64\n"
     ]
    }
   ],
   "source": [
    "#Checking NaN values \n",
    "\n",
    "print(\" \\nCount total NaN at each column in a DataFrame : \\n\\n\",\n",
    "data.isnull().sum())\n"
   ]
  },
  {
   "cell_type": "markdown",
   "id": "3cf9976c",
   "metadata": {},
   "source": [
    "Columns: duplicated , multiple_full_time_jobs,combined_multiple_jobs ,summed_annual_salary,hide_from_search contains Nan Values "
   ]
  },
  {
   "cell_type": "markdown",
   "id": "adda5e1f",
   "metadata": {},
   "source": [
    "1. Duplicated \n"
   ]
  },
  {
   "cell_type": "code",
   "execution_count": 14,
   "id": "6d46df16",
   "metadata": {},
   "outputs": [
    {
     "data": {
      "text/plain": [
       "True    143\n",
       "Name: duplicated, dtype: int64"
      ]
     },
     "execution_count": 14,
     "metadata": {},
     "output_type": "execute_result"
    }
   ],
   "source": [
    "data['duplicated'].value_counts()"
   ]
  },
  {
   "cell_type": "code",
   "execution_count": 15,
   "id": "b98ac2e7",
   "metadata": {},
   "outputs": [],
   "source": [
    "# Fill NaN values in a specific column with mode (most frequent value)\n",
    "data['duplicated'] = data['duplicated'].fillna(data['duplicated'].mode()[0])"
   ]
  },
  {
   "cell_type": "markdown",
   "id": "5b279050",
   "metadata": {},
   "source": [
    "2.multiple_full_time_jobs"
   ]
  },
  {
   "cell_type": "code",
   "execution_count": 16,
   "id": "2fd83a1a",
   "metadata": {
    "scrolled": false
   },
   "outputs": [
    {
     "data": {
      "text/plain": [
       "1.0    14\n",
       "Name: multiple_full_time_jobs, dtype: int64"
      ]
     },
     "execution_count": 16,
     "metadata": {},
     "output_type": "execute_result"
    }
   ],
   "source": [
    "data['multiple_full_time_jobs'].value_counts()"
   ]
  },
  {
   "cell_type": "code",
   "execution_count": 17,
   "id": "c131a9c4",
   "metadata": {},
   "outputs": [],
   "source": [
    "data['multiple_full_time_jobs'] = data['multiple_full_time_jobs'].fillna(data['multiple_full_time_jobs'].mode()[0])"
   ]
  },
  {
   "cell_type": "markdown",
   "id": "478badbb",
   "metadata": {},
   "source": [
    "3.combined_multiple_jobs"
   ]
  },
  {
   "cell_type": "code",
   "execution_count": 18,
   "id": "adfbd37e",
   "metadata": {},
   "outputs": [
    {
     "data": {
      "text/plain": [
       "True    97\n",
       "Name: combined_multiple_jobs, dtype: int64"
      ]
     },
     "execution_count": 18,
     "metadata": {},
     "output_type": "execute_result"
    }
   ],
   "source": [
    "data['combined_multiple_jobs'].value_counts()"
   ]
  },
  {
   "cell_type": "code",
   "execution_count": 19,
   "id": "447ddf7d",
   "metadata": {},
   "outputs": [],
   "source": [
    "data['combined_multiple_jobs'] = data['combined_multiple_jobs'].fillna(data['combined_multiple_jobs'].mode()[0])"
   ]
  },
  {
   "cell_type": "markdown",
   "id": "66137c92",
   "metadata": {},
   "source": [
    "4. summed_annual_salary "
   ]
  },
  {
   "cell_type": "code",
   "execution_count": 20,
   "id": "9f4360a6",
   "metadata": {},
   "outputs": [
    {
     "data": {
      "text/plain": [
       "131407.08    2\n",
       "171383.40    1\n",
       "31950.00     1\n",
       "33300.00     1\n",
       "33966.00     1\n",
       "39174.00     1\n",
       "35570.52     1\n",
       "56952.60     1\n",
       "21839.76     1\n",
       "121200.00    1\n",
       "90000.00     1\n",
       "150000.00    1\n",
       "92400.00     1\n",
       "18000.00     1\n",
       "30312.84     1\n",
       "Name: summed_annual_salary, dtype: int64"
      ]
     },
     "execution_count": 20,
     "metadata": {},
     "output_type": "execute_result"
    }
   ],
   "source": [
    "data['summed_annual_salary'].value_counts()"
   ]
  },
  {
   "cell_type": "code",
   "execution_count": 21,
   "id": "25b67371",
   "metadata": {},
   "outputs": [],
   "source": [
    "data['summed_annual_salary'] = data['summed_annual_salary'].fillna(data['summed_annual_salary'].mode()[0])"
   ]
  },
  {
   "cell_type": "markdown",
   "id": "81a3a98f",
   "metadata": {},
   "source": [
    "4.hide_from_search  \n"
   ]
  },
  {
   "cell_type": "code",
   "execution_count": 22,
   "id": "9b698fb5",
   "metadata": {},
   "outputs": [
    {
     "data": {
      "text/plain": [
       "True    16\n",
       "Name: hide_from_search, dtype: int64"
      ]
     },
     "execution_count": 22,
     "metadata": {},
     "output_type": "execute_result"
    }
   ],
   "source": [
    "data['hide_from_search'].value_counts()"
   ]
  },
  {
   "cell_type": "code",
   "execution_count": 23,
   "id": "abb2a434",
   "metadata": {},
   "outputs": [],
   "source": [
    "data['hide_from_search'] = data['hide_from_search'].fillna(data['hide_from_search'].mode()[0])"
   ]
  },
  {
   "cell_type": "markdown",
   "id": "19b133df",
   "metadata": {},
   "source": [
    "5. Gender "
   ]
  },
  {
   "cell_type": "code",
   "execution_count": 24,
   "id": "263619bb",
   "metadata": {},
   "outputs": [],
   "source": [
    "data=data.drop(['GENDER'], axis =1)"
   ]
  },
  {
   "cell_type": "code",
   "execution_count": 25,
   "id": "380d457f",
   "metadata": {},
   "outputs": [
    {
     "name": "stdout",
     "output_type": "stream",
     "text": [
      " \n",
      "Count total NaN at each column in a DataFrame : \n",
      "\n",
      " AGENCY                     0\n",
      "AGENCY NAME                0\n",
      "LAST NAME                  0\n",
      "FIRST NAME                 0\n",
      "MI                         0\n",
      "CLASS CODE                 0\n",
      "CLASS TITLE                0\n",
      "ETHNICITY                  0\n",
      "STATUS                     0\n",
      "EMPLOY DATE                0\n",
      "HRLY RATE                  0\n",
      "HRS PER WK                 0\n",
      "MONTHLY                    0\n",
      "ANNUAL                     0\n",
      "STATE NUMBER               0\n",
      "duplicated                 0\n",
      "multiple_full_time_jobs    0\n",
      "combined_multiple_jobs     0\n",
      "summed_annual_salary       0\n",
      "hide_from_search           0\n",
      "dtype: int64\n"
     ]
    }
   ],
   "source": [
    "#checking nan values are filled or not \n",
    "print(\" \\nCount total NaN at each column in a DataFrame : \\n\\n\",\n",
    "data.isnull().sum())\n"
   ]
  },
  {
   "cell_type": "code",
   "execution_count": 26,
   "id": "92ae4c10",
   "metadata": {},
   "outputs": [
    {
     "data": {
      "text/html": [
       "<div>\n",
       "<style scoped>\n",
       "    .dataframe tbody tr th:only-of-type {\n",
       "        vertical-align: middle;\n",
       "    }\n",
       "\n",
       "    .dataframe tbody tr th {\n",
       "        vertical-align: top;\n",
       "    }\n",
       "\n",
       "    .dataframe thead th {\n",
       "        text-align: right;\n",
       "    }\n",
       "</style>\n",
       "<table border=\"1\" class=\"dataframe\">\n",
       "  <thead>\n",
       "    <tr style=\"text-align: right;\">\n",
       "      <th></th>\n",
       "      <th>AGENCY</th>\n",
       "      <th>HRLY RATE</th>\n",
       "      <th>HRS PER WK</th>\n",
       "      <th>MONTHLY</th>\n",
       "      <th>ANNUAL</th>\n",
       "      <th>STATE NUMBER</th>\n",
       "      <th>duplicated</th>\n",
       "      <th>multiple_full_time_jobs</th>\n",
       "      <th>combined_multiple_jobs</th>\n",
       "      <th>summed_annual_salary</th>\n",
       "      <th>hide_from_search</th>\n",
       "    </tr>\n",
       "  </thead>\n",
       "  <tbody>\n",
       "    <tr>\n",
       "      <th>0</th>\n",
       "      <td>241</td>\n",
       "      <td>75.96150</td>\n",
       "      <td>29.0</td>\n",
       "      <td>9545.82</td>\n",
       "      <td>114549.84</td>\n",
       "      <td>127717</td>\n",
       "      <td>True</td>\n",
       "      <td>1.0</td>\n",
       "      <td>True</td>\n",
       "      <td>131407.08</td>\n",
       "      <td>True</td>\n",
       "    </tr>\n",
       "    <tr>\n",
       "      <th>1</th>\n",
       "      <td>212</td>\n",
       "      <td>81.04454</td>\n",
       "      <td>4.0</td>\n",
       "      <td>1404.77</td>\n",
       "      <td>16857.24</td>\n",
       "      <td>127717</td>\n",
       "      <td>True</td>\n",
       "      <td>1.0</td>\n",
       "      <td>True</td>\n",
       "      <td>131407.08</td>\n",
       "      <td>True</td>\n",
       "    </tr>\n",
       "    <tr>\n",
       "      <th>2</th>\n",
       "      <td>241</td>\n",
       "      <td>75.96150</td>\n",
       "      <td>29.0</td>\n",
       "      <td>9545.82</td>\n",
       "      <td>114549.84</td>\n",
       "      <td>59115</td>\n",
       "      <td>True</td>\n",
       "      <td>1.0</td>\n",
       "      <td>True</td>\n",
       "      <td>131407.08</td>\n",
       "      <td>True</td>\n",
       "    </tr>\n",
       "    <tr>\n",
       "      <th>3</th>\n",
       "      <td>212</td>\n",
       "      <td>81.04453</td>\n",
       "      <td>4.0</td>\n",
       "      <td>1404.77</td>\n",
       "      <td>16857.24</td>\n",
       "      <td>59115</td>\n",
       "      <td>True</td>\n",
       "      <td>1.0</td>\n",
       "      <td>True</td>\n",
       "      <td>131407.08</td>\n",
       "      <td>True</td>\n",
       "    </tr>\n",
       "    <tr>\n",
       "      <th>4</th>\n",
       "      <td>696</td>\n",
       "      <td>0.00000</td>\n",
       "      <td>40.0</td>\n",
       "      <td>3284.27</td>\n",
       "      <td>39411.24</td>\n",
       "      <td>165030</td>\n",
       "      <td>True</td>\n",
       "      <td>1.0</td>\n",
       "      <td>True</td>\n",
       "      <td>131407.08</td>\n",
       "      <td>True</td>\n",
       "    </tr>\n",
       "    <tr>\n",
       "      <th>...</th>\n",
       "      <td>...</td>\n",
       "      <td>...</td>\n",
       "      <td>...</td>\n",
       "      <td>...</td>\n",
       "      <td>...</td>\n",
       "      <td>...</td>\n",
       "      <td>...</td>\n",
       "      <td>...</td>\n",
       "      <td>...</td>\n",
       "      <td>...</td>\n",
       "      <td>...</td>\n",
       "    </tr>\n",
       "    <tr>\n",
       "      <th>149476</th>\n",
       "      <td>809</td>\n",
       "      <td>0.00000</td>\n",
       "      <td>40.0</td>\n",
       "      <td>2899.00</td>\n",
       "      <td>34788.00</td>\n",
       "      <td>770781</td>\n",
       "      <td>True</td>\n",
       "      <td>1.0</td>\n",
       "      <td>True</td>\n",
       "      <td>131407.08</td>\n",
       "      <td>True</td>\n",
       "    </tr>\n",
       "    <tr>\n",
       "      <th>149477</th>\n",
       "      <td>809</td>\n",
       "      <td>0.00000</td>\n",
       "      <td>40.0</td>\n",
       "      <td>5500.00</td>\n",
       "      <td>66000.00</td>\n",
       "      <td>847431</td>\n",
       "      <td>True</td>\n",
       "      <td>1.0</td>\n",
       "      <td>True</td>\n",
       "      <td>131407.08</td>\n",
       "      <td>True</td>\n",
       "    </tr>\n",
       "    <tr>\n",
       "      <th>149478</th>\n",
       "      <td>809</td>\n",
       "      <td>12.93000</td>\n",
       "      <td>20.0</td>\n",
       "      <td>1120.60</td>\n",
       "      <td>13447.20</td>\n",
       "      <td>34266</td>\n",
       "      <td>True</td>\n",
       "      <td>1.0</td>\n",
       "      <td>True</td>\n",
       "      <td>131407.08</td>\n",
       "      <td>True</td>\n",
       "    </tr>\n",
       "    <tr>\n",
       "      <th>149479</th>\n",
       "      <td>809</td>\n",
       "      <td>0.00000</td>\n",
       "      <td>40.0</td>\n",
       "      <td>5744.16</td>\n",
       "      <td>68929.92</td>\n",
       "      <td>123490</td>\n",
       "      <td>True</td>\n",
       "      <td>1.0</td>\n",
       "      <td>True</td>\n",
       "      <td>131407.08</td>\n",
       "      <td>True</td>\n",
       "    </tr>\n",
       "    <tr>\n",
       "      <th>149480</th>\n",
       "      <td>809</td>\n",
       "      <td>11.74000</td>\n",
       "      <td>20.0</td>\n",
       "      <td>1017.46</td>\n",
       "      <td>12209.52</td>\n",
       "      <td>103583</td>\n",
       "      <td>True</td>\n",
       "      <td>1.0</td>\n",
       "      <td>True</td>\n",
       "      <td>131407.08</td>\n",
       "      <td>True</td>\n",
       "    </tr>\n",
       "  </tbody>\n",
       "</table>\n",
       "<p>149481 rows × 11 columns</p>\n",
       "</div>"
      ],
      "text/plain": [
       "        AGENCY  HRLY RATE  HRS PER WK  MONTHLY     ANNUAL  STATE NUMBER  \\\n",
       "0          241   75.96150        29.0  9545.82  114549.84        127717   \n",
       "1          212   81.04454         4.0  1404.77   16857.24        127717   \n",
       "2          241   75.96150        29.0  9545.82  114549.84         59115   \n",
       "3          212   81.04453         4.0  1404.77   16857.24         59115   \n",
       "4          696    0.00000        40.0  3284.27   39411.24        165030   \n",
       "...        ...        ...         ...      ...        ...           ...   \n",
       "149476     809    0.00000        40.0  2899.00   34788.00        770781   \n",
       "149477     809    0.00000        40.0  5500.00   66000.00        847431   \n",
       "149478     809   12.93000        20.0  1120.60   13447.20         34266   \n",
       "149479     809    0.00000        40.0  5744.16   68929.92        123490   \n",
       "149480     809   11.74000        20.0  1017.46   12209.52        103583   \n",
       "\n",
       "        duplicated  multiple_full_time_jobs  combined_multiple_jobs  \\\n",
       "0             True                      1.0                    True   \n",
       "1             True                      1.0                    True   \n",
       "2             True                      1.0                    True   \n",
       "3             True                      1.0                    True   \n",
       "4             True                      1.0                    True   \n",
       "...            ...                      ...                     ...   \n",
       "149476        True                      1.0                    True   \n",
       "149477        True                      1.0                    True   \n",
       "149478        True                      1.0                    True   \n",
       "149479        True                      1.0                    True   \n",
       "149480        True                      1.0                    True   \n",
       "\n",
       "        summed_annual_salary  hide_from_search  \n",
       "0                  131407.08              True  \n",
       "1                  131407.08              True  \n",
       "2                  131407.08              True  \n",
       "3                  131407.08              True  \n",
       "4                  131407.08              True  \n",
       "...                      ...               ...  \n",
       "149476             131407.08              True  \n",
       "149477             131407.08              True  \n",
       "149478             131407.08              True  \n",
       "149479             131407.08              True  \n",
       "149480             131407.08              True  \n",
       "\n",
       "[149481 rows x 11 columns]"
      ]
     },
     "execution_count": 26,
     "metadata": {},
     "output_type": "execute_result"
    }
   ],
   "source": [
    "numerical_data = data.select_dtypes(exclude=['object'])\n",
    "numerical_data"
   ]
  },
  {
   "cell_type": "code",
   "execution_count": 27,
   "id": "44884074",
   "metadata": {
    "scrolled": true
   },
   "outputs": [
    {
     "data": {
      "text/html": [
       "<div>\n",
       "<style scoped>\n",
       "    .dataframe tbody tr th:only-of-type {\n",
       "        vertical-align: middle;\n",
       "    }\n",
       "\n",
       "    .dataframe tbody tr th {\n",
       "        vertical-align: top;\n",
       "    }\n",
       "\n",
       "    .dataframe thead th {\n",
       "        text-align: right;\n",
       "    }\n",
       "</style>\n",
       "<table border=\"1\" class=\"dataframe\">\n",
       "  <thead>\n",
       "    <tr style=\"text-align: right;\">\n",
       "      <th></th>\n",
       "      <th>AGENCY NAME</th>\n",
       "      <th>LAST NAME</th>\n",
       "      <th>FIRST NAME</th>\n",
       "      <th>MI</th>\n",
       "      <th>CLASS CODE</th>\n",
       "      <th>CLASS TITLE</th>\n",
       "      <th>ETHNICITY</th>\n",
       "      <th>STATUS</th>\n",
       "      <th>EMPLOY DATE</th>\n",
       "      <th>duplicated</th>\n",
       "      <th>combined_multiple_jobs</th>\n",
       "      <th>hide_from_search</th>\n",
       "    </tr>\n",
       "  </thead>\n",
       "  <tbody>\n",
       "    <tr>\n",
       "      <th>0</th>\n",
       "      <td>COMPTROLLER OF PUBLIC ACCOUNTS, JUDICIARY SECT...</td>\n",
       "      <td>RUCKER</td>\n",
       "      <td>MORTON</td>\n",
       "      <td>V</td>\n",
       "      <td>JD25</td>\n",
       "      <td>JUDGE, RETIRED                                ...</td>\n",
       "      <td>WHITE</td>\n",
       "      <td>URP - UNCLASSIFIED REGULAR PART-TIME</td>\n",
       "      <td>02/18/88</td>\n",
       "      <td>True</td>\n",
       "      <td>True</td>\n",
       "      <td>True</td>\n",
       "    </tr>\n",
       "    <tr>\n",
       "      <th>1</th>\n",
       "      <td>OFFICE OF COURT ADMINISTRATION                ...</td>\n",
       "      <td>RUCKER</td>\n",
       "      <td>MORTON</td>\n",
       "      <td>V</td>\n",
       "      <td>3524</td>\n",
       "      <td>GENERAL COUNSEL IV                            ...</td>\n",
       "      <td>WHITE</td>\n",
       "      <td>CTP - CLASSIFIED TEMPORARY PART-TIME</td>\n",
       "      <td>02/01/15</td>\n",
       "      <td>True</td>\n",
       "      <td>True</td>\n",
       "      <td>True</td>\n",
       "    </tr>\n",
       "    <tr>\n",
       "      <th>2</th>\n",
       "      <td>COMPTROLLER OF PUBLIC ACCOUNTS, JUDICIARY SECT...</td>\n",
       "      <td>SPECIA JR</td>\n",
       "      <td>JOHN</td>\n",
       "      <td>J</td>\n",
       "      <td>JD25</td>\n",
       "      <td>JUDGE, RETIRED                                ...</td>\n",
       "      <td>WHITE</td>\n",
       "      <td>URP - UNCLASSIFIED REGULAR PART-TIME</td>\n",
       "      <td>02/01/20</td>\n",
       "      <td>True</td>\n",
       "      <td>True</td>\n",
       "      <td>True</td>\n",
       "    </tr>\n",
       "    <tr>\n",
       "      <th>3</th>\n",
       "      <td>OFFICE OF COURT ADMINISTRATION                ...</td>\n",
       "      <td>SPECIA JR</td>\n",
       "      <td>JOHN</td>\n",
       "      <td>J</td>\n",
       "      <td>3524</td>\n",
       "      <td>GENERAL COUNSEL IV                            ...</td>\n",
       "      <td>WHITE</td>\n",
       "      <td>CTP - CLASSIFIED TEMPORARY PART-TIME</td>\n",
       "      <td>09/01/18</td>\n",
       "      <td>True</td>\n",
       "      <td>True</td>\n",
       "      <td>True</td>\n",
       "    </tr>\n",
       "    <tr>\n",
       "      <th>4</th>\n",
       "      <td>TEXAS DEPARTMENT OF CRIMINAL JUSTICE          ...</td>\n",
       "      <td>ONTIVEROS</td>\n",
       "      <td>ESTHER</td>\n",
       "      <td></td>\n",
       "      <td>4504</td>\n",
       "      <td>CORREC  OFFICER IV                            ...</td>\n",
       "      <td>HISPANIC</td>\n",
       "      <td>CRF - CLASSIFIED REGULAR FULL-TIME</td>\n",
       "      <td>06/29/20</td>\n",
       "      <td>True</td>\n",
       "      <td>True</td>\n",
       "      <td>True</td>\n",
       "    </tr>\n",
       "  </tbody>\n",
       "</table>\n",
       "</div>"
      ],
      "text/plain": [
       "                                         AGENCY NAME  \\\n",
       "0  COMPTROLLER OF PUBLIC ACCOUNTS, JUDICIARY SECT...   \n",
       "1  OFFICE OF COURT ADMINISTRATION                ...   \n",
       "2  COMPTROLLER OF PUBLIC ACCOUNTS, JUDICIARY SECT...   \n",
       "3  OFFICE OF COURT ADMINISTRATION                ...   \n",
       "4  TEXAS DEPARTMENT OF CRIMINAL JUSTICE          ...   \n",
       "\n",
       "                        LAST NAME                      FIRST NAME MI  \\\n",
       "0  RUCKER                          MORTON                          V   \n",
       "1  RUCKER                          MORTON                          V   \n",
       "2  SPECIA JR                       JOHN                            J   \n",
       "3  SPECIA JR                       JOHN                            J   \n",
       "4  ONTIVEROS                       ESTHER                              \n",
       "\n",
       "  CLASS CODE                                        CLASS TITLE  \\\n",
       "0   JD25      JUDGE, RETIRED                                ...   \n",
       "1   3524      GENERAL COUNSEL IV                            ...   \n",
       "2   JD25      JUDGE, RETIRED                                ...   \n",
       "3   3524      GENERAL COUNSEL IV                            ...   \n",
       "4   4504      CORREC  OFFICER IV                            ...   \n",
       "\n",
       "         ETHNICITY                                    STATUS EMPLOY DATE  \\\n",
       "0  WHITE            URP - UNCLASSIFIED REGULAR PART-TIME        02/18/88   \n",
       "1  WHITE            CTP - CLASSIFIED TEMPORARY PART-TIME        02/01/15   \n",
       "2  WHITE            URP - UNCLASSIFIED REGULAR PART-TIME        02/01/20   \n",
       "3  WHITE            CTP - CLASSIFIED TEMPORARY PART-TIME        09/01/18   \n",
       "4  HISPANIC         CRF - CLASSIFIED REGULAR FULL-TIME          06/29/20   \n",
       "\n",
       "   duplicated  combined_multiple_jobs  hide_from_search  \n",
       "0        True                    True              True  \n",
       "1        True                    True              True  \n",
       "2        True                    True              True  \n",
       "3        True                    True              True  \n",
       "4        True                    True              True  "
      ]
     },
     "execution_count": 27,
     "metadata": {},
     "output_type": "execute_result"
    }
   ],
   "source": [
    "categorical_data=data.select_dtypes(exclude=['int64','float64'])\n",
    "categorical_data.head()"
   ]
  },
  {
   "cell_type": "markdown",
   "id": "bc09e02f",
   "metadata": {},
   "source": [
    "# Univariant Analysis "
   ]
  },
  {
   "cell_type": "code",
   "execution_count": 28,
   "id": "e3d4f7dc",
   "metadata": {},
   "outputs": [
    {
     "data": {
      "image/png": "[encoded data removed]",
      "text/plain": [
       "<Figure size 576x432 with 1 Axes>"
      ]
     },
     "metadata": {
      "needs_background": "light"
     },
     "output_type": "display_data"
    }
   ],
   "source": [
    "plt.figure(figsize=(8, 6))\n",
    "plt.hist(numerical_data['HRLY RATE'], bins=20, color='skyblue', edgecolor='black')\n",
    "plt.title('Hourly Rate Distribution')\n",
    "plt.xlabel('Hourly Rate')\n",
    "plt.ylabel('Frequency')\n",
    "plt.show()"
   ]
  },
  {
   "cell_type": "code",
   "execution_count": 29,
   "id": "2951ef28",
   "metadata": {
    "scrolled": true
   },
   "outputs": [
    {
     "data": {
      "image/png": "[encoded data removed]",
      "text/plain": [
       "<Figure size 576x432 with 1 Axes>"
      ]
     },
     "metadata": {
      "needs_background": "light"
     },
     "output_type": "display_data"
    }
   ],
   "source": [
    "plt.figure(figsize=(8, 6))\n",
    "plt.hist(numerical_data['MONTHLY'], bins=20, color='skyblue', edgecolor='black')\n",
    "plt.title('Hourly Rate Distribution')\n",
    "plt.xlabel('Hourly Rate')\n",
    "plt.ylabel('Frequency')\n",
    "plt.show()"
   ]
  },
  {
   "cell_type": "code",
   "execution_count": 30,
   "id": "4dde5555",
   "metadata": {
    "scrolled": true
   },
   "outputs": [
    {
     "data": {
      "image/png": "[encoded data removed]",
      "text/plain": [
       "<Figure size 1440x1080 with 8 Axes>"
      ]
     },
     "metadata": {
      "needs_background": "light"
     },
     "output_type": "display_data"
    }
   ],
   "source": [
    "\n",
    "plt.figure(figsize=(20,15)) # defining canvas size\n",
    "plotno = 1 # counter\n",
    "\n",
    "for column in numerical_data: # iteration of columns / acessing the columns from count \n",
    "    if plotno<=8:    # set the limit\n",
    "        plt.subplot(3,3,plotno) # # plotting 7 graphs (3-rows,3-columns) ,plotnumber is for count\n",
    "        sns.distplot(x=numerical_data[column]) # Plotting dist plots \n",
    "        plt.xlabel(column,fontsize=20)  # assigning name to x-axis and font size is 20\n",
    "    plotno+=1 # counter increment\n",
    "plt.tight_layout()\n",
    "plt.show() "
   ]
  },
  {
   "cell_type": "markdown",
   "id": "32511856",
   "metadata": {},
   "source": [
    "plt.figure(figsize=(20,25)) # defining canvas size\n",
    "plotno = 1 # counter\n",
    "\n",
    "for column in categorical_data: # iteration of columns / acessing the columns from count \n",
    "    if plotno<=13:    # set the limit\n",
    "        plt.subplot(4,3,plotno) # # plotting 12 graphs (4-rows,3-columns) ,plotnumber is for count\n",
    "        sns.countplot(x=categorical_data[column]) # Plotting count plots because the feature data type is discerte and categorical\n",
    "        plt.xlabel(column,fontsize=20)  # assigning name to x-axis and font size is 20\n",
    "    plotno+=1 # counter increment\n",
    "plt.tight_layout()\n",
    "plt.show() "
   ]
  },
  {
   "cell_type": "code",
   "execution_count": 31,
   "id": "d3f3a945",
   "metadata": {},
   "outputs": [
    {
     "data": {
      "image/png": "[encoded data removed]",
      "text/plain": [
       "<Figure size 1152x432 with 1 Axes>"
      ]
     },
     "metadata": {
      "needs_background": "light"
     },
     "output_type": "display_data"
    }
   ],
   "source": [
    "plt.figure(figsize=(16,6))\n",
    "sns.set_style('whitegrid')\n",
    "features = data.columns.values[0:27]\n",
    "plt.title('Distribution of mean per row in the data',fontsize=20)\n",
    "plt.xlabel('Mean value',fontsize=20)\n",
    "plt.ylabel('PDF value',fontsize=15)\n",
    "sns.distplot(data[features].mean(axis=1),color='ORANGE', kde=True)\n",
    "plt.show()"
   ]
  },
  {
   "cell_type": "code",
   "execution_count": 32,
   "id": "9ff16ce5",
   "metadata": {},
   "outputs": [
    {
     "data": {
      "image/png": "[encoded data removed]",
      "text/plain": [
       "<Figure size 1152x432 with 1 Axes>"
      ]
     },
     "metadata": {},
     "output_type": "display_data"
    }
   ],
   "source": [
    "plt.figure(figsize=(16,6))\n",
    "sns.set_style('whitegrid')\n",
    "features = data.columns.values[0:27]\n",
    "plt.title('Distribution of Standard Deviation per row in the data',fontsize=20)\n",
    "plt.xlabel('STD value',fontsize=20)\n",
    "plt.ylabel('PDF value',fontsize=15)\n",
    "sns.distplot(data[features].std(axis=1),color='ORANGE', kde=True)\n",
    "plt.show()"
   ]
  },
  {
   "cell_type": "code",
   "execution_count": 33,
   "id": "05dcdbc5",
   "metadata": {},
   "outputs": [
    {
     "data": {
      "image/png": "[encoded data removed]",
      "text/plain": [
       "<Figure size 432x288 with 1 Axes>"
      ]
     },
     "metadata": {},
     "output_type": "display_data"
    }
   ],
   "source": [
    "sns.boxplot('STATE NUMBER', data = data)\n",
    "plt.show()"
   ]
  },
  {
   "cell_type": "code",
   "execution_count": 34,
   "id": "7652035f",
   "metadata": {
    "scrolled": true
   },
   "outputs": [
    {
     "data": {
      "image/png": "[encoded data removed]",
      "text/plain": [
       "<Figure size 864x576 with 1 Axes>"
      ]
     },
     "metadata": {},
     "output_type": "display_data"
    }
   ],
   "source": [
    "plt.figure(figsize=(12, 8))  # Adjust the figure size as needed\n",
    "ax = sns.boxplot(data=data)\n",
    "\n",
    "# Customize the plot labels and title\n",
    "ax.set_title('Boxplot of All Numeric Variables')\n",
    "ax.set_xticklabels(ax.get_xticklabels(), rotation=45)  # Rotate x-axis labels for better readability\n",
    "\n",
    "# Show the plot\n",
    "plt.show()\n"
   ]
  },
  {
   "cell_type": "code",
   "execution_count": 35,
   "id": "91ebe94d",
   "metadata": {
    "scrolled": true
   },
   "outputs": [
    {
     "data": {
      "image/png": "[encoded data removed]",
      "text/plain": [
       "<Figure size 1440x1440 with 2 Axes>"
      ]
     },
     "metadata": {},
     "output_type": "display_data"
    }
   ],
   "source": [
    "plt.figure(figsize=(20,20),facecolor='white')\n",
    "sns.heatmap(data=data.corr(),annot=True)\n",
    "plt.show()"
   ]
  },
  {
   "cell_type": "code",
   "execution_count": 36,
   "id": "d0cd58aa",
   "metadata": {},
   "outputs": [
    {
     "data": {
      "text/html": [
       "<div>\n",
       "<style scoped>\n",
       "    .dataframe tbody tr th:only-of-type {\n",
       "        vertical-align: middle;\n",
       "    }\n",
       "\n",
       "    .dataframe tbody tr th {\n",
       "        vertical-align: top;\n",
       "    }\n",
       "\n",
       "    .dataframe thead th {\n",
       "        text-align: right;\n",
       "    }\n",
       "</style>\n",
       "<table border=\"1\" class=\"dataframe\">\n",
       "  <thead>\n",
       "    <tr style=\"text-align: right;\">\n",
       "      <th></th>\n",
       "      <th>AGENCY</th>\n",
       "      <th>HRLY RATE</th>\n",
       "      <th>HRS PER WK</th>\n",
       "      <th>MONTHLY</th>\n",
       "      <th>ANNUAL</th>\n",
       "      <th>STATE NUMBER</th>\n",
       "      <th>duplicated</th>\n",
       "      <th>multiple_full_time_jobs</th>\n",
       "      <th>combined_multiple_jobs</th>\n",
       "      <th>summed_annual_salary</th>\n",
       "      <th>hide_from_search</th>\n",
       "    </tr>\n",
       "  </thead>\n",
       "  <tbody>\n",
       "    <tr>\n",
       "      <th>AGENCY</th>\n",
       "      <td>1.000000</td>\n",
       "      <td>-0.083653</td>\n",
       "      <td>-0.013847</td>\n",
       "      <td>-0.266452</td>\n",
       "      <td>-0.266452</td>\n",
       "      <td>0.060815</td>\n",
       "      <td>NaN</td>\n",
       "      <td>NaN</td>\n",
       "      <td>NaN</td>\n",
       "      <td>-0.005882</td>\n",
       "      <td>NaN</td>\n",
       "    </tr>\n",
       "    <tr>\n",
       "      <th>HRLY RATE</th>\n",
       "      <td>-0.083653</td>\n",
       "      <td>1.000000</td>\n",
       "      <td>-0.337784</td>\n",
       "      <td>0.086291</td>\n",
       "      <td>0.086291</td>\n",
       "      <td>-0.007922</td>\n",
       "      <td>NaN</td>\n",
       "      <td>NaN</td>\n",
       "      <td>NaN</td>\n",
       "      <td>-0.002897</td>\n",
       "      <td>NaN</td>\n",
       "    </tr>\n",
       "    <tr>\n",
       "      <th>HRS PER WK</th>\n",
       "      <td>-0.013847</td>\n",
       "      <td>-0.337784</td>\n",
       "      <td>1.000000</td>\n",
       "      <td>0.096041</td>\n",
       "      <td>0.096041</td>\n",
       "      <td>-0.010072</td>\n",
       "      <td>NaN</td>\n",
       "      <td>NaN</td>\n",
       "      <td>NaN</td>\n",
       "      <td>0.063927</td>\n",
       "      <td>NaN</td>\n",
       "    </tr>\n",
       "    <tr>\n",
       "      <th>MONTHLY</th>\n",
       "      <td>-0.266452</td>\n",
       "      <td>0.086291</td>\n",
       "      <td>0.096041</td>\n",
       "      <td>1.000000</td>\n",
       "      <td>1.000000</td>\n",
       "      <td>-0.265438</td>\n",
       "      <td>NaN</td>\n",
       "      <td>NaN</td>\n",
       "      <td>NaN</td>\n",
       "      <td>0.010740</td>\n",
       "      <td>NaN</td>\n",
       "    </tr>\n",
       "    <tr>\n",
       "      <th>ANNUAL</th>\n",
       "      <td>-0.266452</td>\n",
       "      <td>0.086291</td>\n",
       "      <td>0.096041</td>\n",
       "      <td>1.000000</td>\n",
       "      <td>1.000000</td>\n",
       "      <td>-0.265438</td>\n",
       "      <td>NaN</td>\n",
       "      <td>NaN</td>\n",
       "      <td>NaN</td>\n",
       "      <td>0.010740</td>\n",
       "      <td>NaN</td>\n",
       "    </tr>\n",
       "    <tr>\n",
       "      <th>STATE NUMBER</th>\n",
       "      <td>0.060815</td>\n",
       "      <td>-0.007922</td>\n",
       "      <td>-0.010072</td>\n",
       "      <td>-0.265438</td>\n",
       "      <td>-0.265438</td>\n",
       "      <td>1.000000</td>\n",
       "      <td>NaN</td>\n",
       "      <td>NaN</td>\n",
       "      <td>NaN</td>\n",
       "      <td>-0.002803</td>\n",
       "      <td>NaN</td>\n",
       "    </tr>\n",
       "    <tr>\n",
       "      <th>duplicated</th>\n",
       "      <td>NaN</td>\n",
       "      <td>NaN</td>\n",
       "      <td>NaN</td>\n",
       "      <td>NaN</td>\n",
       "      <td>NaN</td>\n",
       "      <td>NaN</td>\n",
       "      <td>NaN</td>\n",
       "      <td>NaN</td>\n",
       "      <td>NaN</td>\n",
       "      <td>NaN</td>\n",
       "      <td>NaN</td>\n",
       "    </tr>\n",
       "    <tr>\n",
       "      <th>multiple_full_time_jobs</th>\n",
       "      <td>NaN</td>\n",
       "      <td>NaN</td>\n",
       "      <td>NaN</td>\n",
       "      <td>NaN</td>\n",
       "      <td>NaN</td>\n",
       "      <td>NaN</td>\n",
       "      <td>NaN</td>\n",
       "      <td>NaN</td>\n",
       "      <td>NaN</td>\n",
       "      <td>NaN</td>\n",
       "      <td>NaN</td>\n",
       "    </tr>\n",
       "    <tr>\n",
       "      <th>combined_multiple_jobs</th>\n",
       "      <td>NaN</td>\n",
       "      <td>NaN</td>\n",
       "      <td>NaN</td>\n",
       "      <td>NaN</td>\n",
       "      <td>NaN</td>\n",
       "      <td>NaN</td>\n",
       "      <td>NaN</td>\n",
       "      <td>NaN</td>\n",
       "      <td>NaN</td>\n",
       "      <td>NaN</td>\n",
       "      <td>NaN</td>\n",
       "    </tr>\n",
       "    <tr>\n",
       "      <th>summed_annual_salary</th>\n",
       "      <td>-0.005882</td>\n",
       "      <td>-0.002897</td>\n",
       "      <td>0.063927</td>\n",
       "      <td>0.010740</td>\n",
       "      <td>0.010740</td>\n",
       "      <td>-0.002803</td>\n",
       "      <td>NaN</td>\n",
       "      <td>NaN</td>\n",
       "      <td>NaN</td>\n",
       "      <td>1.000000</td>\n",
       "      <td>NaN</td>\n",
       "    </tr>\n",
       "    <tr>\n",
       "      <th>hide_from_search</th>\n",
       "      <td>NaN</td>\n",
       "      <td>NaN</td>\n",
       "      <td>NaN</td>\n",
       "      <td>NaN</td>\n",
       "      <td>NaN</td>\n",
       "      <td>NaN</td>\n",
       "      <td>NaN</td>\n",
       "      <td>NaN</td>\n",
       "      <td>NaN</td>\n",
       "      <td>NaN</td>\n",
       "      <td>NaN</td>\n",
       "    </tr>\n",
       "  </tbody>\n",
       "</table>\n",
       "</div>"
      ],
      "text/plain": [
       "                           AGENCY  HRLY RATE  HRS PER WK   MONTHLY    ANNUAL  \\\n",
       "AGENCY                   1.000000  -0.083653   -0.013847 -0.266452 -0.266452   \n",
       "HRLY RATE               -0.083653   1.000000   -0.337784  0.086291  0.086291   \n",
       "HRS PER WK              -0.013847  -0.337784    1.000000  0.096041  0.096041   \n",
       "MONTHLY                 -0.266452   0.086291    0.096041  1.000000  1.000000   \n",
       "ANNUAL                  -0.266452   0.086291    0.096041  1.000000  1.000000   \n",
       "STATE NUMBER             0.060815  -0.007922   -0.010072 -0.265438 -0.265438   \n",
       "duplicated                    NaN        NaN         NaN       NaN       NaN   \n",
       "multiple_full_time_jobs       NaN        NaN         NaN       NaN       NaN   \n",
       "combined_multiple_jobs        NaN        NaN         NaN       NaN       NaN   \n",
       "summed_annual_salary    -0.005882  -0.002897    0.063927  0.010740  0.010740   \n",
       "hide_from_search              NaN        NaN         NaN       NaN       NaN   \n",
       "\n",
       "                         STATE NUMBER  duplicated  multiple_full_time_jobs  \\\n",
       "AGENCY                       0.060815         NaN                      NaN   \n",
       "HRLY RATE                   -0.007922         NaN                      NaN   \n",
       "HRS PER WK                  -0.010072         NaN                      NaN   \n",
       "MONTHLY                     -0.265438         NaN                      NaN   \n",
       "ANNUAL                      -0.265438         NaN                      NaN   \n",
       "STATE NUMBER                 1.000000         NaN                      NaN   \n",
       "duplicated                        NaN         NaN                      NaN   \n",
       "multiple_full_time_jobs           NaN         NaN                      NaN   \n",
       "combined_multiple_jobs            NaN         NaN                      NaN   \n",
       "summed_annual_salary        -0.002803         NaN                      NaN   \n",
       "hide_from_search                  NaN         NaN                      NaN   \n",
       "\n",
       "                         combined_multiple_jobs  summed_annual_salary  \\\n",
       "AGENCY                                      NaN             -0.005882   \n",
       "HRLY RATE                                   NaN             -0.002897   \n",
       "HRS PER WK                                  NaN              0.063927   \n",
       "MONTHLY                                     NaN              0.010740   \n",
       "ANNUAL                                      NaN              0.010740   \n",
       "STATE NUMBER                                NaN             -0.002803   \n",
       "duplicated                                  NaN                   NaN   \n",
       "multiple_full_time_jobs                     NaN                   NaN   \n",
       "combined_multiple_jobs                      NaN                   NaN   \n",
       "summed_annual_salary                        NaN              1.000000   \n",
       "hide_from_search                            NaN                   NaN   \n",
       "\n",
       "                         hide_from_search  \n",
       "AGENCY                                NaN  \n",
       "HRLY RATE                             NaN  \n",
       "HRS PER WK                            NaN  \n",
       "MONTHLY                               NaN  \n",
       "ANNUAL                                NaN  \n",
       "STATE NUMBER                          NaN  \n",
       "duplicated                            NaN  \n",
       "multiple_full_time_jobs               NaN  \n",
       "combined_multiple_jobs                NaN  \n",
       "summed_annual_salary                  NaN  \n",
       "hide_from_search                      NaN  "
      ]
     },
     "execution_count": 36,
     "metadata": {},
     "output_type": "execute_result"
    }
   ],
   "source": [
    "data.corr()"
   ]
  },
  {
   "cell_type": "code",
   "execution_count": 37,
   "id": "acf0536a",
   "metadata": {},
   "outputs": [],
   "source": [
    "columns_to_drop = ['AGENCY','LAST NAME','FIRST NAME', 'MI','STATE NUMBER','duplicated', 'multiple_full_time_jobs', 'combined_multiple_jobs','summed_annual_salary']"
   ]
  },
  {
   "cell_type": "code",
   "execution_count": 38,
   "id": "4e503c56",
   "metadata": {},
   "outputs": [],
   "source": [
    "# Use drop() method to remove specified columns\n",
    "data = data.drop(columns=columns_to_drop)"
   ]
  },
  {
   "cell_type": "markdown",
   "id": "1f19965d",
   "metadata": {},
   "source": [
    "Columns to Drop:\n",
    "\n",
    "AGENCY: Since we are already using AGENCY NAME, AGENCY may not be necessary unless there is specific value in this column for the analysis.\n",
    "\n",
    "LAST NAME, FIRST NAME, MI: These are likely irrelevant for salary prediction.\n",
    "\n",
    "STATE NUMBER: If this is simply an identifier without meaningful predictive power, it might not be useful for the model.\n",
    "\n",
    "duplicated, multiple_full_time_jobs, combined_multiple_jobs: These seem to be flags or indicators that might not directly contribute to salary prediction.\n",
    "\n",
    "summed_annual_salary, hide_from_search: If these are derived or metadata columns not useful for prediction, they can be dropped."
   ]
  },
  {
   "cell_type": "code",
   "execution_count": 39,
   "id": "c36e31d9",
   "metadata": {},
   "outputs": [
    {
     "data": {
      "text/html": [
       "<div>\n",
       "<style scoped>\n",
       "    .dataframe tbody tr th:only-of-type {\n",
       "        vertical-align: middle;\n",
       "    }\n",
       "\n",
       "    .dataframe tbody tr th {\n",
       "        vertical-align: top;\n",
       "    }\n",
       "\n",
       "    .dataframe thead th {\n",
       "        text-align: right;\n",
       "    }\n",
       "</style>\n",
       "<table border=\"1\" class=\"dataframe\">\n",
       "  <thead>\n",
       "    <tr style=\"text-align: right;\">\n",
       "      <th></th>\n",
       "      <th>AGENCY NAME</th>\n",
       "      <th>CLASS CODE</th>\n",
       "      <th>CLASS TITLE</th>\n",
       "      <th>ETHNICITY</th>\n",
       "      <th>STATUS</th>\n",
       "      <th>EMPLOY DATE</th>\n",
       "      <th>HRLY RATE</th>\n",
       "      <th>HRS PER WK</th>\n",
       "      <th>MONTHLY</th>\n",
       "      <th>ANNUAL</th>\n",
       "      <th>hide_from_search</th>\n",
       "    </tr>\n",
       "  </thead>\n",
       "  <tbody>\n",
       "    <tr>\n",
       "      <th>0</th>\n",
       "      <td>COMPTROLLER OF PUBLIC ACCOUNTS, JUDICIARY SECT...</td>\n",
       "      <td>JD25</td>\n",
       "      <td>JUDGE, RETIRED                                ...</td>\n",
       "      <td>WHITE</td>\n",
       "      <td>URP - UNCLASSIFIED REGULAR PART-TIME</td>\n",
       "      <td>02/18/88</td>\n",
       "      <td>75.96150</td>\n",
       "      <td>29.0</td>\n",
       "      <td>9545.82</td>\n",
       "      <td>114549.84</td>\n",
       "      <td>True</td>\n",
       "    </tr>\n",
       "    <tr>\n",
       "      <th>1</th>\n",
       "      <td>OFFICE OF COURT ADMINISTRATION                ...</td>\n",
       "      <td>3524</td>\n",
       "      <td>GENERAL COUNSEL IV                            ...</td>\n",
       "      <td>WHITE</td>\n",
       "      <td>CTP - CLASSIFIED TEMPORARY PART-TIME</td>\n",
       "      <td>02/01/15</td>\n",
       "      <td>81.04454</td>\n",
       "      <td>4.0</td>\n",
       "      <td>1404.77</td>\n",
       "      <td>16857.24</td>\n",
       "      <td>True</td>\n",
       "    </tr>\n",
       "    <tr>\n",
       "      <th>2</th>\n",
       "      <td>COMPTROLLER OF PUBLIC ACCOUNTS, JUDICIARY SECT...</td>\n",
       "      <td>JD25</td>\n",
       "      <td>JUDGE, RETIRED                                ...</td>\n",
       "      <td>WHITE</td>\n",
       "      <td>URP - UNCLASSIFIED REGULAR PART-TIME</td>\n",
       "      <td>02/01/20</td>\n",
       "      <td>75.96150</td>\n",
       "      <td>29.0</td>\n",
       "      <td>9545.82</td>\n",
       "      <td>114549.84</td>\n",
       "      <td>True</td>\n",
       "    </tr>\n",
       "    <tr>\n",
       "      <th>3</th>\n",
       "      <td>OFFICE OF COURT ADMINISTRATION                ...</td>\n",
       "      <td>3524</td>\n",
       "      <td>GENERAL COUNSEL IV                            ...</td>\n",
       "      <td>WHITE</td>\n",
       "      <td>CTP - CLASSIFIED TEMPORARY PART-TIME</td>\n",
       "      <td>09/01/18</td>\n",
       "      <td>81.04453</td>\n",
       "      <td>4.0</td>\n",
       "      <td>1404.77</td>\n",
       "      <td>16857.24</td>\n",
       "      <td>True</td>\n",
       "    </tr>\n",
       "    <tr>\n",
       "      <th>4</th>\n",
       "      <td>TEXAS DEPARTMENT OF CRIMINAL JUSTICE          ...</td>\n",
       "      <td>4504</td>\n",
       "      <td>CORREC  OFFICER IV                            ...</td>\n",
       "      <td>HISPANIC</td>\n",
       "      <td>CRF - CLASSIFIED REGULAR FULL-TIME</td>\n",
       "      <td>06/29/20</td>\n",
       "      <td>0.00000</td>\n",
       "      <td>40.0</td>\n",
       "      <td>3284.27</td>\n",
       "      <td>39411.24</td>\n",
       "      <td>True</td>\n",
       "    </tr>\n",
       "  </tbody>\n",
       "</table>\n",
       "</div>"
      ],
      "text/plain": [
       "                                         AGENCY NAME CLASS CODE  \\\n",
       "0  COMPTROLLER OF PUBLIC ACCOUNTS, JUDICIARY SECT...   JD25       \n",
       "1  OFFICE OF COURT ADMINISTRATION                ...   3524       \n",
       "2  COMPTROLLER OF PUBLIC ACCOUNTS, JUDICIARY SECT...   JD25       \n",
       "3  OFFICE OF COURT ADMINISTRATION                ...   3524       \n",
       "4  TEXAS DEPARTMENT OF CRIMINAL JUSTICE          ...   4504       \n",
       "\n",
       "                                         CLASS TITLE        ETHNICITY  \\\n",
       "0  JUDGE, RETIRED                                ...  WHITE             \n",
       "1  GENERAL COUNSEL IV                            ...  WHITE             \n",
       "2  JUDGE, RETIRED                                ...  WHITE             \n",
       "3  GENERAL COUNSEL IV                            ...  WHITE             \n",
       "4  CORREC  OFFICER IV                            ...  HISPANIC          \n",
       "\n",
       "                                     STATUS EMPLOY DATE  HRLY RATE  \\\n",
       "0  URP - UNCLASSIFIED REGULAR PART-TIME        02/18/88   75.96150   \n",
       "1  CTP - CLASSIFIED TEMPORARY PART-TIME        02/01/15   81.04454   \n",
       "2  URP - UNCLASSIFIED REGULAR PART-TIME        02/01/20   75.96150   \n",
       "3  CTP - CLASSIFIED TEMPORARY PART-TIME        09/01/18   81.04453   \n",
       "4  CRF - CLASSIFIED REGULAR FULL-TIME          06/29/20    0.00000   \n",
       "\n",
       "   HRS PER WK  MONTHLY     ANNUAL  hide_from_search  \n",
       "0        29.0  9545.82  114549.84              True  \n",
       "1         4.0  1404.77   16857.24              True  \n",
       "2        29.0  9545.82  114549.84              True  \n",
       "3         4.0  1404.77   16857.24              True  \n",
       "4        40.0  3284.27   39411.24              True  "
      ]
     },
     "execution_count": 39,
     "metadata": {},
     "output_type": "execute_result"
    }
   ],
   "source": [
    "data.head()"
   ]
  },
  {
   "cell_type": "markdown",
   "id": "3ff53209",
   "metadata": {},
   "source": [
    "# Lable Encoding "
   ]
  },
  {
   "cell_type": "markdown",
   "id": "f040679b",
   "metadata": {},
   "source": [
    "1. AGENCY NAME"
   ]
  },
  {
   "cell_type": "code",
   "execution_count": 40,
   "id": "14de1ba4",
   "metadata": {},
   "outputs": [],
   "source": [
    "from sklearn.preprocessing import LabelEncoder \n",
    "lb = LabelEncoder()\n",
    "data['AGENCY NAME'] = lb.fit_transform(data['AGENCY NAME'])"
   ]
  },
  {
   "cell_type": "markdown",
   "id": "94fa0bb9",
   "metadata": {},
   "source": [
    "2. CLASS CODE "
   ]
  },
  {
   "cell_type": "code",
   "execution_count": 41,
   "id": "54849e24",
   "metadata": {},
   "outputs": [],
   "source": [
    "from sklearn.preprocessing import LabelEncoder \n",
    "lb = LabelEncoder()\n",
    "data['CLASS CODE'] = lb.fit_transform(data['CLASS CODE'])"
   ]
  },
  {
   "cell_type": "markdown",
   "id": "b793c884",
   "metadata": {},
   "source": [
    "3. CLASS TITLE "
   ]
  },
  {
   "cell_type": "code",
   "execution_count": 42,
   "id": "8fa6405e",
   "metadata": {},
   "outputs": [],
   "source": [
    "from sklearn.preprocessing import LabelEncoder \n",
    "lb = LabelEncoder()\n",
    "data['CLASS TITLE'] = lb.fit_transform(data['CLASS TITLE'])"
   ]
  },
  {
   "cell_type": "markdown",
   "id": "71d0aeb2",
   "metadata": {},
   "source": [
    "4. ETHNICITY"
   ]
  },
  {
   "cell_type": "code",
   "execution_count": 43,
   "id": "f94eb011",
   "metadata": {},
   "outputs": [],
   "source": [
    "from sklearn.preprocessing import LabelEncoder \n",
    "lb = LabelEncoder()\n",
    "data['ETHNICITY'] = lb.fit_transform(data['ETHNICITY'])"
   ]
  },
  {
   "cell_type": "code",
   "execution_count": 44,
   "id": "8465f56a",
   "metadata": {},
   "outputs": [
    {
     "data": {
      "text/plain": [
       "0         5\n",
       "1         5\n",
       "2         5\n",
       "3         5\n",
       "4         3\n",
       "         ..\n",
       "149476    5\n",
       "149477    5\n",
       "149478    5\n",
       "149479    5\n",
       "149480    5\n",
       "Name: ETHNICITY, Length: 149481, dtype: int32"
      ]
     },
     "execution_count": 44,
     "metadata": {},
     "output_type": "execute_result"
    }
   ],
   "source": [
    "data['ETHNICITY']"
   ]
  },
  {
   "cell_type": "markdown",
   "id": "e5a90728",
   "metadata": {},
   "source": [
    "6.Status "
   ]
  },
  {
   "cell_type": "code",
   "execution_count": 45,
   "id": "f618499a",
   "metadata": {},
   "outputs": [
    {
     "data": {
      "text/plain": [
       "CRF - CLASSIFIED REGULAR FULL-TIME          142502\n",
       "URF - UNCLASSIFIED REGULAR FULL-TIME          2363\n",
       "CRP - CLASSIFIED REGULAR PART-TIME            1531\n",
       "CTF - CLASSIFIED TEMPORARY FULL-TIME          1096\n",
       "URP - UNCLASSIFIED REGULAR PART-TIME           950\n",
       "ERF - EXEMPT REGULAR FULL-TIME                 923\n",
       "CTP - CLASSIFIED TEMPORARY PART-TIME            81\n",
       "UTP - UNCLASSIFIED TEMPORARY PART-TIME          21\n",
       "UTF - UNCLASSIFIED TEMPORARY FULL-TIME          12\n",
       "ERP - EXEMPT REGULAR PART-TIME                   1\n",
       "CTP - CLASSIFIED TEMPORARY FULL-TIME             1\n",
       "Name: STATUS, dtype: int64"
      ]
     },
     "execution_count": 45,
     "metadata": {},
     "output_type": "execute_result"
    }
   ],
   "source": [
    "data.STATUS.value_counts()"
   ]
  },
  {
   "cell_type": "code",
   "execution_count": 46,
   "id": "c6cd8932",
   "metadata": {},
   "outputs": [],
   "source": [
    "from sklearn.preprocessing import LabelEncoder \n",
    "lb = LabelEncoder()\n",
    "data['STATUS'] = lb.fit_transform(data['STATUS'])"
   ]
  },
  {
   "cell_type": "markdown",
   "id": "64a39cf2",
   "metadata": {},
   "source": [
    "7. hide_from_search"
   ]
  },
  {
   "cell_type": "code",
   "execution_count": 47,
   "id": "6d7ddaf3",
   "metadata": {},
   "outputs": [],
   "source": [
    "from sklearn.preprocessing import LabelEncoder \n",
    "lb = LabelEncoder()\n",
    "data['hide_from_search'] = lb.fit_transform(data['hide_from_search'])"
   ]
  },
  {
   "cell_type": "markdown",
   "id": "57f4c79f",
   "metadata": {},
   "source": [
    "8.EMPLOY DATE"
   ]
  },
  {
   "cell_type": "code",
   "execution_count": 48,
   "id": "59f2745f",
   "metadata": {},
   "outputs": [],
   "source": [
    "data['EMPLOY DATE'] = pd.to_datetime(data['EMPLOY DATE'])"
   ]
  },
  {
   "cell_type": "code",
   "execution_count": 49,
   "id": "af56f989",
   "metadata": {},
   "outputs": [],
   "source": [
    "data['Employ_date'] = data['EMPLOY DATE'].dt.day\n",
    "data['Employ_month'] = data['EMPLOY DATE'].dt.month\n",
    "data['Employ_year'] = data['EMPLOY DATE'].dt.year\n",
    "data.drop('EMPLOY DATE', axis =1 , inplace = True)"
   ]
  },
  {
   "cell_type": "code",
   "execution_count": 50,
   "id": "97b7726b",
   "metadata": {},
   "outputs": [
    {
     "data": {
      "text/html": [
       "<div>\n",
       "<style scoped>\n",
       "    .dataframe tbody tr th:only-of-type {\n",
       "        vertical-align: middle;\n",
       "    }\n",
       "\n",
       "    .dataframe tbody tr th {\n",
       "        vertical-align: top;\n",
       "    }\n",
       "\n",
       "    .dataframe thead th {\n",
       "        text-align: right;\n",
       "    }\n",
       "</style>\n",
       "<table border=\"1\" class=\"dataframe\">\n",
       "  <thead>\n",
       "    <tr style=\"text-align: right;\">\n",
       "      <th></th>\n",
       "      <th>AGENCY NAME</th>\n",
       "      <th>CLASS CODE</th>\n",
       "      <th>CLASS TITLE</th>\n",
       "      <th>ETHNICITY</th>\n",
       "      <th>STATUS</th>\n",
       "      <th>HRLY RATE</th>\n",
       "      <th>HRS PER WK</th>\n",
       "      <th>MONTHLY</th>\n",
       "      <th>ANNUAL</th>\n",
       "      <th>hide_from_search</th>\n",
       "      <th>Employ_date</th>\n",
       "      <th>Employ_month</th>\n",
       "      <th>Employ_year</th>\n",
       "    </tr>\n",
       "  </thead>\n",
       "  <tbody>\n",
       "    <tr>\n",
       "      <th>0</th>\n",
       "      <td>17</td>\n",
       "      <td>1409</td>\n",
       "      <td>711</td>\n",
       "      <td>5</td>\n",
       "      <td>8</td>\n",
       "      <td>75.96150</td>\n",
       "      <td>29.0</td>\n",
       "      <td>9545.82</td>\n",
       "      <td>114549.84</td>\n",
       "      <td>0</td>\n",
       "      <td>18</td>\n",
       "      <td>2</td>\n",
       "      <td>1988</td>\n",
       "    </tr>\n",
       "    <tr>\n",
       "      <th>1</th>\n",
       "      <td>48</td>\n",
       "      <td>616</td>\n",
       "      <td>560</td>\n",
       "      <td>5</td>\n",
       "      <td>4</td>\n",
       "      <td>81.04454</td>\n",
       "      <td>4.0</td>\n",
       "      <td>1404.77</td>\n",
       "      <td>16857.24</td>\n",
       "      <td>0</td>\n",
       "      <td>1</td>\n",
       "      <td>2</td>\n",
       "      <td>2015</td>\n",
       "    </tr>\n",
       "    <tr>\n",
       "      <th>2</th>\n",
       "      <td>17</td>\n",
       "      <td>1409</td>\n",
       "      <td>711</td>\n",
       "      <td>5</td>\n",
       "      <td>8</td>\n",
       "      <td>75.96150</td>\n",
       "      <td>29.0</td>\n",
       "      <td>9545.82</td>\n",
       "      <td>114549.84</td>\n",
       "      <td>0</td>\n",
       "      <td>1</td>\n",
       "      <td>2</td>\n",
       "      <td>2020</td>\n",
       "    </tr>\n",
       "    <tr>\n",
       "      <th>3</th>\n",
       "      <td>48</td>\n",
       "      <td>616</td>\n",
       "      <td>560</td>\n",
       "      <td>5</td>\n",
       "      <td>4</td>\n",
       "      <td>81.04453</td>\n",
       "      <td>4.0</td>\n",
       "      <td>1404.77</td>\n",
       "      <td>16857.24</td>\n",
       "      <td>0</td>\n",
       "      <td>1</td>\n",
       "      <td>9</td>\n",
       "      <td>2018</td>\n",
       "    </tr>\n",
       "    <tr>\n",
       "      <th>4</th>\n",
       "      <td>88</td>\n",
       "      <td>810</td>\n",
       "      <td>292</td>\n",
       "      <td>3</td>\n",
       "      <td>0</td>\n",
       "      <td>0.00000</td>\n",
       "      <td>40.0</td>\n",
       "      <td>3284.27</td>\n",
       "      <td>39411.24</td>\n",
       "      <td>0</td>\n",
       "      <td>29</td>\n",
       "      <td>6</td>\n",
       "      <td>2020</td>\n",
       "    </tr>\n",
       "  </tbody>\n",
       "</table>\n",
       "</div>"
      ],
      "text/plain": [
       "   AGENCY NAME  CLASS CODE  CLASS TITLE  ETHNICITY  STATUS  HRLY RATE  \\\n",
       "0           17        1409          711          5       8   75.96150   \n",
       "1           48         616          560          5       4   81.04454   \n",
       "2           17        1409          711          5       8   75.96150   \n",
       "3           48         616          560          5       4   81.04453   \n",
       "4           88         810          292          3       0    0.00000   \n",
       "\n",
       "   HRS PER WK  MONTHLY     ANNUAL  hide_from_search  Employ_date  \\\n",
       "0        29.0  9545.82  114549.84                 0           18   \n",
       "1         4.0  1404.77   16857.24                 0            1   \n",
       "2        29.0  9545.82  114549.84                 0            1   \n",
       "3         4.0  1404.77   16857.24                 0            1   \n",
       "4        40.0  3284.27   39411.24                 0           29   \n",
       "\n",
       "   Employ_month  Employ_year  \n",
       "0             2         1988  \n",
       "1             2         2015  \n",
       "2             2         2020  \n",
       "3             9         2018  \n",
       "4             6         2020  "
      ]
     },
     "execution_count": 50,
     "metadata": {},
     "output_type": "execute_result"
    }
   ],
   "source": [
    "data.head()"
   ]
  },
  {
   "cell_type": "code",
   "execution_count": 51,
   "id": "2eb352ac",
   "metadata": {},
   "outputs": [],
   "source": [
    "X = data.drop(['ANNUAL'], axis =1 )\n",
    "y = data.ANNUAL"
   ]
  },
  {
   "cell_type": "code",
   "execution_count": 52,
   "id": "25adc458",
   "metadata": {},
   "outputs": [
    {
     "data": {
      "text/html": [
       "<div>\n",
       "<style scoped>\n",
       "    .dataframe tbody tr th:only-of-type {\n",
       "        vertical-align: middle;\n",
       "    }\n",
       "\n",
       "    .dataframe tbody tr th {\n",
       "        vertical-align: top;\n",
       "    }\n",
       "\n",
       "    .dataframe thead th {\n",
       "        text-align: right;\n",
       "    }\n",
       "</style>\n",
       "<table border=\"1\" class=\"dataframe\">\n",
       "  <thead>\n",
       "    <tr style=\"text-align: right;\">\n",
       "      <th></th>\n",
       "      <th>AGENCY NAME</th>\n",
       "      <th>CLASS CODE</th>\n",
       "      <th>CLASS TITLE</th>\n",
       "      <th>ETHNICITY</th>\n",
       "      <th>STATUS</th>\n",
       "      <th>HRLY RATE</th>\n",
       "      <th>HRS PER WK</th>\n",
       "      <th>MONTHLY</th>\n",
       "      <th>hide_from_search</th>\n",
       "      <th>Employ_date</th>\n",
       "      <th>Employ_month</th>\n",
       "      <th>Employ_year</th>\n",
       "    </tr>\n",
       "  </thead>\n",
       "  <tbody>\n",
       "    <tr>\n",
       "      <th>0</th>\n",
       "      <td>17</td>\n",
       "      <td>1409</td>\n",
       "      <td>711</td>\n",
       "      <td>5</td>\n",
       "      <td>8</td>\n",
       "      <td>75.96150</td>\n",
       "      <td>29.0</td>\n",
       "      <td>9545.82</td>\n",
       "      <td>0</td>\n",
       "      <td>18</td>\n",
       "      <td>2</td>\n",
       "      <td>1988</td>\n",
       "    </tr>\n",
       "    <tr>\n",
       "      <th>1</th>\n",
       "      <td>48</td>\n",
       "      <td>616</td>\n",
       "      <td>560</td>\n",
       "      <td>5</td>\n",
       "      <td>4</td>\n",
       "      <td>81.04454</td>\n",
       "      <td>4.0</td>\n",
       "      <td>1404.77</td>\n",
       "      <td>0</td>\n",
       "      <td>1</td>\n",
       "      <td>2</td>\n",
       "      <td>2015</td>\n",
       "    </tr>\n",
       "    <tr>\n",
       "      <th>2</th>\n",
       "      <td>17</td>\n",
       "      <td>1409</td>\n",
       "      <td>711</td>\n",
       "      <td>5</td>\n",
       "      <td>8</td>\n",
       "      <td>75.96150</td>\n",
       "      <td>29.0</td>\n",
       "      <td>9545.82</td>\n",
       "      <td>0</td>\n",
       "      <td>1</td>\n",
       "      <td>2</td>\n",
       "      <td>2020</td>\n",
       "    </tr>\n",
       "    <tr>\n",
       "      <th>3</th>\n",
       "      <td>48</td>\n",
       "      <td>616</td>\n",
       "      <td>560</td>\n",
       "      <td>5</td>\n",
       "      <td>4</td>\n",
       "      <td>81.04453</td>\n",
       "      <td>4.0</td>\n",
       "      <td>1404.77</td>\n",
       "      <td>0</td>\n",
       "      <td>1</td>\n",
       "      <td>9</td>\n",
       "      <td>2018</td>\n",
       "    </tr>\n",
       "    <tr>\n",
       "      <th>4</th>\n",
       "      <td>88</td>\n",
       "      <td>810</td>\n",
       "      <td>292</td>\n",
       "      <td>3</td>\n",
       "      <td>0</td>\n",
       "      <td>0.00000</td>\n",
       "      <td>40.0</td>\n",
       "      <td>3284.27</td>\n",
       "      <td>0</td>\n",
       "      <td>29</td>\n",
       "      <td>6</td>\n",
       "      <td>2020</td>\n",
       "    </tr>\n",
       "  </tbody>\n",
       "</table>\n",
       "</div>"
      ],
      "text/plain": [
       "   AGENCY NAME  CLASS CODE  CLASS TITLE  ETHNICITY  STATUS  HRLY RATE  \\\n",
       "0           17        1409          711          5       8   75.96150   \n",
       "1           48         616          560          5       4   81.04454   \n",
       "2           17        1409          711          5       8   75.96150   \n",
       "3           48         616          560          5       4   81.04453   \n",
       "4           88         810          292          3       0    0.00000   \n",
       "\n",
       "   HRS PER WK  MONTHLY  hide_from_search  Employ_date  Employ_month  \\\n",
       "0        29.0  9545.82                 0           18             2   \n",
       "1         4.0  1404.77                 0            1             2   \n",
       "2        29.0  9545.82                 0            1             2   \n",
       "3         4.0  1404.77                 0            1             9   \n",
       "4        40.0  3284.27                 0           29             6   \n",
       "\n",
       "   Employ_year  \n",
       "0         1988  \n",
       "1         2015  \n",
       "2         2020  \n",
       "3         2018  \n",
       "4         2020  "
      ]
     },
     "execution_count": 52,
     "metadata": {},
     "output_type": "execute_result"
    }
   ],
   "source": [
    "X.head()"
   ]
  },
  {
   "cell_type": "code",
   "execution_count": 53,
   "id": "947fefd9",
   "metadata": {},
   "outputs": [
    {
     "data": {
      "text/plain": [
       "0         114549.84\n",
       "1          16857.24\n",
       "2         114549.84\n",
       "3          16857.24\n",
       "4          39411.24\n",
       "            ...    \n",
       "149476     34788.00\n",
       "149477     66000.00\n",
       "149478     13447.20\n",
       "149479     68929.92\n",
       "149480     12209.52\n",
       "Name: ANNUAL, Length: 149481, dtype: float64"
      ]
     },
     "execution_count": 53,
     "metadata": {},
     "output_type": "execute_result"
    }
   ],
   "source": [
    "y"
   ]
  },
  {
   "cell_type": "code",
   "execution_count": 54,
   "id": "c1b67cc9",
   "metadata": {},
   "outputs": [],
   "source": [
    "# Spliting data to training and testing\n",
    "\n",
    "from sklearn.model_selection import train_test_split\n",
    "X_train, X_test, y_train, y_test = train_test_split(X, y, test_size=0.25, random_state=50)"
   ]
  },
  {
   "cell_type": "markdown",
   "id": "87a492ca",
   "metadata": {},
   "source": [
    "# Linear Regression"
   ]
  },
  {
   "cell_type": "code",
   "execution_count": 55,
   "id": "b6dd8eaf",
   "metadata": {},
   "outputs": [],
   "source": [
    "from sklearn.linear_model import LinearRegression  \n",
    "LR = LinearRegression()                           \n",
    "LR.fit(X_train,y_train)             \n",
    "y_predict = LR.predict(X_test)"
   ]
  },
  {
   "cell_type": "code",
   "execution_count": 56,
   "id": "9406dfd7",
   "metadata": {},
   "outputs": [
    {
     "data": {
      "text/plain": [
       "1.0"
      ]
     },
     "execution_count": 56,
     "metadata": {},
     "output_type": "execute_result"
    }
   ],
   "source": [
    "# model evaluation\n",
    "from sklearn.metrics import r2_score, mean_squared_error, mean_absolute_error\n",
    "lr_r2score = r2_score(y_test,y_predict) \n",
    "lr_r2score"
   ]
  },
  {
   "cell_type": "code",
   "execution_count": 57,
   "id": "f618fb2a",
   "metadata": {},
   "outputs": [
    {
     "data": {
      "text/plain": [
       "1.0"
      ]
     },
     "execution_count": 57,
     "metadata": {},
     "output_type": "execute_result"
    }
   ],
   "source": [
    "## calculation of adjusted r2 score\n",
    "lr_adjusted_r2 = 1-(1-1)*(37371-10)/(37371-10-1) \n",
    "lr_adjusted_r2"
   ]
  },
  {
   "cell_type": "code",
   "execution_count": 58,
   "id": "7fac6a96",
   "metadata": {},
   "outputs": [],
   "source": [
    "# Mean Squared Error & Mean Absolute Error\n",
    "import math\n",
    "lr_mse  = mean_squared_error(y_test, y_predict)\n",
    "lr_rmse = math.sqrt(mean_squared_error(y_test,y_predict))\n",
    "lr_mae  = mean_absolute_error(y_test, y_predict)"
   ]
  },
  {
   "cell_type": "code",
   "execution_count": 59,
   "id": "5627f54d",
   "metadata": {},
   "outputs": [
    {
     "name": "stdout",
     "output_type": "stream",
     "text": [
      "MSE : 9.29163121723876e-22\n",
      "RMSE : 3.048217711587996e-11\n",
      "MAE : 2.38435531609694e-11\n"
     ]
    }
   ],
   "source": [
    "print(\"MSE :\", lr_mse)\n",
    "print(\"RMSE :\", lr_rmse)\n",
    "print(\"MAE :\", lr_mae)"
   ]
  },
  {
   "cell_type": "code",
   "execution_count": 60,
   "id": "30cd6f66",
   "metadata": {},
   "outputs": [
    {
     "name": "stdout",
     "output_type": "stream",
     "text": [
      "Accuracy Percentage: 100.00%\n"
     ]
    }
   ],
   "source": [
    "accuracy_percentage =lr_r2score * 100\n",
    "\n",
    "print(f\"Accuracy Percentage: {accuracy_percentage:.2f}%\")\n"
   ]
  },
  {
   "cell_type": "markdown",
   "id": "cf7ed362",
   "metadata": {},
   "source": [
    "# Decision Tree"
   ]
  },
  {
   "cell_type": "code",
   "execution_count": 61,
   "id": "4e5bdb4e",
   "metadata": {},
   "outputs": [],
   "source": [
    "from sklearn.tree import DecisionTreeRegressor \n",
    "\n",
    "DTR = DecisionTreeRegressor()\n",
    "DTR.fit(X_train,y_train)\n",
    "predictions = DTR.predict(X_test)"
   ]
  },
  {
   "cell_type": "code",
   "execution_count": 62,
   "id": "ca7bfe5e",
   "metadata": {},
   "outputs": [
    {
     "data": {
      "text/plain": [
       "0.9976188322954117"
      ]
     },
     "execution_count": 62,
     "metadata": {},
     "output_type": "execute_result"
    }
   ],
   "source": [
    "#Model evaluation\n",
    "dtr_r2score = r2_score(y_test,predictions)\n",
    "dtr_r2score"
   ]
  },
  {
   "cell_type": "code",
   "execution_count": 63,
   "id": "ed7f81d7",
   "metadata": {},
   "outputs": [
    {
     "data": {
      "text/plain": [
       "0.9899997323340471"
      ]
     },
     "execution_count": 63,
     "metadata": {},
     "output_type": "execute_result"
    }
   ],
   "source": [
    "dtr_adjusted_r2 = 1-(1-0.99)*(37371-10)/(37371-10-1)\n",
    "dtr_adjusted_r2"
   ]
  },
  {
   "cell_type": "code",
   "execution_count": 64,
   "id": "2f995e62",
   "metadata": {},
   "outputs": [],
   "source": [
    "dtr_mse  = mean_squared_error(y_test, predictions)\n",
    "dtr_rmse = math.sqrt(mean_squared_error(y_test,predictions))\n",
    "dtr_mae  = mean_absolute_error(y_test, predictions)"
   ]
  },
  {
   "cell_type": "code",
   "execution_count": 65,
   "id": "2fcea2e1",
   "metadata": {},
   "outputs": [
    {
     "name": "stdout",
     "output_type": "stream",
     "text": [
      "MSE : 1572862.2444827498\n",
      "RMSE : 1254.1380484152253\n",
      "MAE : 13.985998787888402\n"
     ]
    }
   ],
   "source": [
    "print(\"MSE :\", dtr_mse)\n",
    "print(\"RMSE :\", dtr_rmse)\n",
    "print(\"MAE :\", dtr_mae)\n"
   ]
  },
  {
   "cell_type": "code",
   "execution_count": 66,
   "id": "140029d7",
   "metadata": {},
   "outputs": [
    {
     "name": "stdout",
     "output_type": "stream",
     "text": [
      "Accuracy Percentage : 100.00%\n"
     ]
    }
   ],
   "source": [
    "accuracy_percenatge = dtr_r2score * 100\n",
    "\n",
    "print(f\"Accuracy Percentage : {accuracy_percentage:.2f}%\")"
   ]
  },
  {
   "cell_type": "markdown",
   "id": "7849d23e",
   "metadata": {},
   "source": [
    "# Hyperparameter"
   ]
  },
  {
   "cell_type": "code",
   "execution_count": 89,
   "id": "020d7735",
   "metadata": {},
   "outputs": [
    {
     "name": "stdout",
     "output_type": "stream",
     "text": [
      "Fitting 5 folds for each of 36 candidates, totalling 180 fits\n"
     ]
    },
    {
     "data": {
      "text/plain": [
       "GridSearchCV(cv=5, estimator=DecisionTreeRegressor(), n_jobs=-1,\n",
       "             param_grid={'max_depth': [None, 5, 10, 15],\n",
       "                         'min_samples_leaf': [1, 2, 4],\n",
       "                         'min_samples_split': [2, 5, 10]},\n",
       "             scoring='neg_mean_squared_error', verbose=1)"
      ]
     },
     "execution_count": 89,
     "metadata": {},
     "output_type": "execute_result"
    }
   ],
   "source": [
    "from sklearn.model_selection import GridSearchCV\n",
    "\n",
    "\n",
    "param_grid = {\n",
    "    'max_depth': [None, 5, 10, 15],\n",
    "    'min_samples_split': [2, 5, 10],\n",
    "    'min_samples_leaf': [1, 2, 4]\n",
    "}\n",
    "# Create GridSearchCV instance\n",
    "grid_search = GridSearchCV(estimator=DTR, param_grid=param_grid, cv=5, scoring='neg_mean_squared_error', verbose=1, n_jobs=-1)\n",
    "\n",
    "# Perform grid search to find the best parameters\n",
    "grid_search.fit(X_train, y_train)"
   ]
  },
  {
   "cell_type": "code",
   "execution_count": 90,
   "id": "04a194a5",
   "metadata": {},
   "outputs": [],
   "source": [
    "best_params = grid_search.best_params_\n",
    "best_tree = grid_search.best_estimator_"
   ]
  },
  {
   "cell_type": "code",
   "execution_count": 91,
   "id": "92cc29ca",
   "metadata": {},
   "outputs": [
    {
     "name": "stdout",
     "output_type": "stream",
     "text": [
      "Best Model Test Score: 0.9980888929299537\n"
     ]
    }
   ],
   "source": [
    "test_score = best_tree.score(X_test, y_test)\n",
    "print(f\"Best Model Test Score: {test_score}\")"
   ]
  },
  {
   "cell_type": "markdown",
   "id": "3914b9f9",
   "metadata": {},
   "source": [
    "# Random Forest Regressor "
   ]
  },
  {
   "cell_type": "code",
   "execution_count": 67,
   "id": "8fe94d3b",
   "metadata": {},
   "outputs": [
    {
     "data": {
      "text/plain": [
       "RandomForestRegressor(n_estimators=10, random_state=0)"
      ]
     },
     "execution_count": 67,
     "metadata": {},
     "output_type": "execute_result"
    }
   ],
   "source": [
    "from sklearn.ensemble import RandomForestRegressor, GradientBoostingRegressor\n",
    "rf_reg = RandomForestRegressor(n_estimators = 10, random_state = 0)\n",
    "rf_reg.fit(X_train,y_train)"
   ]
  },
  {
   "cell_type": "code",
   "execution_count": 68,
   "id": "57f69198",
   "metadata": {},
   "outputs": [
    {
     "data": {
      "text/plain": [
       "array([39999.96      , 36238.08      , 44642.03991775, ...,\n",
       "       41769.24      , 71041.86      , 35284.32      ])"
      ]
     },
     "execution_count": 68,
     "metadata": {},
     "output_type": "execute_result"
    }
   ],
   "source": [
    "y_predict=rf_reg.predict(X_test)\n",
    "y_predict"
   ]
  },
  {
   "cell_type": "code",
   "execution_count": 69,
   "id": "25d5f6c8",
   "metadata": {},
   "outputs": [
    {
     "data": {
      "text/plain": [
       "0.9978983428575101"
      ]
     },
     "execution_count": 69,
     "metadata": {},
     "output_type": "execute_result"
    }
   ],
   "source": [
    "rfr_r2score = r2_score(y_test,y_predict)\n",
    "rfr_r2score"
   ]
  },
  {
   "cell_type": "code",
   "execution_count": 70,
   "id": "bb96ac6e",
   "metadata": {},
   "outputs": [
    {
     "data": {
      "text/plain": [
       "0.9899997323340471"
      ]
     },
     "execution_count": 70,
     "metadata": {},
     "output_type": "execute_result"
    }
   ],
   "source": [
    "rfr_adjusted_r2 = 1-(1-0.99)*(37371-10)/(37371-10-1)\n",
    "rfr_adjusted_r2"
   ]
  },
  {
   "cell_type": "code",
   "execution_count": 71,
   "id": "40c8a21b",
   "metadata": {},
   "outputs": [
    {
     "name": "stdout",
     "output_type": "stream",
     "text": [
      "MSE : 1388233.665314815\n",
      "MAE : 12.925893912479726\n"
     ]
    }
   ],
   "source": [
    "print('MSE :',mean_squared_error(y_test, y_predict))\n",
    "print('MAE :',mean_absolute_error(y_test, y_predict))"
   ]
  },
  {
   "cell_type": "markdown",
   "id": "fa0fdf5f",
   "metadata": {},
   "source": [
    "# Gradient Boosting Algorithm "
   ]
  },
  {
   "cell_type": "code",
   "execution_count": 72,
   "id": "751657d2",
   "metadata": {},
   "outputs": [],
   "source": [
    "gbr = GradientBoostingRegressor(learning_rate=0.01, loss='squared_error', n_estimators=100)\n",
    "gbr.fit(X_train,y_train)\n",
    "y_predict=gbr.predict(X_test)"
   ]
  },
  {
   "cell_type": "code",
   "execution_count": 73,
   "id": "6b29376b",
   "metadata": {},
   "outputs": [
    {
     "data": {
      "text/plain": [
       "0.8427327363126641"
      ]
     },
     "execution_count": 73,
     "metadata": {},
     "output_type": "execute_result"
    }
   ],
   "source": [
    "rfr_r2score = r2_score(y_test,y_predict)\n",
    "rfr_r2score\n"
   ]
  },
  {
   "cell_type": "code",
   "execution_count": 74,
   "id": "5cf980bd",
   "metadata": {
    "scrolled": true
   },
   "outputs": [
    {
     "name": "stdout",
     "output_type": "stream",
     "text": [
      "Mean Squard Error IS :      103881696.72815968\n",
      "Mean Absolute Error Is :    6437.3246755141945\n"
     ]
    }
   ],
   "source": [
    "print('Mean Squard Error IS :     ',mean_squared_error(y_test, y_predict))\n",
    "print('Mean Absolute Error Is :   ',mean_absolute_error(y_test, y_predict))"
   ]
  },
  {
   "cell_type": "markdown",
   "id": "38a61273",
   "metadata": {},
   "source": [
    "# KNN"
   ]
  },
  {
   "cell_type": "code",
   "execution_count": 86,
   "id": "a6266af3",
   "metadata": {
    "scrolled": true
   },
   "outputs": [
    {
     "name": "stdout",
     "output_type": "stream",
     "text": [
      "KNeighborsRegressor 100.0\n",
      "KNeighborsRegressor 99.57062488979712\n",
      "Mean Squard Error IS :      2836204.683346858\n",
      "Mean Absolute Error Is :    57.318681939990654\n"
     ]
    }
   ],
   "source": [
    "from sklearn.neighbors import KNeighborsRegressor\n",
    "\n",
    "model=KNeighborsRegressor(n_neighbors=25,leaf_size=8,metric= 'minkowski',weights='distance',p=2)\n",
    "model.fit(X_train,y_train)\n",
    "y_predict=model.predict(X_test)\n",
    "print('KNeighborsRegressor',model.score(X_train,y_train)*100)\n",
    "print('KNeighborsRegressor',model.score(X_test,y_test)*100)\n",
    "print('Mean Squard Error IS :     ',mean_squared_error(y_test, y_predict))\n",
    "print('Mean Absolute Error Is :   ',mean_absolute_error(y_test, y_predict))"
   ]
  },
  {
   "cell_type": "code",
   "execution_count": null,
   "id": "dce4b131",
   "metadata": {},
   "outputs": [],
   "source": []
  },
  {
   "cell_type": "markdown",
   "id": "515655ca",
   "metadata": {},
   "source": [
    "# Outlier in our Target Variable "
   ]
  },
  {
   "cell_type": "code",
   "execution_count": 75,
   "id": "e205e866",
   "metadata": {},
   "outputs": [
    {
     "data": {
      "text/plain": [
       "<AxesSubplot:xlabel='ANNUAL'>"
      ]
     },
     "execution_count": 75,
     "metadata": {},
     "output_type": "execute_result"
    },
    {
     "data": {
      "image/png": "[encoded data removed]",
      "text/plain": [
       "<Figure size 432x288 with 1 Axes>"
      ]
     },
     "metadata": {},
     "output_type": "display_data"
    }
   ],
   "source": [
    "sns.boxplot(x='ANNUAL',data=data)"
   ]
  },
  {
   "cell_type": "code",
   "execution_count": 76,
   "id": "bc37de69",
   "metadata": {},
   "outputs": [
    {
     "data": {
      "text/plain": [
       "22151.64"
      ]
     },
     "execution_count": 76,
     "metadata": {},
     "output_type": "execute_result"
    }
   ],
   "source": [
    "from scipy import stats\n",
    "IQR = stats.iqr(data.ANNUAL, interpolation = 'midpoint')\n",
    "IQR"
   ]
  },
  {
   "cell_type": "code",
   "execution_count": 77,
   "id": "a78da721",
   "metadata": {},
   "outputs": [
    {
     "name": "stdout",
     "output_type": "stream",
     "text": [
      "36238.08\n",
      "58389.72\n"
     ]
    }
   ],
   "source": [
    "Q1= data.ANNUAL.quantile(0.25)\n",
    "Q3= data.ANNUAL.quantile(0.75)\n",
    "print(Q1)\n",
    "print(Q3)"
   ]
  },
  {
   "cell_type": "code",
   "execution_count": 78,
   "id": "81ab681a",
   "metadata": {},
   "outputs": [
    {
     "name": "stdout",
     "output_type": "stream",
     "text": [
      "3010.6200000000026\n",
      "91617.18\n"
     ]
    }
   ],
   "source": [
    "low_limit= Q1- 1.5*IQR\n",
    "upp_limit= Q3+ 1.5*IQR\n",
    "print(low_limit)\n",
    "print(upp_limit)"
   ]
  },
  {
   "cell_type": "code",
   "execution_count": 79,
   "id": "bc8021fa",
   "metadata": {},
   "outputs": [
    {
     "data": {
      "text/html": [
       "<div>\n",
       "<style scoped>\n",
       "    .dataframe tbody tr th:only-of-type {\n",
       "        vertical-align: middle;\n",
       "    }\n",
       "\n",
       "    .dataframe tbody tr th {\n",
       "        vertical-align: top;\n",
       "    }\n",
       "\n",
       "    .dataframe thead th {\n",
       "        text-align: right;\n",
       "    }\n",
       "</style>\n",
       "<table border=\"1\" class=\"dataframe\">\n",
       "  <thead>\n",
       "    <tr style=\"text-align: right;\">\n",
       "      <th></th>\n",
       "      <th>AGENCY NAME</th>\n",
       "      <th>CLASS CODE</th>\n",
       "      <th>CLASS TITLE</th>\n",
       "      <th>ETHNICITY</th>\n",
       "      <th>STATUS</th>\n",
       "      <th>HRLY RATE</th>\n",
       "      <th>HRS PER WK</th>\n",
       "      <th>MONTHLY</th>\n",
       "      <th>ANNUAL</th>\n",
       "      <th>hide_from_search</th>\n",
       "      <th>Employ_date</th>\n",
       "      <th>Employ_month</th>\n",
       "      <th>Employ_year</th>\n",
       "    </tr>\n",
       "  </thead>\n",
       "  <tbody>\n",
       "    <tr>\n",
       "      <th>141394</th>\n",
       "      <td>67</td>\n",
       "      <td>1075</td>\n",
       "      <td>751</td>\n",
       "      <td>5</td>\n",
       "      <td>10</td>\n",
       "      <td>20.0</td>\n",
       "      <td>1.0</td>\n",
       "      <td>86.66</td>\n",
       "      <td>1039.92</td>\n",
       "      <td>0</td>\n",
       "      <td>3</td>\n",
       "      <td>2</td>\n",
       "      <td>2005</td>\n",
       "    </tr>\n",
       "    <tr>\n",
       "      <th>141415</th>\n",
       "      <td>67</td>\n",
       "      <td>1075</td>\n",
       "      <td>751</td>\n",
       "      <td>4</td>\n",
       "      <td>10</td>\n",
       "      <td>20.0</td>\n",
       "      <td>1.0</td>\n",
       "      <td>86.66</td>\n",
       "      <td>1039.92</td>\n",
       "      <td>0</td>\n",
       "      <td>4</td>\n",
       "      <td>12</td>\n",
       "      <td>2019</td>\n",
       "    </tr>\n",
       "    <tr>\n",
       "      <th>141808</th>\n",
       "      <td>42</td>\n",
       "      <td>1082</td>\n",
       "      <td>442</td>\n",
       "      <td>3</td>\n",
       "      <td>8</td>\n",
       "      <td>0.0</td>\n",
       "      <td>10.0</td>\n",
       "      <td>100.00</td>\n",
       "      <td>1200.00</td>\n",
       "      <td>0</td>\n",
       "      <td>12</td>\n",
       "      <td>4</td>\n",
       "      <td>2017</td>\n",
       "    </tr>\n",
       "    <tr>\n",
       "      <th>141809</th>\n",
       "      <td>42</td>\n",
       "      <td>1082</td>\n",
       "      <td>442</td>\n",
       "      <td>5</td>\n",
       "      <td>8</td>\n",
       "      <td>0.0</td>\n",
       "      <td>10.0</td>\n",
       "      <td>200.00</td>\n",
       "      <td>2400.00</td>\n",
       "      <td>0</td>\n",
       "      <td>8</td>\n",
       "      <td>1</td>\n",
       "      <td>2019</td>\n",
       "    </tr>\n",
       "    <tr>\n",
       "      <th>141897</th>\n",
       "      <td>42</td>\n",
       "      <td>1082</td>\n",
       "      <td>442</td>\n",
       "      <td>3</td>\n",
       "      <td>8</td>\n",
       "      <td>0.0</td>\n",
       "      <td>20.0</td>\n",
       "      <td>100.00</td>\n",
       "      <td>1200.00</td>\n",
       "      <td>0</td>\n",
       "      <td>1</td>\n",
       "      <td>12</td>\n",
       "      <td>2017</td>\n",
       "    </tr>\n",
       "    <tr>\n",
       "      <th>141901</th>\n",
       "      <td>42</td>\n",
       "      <td>1082</td>\n",
       "      <td>442</td>\n",
       "      <td>5</td>\n",
       "      <td>8</td>\n",
       "      <td>0.0</td>\n",
       "      <td>20.0</td>\n",
       "      <td>100.00</td>\n",
       "      <td>1200.00</td>\n",
       "      <td>0</td>\n",
       "      <td>1</td>\n",
       "      <td>11</td>\n",
       "      <td>2018</td>\n",
       "    </tr>\n",
       "    <tr>\n",
       "      <th>142033</th>\n",
       "      <td>42</td>\n",
       "      <td>1082</td>\n",
       "      <td>442</td>\n",
       "      <td>5</td>\n",
       "      <td>8</td>\n",
       "      <td>0.0</td>\n",
       "      <td>20.0</td>\n",
       "      <td>250.00</td>\n",
       "      <td>3000.00</td>\n",
       "      <td>0</td>\n",
       "      <td>13</td>\n",
       "      <td>1</td>\n",
       "      <td>2020</td>\n",
       "    </tr>\n",
       "    <tr>\n",
       "      <th>142067</th>\n",
       "      <td>42</td>\n",
       "      <td>1082</td>\n",
       "      <td>442</td>\n",
       "      <td>2</td>\n",
       "      <td>8</td>\n",
       "      <td>0.0</td>\n",
       "      <td>10.0</td>\n",
       "      <td>50.00</td>\n",
       "      <td>600.00</td>\n",
       "      <td>0</td>\n",
       "      <td>1</td>\n",
       "      <td>5</td>\n",
       "      <td>2020</td>\n",
       "    </tr>\n",
       "    <tr>\n",
       "      <th>142114</th>\n",
       "      <td>42</td>\n",
       "      <td>1082</td>\n",
       "      <td>442</td>\n",
       "      <td>5</td>\n",
       "      <td>8</td>\n",
       "      <td>0.0</td>\n",
       "      <td>20.0</td>\n",
       "      <td>100.00</td>\n",
       "      <td>1200.00</td>\n",
       "      <td>0</td>\n",
       "      <td>23</td>\n",
       "      <td>1</td>\n",
       "      <td>2015</td>\n",
       "    </tr>\n",
       "    <tr>\n",
       "      <th>142205</th>\n",
       "      <td>42</td>\n",
       "      <td>1082</td>\n",
       "      <td>442</td>\n",
       "      <td>5</td>\n",
       "      <td>8</td>\n",
       "      <td>0.0</td>\n",
       "      <td>4.0</td>\n",
       "      <td>210.12</td>\n",
       "      <td>2521.44</td>\n",
       "      <td>0</td>\n",
       "      <td>1</td>\n",
       "      <td>5</td>\n",
       "      <td>2014</td>\n",
       "    </tr>\n",
       "    <tr>\n",
       "      <th>142282</th>\n",
       "      <td>42</td>\n",
       "      <td>1082</td>\n",
       "      <td>442</td>\n",
       "      <td>5</td>\n",
       "      <td>8</td>\n",
       "      <td>0.0</td>\n",
       "      <td>5.0</td>\n",
       "      <td>150.00</td>\n",
       "      <td>1800.00</td>\n",
       "      <td>0</td>\n",
       "      <td>1</td>\n",
       "      <td>10</td>\n",
       "      <td>2019</td>\n",
       "    </tr>\n",
       "    <tr>\n",
       "      <th>142311</th>\n",
       "      <td>42</td>\n",
       "      <td>1082</td>\n",
       "      <td>442</td>\n",
       "      <td>5</td>\n",
       "      <td>8</td>\n",
       "      <td>0.0</td>\n",
       "      <td>6.0</td>\n",
       "      <td>100.00</td>\n",
       "      <td>1200.00</td>\n",
       "      <td>0</td>\n",
       "      <td>3</td>\n",
       "      <td>1</td>\n",
       "      <td>2019</td>\n",
       "    </tr>\n",
       "    <tr>\n",
       "      <th>142316</th>\n",
       "      <td>42</td>\n",
       "      <td>1082</td>\n",
       "      <td>442</td>\n",
       "      <td>3</td>\n",
       "      <td>7</td>\n",
       "      <td>0.0</td>\n",
       "      <td>40.0</td>\n",
       "      <td>200.00</td>\n",
       "      <td>2400.00</td>\n",
       "      <td>0</td>\n",
       "      <td>1</td>\n",
       "      <td>11</td>\n",
       "      <td>2019</td>\n",
       "    </tr>\n",
       "  </tbody>\n",
       "</table>\n",
       "</div>"
      ],
      "text/plain": [
       "        AGENCY NAME  CLASS CODE  CLASS TITLE  ETHNICITY  STATUS  HRLY RATE  \\\n",
       "141394           67        1075          751          5      10       20.0   \n",
       "141415           67        1075          751          4      10       20.0   \n",
       "141808           42        1082          442          3       8        0.0   \n",
       "141809           42        1082          442          5       8        0.0   \n",
       "141897           42        1082          442          3       8        0.0   \n",
       "141901           42        1082          442          5       8        0.0   \n",
       "142033           42        1082          442          5       8        0.0   \n",
       "142067           42        1082          442          2       8        0.0   \n",
       "142114           42        1082          442          5       8        0.0   \n",
       "142205           42        1082          442          5       8        0.0   \n",
       "142282           42        1082          442          5       8        0.0   \n",
       "142311           42        1082          442          5       8        0.0   \n",
       "142316           42        1082          442          3       7        0.0   \n",
       "\n",
       "        HRS PER WK  MONTHLY   ANNUAL  hide_from_search  Employ_date  \\\n",
       "141394         1.0    86.66  1039.92                 0            3   \n",
       "141415         1.0    86.66  1039.92                 0            4   \n",
       "141808        10.0   100.00  1200.00                 0           12   \n",
       "141809        10.0   200.00  2400.00                 0            8   \n",
       "141897        20.0   100.00  1200.00                 0            1   \n",
       "141901        20.0   100.00  1200.00                 0            1   \n",
       "142033        20.0   250.00  3000.00                 0           13   \n",
       "142067        10.0    50.00   600.00                 0            1   \n",
       "142114        20.0   100.00  1200.00                 0           23   \n",
       "142205         4.0   210.12  2521.44                 0            1   \n",
       "142282         5.0   150.00  1800.00                 0            1   \n",
       "142311         6.0   100.00  1200.00                 0            3   \n",
       "142316        40.0   200.00  2400.00                 0            1   \n",
       "\n",
       "        Employ_month  Employ_year  \n",
       "141394             2         2005  \n",
       "141415            12         2019  \n",
       "141808             4         2017  \n",
       "141809             1         2019  \n",
       "141897            12         2017  \n",
       "141901            11         2018  \n",
       "142033             1         2020  \n",
       "142067             5         2020  \n",
       "142114             1         2015  \n",
       "142205             5         2014  \n",
       "142282            10         2019  \n",
       "142311             1         2019  \n",
       "142316            11         2019  "
      ]
     },
     "execution_count": 79,
     "metadata": {},
     "output_type": "execute_result"
    }
   ],
   "source": [
    "lower = data.loc[data['ANNUAL']< low_limit]\n",
    "lower"
   ]
  },
  {
   "cell_type": "code",
   "execution_count": 80,
   "id": "37303115",
   "metadata": {},
   "outputs": [
    {
     "data": {
      "text/html": [
       "<div>\n",
       "<style scoped>\n",
       "    .dataframe tbody tr th:only-of-type {\n",
       "        vertical-align: middle;\n",
       "    }\n",
       "\n",
       "    .dataframe tbody tr th {\n",
       "        vertical-align: top;\n",
       "    }\n",
       "\n",
       "    .dataframe thead th {\n",
       "        text-align: right;\n",
       "    }\n",
       "</style>\n",
       "<table border=\"1\" class=\"dataframe\">\n",
       "  <thead>\n",
       "    <tr style=\"text-align: right;\">\n",
       "      <th></th>\n",
       "      <th>AGENCY NAME</th>\n",
       "      <th>CLASS CODE</th>\n",
       "      <th>CLASS TITLE</th>\n",
       "      <th>ETHNICITY</th>\n",
       "      <th>STATUS</th>\n",
       "      <th>HRLY RATE</th>\n",
       "      <th>HRS PER WK</th>\n",
       "      <th>MONTHLY</th>\n",
       "      <th>ANNUAL</th>\n",
       "      <th>hide_from_search</th>\n",
       "      <th>Employ_date</th>\n",
       "      <th>Employ_month</th>\n",
       "      <th>Employ_year</th>\n",
       "    </tr>\n",
       "  </thead>\n",
       "  <tbody>\n",
       "    <tr>\n",
       "      <th>0</th>\n",
       "      <td>17</td>\n",
       "      <td>1409</td>\n",
       "      <td>711</td>\n",
       "      <td>5</td>\n",
       "      <td>8</td>\n",
       "      <td>75.9615</td>\n",
       "      <td>29.0</td>\n",
       "      <td>9545.82</td>\n",
       "      <td>114549.84</td>\n",
       "      <td>0</td>\n",
       "      <td>18</td>\n",
       "      <td>2</td>\n",
       "      <td>1988</td>\n",
       "    </tr>\n",
       "    <tr>\n",
       "      <th>2</th>\n",
       "      <td>17</td>\n",
       "      <td>1409</td>\n",
       "      <td>711</td>\n",
       "      <td>5</td>\n",
       "      <td>8</td>\n",
       "      <td>75.9615</td>\n",
       "      <td>29.0</td>\n",
       "      <td>9545.82</td>\n",
       "      <td>114549.84</td>\n",
       "      <td>0</td>\n",
       "      <td>1</td>\n",
       "      <td>2</td>\n",
       "      <td>2020</td>\n",
       "    </tr>\n",
       "    <tr>\n",
       "      <th>5</th>\n",
       "      <td>54</td>\n",
       "      <td>299</td>\n",
       "      <td>399</td>\n",
       "      <td>3</td>\n",
       "      <td>0</td>\n",
       "      <td>0.0000</td>\n",
       "      <td>40.0</td>\n",
       "      <td>12899.00</td>\n",
       "      <td>154788.00</td>\n",
       "      <td>0</td>\n",
       "      <td>1</td>\n",
       "      <td>4</td>\n",
       "      <td>2020</td>\n",
       "    </tr>\n",
       "    <tr>\n",
       "      <th>7</th>\n",
       "      <td>82</td>\n",
       "      <td>299</td>\n",
       "      <td>399</td>\n",
       "      <td>5</td>\n",
       "      <td>0</td>\n",
       "      <td>0.0000</td>\n",
       "      <td>40.0</td>\n",
       "      <td>10000.00</td>\n",
       "      <td>120000.00</td>\n",
       "      <td>0</td>\n",
       "      <td>1</td>\n",
       "      <td>3</td>\n",
       "      <td>2020</td>\n",
       "    </tr>\n",
       "    <tr>\n",
       "      <th>36</th>\n",
       "      <td>67</td>\n",
       "      <td>1073</td>\n",
       "      <td>750</td>\n",
       "      <td>5</td>\n",
       "      <td>7</td>\n",
       "      <td>0.0000</td>\n",
       "      <td>40.0</td>\n",
       "      <td>8000.00</td>\n",
       "      <td>96000.00</td>\n",
       "      <td>0</td>\n",
       "      <td>26</td>\n",
       "      <td>7</td>\n",
       "      <td>2010</td>\n",
       "    </tr>\n",
       "    <tr>\n",
       "      <th>...</th>\n",
       "      <td>...</td>\n",
       "      <td>...</td>\n",
       "      <td>...</td>\n",
       "      <td>...</td>\n",
       "      <td>...</td>\n",
       "      <td>...</td>\n",
       "      <td>...</td>\n",
       "      <td>...</td>\n",
       "      <td>...</td>\n",
       "      <td>...</td>\n",
       "      <td>...</td>\n",
       "      <td>...</td>\n",
       "      <td>...</td>\n",
       "    </tr>\n",
       "    <tr>\n",
       "      <th>149374</th>\n",
       "      <td>76</td>\n",
       "      <td>299</td>\n",
       "      <td>399</td>\n",
       "      <td>5</td>\n",
       "      <td>0</td>\n",
       "      <td>0.0000</td>\n",
       "      <td>40.0</td>\n",
       "      <td>10583.34</td>\n",
       "      <td>127000.08</td>\n",
       "      <td>0</td>\n",
       "      <td>23</td>\n",
       "      <td>1</td>\n",
       "      <td>2013</td>\n",
       "    </tr>\n",
       "    <tr>\n",
       "      <th>149393</th>\n",
       "      <td>76</td>\n",
       "      <td>293</td>\n",
       "      <td>856</td>\n",
       "      <td>3</td>\n",
       "      <td>0</td>\n",
       "      <td>0.0000</td>\n",
       "      <td>40.0</td>\n",
       "      <td>8358.41</td>\n",
       "      <td>100300.92</td>\n",
       "      <td>0</td>\n",
       "      <td>15</td>\n",
       "      <td>3</td>\n",
       "      <td>2004</td>\n",
       "    </tr>\n",
       "    <tr>\n",
       "      <th>149401</th>\n",
       "      <td>76</td>\n",
       "      <td>292</td>\n",
       "      <td>855</td>\n",
       "      <td>2</td>\n",
       "      <td>0</td>\n",
       "      <td>0.0000</td>\n",
       "      <td>40.0</td>\n",
       "      <td>7916.67</td>\n",
       "      <td>95000.04</td>\n",
       "      <td>0</td>\n",
       "      <td>12</td>\n",
       "      <td>10</td>\n",
       "      <td>2005</td>\n",
       "    </tr>\n",
       "    <tr>\n",
       "      <th>149415</th>\n",
       "      <td>76</td>\n",
       "      <td>298</td>\n",
       "      <td>398</td>\n",
       "      <td>5</td>\n",
       "      <td>0</td>\n",
       "      <td>0.0000</td>\n",
       "      <td>40.0</td>\n",
       "      <td>10188.09</td>\n",
       "      <td>122257.08</td>\n",
       "      <td>0</td>\n",
       "      <td>2</td>\n",
       "      <td>12</td>\n",
       "      <td>2008</td>\n",
       "    </tr>\n",
       "    <tr>\n",
       "      <th>149475</th>\n",
       "      <td>76</td>\n",
       "      <td>1365</td>\n",
       "      <td>494</td>\n",
       "      <td>5</td>\n",
       "      <td>5</td>\n",
       "      <td>0.0000</td>\n",
       "      <td>40.0</td>\n",
       "      <td>14665.83</td>\n",
       "      <td>175989.96</td>\n",
       "      <td>0</td>\n",
       "      <td>1</td>\n",
       "      <td>11</td>\n",
       "      <td>2016</td>\n",
       "    </tr>\n",
       "  </tbody>\n",
       "</table>\n",
       "<p>9018 rows × 13 columns</p>\n",
       "</div>"
      ],
      "text/plain": [
       "        AGENCY NAME  CLASS CODE  CLASS TITLE  ETHNICITY  STATUS  HRLY RATE  \\\n",
       "0                17        1409          711          5       8    75.9615   \n",
       "2                17        1409          711          5       8    75.9615   \n",
       "5                54         299          399          3       0     0.0000   \n",
       "7                82         299          399          5       0     0.0000   \n",
       "36               67        1073          750          5       7     0.0000   \n",
       "...             ...         ...          ...        ...     ...        ...   \n",
       "149374           76         299          399          5       0     0.0000   \n",
       "149393           76         293          856          3       0     0.0000   \n",
       "149401           76         292          855          2       0     0.0000   \n",
       "149415           76         298          398          5       0     0.0000   \n",
       "149475           76        1365          494          5       5     0.0000   \n",
       "\n",
       "        HRS PER WK   MONTHLY     ANNUAL  hide_from_search  Employ_date  \\\n",
       "0             29.0   9545.82  114549.84                 0           18   \n",
       "2             29.0   9545.82  114549.84                 0            1   \n",
       "5             40.0  12899.00  154788.00                 0            1   \n",
       "7             40.0  10000.00  120000.00                 0            1   \n",
       "36            40.0   8000.00   96000.00                 0           26   \n",
       "...            ...       ...        ...               ...          ...   \n",
       "149374        40.0  10583.34  127000.08                 0           23   \n",
       "149393        40.0   8358.41  100300.92                 0           15   \n",
       "149401        40.0   7916.67   95000.04                 0           12   \n",
       "149415        40.0  10188.09  122257.08                 0            2   \n",
       "149475        40.0  14665.83  175989.96                 0            1   \n",
       "\n",
       "        Employ_month  Employ_year  \n",
       "0                  2         1988  \n",
       "2                  2         2020  \n",
       "5                  4         2020  \n",
       "7                  3         2020  \n",
       "36                 7         2010  \n",
       "...              ...          ...  \n",
       "149374             1         2013  \n",
       "149393             3         2004  \n",
       "149401            10         2005  \n",
       "149415            12         2008  \n",
       "149475            11         2016  \n",
       "\n",
       "[9018 rows x 13 columns]"
      ]
     },
     "execution_count": 80,
     "metadata": {},
     "output_type": "execute_result"
    }
   ],
   "source": [
    "upper = data.loc[data['ANNUAL']>upp_limit]\n",
    "upper"
   ]
  },
  {
   "cell_type": "code",
   "execution_count": 81,
   "id": "d0eb3360",
   "metadata": {
    "scrolled": true
   },
   "outputs": [
    {
     "data": {
      "text/html": [
       "<div>\n",
       "<style scoped>\n",
       "    .dataframe tbody tr th:only-of-type {\n",
       "        vertical-align: middle;\n",
       "    }\n",
       "\n",
       "    .dataframe tbody tr th {\n",
       "        vertical-align: top;\n",
       "    }\n",
       "\n",
       "    .dataframe thead th {\n",
       "        text-align: right;\n",
       "    }\n",
       "</style>\n",
       "<table border=\"1\" class=\"dataframe\">\n",
       "  <thead>\n",
       "    <tr style=\"text-align: right;\">\n",
       "      <th></th>\n",
       "      <th>AGENCY NAME</th>\n",
       "      <th>CLASS CODE</th>\n",
       "      <th>CLASS TITLE</th>\n",
       "      <th>ETHNICITY</th>\n",
       "      <th>STATUS</th>\n",
       "      <th>HRLY RATE</th>\n",
       "      <th>HRS PER WK</th>\n",
       "      <th>MONTHLY</th>\n",
       "      <th>ANNUAL</th>\n",
       "      <th>hide_from_search</th>\n",
       "      <th>Employ_date</th>\n",
       "      <th>Employ_month</th>\n",
       "      <th>Employ_year</th>\n",
       "    </tr>\n",
       "  </thead>\n",
       "  <tbody>\n",
       "    <tr>\n",
       "      <th>141394</th>\n",
       "      <td>67</td>\n",
       "      <td>1075</td>\n",
       "      <td>751</td>\n",
       "      <td>5</td>\n",
       "      <td>10</td>\n",
       "      <td>20.0</td>\n",
       "      <td>1.0</td>\n",
       "      <td>86.66</td>\n",
       "      <td>1039.92</td>\n",
       "      <td>0</td>\n",
       "      <td>3</td>\n",
       "      <td>2</td>\n",
       "      <td>2005</td>\n",
       "    </tr>\n",
       "    <tr>\n",
       "      <th>141415</th>\n",
       "      <td>67</td>\n",
       "      <td>1075</td>\n",
       "      <td>751</td>\n",
       "      <td>4</td>\n",
       "      <td>10</td>\n",
       "      <td>20.0</td>\n",
       "      <td>1.0</td>\n",
       "      <td>86.66</td>\n",
       "      <td>1039.92</td>\n",
       "      <td>0</td>\n",
       "      <td>4</td>\n",
       "      <td>12</td>\n",
       "      <td>2019</td>\n",
       "    </tr>\n",
       "    <tr>\n",
       "      <th>141808</th>\n",
       "      <td>42</td>\n",
       "      <td>1082</td>\n",
       "      <td>442</td>\n",
       "      <td>3</td>\n",
       "      <td>8</td>\n",
       "      <td>0.0</td>\n",
       "      <td>10.0</td>\n",
       "      <td>100.00</td>\n",
       "      <td>1200.00</td>\n",
       "      <td>0</td>\n",
       "      <td>12</td>\n",
       "      <td>4</td>\n",
       "      <td>2017</td>\n",
       "    </tr>\n",
       "    <tr>\n",
       "      <th>141809</th>\n",
       "      <td>42</td>\n",
       "      <td>1082</td>\n",
       "      <td>442</td>\n",
       "      <td>5</td>\n",
       "      <td>8</td>\n",
       "      <td>0.0</td>\n",
       "      <td>10.0</td>\n",
       "      <td>200.00</td>\n",
       "      <td>2400.00</td>\n",
       "      <td>0</td>\n",
       "      <td>8</td>\n",
       "      <td>1</td>\n",
       "      <td>2019</td>\n",
       "    </tr>\n",
       "    <tr>\n",
       "      <th>141897</th>\n",
       "      <td>42</td>\n",
       "      <td>1082</td>\n",
       "      <td>442</td>\n",
       "      <td>3</td>\n",
       "      <td>8</td>\n",
       "      <td>0.0</td>\n",
       "      <td>20.0</td>\n",
       "      <td>100.00</td>\n",
       "      <td>1200.00</td>\n",
       "      <td>0</td>\n",
       "      <td>1</td>\n",
       "      <td>12</td>\n",
       "      <td>2017</td>\n",
       "    </tr>\n",
       "    <tr>\n",
       "      <th>...</th>\n",
       "      <td>...</td>\n",
       "      <td>...</td>\n",
       "      <td>...</td>\n",
       "      <td>...</td>\n",
       "      <td>...</td>\n",
       "      <td>...</td>\n",
       "      <td>...</td>\n",
       "      <td>...</td>\n",
       "      <td>...</td>\n",
       "      <td>...</td>\n",
       "      <td>...</td>\n",
       "      <td>...</td>\n",
       "      <td>...</td>\n",
       "    </tr>\n",
       "    <tr>\n",
       "      <th>149374</th>\n",
       "      <td>76</td>\n",
       "      <td>299</td>\n",
       "      <td>399</td>\n",
       "      <td>5</td>\n",
       "      <td>0</td>\n",
       "      <td>0.0</td>\n",
       "      <td>40.0</td>\n",
       "      <td>10583.34</td>\n",
       "      <td>127000.08</td>\n",
       "      <td>0</td>\n",
       "      <td>23</td>\n",
       "      <td>1</td>\n",
       "      <td>2013</td>\n",
       "    </tr>\n",
       "    <tr>\n",
       "      <th>149393</th>\n",
       "      <td>76</td>\n",
       "      <td>293</td>\n",
       "      <td>856</td>\n",
       "      <td>3</td>\n",
       "      <td>0</td>\n",
       "      <td>0.0</td>\n",
       "      <td>40.0</td>\n",
       "      <td>8358.41</td>\n",
       "      <td>100300.92</td>\n",
       "      <td>0</td>\n",
       "      <td>15</td>\n",
       "      <td>3</td>\n",
       "      <td>2004</td>\n",
       "    </tr>\n",
       "    <tr>\n",
       "      <th>149401</th>\n",
       "      <td>76</td>\n",
       "      <td>292</td>\n",
       "      <td>855</td>\n",
       "      <td>2</td>\n",
       "      <td>0</td>\n",
       "      <td>0.0</td>\n",
       "      <td>40.0</td>\n",
       "      <td>7916.67</td>\n",
       "      <td>95000.04</td>\n",
       "      <td>0</td>\n",
       "      <td>12</td>\n",
       "      <td>10</td>\n",
       "      <td>2005</td>\n",
       "    </tr>\n",
       "    <tr>\n",
       "      <th>149415</th>\n",
       "      <td>76</td>\n",
       "      <td>298</td>\n",
       "      <td>398</td>\n",
       "      <td>5</td>\n",
       "      <td>0</td>\n",
       "      <td>0.0</td>\n",
       "      <td>40.0</td>\n",
       "      <td>10188.09</td>\n",
       "      <td>122257.08</td>\n",
       "      <td>0</td>\n",
       "      <td>2</td>\n",
       "      <td>12</td>\n",
       "      <td>2008</td>\n",
       "    </tr>\n",
       "    <tr>\n",
       "      <th>149475</th>\n",
       "      <td>76</td>\n",
       "      <td>1365</td>\n",
       "      <td>494</td>\n",
       "      <td>5</td>\n",
       "      <td>5</td>\n",
       "      <td>0.0</td>\n",
       "      <td>40.0</td>\n",
       "      <td>14665.83</td>\n",
       "      <td>175989.96</td>\n",
       "      <td>0</td>\n",
       "      <td>1</td>\n",
       "      <td>11</td>\n",
       "      <td>2016</td>\n",
       "    </tr>\n",
       "  </tbody>\n",
       "</table>\n",
       "<p>9031 rows × 13 columns</p>\n",
       "</div>"
      ],
      "text/plain": [
       "        AGENCY NAME  CLASS CODE  CLASS TITLE  ETHNICITY  STATUS  HRLY RATE  \\\n",
       "141394           67        1075          751          5      10       20.0   \n",
       "141415           67        1075          751          4      10       20.0   \n",
       "141808           42        1082          442          3       8        0.0   \n",
       "141809           42        1082          442          5       8        0.0   \n",
       "141897           42        1082          442          3       8        0.0   \n",
       "...             ...         ...          ...        ...     ...        ...   \n",
       "149374           76         299          399          5       0        0.0   \n",
       "149393           76         293          856          3       0        0.0   \n",
       "149401           76         292          855          2       0        0.0   \n",
       "149415           76         298          398          5       0        0.0   \n",
       "149475           76        1365          494          5       5        0.0   \n",
       "\n",
       "        HRS PER WK   MONTHLY     ANNUAL  hide_from_search  Employ_date  \\\n",
       "141394         1.0     86.66    1039.92                 0            3   \n",
       "141415         1.0     86.66    1039.92                 0            4   \n",
       "141808        10.0    100.00    1200.00                 0           12   \n",
       "141809        10.0    200.00    2400.00                 0            8   \n",
       "141897        20.0    100.00    1200.00                 0            1   \n",
       "...            ...       ...        ...               ...          ...   \n",
       "149374        40.0  10583.34  127000.08                 0           23   \n",
       "149393        40.0   8358.41  100300.92                 0           15   \n",
       "149401        40.0   7916.67   95000.04                 0           12   \n",
       "149415        40.0  10188.09  122257.08                 0            2   \n",
       "149475        40.0  14665.83  175989.96                 0            1   \n",
       "\n",
       "        Employ_month  Employ_year  \n",
       "141394             2         2005  \n",
       "141415            12         2019  \n",
       "141808             4         2017  \n",
       "141809             1         2019  \n",
       "141897            12         2017  \n",
       "...              ...          ...  \n",
       "149374             1         2013  \n",
       "149393             3         2004  \n",
       "149401            10         2005  \n",
       "149415            12         2008  \n",
       "149475            11         2016  \n",
       "\n",
       "[9031 rows x 13 columns]"
      ]
     },
     "execution_count": 81,
     "metadata": {},
     "output_type": "execute_result"
    }
   ],
   "source": [
    "data =pd.concat([lower,upper])\n",
    "data"
   ]
  },
  {
   "cell_type": "code",
   "execution_count": null,
   "id": "7836d4c1",
   "metadata": {},
   "outputs": [],
   "source": []
  }
 ],
 "metadata": {
  "kernelspec": {
   "display_name": "Python 3 (ipykernel)",
   "language": "python",
   "name": "python3"
  },
  "language_info": {
   "codemirror_mode": {
    "name": "ipython",
    "version": 3
   },
   "file_extension": ".py",
   "mimetype": "text/x-python",
   "name": "python",
   "nbconvert_exporter": "python",
   "pygments_lexer": "ipython3",
   "version": "3.9.12"
  }
 },
 "nbformat": 4,
 "nbformat_minor": 5
}
